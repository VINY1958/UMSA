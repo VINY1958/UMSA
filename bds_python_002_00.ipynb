{
  "nbformat": 4,
  "nbformat_minor": 0,
  "metadata": {
    "colab": {
      "provenance": []
    },
    "kernelspec": {
      "name": "python3",
      "display_name": "Python 3"
    },
    "language_info": {
      "name": "python"
    }
  },
  "cells": [
    {
      "cell_type": "markdown",
      "source": [
        "# **<font color=\"#07a8ed\">Variables y estructuras de control</font>**"
      ],
      "metadata": {
        "id": "_fRBXj8mbrnO"
      }
    },
    {
      "cell_type": "markdown",
      "source": [
        "<p align=\"center\">\n",
        "<img src=\"https://www.python.org/static/community_logos/python-powered-h-70x91.png\"/>\n",
        "</p>\n"
      ],
      "metadata": {
        "id": "gjpEYi_23t-3"
      }
    },
    {
      "cell_type": "markdown",
      "source": [
        "<p align=\"justify\"><b>\n",
        "<font color=\"#07a8ed\">\n",
        "💗 Todo el mundo deberia aprender a programar, porque te enseña a pensar...\n",
        "</font>\n",
        "</p>\n",
        "<p align=\"right\"><b>\n",
        "<font color=\"#07a8ed\">\n",
        "Steve Jobs (1995)\n",
        "</font>\n",
        "</p>\n",
        "<br>\n",
        "<br>\n",
        "\n"
      ],
      "metadata": {
        "id": "vy2CAnk9uZ9E"
      }
    },
    {
      "cell_type": "markdown",
      "source": [
        "# **<font color=\"#07a8ed\">Variables</font>**"
      ],
      "metadata": {
        "id": "8i5MiaPKfJOg"
      }
    },
    {
      "cell_type": "markdown",
      "source": [
        "<p align=\"justify\">\n",
        "Python, en principio, asume que la codificación es ASCII y, por tanto, no reconocerá caracteres fuera de esa codificación. Por ese motivo los archivos que se utilicen deberán estar codificados en UTF-8 y el interprete de Python debería admitir el uso de caracteres UTF-8 en nuestros scripts. En cualquier caso, no es recomendable el uso de caracteres no ASCII en nombre de variables o funciones.\n",
        "</p>"
      ],
      "metadata": {
        "id": "QpDcUNiRd9Sb"
      }
    },
    {
      "cell_type": "markdown",
      "source": [
        "<p align=\"justify\">\n",
        "Una variable es \"algo\" en lo que puedes almacenar información para su uso posterior. En Python, una variable puede almacenar un número, una letra, un conjunto de números o de letras o incluso conjuntos de conjuntos. <br><br> Las letras permitidas para la generacion de variables son las letras del alfabeto inglés, por lo que están prohibidas la ñ, la ç o las vocales con acentos y dieresis. <br><br>Las palabras reservadas del lenguaje también están prohibidas. En caso de que se otorgue un nombre incorrecto a una variable, Python mostrará un mensaje de error al ejecutar el\n",
        "script. Aunque no es obligatorio, normalmente conviene que el nombre de la variable esté relacionado con\n",
        "la información que se almacena en ella, para que sea más fácil entender el script. Mientras se estan escribiendo las líneas de código, esto no parece muy importante, pero si consultas un notebook que has\n",
        "desarrollado hace tiempo (o que lo ha desarrollado otra persona), resultará mucho más fácil entender el script si los nombres están bien elegidos.\n",
        "</p>"
      ],
      "metadata": {
        "id": "faATtytyfQoA"
      }
    },
    {
      "cell_type": "markdown",
      "source": [
        "## **<font color=\"#07a8ed\">Tipos de datos</font>**"
      ],
      "metadata": {
        "id": "v8abc96k3sr9"
      }
    },
    {
      "cell_type": "markdown",
      "source": [
        "<p align=\"justify\">\n",
        "En Python los tipos de datos básicos se dividen en:</p>\n",
        "\n",
        "- Numéricos, como pueden ser:\n",
        "   - enteros\n",
        "   - decimales\n",
        "   - complejos\n",
        "- Cadenas de caracteres\n",
        "- Booleanos\n",
        "- Fecha"
      ],
      "metadata": {
        "id": "mI4wSKB7XZvA"
      }
    },
    {
      "cell_type": "markdown",
      "source": [
        "### **<font color=\"#07a8ed\">Numéricos</font>**"
      ],
      "metadata": {
        "id": "8d84UNXMLeVr"
      }
    },
    {
      "cell_type": "code",
      "source": [
        "a = 20\n",
        "type(a)"
      ],
      "metadata": {
        "colab": {
          "base_uri": "https://localhost:8080/"
        },
        "id": "P4MDNH5G1ptT",
        "outputId": "28b1671a-1ce4-4937-ad31-414cae78c8af"
      },
      "execution_count": 1,
      "outputs": [
        {
          "output_type": "execute_result",
          "data": {
            "text/plain": [
              "int"
            ]
          },
          "metadata": {},
          "execution_count": 1
        }
      ]
    },
    {
      "cell_type": "code",
      "source": [
        "b = 20.5\n",
        "type(b)"
      ],
      "metadata": {
        "colab": {
          "base_uri": "https://localhost:8080/"
        },
        "id": "2z-tJ6xV1xOw",
        "outputId": "874f9883-08f6-423e-9856-5cc8e908cb95"
      },
      "execution_count": 2,
      "outputs": [
        {
          "output_type": "execute_result",
          "data": {
            "text/plain": [
              "float"
            ]
          },
          "metadata": {},
          "execution_count": 2
        }
      ]
    },
    {
      "cell_type": "markdown",
      "source": [
        "<p align=\"justify\">\n",
        "En Python se pueden representar números enteros, reales y complejos.<br><br>Los números enteros son aquellos números positivos o negativos que no tienen decimales (además del cero). En Python se pueden representar mediante el tipo <code>int</code> (de integer, entero).<br><br>Los números reales son los que tienen decimales. En Python se expresan mediante el tipo <code>float</code>.<br><br>Los números complejos son aquellos que tienen parte imaginaria. Si no conocías su existencia, es más que probable que nunca los  necesites. De hecho la mayor parte de lenguajes de programación carecen de este tipo númerico, aunque sea muy utilizado por ingenieros y científicos en general. Este tipo de dato numérico, llamado <code>complex</code> en Python, también se almacena usando coma flotante, debido a que estos son una extensión de los números reales.\n",
        "</p>\n"
      ],
      "metadata": {
        "id": "s73nHEN417kx"
      }
    },
    {
      "cell_type": "markdown",
      "source": [
        "### **<font color=\"#07a8ed\">Categóricos</font>**"
      ],
      "metadata": {
        "id": "7k7GRoTN1dlo"
      }
    },
    {
      "cell_type": "markdown",
      "source": [
        "<p align=\"justify\">\n",
        "Los datos categóricos o cadenas no son más que texto encerrado entre comillas simples (‘cadena’) o dobles (“cadena”). Dentro de las comillas se pueden añadir caracteres especiales con <code>\\</code>, como <code>\\n</code>, lo que implica una nueva línea, o <code>\\t</code>, que sería una tabulación.\n",
        "</p>\n"
      ],
      "metadata": {
        "id": "_XS-nB9yndvM"
      }
    },
    {
      "cell_type": "code",
      "source": [
        "c = \"Python\"\n",
        "type(c)"
      ],
      "metadata": {
        "colab": {
          "base_uri": "https://localhost:8080/"
        },
        "id": "mVn1wV6M2BQr",
        "outputId": "aa183321-01ac-497c-d5ed-5ae40a3a4788"
      },
      "execution_count": 3,
      "outputs": [
        {
          "output_type": "execute_result",
          "data": {
            "text/plain": [
              "str"
            ]
          },
          "metadata": {},
          "execution_count": 3
        }
      ]
    },
    {
      "cell_type": "markdown",
      "source": [
        "### **<font color=\"#07a8ed\">Booleanos</font>**"
      ],
      "metadata": {
        "id": "z9nwWrgxpBb_"
      }
    },
    {
      "cell_type": "markdown",
      "source": [
        "<p align=\"justify\">\n",
        "Una variable de tipo booleano sólo puede tener dos valores: <code>True</code> (cierto) y <code>False</code> (falso). Estos valores son importantes para las expresiones condicionales y los bucles. En realidad el tipo <code>bool</code> (el tipo de los booleanos) es una subclase del tipo <code>int</code>.\n",
        "</p>\n"
      ],
      "metadata": {
        "id": "WOGi6wqZpFWy"
      }
    },
    {
      "cell_type": "code",
      "source": [
        "d = True\n",
        "type(d)"
      ],
      "metadata": {
        "colab": {
          "base_uri": "https://localhost:8080/"
        },
        "id": "hD4dxWWW2Fs5",
        "outputId": "5014e47b-83f1-44cf-ccbe-f15d9c4359cd"
      },
      "execution_count": 4,
      "outputs": [
        {
          "output_type": "execute_result",
          "data": {
            "text/plain": [
              "bool"
            ]
          },
          "metadata": {},
          "execution_count": 4
        }
      ]
    },
    {
      "cell_type": "markdown",
      "source": [
        "## **<font color=\"#07a8ed\">Operadores aritméticos</font>**"
      ],
      "metadata": {
        "id": "lvEjTnlW1ka5"
      }
    },
    {
      "cell_type": "code",
      "source": [
        "a = 20\n",
        "b = 30\n",
        "c = 2\n",
        "d = 5"
      ],
      "metadata": {
        "id": "xZrH47Ep2XaK"
      },
      "execution_count": 5,
      "outputs": []
    },
    {
      "cell_type": "code",
      "source": [
        "e = 25.9\n",
        "f = 10.1"
      ],
      "metadata": {
        "id": "92c6fJH02qGA"
      },
      "execution_count": 6,
      "outputs": []
    },
    {
      "cell_type": "markdown",
      "source": [
        "### **<font color=\"#07a8ed\">Sumatoria</font>**"
      ],
      "metadata": {
        "id": "vM5tv6w52kxw"
      }
    },
    {
      "cell_type": "code",
      "source": [
        "a+b"
      ],
      "metadata": {
        "colab": {
          "base_uri": "https://localhost:8080/"
        },
        "id": "2NVY8c-_2eVF",
        "outputId": "fa2a337e-e89b-4c03-be0c-f8b2c88a09e7"
      },
      "execution_count": 7,
      "outputs": [
        {
          "output_type": "execute_result",
          "data": {
            "text/plain": [
              "50"
            ]
          },
          "metadata": {},
          "execution_count": 7
        }
      ]
    },
    {
      "cell_type": "code",
      "source": [
        "a+e"
      ],
      "metadata": {
        "colab": {
          "base_uri": "https://localhost:8080/"
        },
        "id": "xKQ6UufP2uPH",
        "outputId": "fe2ffd48-74cc-4dec-9a91-2754a280ba20"
      },
      "execution_count": 8,
      "outputs": [
        {
          "output_type": "execute_result",
          "data": {
            "text/plain": [
              "45.9"
            ]
          },
          "metadata": {},
          "execution_count": 8
        }
      ]
    },
    {
      "cell_type": "code",
      "source": [
        "e+f"
      ],
      "metadata": {
        "colab": {
          "base_uri": "https://localhost:8080/"
        },
        "id": "mcgBT13q25TU",
        "outputId": "6beb4705-70ee-4c4e-b1bc-4edf60a00f2e"
      },
      "execution_count": 9,
      "outputs": [
        {
          "output_type": "execute_result",
          "data": {
            "text/plain": [
              "36.0"
            ]
          },
          "metadata": {},
          "execution_count": 9
        }
      ]
    },
    {
      "cell_type": "markdown",
      "source": [
        "### **<font color=\"#07a8ed\">Resta</font>**"
      ],
      "metadata": {
        "id": "5xfzOQpV3EOH"
      }
    },
    {
      "cell_type": "code",
      "source": [
        "b-a"
      ],
      "metadata": {
        "colab": {
          "base_uri": "https://localhost:8080/"
        },
        "id": "DWWHeFPp3Wal",
        "outputId": "1d1803a7-84da-4aaf-80ae-3af0f2debaac"
      },
      "execution_count": 10,
      "outputs": [
        {
          "output_type": "execute_result",
          "data": {
            "text/plain": [
              "10"
            ]
          },
          "metadata": {},
          "execution_count": 10
        }
      ]
    },
    {
      "cell_type": "code",
      "source": [
        "b-f"
      ],
      "metadata": {
        "colab": {
          "base_uri": "https://localhost:8080/"
        },
        "id": "cLfMv1BV3ZeE",
        "outputId": "9c45740d-9cd1-4ff9-8764-14702d60a474"
      },
      "execution_count": 11,
      "outputs": [
        {
          "output_type": "execute_result",
          "data": {
            "text/plain": [
              "19.9"
            ]
          },
          "metadata": {},
          "execution_count": 11
        }
      ]
    },
    {
      "cell_type": "code",
      "source": [
        "e-f"
      ],
      "metadata": {
        "colab": {
          "base_uri": "https://localhost:8080/"
        },
        "id": "VEMjfYY13c-T",
        "outputId": "29e03ea3-79c4-4040-a51a-a2084b16d6ff"
      },
      "execution_count": 12,
      "outputs": [
        {
          "output_type": "execute_result",
          "data": {
            "text/plain": [
              "15.799999999999999"
            ]
          },
          "metadata": {},
          "execution_count": 12
        }
      ]
    },
    {
      "cell_type": "code",
      "source": [
        "round(e-f,2)"
      ],
      "metadata": {
        "colab": {
          "base_uri": "https://localhost:8080/"
        },
        "id": "3nDFlCKi317l",
        "outputId": "094f8ac3-a478-4a74-8a8b-6cd11ed61d25"
      },
      "execution_count": 13,
      "outputs": [
        {
          "output_type": "execute_result",
          "data": {
            "text/plain": [
              "15.8"
            ]
          },
          "metadata": {},
          "execution_count": 13
        }
      ]
    },
    {
      "cell_type": "markdown",
      "source": [
        "### **<font color=\"#07a8ed\">Multiplicación</font>**"
      ],
      "metadata": {
        "id": "ZNs74a-S36ZD"
      }
    },
    {
      "cell_type": "code",
      "source": [
        "a * b"
      ],
      "metadata": {
        "colab": {
          "base_uri": "https://localhost:8080/"
        },
        "id": "SAxVHuEx4Fm0",
        "outputId": "41443749-05de-46fb-d2a6-05e1c1f98521"
      },
      "execution_count": 14,
      "outputs": [
        {
          "output_type": "execute_result",
          "data": {
            "text/plain": [
              "600"
            ]
          },
          "metadata": {},
          "execution_count": 14
        }
      ]
    },
    {
      "cell_type": "markdown",
      "source": [
        "### **<font color=\"#07a8ed\">División</font>**"
      ],
      "metadata": {
        "id": "Cp0P9vBu4DYv"
      }
    },
    {
      "cell_type": "code",
      "source": [
        "b / d # en la division de dos numeros enteros resultado con decimal"
      ],
      "metadata": {
        "colab": {
          "base_uri": "https://localhost:8080/"
        },
        "id": "qKs0ybwn4GPl",
        "outputId": "4ab9a506-fd58-4da4-e7fb-b77192b2952b"
      },
      "execution_count": 15,
      "outputs": [
        {
          "output_type": "execute_result",
          "data": {
            "text/plain": [
              "6.0"
            ]
          },
          "metadata": {},
          "execution_count": 15
        }
      ]
    },
    {
      "cell_type": "markdown",
      "source": [
        "# **<font color=\"#07a8ed\">Estructuras de control</font>**"
      ],
      "metadata": {
        "id": "uHim-Cf1vJfO"
      }
    },
    {
      "cell_type": "markdown",
      "source": [
        "<p align=\"justify\">\n",
        "Un programa medianamente útil necesita reaccionar ante cambios en su \"entorno\", de modo que se\n",
        "ejecuten distintas secciones del código en distintas circunstancias. Para ello existen las estructuras\n",
        "condicionales que se encargan de comparar valores (ya sean de variables, constantes, arrays...) y, en función del resultado de esa comparación, ejecutar o no un determinado bloque de código. <br><br>👀 Un bucle es un segmento de código que se ejecuta repetidas veces mientras se cumpla una condición determinada.\n",
        "\n",
        "</p>"
      ],
      "metadata": {
        "id": "Dw47Qi8QxNKm"
      }
    },
    {
      "cell_type": "markdown",
      "source": [
        "## **<font color=\"#07a8ed\">Teorema de la programación estructurada</font>**"
      ],
      "metadata": {
        "id": "-gVMNymkyS3j"
      }
    },
    {
      "cell_type": "markdown",
      "source": [
        "<p align=\"justify\">\n",
        "El teorema de la programación estructurada afirma (y demuestra) que toda función computable\n",
        "puede codificarse usando sólo combinaciones de tres tipos de estructuras básicas de control:\n",
        "</p><br>\n",
        "\n",
        "- Secuencia,\n",
        "- Condicional,\n",
        "- Bucle\n",
        "\n"
      ],
      "metadata": {
        "id": "zEoBgYBTyhmR"
      }
    },
    {
      "cell_type": "markdown",
      "source": [
        "### **<font color=\"#07a8ed\">Secuencia</font>**"
      ],
      "metadata": {
        "id": "JuSTMA50hwdQ"
      }
    },
    {
      "cell_type": "markdown",
      "source": [
        "<p align=\"justify\">\n",
        "La secuencia ejecuta una orden y despues otra. Viene a ser el flujo \"natural\" de un programa, tal como hemos hecho en un cuaderno notebook, ejecutamos las celdas de código en secuencia.</p>\n"
      ],
      "metadata": {
        "id": "4_21CsNXh0PY"
      }
    },
    {
      "cell_type": "markdown",
      "source": [
        "### **<font color=\"#07a8ed\">Condicional</font>**"
      ],
      "metadata": {
        "id": "Sq7v2TmTiNy_"
      }
    },
    {
      "cell_type": "markdown",
      "source": [
        "\n",
        "<p align=\"justify\">\n",
        "El condicional ejecuta una de dos instrucciones, dependiendo de un valor verdadero o falso. Naturalmente, el condicional puede combinarse para multiplicar diversas opciones, y unirse a la secuencia para elegir bloques completos de código."
      ],
      "metadata": {
        "id": "kmzg_wKYiAS9"
      }
    },
    {
      "cell_type": "markdown",
      "source": [
        "### **<font color=\"#07a8ed\">Bucle</font>**"
      ],
      "metadata": {
        "id": "_oXhjsuIiQiA"
      }
    },
    {
      "cell_type": "markdown",
      "source": [
        "<p align=\"justify\">\n",
        "El bucle ejecuta una instrucción mientras una condición sea cierta, o (lo que viene a ser lo mismo) ejecuta una instrucción hasta que deja de serlo.\n",
        "\n"
      ],
      "metadata": {
        "id": "h2xFzHutiFBW"
      }
    },
    {
      "cell_type": "markdown",
      "source": [
        "## **<font color=\"#07a8ed\">Anidamiento</font>**"
      ],
      "metadata": {
        "id": "k1VvU1sT0pXk"
      }
    },
    {
      "cell_type": "markdown",
      "source": [
        "<p align=\"justify\">\n",
        "Las instrucciones pueden \"anidarse\". Es decir, pueden incluirse unas dentro de otras para hacer dependiente su ejecución. En Python, el anidamiento de instrucciones no se hace con llaves ni otros símbolos contenedores, si\n",
        "no por medio de la indentación. las instrucciones con un nivel de indentación estań contenidas en ese nivel de identación.<br><br> La identación es una cantidad de espacios. Lo recomendable, según Guido van Rossum, son cuatro espacios por cada nivel de indentación.<br><br> 👀 Google Colab hace la identación automáticamente.\n",
        "\n",
        "</p>"
      ],
      "metadata": {
        "id": "b_U2kMgU1MWu"
      }
    },
    {
      "cell_type": "markdown",
      "source": [
        "## **<font color=\"#07a8ed\">Verdadero o Falso</font>**"
      ],
      "metadata": {
        "id": "FN7JCLos2fgD"
      }
    },
    {
      "cell_type": "markdown",
      "source": [
        "<p align=\"justify\">\n",
        "Los valores booleanos en Python se escriben como <code>True</code> y <code>False</code>.\n",
        "</p>"
      ],
      "metadata": {
        "id": "I_00aPk8hDtA"
      }
    },
    {
      "cell_type": "code",
      "source": [
        "True and True"
      ],
      "metadata": {
        "colab": {
          "base_uri": "https://localhost:8080/"
        },
        "id": "ldl5js6nNlcS",
        "outputId": "60697758-fca9-4ec2-dd54-096b5894ba1a"
      },
      "execution_count": 16,
      "outputs": [
        {
          "output_type": "execute_result",
          "data": {
            "text/plain": [
              "True"
            ]
          },
          "metadata": {},
          "execution_count": 16
        }
      ]
    },
    {
      "cell_type": "code",
      "source": [
        "True or False"
      ],
      "metadata": {
        "colab": {
          "base_uri": "https://localhost:8080/"
        },
        "id": "n4aDr9mZhPBE",
        "outputId": "f12206dd-a8e1-4748-b6a8-91b9a11d0b80"
      },
      "execution_count": 17,
      "outputs": [
        {
          "output_type": "execute_result",
          "data": {
            "text/plain": [
              "True"
            ]
          },
          "metadata": {},
          "execution_count": 17
        }
      ]
    },
    {
      "cell_type": "code",
      "source": [
        "a = True\n",
        "b = False"
      ],
      "metadata": {
        "id": "cw4g0HsrNlY7"
      },
      "execution_count": 18,
      "outputs": []
    },
    {
      "cell_type": "code",
      "source": [
        "not a"
      ],
      "metadata": {
        "colab": {
          "base_uri": "https://localhost:8080/"
        },
        "id": "r-wDUzBjhaJA",
        "outputId": "cc78de0b-76fc-4b2a-99ca-e19c82bf8f78"
      },
      "execution_count": 19,
      "outputs": [
        {
          "output_type": "execute_result",
          "data": {
            "text/plain": [
              "False"
            ]
          },
          "metadata": {},
          "execution_count": 19
        }
      ]
    },
    {
      "cell_type": "code",
      "source": [
        "not b"
      ],
      "metadata": {
        "colab": {
          "base_uri": "https://localhost:8080/"
        },
        "id": "dacZ4ip0hmHF",
        "outputId": "90838e47-c24d-4ddc-e298-2a3bb95ccf3d"
      },
      "execution_count": 20,
      "outputs": [
        {
          "output_type": "execute_result",
          "data": {
            "text/plain": [
              "True"
            ]
          },
          "metadata": {},
          "execution_count": 20
        }
      ]
    },
    {
      "cell_type": "markdown",
      "source": [
        "<p align=\"justify\">\n",
        "👀 <code>None</code> es el tipo de valor nulo de Python.\n",
        "</p>"
      ],
      "metadata": {
        "id": "9E8I3ElKiUYn"
      }
    },
    {
      "cell_type": "code",
      "source": [
        "c = None"
      ],
      "metadata": {
        "id": "pUvAOjeANlWG"
      },
      "execution_count": 21,
      "outputs": []
    },
    {
      "cell_type": "code",
      "source": [
        "c is None"
      ],
      "metadata": {
        "colab": {
          "base_uri": "https://localhost:8080/"
        },
        "id": "iZYOXCknNlHy",
        "outputId": "9dd749ba-af46-4bff-f5a5-488a37709720"
      },
      "execution_count": 22,
      "outputs": [
        {
          "output_type": "execute_result",
          "data": {
            "text/plain": [
              "True"
            ]
          },
          "metadata": {},
          "execution_count": 22
        }
      ]
    },
    {
      "cell_type": "code",
      "source": [
        "d = 5"
      ],
      "metadata": {
        "id": "10DCHsdIgZgf"
      },
      "execution_count": 23,
      "outputs": []
    },
    {
      "cell_type": "code",
      "source": [
        "d is None"
      ],
      "metadata": {
        "colab": {
          "base_uri": "https://localhost:8080/"
        },
        "id": "8jJ7NV22gdQQ",
        "outputId": "2f325dbb-58d9-43da-fc1c-207e0dc169d5"
      },
      "execution_count": 24,
      "outputs": [
        {
          "output_type": "execute_result",
          "data": {
            "text/plain": [
              "False"
            ]
          },
          "metadata": {},
          "execution_count": 24
        }
      ]
    },
    {
      "cell_type": "markdown",
      "source": [
        "## **<font color=\"#07a8ed\">Condicionales  <code>if</code>, <code>elif</code> y <code>else</code></font>**"
      ],
      "metadata": {
        "id": "oIwwLeyp2jxO"
      }
    },
    {
      "cell_type": "markdown",
      "source": [
        "<p align=\"justify\">\n",
        "Python tiene varias palabras clave integradas para lógica condicional, bucles y otros conceptos de flujo de control estándar que se encuentran en otros lenguajes de programación. Uno de los mas conocidos es <code>if</code>, <code>elif</code> y <code>else</code>\n",
        "\n",
        "</p>"
      ],
      "metadata": {
        "id": "BWji0MFYH18r"
      }
    },
    {
      "cell_type": "markdown",
      "source": [
        "### **`3 formas de armar un condicional , 1 condicion, 2 condiciones y n condiciones`**"
      ],
      "metadata": {
        "id": "3tTccCeIKZXx"
      }
    },
    {
      "cell_type": "code",
      "source": [
        "x = -5 # negativo\n",
        "if x < 0: # si x es negativo\n",
        "  print(\"El valor es negativo\") # imprime el valor negativo"
      ],
      "metadata": {
        "colab": {
          "base_uri": "https://localhost:8080/"
        },
        "id": "mRH0SqFZ2i8O",
        "outputId": "059ae2ad-0587-4750-acb5-655d1664b7f6"
      },
      "execution_count": 25,
      "outputs": [
        {
          "output_type": "stream",
          "name": "stdout",
          "text": [
            "El valor es negativo\n"
          ]
        }
      ]
    },
    {
      "cell_type": "markdown",
      "source": [
        "<p align=\"justify\">\n",
        "👀 Una instrucción puede ir seguida opcionalmente de uno o más bloques...</p>"
      ],
      "metadata": {
        "id": "wW5w_DFvJKHb"
      }
    },
    {
      "cell_type": "markdown",
      "source": [
        "### **<font color=\"#07a8ed\"><code>if</code></font>**"
      ],
      "metadata": {
        "id": "fBg5Cu0HJsiY"
      }
    },
    {
      "cell_type": "markdown",
      "source": [
        "<p align=\"justify\">Para una sola condición, se usa la estructura de control <code>if</code></p>.\n",
        "\n",
        "~~~python\n",
        "if condicion_1:\n",
        "     sentencia_1\n",
        "~~~"
      ],
      "metadata": {
        "id": "jeBJ37dbJ9Ct"
      }
    },
    {
      "cell_type": "code",
      "source": [
        "int(4.9) # entero"
      ],
      "metadata": {
        "colab": {
          "base_uri": "https://localhost:8080/"
        },
        "id": "3gw4pQX7Lsl5",
        "outputId": "de60425d-5745-4a63-9bd5-7b6f50dcd138"
      },
      "execution_count": 32,
      "outputs": [
        {
          "output_type": "execute_result",
          "data": {
            "text/plain": [
              "4"
            ]
          },
          "metadata": {},
          "execution_count": 32
        }
      ]
    },
    {
      "cell_type": "code",
      "source": [
        "numero = input(\"Escriba un número: \") # metodo input ingresar un valor"
      ],
      "metadata": {
        "id": "Etj85oZ470H2",
        "outputId": "8016b808-16b2-461f-8f74-640d87876758",
        "colab": {
          "base_uri": "https://localhost:8080/"
        }
      },
      "execution_count": 56,
      "outputs": [
        {
          "name": "stdout",
          "output_type": "stream",
          "text": [
            "Escriba un número: 4\n"
          ]
        }
      ]
    },
    {
      "cell_type": "code",
      "source": [
        "positivo = int(input(\"Escriba un número positivo: \")) # anidamiento de metodos"
      ],
      "metadata": {
        "colab": {
          "base_uri": "https://localhost:8080/"
        },
        "id": "INR1Q9UL2i41",
        "outputId": "69d51d8a-3c64-4fde-99cf-34ce6396139f"
      },
      "execution_count": 57,
      "outputs": [
        {
          "name": "stdout",
          "output_type": "stream",
          "text": [
            "Escriba un número positivo: 4\n"
          ]
        }
      ]
    },
    {
      "cell_type": "code",
      "source": [
        "if positivo > 0:\n",
        "  print(f\"Es el numero {positivo}  un numero positivo\")"
      ],
      "metadata": {
        "colab": {
          "base_uri": "https://localhost:8080/"
        },
        "id": "6yS6Ixe-MMk_",
        "outputId": "0d9be546-6d06-4784-eea0-6d96499a5b93"
      },
      "execution_count": 58,
      "outputs": [
        {
          "output_type": "stream",
          "name": "stdout",
          "text": [
            "Es el numero 4  un numero positivo\n"
          ]
        }
      ]
    },
    {
      "cell_type": "code",
      "source": [
        "if positivo > 0:\n",
        "  print(\"Es un número positivo\")\n",
        "  print(f\"El número {positivo} es un número positivo\")\n",
        "  print(\"Fin\")\n",
        "\n",
        "  ###print (\"el numero indicado no es un numero positivo\")"
      ],
      "metadata": {
        "id": "qjPntPVl9F4V",
        "outputId": "745605e1-b9f9-4b84-8173-ec7fb89e41a2",
        "colab": {
          "base_uri": "https://localhost:8080/"
        }
      },
      "execution_count": 60,
      "outputs": [
        {
          "output_type": "stream",
          "name": "stdout",
          "text": [
            "Es un número positivo\n",
            "El número 4 es un número positivo\n",
            "Fin\n"
          ]
        }
      ]
    },
    {
      "cell_type": "code",
      "source": [
        "if positivo < 0:\n",
        "  print(\"No es un número positivo!\")\n",
        "print(f\"El número {positivo} es un número positivo\")"
      ],
      "metadata": {
        "colab": {
          "base_uri": "https://localhost:8080/"
        },
        "id": "g0OMzT2_KUAa",
        "outputId": "dd4a2c3c-b137-443b-ca76-b25ef7b3556f"
      },
      "execution_count": 61,
      "outputs": [
        {
          "output_type": "stream",
          "name": "stdout",
          "text": [
            "El número 4 es un número positivo\n"
          ]
        }
      ]
    },
    {
      "cell_type": "markdown",
      "source": [
        "### **<font color=\"#07a8ed\"><code>if</code> <code>else</code></font>**"
      ],
      "metadata": {
        "id": "d2AKmii8K7ph"
      }
    },
    {
      "cell_type": "markdown",
      "source": [
        "<p align=\"justify\">Para dos condiciones, se usa la estructura de control <code>if</code> y <code>else</code>. Es decir, o se cumple una condición, o se cumple otra condición</p>.\n",
        "\n",
        "~~~python\n",
        "if condicion_1:\n",
        "     instrucciones_1\n",
        "          \n",
        "else:\n",
        "     instrucciones_2\n",
        "~~~"
      ],
      "metadata": {
        "id": "GWd1OrZ7LEX2"
      }
    },
    {
      "cell_type": "code",
      "source": [
        "edad = int(input(\"¿Cuántos años tiene?: \"))"
      ],
      "metadata": {
        "id": "ViL9UBNK-vbM",
        "outputId": "9d35a415-4da9-404e-a159-e34d64fea269",
        "colab": {
          "base_uri": "https://localhost:8080/"
        }
      },
      "execution_count": 63,
      "outputs": [
        {
          "name": "stdout",
          "output_type": "stream",
          "text": [
            "¿Cuántos años tiene?: 13\n"
          ]
        }
      ]
    },
    {
      "cell_type": "code",
      "source": [
        "if edad < 18:\n",
        "  print(\"Es menor de edad, no está habilitado para realizar operaciones comerciales\")\n",
        "else:\n",
        "  print(\"Es mayor de edad, usted puede realizar operaciones comerciales\")"
      ],
      "metadata": {
        "colab": {
          "base_uri": "https://localhost:8080/"
        },
        "id": "WV7D_z64Kpw_",
        "outputId": "00578646-39e2-42e5-8bc5-eb17ef725036"
      },
      "execution_count": 64,
      "outputs": [
        {
          "output_type": "stream",
          "name": "stdout",
          "text": [
            "Es menor de edad, no está habilitado para realizar operaciones comerciales\n"
          ]
        }
      ]
    },
    {
      "cell_type": "markdown",
      "source": [
        "### EN LOGICA TENER CUIDADO COMO ARMAMOS LAS EVALUACIONES LOGICAS N CONDICIONES...\n",
        "LA CONDICION QUE SE CUMPLE ES EXCLUYENTE A LAS DEMAS CONDICIONES, 1 SE CUMPLE RESTO, NO IMPORTO,.\n",
        "CUANDO TENGO N CONDICIONES ?\n"
      ],
      "metadata": {
        "id": "BFAkIe2RS3sF"
      }
    },
    {
      "cell_type": "markdown",
      "source": [
        "### **<font color=\"#07a8ed\"><code>if</code> <code>elif</code> <code>else</code></font>**"
      ],
      "metadata": {
        "id": "Gei3H018L8Ap"
      }
    },
    {
      "cell_type": "markdown",
      "source": [
        "<p align=\"justify\">Para mas de dos condiciones, se usa la estructura de control <code lang=\"python\">if</code> <code>elif</code> y <code>else</code>.</p>\n",
        "\n",
        "~~~python\n",
        "if condicion_1:\n",
        "     instrucciones_1\n",
        "     \n",
        "elif condicion_2:\n",
        "     instrucciones_2\n",
        "     \n",
        "else:\n",
        "     instrucciones_3\n",
        "~~~"
      ],
      "metadata": {
        "id": "8-u4zBJlMGO5"
      }
    },
    {
      "cell_type": "code",
      "source": [
        "x = int(input(\"Ingresar un número entero positivo o negativo, por favor: \"))"
      ],
      "metadata": {
        "id": "hIPs729iAo6i",
        "outputId": "e9d05d7f-ecff-47ad-dd42-3b30fef34dae",
        "colab": {
          "base_uri": "https://localhost:8080/"
        }
      },
      "execution_count": 68,
      "outputs": [
        {
          "name": "stdout",
          "output_type": "stream",
          "text": [
            "Ingresar un número entero positivo o negativo, por favor: -5\n"
          ]
        }
      ]
    },
    {
      "cell_type": "code",
      "source": [
        "x"
      ],
      "metadata": {
        "id": "XM5RZa_MBBKE",
        "outputId": "5bd83f00-a8d8-4d6c-b857-96539caf3398",
        "colab": {
          "base_uri": "https://localhost:8080/"
        }
      },
      "execution_count": 66,
      "outputs": [
        {
          "output_type": "execute_result",
          "data": {
            "text/plain": [
              "-5"
            ]
          },
          "metadata": {},
          "execution_count": 66
        }
      ]
    },
    {
      "cell_type": "code",
      "source": [
        "if x < 0:\n",
        "  print(f\"El numero {x} ingresado es negativo\") # el f me habilita a agregar una variable {x}\n",
        "elif x == 0:\n",
        "  print(f\"El numero ingresado es {x}\")\n",
        "else:\n",
        "  print(f\"El numero {x} ingresado es positivo\")"
      ],
      "metadata": {
        "colab": {
          "base_uri": "https://localhost:8080/"
        },
        "id": "tDj5FmYYKpto",
        "outputId": "10b946b7-15b1-416f-98e0-a3bab4fc2d14"
      },
      "execution_count": 67,
      "outputs": [
        {
          "output_type": "stream",
          "name": "stdout",
          "text": [
            "El numero -5 ingresado es negativo\n"
          ]
        }
      ]
    },
    {
      "cell_type": "markdown",
      "source": [
        "<p align=\"justify\">\n",
        "👀 Si alguna de las condiciones se cumple y nuestro script tiene varias condiciones a evaluar, entonces cumplida una condición, ya no se siguen evaluando las siguientes condiciones...</p>"
      ],
      "metadata": {
        "id": "B91FnU2dOTuV"
      }
    },
    {
      "cell_type": "code",
      "source": [
        "activo_corriente = 500;# ; es un salto de linea\n",
        "pasivo_corriente = 700;\n",
        "activo_no_corriente = 800;\n",
        "pasivo_no_corriente = 1000"
      ],
      "metadata": {
        "id": "AV1eEpxyOk9I"
      },
      "execution_count": 70,
      "outputs": []
    },
    {
      "cell_type": "code",
      "source": [
        "if activo_corriente < pasivo_corriente or activo_no_corriente > pasivo_no_corriente: #  se cumple la primera condicion solamente\n",
        "  print(\"Verificado\")"
      ],
      "metadata": {
        "id": "0fR4kG5HCFd8",
        "outputId": "2d0bc335-c046-4d19-836c-75f14d5f29ce",
        "colab": {
          "base_uri": "https://localhost:8080/"
        }
      },
      "execution_count": 71,
      "outputs": [
        {
          "output_type": "stream",
          "name": "stdout",
          "text": [
            "Verificado\n"
          ]
        }
      ]
    },
    {
      "cell_type": "code",
      "source": [
        "if activo_corriente > pasivo_corriente and activo_no_corriente > pasivo_no_corriente: # se cumple la segunda condicion\n",
        "  print(\"Verificado\")"
      ],
      "metadata": {
        "id": "J0ZHQn0gPYaL"
      },
      "execution_count": 74,
      "outputs": []
    },
    {
      "cell_type": "markdown",
      "source": [
        "<p align=\"justify\">\n",
        "👀 La comparación <code>activo_no_corriente</code> con <code>pasivo_no_corriente</code> nunca se evalúa porque la primera comparación entre activo y pasivo corriente fue <code lang=\"python\">True</code>...<br><br>También es posible encadenar comparaciones, ejemplo:</p>"
      ],
      "metadata": {
        "id": "BLQpiazBP71P"
      }
    },
    {
      "cell_type": "code",
      "source": [
        "4 > 3 > 2 > 1"
      ],
      "metadata": {
        "colab": {
          "base_uri": "https://localhost:8080/"
        },
        "id": "nCyRcR2-Rnzl",
        "outputId": "2ace8888-9b51-4d3a-ac84-e31fbdae4c84"
      },
      "execution_count": 75,
      "outputs": [
        {
          "output_type": "execute_result",
          "data": {
            "text/plain": [
              "True"
            ]
          },
          "metadata": {},
          "execution_count": 75
        }
      ]
    },
    {
      "cell_type": "code",
      "source": [
        "activo_corriente > activo_no_corriente > pasivo_corriente > pasivo_no_corriente"
      ],
      "metadata": {
        "colab": {
          "base_uri": "https://localhost:8080/"
        },
        "id": "nna6oVP6RtEh",
        "outputId": "e006c227-512c-4db0-8c3b-d46bbb413d6d"
      },
      "execution_count": 76,
      "outputs": [
        {
          "output_type": "execute_result",
          "data": {
            "text/plain": [
              "False"
            ]
          },
          "metadata": {},
          "execution_count": 76
        }
      ]
    },
    {
      "cell_type": "markdown",
      "source": [
        "## **<font color=\"#07a8ed\">Bucle For</font>**"
      ],
      "metadata": {
        "id": "7Kg2o5pF2teA"
      }
    },
    {
      "cell_type": "markdown",
      "source": [
        "<p align=\"justify\">Los bucles <code>for</code> son para iterar sobre una colección (como una tupla, lista, cadena, etc) o un sobre un elemento iterable. La sintaxis estándar para un bucle <code>for</code> es:</p>\n",
        "\n",
        "\n",
        "~~~python\n",
        "for variable in elemento iterable (tupla, lista, cadena, etc.):\n",
        "    cuerpo bucle\n",
        "~~~"
      ],
      "metadata": {
        "id": "GZbbBT2nN1R7"
      }
    },
    {
      "cell_type": "code",
      "source": [
        "lista = [\"Activo\",\"Pasivo\",\"Patrimonio Neto\"]"
      ],
      "metadata": {
        "id": "m896vmNECQcl"
      },
      "execution_count": 77,
      "outputs": []
    },
    {
      "cell_type": "code",
      "source": [
        "for i in lista:\n",
        "  print(f\"Elemento del Estado de Situación Patrimonial, el {i}\")"
      ],
      "metadata": {
        "colab": {
          "base_uri": "https://localhost:8080/"
        },
        "id": "1zau0WBPuw9f",
        "outputId": "4ad0c66b-a270-448b-95f0-b303171f11cd"
      },
      "execution_count": 78,
      "outputs": [
        {
          "output_type": "stream",
          "name": "stdout",
          "text": [
            "Elemento del Estado de Situación Patrimonial, el Activo\n",
            "Elemento del Estado de Situación Patrimonial, el Pasivo\n",
            "Elemento del Estado de Situación Patrimonial, el Patrimonio Neto\n"
          ]
        }
      ]
    },
    {
      "cell_type": "markdown",
      "source": [
        "## **<font color=\"#07a8ed\">Break y Continue</font>**"
      ],
      "metadata": {
        "id": "xSWmFe7a3GD0"
      }
    },
    {
      "cell_type": "markdown",
      "source": [
        "<p align=\"justify\">\n",
        "👀 Podemos avanzar un bucle a la siguiente iteración, omitiendo el resto del bloque, utilizando la palabra clave <code>continue</code>. Por ejemplo, el siguiente bucle <code>for</code> omite valores <code>None</code>.\n",
        "\n",
        "</p>"
      ],
      "metadata": {
        "id": "5AaxGnHBV8Tt"
      }
    },
    {
      "cell_type": "code",
      "source": [
        "unidades = [100, 200, None, 450, None, 580]\n",
        "total = 0\n",
        "for i in unidades:\n",
        "  if i is None:\n",
        "    continue\n",
        "  total += i"
      ],
      "metadata": {
        "id": "YHplNJtAuw6R"
      },
      "execution_count": null,
      "outputs": []
    },
    {
      "cell_type": "code",
      "source": [
        "total"
      ],
      "metadata": {
        "colab": {
          "base_uri": "https://localhost:8080/"
        },
        "id": "OwGDIhtPYCei",
        "outputId": "d39fe3aa-fb14-4635-946d-45ce1c9b0a56"
      },
      "execution_count": null,
      "outputs": [
        {
          "output_type": "execute_result",
          "data": {
            "text/plain": [
              "1330"
            ]
          },
          "metadata": {},
          "execution_count": 25
        }
      ]
    },
    {
      "cell_type": "markdown",
      "source": [
        "<p align=\"justify\">\n",
        "👀 O tambien podemos detener un bucle, utilizando la palabra clave <code>break</code>. Por ejemplo, el siguiente bucle <code>for</code> detiene el bucle cuando se encuentre el valor cinco.\n",
        "\n",
        "</p>"
      ],
      "metadata": {
        "id": "gHH0WpV7Y_FI"
      }
    },
    {
      "cell_type": "code",
      "source": [
        "secuencia = [1, 2, 0, 4, 6, 5, 2, 1]\n",
        "total_limite_5 = 0\n",
        "for i in secuencia:\n",
        "  if i == 5:\n",
        "    break\n",
        "  total_limite_5 += i"
      ],
      "metadata": {
        "id": "7817NH3kXbgl"
      },
      "execution_count": null,
      "outputs": []
    },
    {
      "cell_type": "code",
      "source": [
        "total_limite_5"
      ],
      "metadata": {
        "colab": {
          "base_uri": "https://localhost:8080/"
        },
        "id": "WaFewPLZYgGT",
        "outputId": "11bacd0b-8e38-40cf-c42d-fc73f98da914"
      },
      "execution_count": null,
      "outputs": [
        {
          "output_type": "execute_result",
          "data": {
            "text/plain": [
              "13"
            ]
          },
          "metadata": {},
          "execution_count": 27
        }
      ]
    },
    {
      "cell_type": "markdown",
      "source": [
        "<p align=\"justify\">\n",
        "👀 La palabra clave <code>break</code> detiene el bucle mas interno, y los bucles externos siguen ejecutándose. Por ejemplo:\n",
        "\n",
        "</p>"
      ],
      "metadata": {
        "id": "Slhn7vXLZj0d"
      }
    },
    {
      "cell_type": "code",
      "source": [
        "for i in range(4):\n",
        "  for j in range(4):\n",
        "    if j > i:\n",
        "      break\n",
        "    print((i, j))"
      ],
      "metadata": {
        "colab": {
          "base_uri": "https://localhost:8080/"
        },
        "id": "8E2KOeQwZ0Je",
        "outputId": "5330003d-1b7c-4d89-c447-178b7efcf832"
      },
      "execution_count": null,
      "outputs": [
        {
          "output_type": "stream",
          "name": "stdout",
          "text": [
            "(0, 0)\n",
            "(1, 0)\n",
            "(1, 1)\n",
            "(2, 0)\n",
            "(2, 1)\n",
            "(2, 2)\n",
            "(3, 0)\n",
            "(3, 1)\n",
            "(3, 2)\n",
            "(3, 3)\n"
          ]
        }
      ]
    },
    {
      "cell_type": "markdown",
      "source": [
        "<p align=\"justify\">\n",
        "Esto es lo que hace el script proporcionado:\n",
        "<br><br>\n",
        "\n",
        "1. Se inicializa un bucle externo `for` que itera sobre los valores en el rango de 0 a 3 (no incluyendo 4), representados por la variable `i`.\n",
        "\n",
        "2. Dentro del bucle externo, se inicializa otro bucle interno `for` que también itera sobre los valores en el rango de 0 a 3 (no incluyendo 4), representados por la variable `j`.\n",
        "\n",
        "3. Se evalúa una condición utilizando la estructura `if`. La condición es `j > i`, lo que significa que el valor de `j` es mayor que el valor de `i`.\n",
        "\n",
        "4. Si la condición es verdadera (es decir, si `j` es mayor que `i`), se ejecuta la declaración `break`, que interrumpe el bucle interno actual y pasa al siguiente paso del bucle externo.\n",
        "\n",
        "5. Si la condición es falsa (es decir, si `j` no es mayor que `i`), se ejecuta la instrucción `print((i, j))`. Esta instrucción imprime una tupla que contiene los valores de `i` y `j` en ese momento.\n",
        "\n",
        "6. Después de imprimir la tupla, el bucle interno continúa iterando hasta que se completa su rango o hasta que se ejecuta la declaración `break`.\n",
        "\n",
        "7. Una vez que el bucle interno termina de ejecutarse (ya sea porque se completó su rango o porque se ejecutó `break`), el control regresa al bucle externo.\n",
        "\n",
        "8. El bucle externo continúa iterando hasta que se completa su rango o hasta que se ejecuta `break`.\n",
        "\n",
        "<br>\n",
        "<p align=\"justify\">\n",
        "En resumen, este script genera todas las combinaciones de pares <code>(i, j)</code> donde <code>i</code> es menor o igual a <code>j</code>, para valores de <code>i</code> y <code>j</code> en el rango de 0 a 3. Cada par se imprime en una línea nueva.\n",
        "<br><br>\n",
        "👀 La instrucción <code>break</code> se utiliza para evitar que el bucle interno continúe iterando una vez que <code>j</code> supera a <code>i</code>."
      ],
      "metadata": {
        "id": "RgmlvaP7dWkO"
      }
    },
    {
      "cell_type": "markdown",
      "source": [
        "## **<font color=\"#07a8ed\">Bucle While</font>**"
      ],
      "metadata": {
        "id": "V0-I4Zgw2_Tp"
      }
    },
    {
      "cell_type": "markdown",
      "source": [
        "<p align=\"justify\">Un bucle <code>while</code> especifica una condición y un bloque de código que se ejecutará hasta que la condición <code>False</code> se evalúe o el bucle termine explícitamente con <code>break</code>:</p>\n",
        "\n",
        "\n",
        "~~~python\n",
        "while condicion:\n",
        "    cuerpo bucle\n",
        "~~~\n"
      ],
      "metadata": {
        "id": "kGWIlg6MahFZ"
      }
    },
    {
      "cell_type": "code",
      "source": [
        "cuenta = 1\n",
        "while cuenta <= 5:\n",
        "  if cuenta == 1:\n",
        "    print(f\"A la {cuenta}\")\n",
        "  else:\n",
        "   print(f\"A las {cuenta}\")\n",
        "  cuenta += 1"
      ],
      "metadata": {
        "colab": {
          "base_uri": "https://localhost:8080/"
        },
        "id": "JkTeVY_I3FRe",
        "outputId": "79f78c5e-1e11-41e4-bbea-27fda301ba1d"
      },
      "execution_count": null,
      "outputs": [
        {
          "output_type": "stream",
          "name": "stdout",
          "text": [
            "A la 1\n",
            "A las 2\n",
            "A las 3\n",
            "A las 4\n",
            "A las 5\n"
          ]
        }
      ]
    },
    {
      "cell_type": "markdown",
      "source": [
        "<p align=\"justify\">\n",
        "El script cuenta desde 1 hasta 5 e imprime un mensaje diferente dependiendo del valor de la variable de cuenta en cada iteración. Este es el detalle del script:\n",
        "<br><br>\n",
        "\n",
        "1. **Inicialización de la variable cuenta:** Se inicializa la variable cuenta con el valor 1.\n",
        "   \n",
        "2. **Bucle while:** Se inicia un bucle while que se ejecutará mientras el valor de la variable cuenta sea menor o igual a 5.\n",
        "\n",
        "3. **Condición if:** Dentro del bucle, hay una estructura condicional if que comprueba si el valor de la variable cuenta es igual a 1.\n",
        "\n",
        "4. **Impresión de mensaje:** Si el valor de cuenta es igual a 1, se imprime el mensaje \"A la 1\". Esto se hace utilizando la función print() con una cadena de formato que incluye el valor de cuenta.\n",
        "\n",
        "5. **Else:** Si el valor de cuenta no es igual a 1, se ejecuta la parte else de la estructura condicional.\n",
        "\n",
        "6. **Impresión de mensaje alternativo:** En este caso, se imprime el mensaje \"A las\" seguido del valor de cuenta. Esto se hace también utilizando la función print() con una cadena de formato.\n",
        "\n",
        "7. **Actualización de la variable cuenta:** Después de cada iteración del bucle, se incrementa el valor de la variable cuenta en 1 utilizando el operador de incremento +=.\n",
        "\n",
        "<br>\n",
        "<p align=\"justify\">\n",
        "👀 finalizar el bucle, el script habrá impreso los mensajes \"A la 1\", \"A las 2\", \"A las 3\", \"A las 4\" y \"A las 5\", cada uno en una línea nueva. Esto muestra cómo se pueden utilizar bucles y estructuras condicionales en Python para realizar tareas repetitivas con variaciones basadas en condiciones específicas."
      ],
      "metadata": {
        "id": "r7x8aYCQcUVe"
      }
    },
    {
      "cell_type": "markdown",
      "source": [
        "<p align=\"center\"><b>\n",
        "💗\n",
        "<font color=\"#07a8ed\">\n",
        "Hemos llegado al final de nuestro colab, a seguir codeando...\n",
        "</font>\n",
        "</p>\n",
        "\n"
      ],
      "metadata": {
        "id": "jLFcCFoEuxr6"
      }
    }
  ]
}