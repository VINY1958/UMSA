{
  "nbformat": 4,
  "nbformat_minor": 0,
  "metadata": {
    "colab": {
      "provenance": []
    },
    "kernelspec": {
      "name": "python3",
      "display_name": "Python 3"
    },
    "language_info": {
      "name": "python"
    }
  },
  "cells": [
    {
      "cell_type": "markdown",
      "source": [
        " # **<font color=\"DarkBlue\">Operaciones de computación vectorizada</font>**"
      ],
      "metadata": {
        "id": "_o8tuKydjnRZ"
      }
    },
    {
      "cell_type": "markdown",
      "source": [
        "<p align=\"center\">\n",
        "<img src=\"https://numpy.org/images/logo.svg\" width=\"80\" height=\"\">\n",
        "</p>\n"
      ],
      "metadata": {
        "id": "XM-hn7ZLmgQc"
      }
    },
    {
      "cell_type": "markdown",
      "source": [
        "https://numpy.org"
      ],
      "metadata": {
        "id": "iw1xUwq1fpWm"
      }
    },
    {
      "cell_type": "code",
      "source": [
        "import numpy as np"
      ],
      "metadata": {
        "id": "dQtWrchXqRb3"
      },
      "execution_count": 1,
      "outputs": []
    },
    {
      "cell_type": "markdown",
      "source": [
        " # **<font color=\"DarkBlue\">Operaciones aritméticas con matrices</font>**"
      ],
      "metadata": {
        "id": "m5KN7xI6s-OE"
      }
    },
    {
      "cell_type": "markdown",
      "source": [
        "<p align=\"justify\">\n",
        "📘 Las operaciones aritméticas con matrices incluyen la suma, la resta, la multiplicación por un escalar y la multiplicación de matrices. Estas operaciones se realizan siguiendo ciertas reglas y fórmulas matemáticas específicas."
      ],
      "metadata": {
        "id": "AszGCGtUtFl5"
      }
    },
    {
      "cell_type": "markdown",
      "source": [
        " ## **<font color=\"DarkBlue\">Suma de matrices</font>**"
      ],
      "metadata": {
        "id": "r7kR4eWnvn-T"
      }
    },
    {
      "cell_type": "markdown",
      "source": [
        "<p align=\"justify\">\n",
        "La suma de dos matrices $ A $ y $ B $ de igual tamaño $ m \\times n $ se define como una matriz $ C $ también de tamaño $ m \\times n $, donde cada elemento $ c_{ij} $ es la suma de los elementos correspondientes de $ A $ y $ B $:\n",
        "<br><br>\n",
        "\\[ C = A + B \\]\n",
        "<br><br>\n",
        "\\[ c_{ij} = a_{ij} + b_{ij} \\]\n"
      ],
      "metadata": {
        "id": "8PY0XrjjvwzS"
      }
    },
    {
      "cell_type": "markdown",
      "source": [
        "<p align=\"justify\">\n",
        "👀 Imaginemos que una empresa tiene matrices de ventas para diferentes productos del mes de enero y del mes de febrero. Queremos calcular los ventas totales."
      ],
      "metadata": {
        "id": "WY0F2PG5wcJM"
      }
    },
    {
      "cell_type": "code",
      "source": [
        "import numpy as np"
      ],
      "metadata": {
        "id": "J4bYKAETwXiA"
      },
      "execution_count": 2,
      "outputs": []
    },
    {
      "cell_type": "code",
      "source": [
        "# Matriz de ventas de productos de enero\n",
        "ventas_enero = np.array([\n",
        "    [500, 400],\n",
        "    [600, 550]\n",
        "])"
      ],
      "metadata": {
        "id": "eMdTSAKrxF_r"
      },
      "execution_count": 3,
      "outputs": []
    },
    {
      "cell_type": "code",
      "source": [
        "# Matriz de ventas de productos de febrero\n",
        "ventas_febrero = np.array([\n",
        "    [400, 500],\n",
        "    [700, 850]\n",
        "])"
      ],
      "metadata": {
        "id": "jvtepFsWxbmz"
      },
      "execution_count": 4,
      "outputs": []
    },
    {
      "cell_type": "code",
      "source": [
        "ventas_enero # matriz ventas de enero"
      ],
      "metadata": {
        "colab": {
          "base_uri": "https://localhost:8080/"
        },
        "id": "NFcmQh-nSdVj",
        "outputId": "5d038129-70e2-4472-99ad-fd2bf0a32b78"
      },
      "execution_count": 5,
      "outputs": [
        {
          "output_type": "execute_result",
          "data": {
            "text/plain": [
              "array([[500, 400],\n",
              "       [600, 550]])"
            ]
          },
          "metadata": {},
          "execution_count": 5
        }
      ]
    },
    {
      "cell_type": "code",
      "source": [
        "ventas_enero[0] # matriz ventas de enero pósicion [0] fila"
      ],
      "metadata": {
        "colab": {
          "base_uri": "https://localhost:8080/"
        },
        "id": "edIZkDlCSVIh",
        "outputId": "75d0fb4a-6368-4e37-c6d6-5467d7af35f9"
      },
      "execution_count": 10,
      "outputs": [
        {
          "output_type": "execute_result",
          "data": {
            "text/plain": [
              "array([500, 400])"
            ]
          },
          "metadata": {},
          "execution_count": 10
        }
      ]
    },
    {
      "cell_type": "code",
      "source": [
        "ventas_enero[1]## fila 1"
      ],
      "metadata": {
        "colab": {
          "base_uri": "https://localhost:8080/"
        },
        "id": "oFFUQOInSYXh",
        "outputId": "5c08c01a-4720-4c5e-c03c-084f45ff342e"
      },
      "execution_count": 11,
      "outputs": [
        {
          "output_type": "execute_result",
          "data": {
            "text/plain": [
              "array([600, 550])"
            ]
          },
          "metadata": {},
          "execution_count": 11
        }
      ]
    },
    {
      "cell_type": "code",
      "source": [
        "ventas_febrero"
      ],
      "metadata": {
        "colab": {
          "base_uri": "https://localhost:8080/"
        },
        "id": "xe24d6lJXIZf",
        "outputId": "99a29796-674f-44d3-f80b-9b468ce925b2"
      },
      "execution_count": 12,
      "outputs": [
        {
          "output_type": "execute_result",
          "data": {
            "text/plain": [
              "array([[400, 500],\n",
              "       [700, 850]])"
            ]
          },
          "metadata": {},
          "execution_count": 12
        }
      ]
    },
    {
      "cell_type": "code",
      "source": [
        "ventas_enero"
      ],
      "metadata": {
        "colab": {
          "base_uri": "https://localhost:8080/"
        },
        "id": "P4mtECpsTNm7",
        "outputId": "10854adf-d2cc-4e4b-e52c-40d91cce4a80"
      },
      "execution_count": 13,
      "outputs": [
        {
          "output_type": "execute_result",
          "data": {
            "text/plain": [
              "array([[500, 400],\n",
              "       [600, 550]])"
            ]
          },
          "metadata": {},
          "execution_count": 13
        }
      ]
    },
    {
      "cell_type": "code",
      "source": [
        "# Suma de matrices (Ventas de enero + febrero)\n",
        "total = ventas_enero + ventas_febrero\n",
        "print(\"Suma de matrices (Ventas de enero + febrero):\")\n",
        "print(total)"
      ],
      "metadata": {
        "colab": {
          "base_uri": "https://localhost:8080/"
        },
        "id": "BWhwS-5ww4f8",
        "outputId": "8c25e860-65f9-4727-9a6d-559698b2c0d8"
      },
      "execution_count": 14,
      "outputs": [
        {
          "output_type": "stream",
          "name": "stdout",
          "text": [
            "Suma de matrices (Ventas de enero + febrero):\n",
            "[[ 900  900]\n",
            " [1300 1400]]\n"
          ]
        }
      ]
    },
    {
      "cell_type": "markdown",
      "source": [
        " ## **<font color=\"DarkBlue\">Resta de matrices</font>**"
      ],
      "metadata": {
        "id": "B04Hy67FyKh8"
      }
    },
    {
      "cell_type": "markdown",
      "source": [
        "<p align=\"justify\">\n",
        "La resta de dos matrices $ A $ y $ B $ de igual tamaño $ m \\times n $ se define como una matriz $ C $ también de tamaño $ m \\times n $, donde cada elemento $ c_{ij} $ es la resta de los elementos correspondientes de $ A $ y $ B $:\n",
        "<br><br>\n",
        "\\[ C = A - B \\]\n",
        "<br><br>\n",
        "\\[ c_{ij} = a_{ij} - b_{ij} \\]\n"
      ],
      "metadata": {
        "id": "rxFpgnwqyPF2"
      }
    },
    {
      "cell_type": "markdown",
      "source": [
        "<p align=\"justify\">\n",
        "👀 Imaginemos que una empresa tiene matrices de costos de producción y ventas para diferentes productos. Queremos las diferencias entre costos y ventas."
      ],
      "metadata": {
        "id": "r-StFo7nynrS"
      }
    },
    {
      "cell_type": "code",
      "source": [
        "# Matriz de ventas de productos\n",
        "ventas = np.array([\n",
        "    [800, 300],\n",
        "    [450, 550]\n",
        "])"
      ],
      "metadata": {
        "id": "NZnl1E06zfBO"
      },
      "execution_count": 15,
      "outputs": []
    },
    {
      "cell_type": "code",
      "source": [
        "# Matriz de costos de productos\n",
        "costos = np.array([\n",
        "    [200, 150],\n",
        "    [300, 250]\n",
        "])"
      ],
      "metadata": {
        "id": "81iz_xQMzCfl"
      },
      "execution_count": 16,
      "outputs": []
    },
    {
      "cell_type": "code",
      "source": [
        "# Resta de matrices (ventas - costos)\n",
        "diferencia = ventas - costos\n",
        "print(\"Diferencia de matrices (Ventas - Costos):\")\n",
        "print(diferencia)"
      ],
      "metadata": {
        "colab": {
          "base_uri": "https://localhost:8080/"
        },
        "id": "S3GecNlfzEwL",
        "outputId": "19b38bf7-dba5-4cd0-c942-f04503831e1a"
      },
      "execution_count": 17,
      "outputs": [
        {
          "output_type": "stream",
          "name": "stdout",
          "text": [
            "Diferencia de matrices (Ventas - Costos):\n",
            "[[600 150]\n",
            " [150 300]]\n"
          ]
        }
      ]
    },
    {
      "cell_type": "markdown",
      "source": [
        " ## **<font color=\"DarkBlue\">Multiplicación por un Escalar</font>**"
      ],
      "metadata": {
        "id": "eqokg3Auzmil"
      }
    },
    {
      "cell_type": "markdown",
      "source": [
        "<p align=\"justify\">\n",
        "La multiplicación de una matriz $ A $ de tamaño $ m \\times n $ por un escalar $ k $ se define como una matriz $ B $ del mismo tamaño, donde cada elemento $ b_{ij} $ es el producto del escalar $ k $ y el elemento correspondiente de $ A $:\n",
        "<br><br>\n",
        "\\[ B = k \\cdot A \\]\n",
        "<br><br>\n",
        "\\[ b_{ij} = k \\cdot a_{ij} \\]\n"
      ],
      "metadata": {
        "id": "KWpgGWFgzvIo"
      }
    },
    {
      "cell_type": "markdown",
      "source": [
        "<p align=\"justify\">\n",
        "👀 Supongamos que queremos calcular el costo total de producción si aumentamos todos los costos en un 10% debido a un aumento de precios."
      ],
      "metadata": {
        "id": "Kj6572V30LHR"
      }
    },
    {
      "cell_type": "code",
      "source": [
        "# Matriz de costos de producción\n",
        "costos = np.array([\n",
        "    [200, 150],\n",
        "    [300, 250]\n",
        "])"
      ],
      "metadata": {
        "id": "U6veKjlL0ZS-"
      },
      "execution_count": 18,
      "outputs": []
    },
    {
      "cell_type": "code",
      "source": [
        "# Escalar de aumento del 10%\n",
        "aumento = 1.10"
      ],
      "metadata": {
        "id": "A05H6yma0kI2"
      },
      "execution_count": 19,
      "outputs": []
    },
    {
      "cell_type": "code",
      "source": [
        "# Multiplicación por el escalar (aumento de costos)\n",
        "costos_aumentados = aumento * costos\n",
        "print(\"Costos aumentados en un 10%:\")\n",
        "print(costos_aumentados)"
      ],
      "metadata": {
        "colab": {
          "base_uri": "https://localhost:8080/"
        },
        "id": "2Dh-RyGO0l8Z",
        "outputId": "32aebfca-02ec-4b94-9eae-a391af5ac243"
      },
      "execution_count": 20,
      "outputs": [
        {
          "output_type": "stream",
          "name": "stdout",
          "text": [
            "Costos aumentados en un 10%:\n",
            "[[220. 165.]\n",
            " [330. 275.]]\n"
          ]
        }
      ]
    },
    {
      "cell_type": "markdown",
      "source": [
        " ## **<font color=\"DarkBlue\">Multiplicación de Matrices</font>**"
      ],
      "metadata": {
        "id": "eLKQuwzv05CW"
      }
    },
    {
      "cell_type": "markdown",
      "source": [
        "<p align=\"justify\">\n",
        "La multiplicación de dos matrices $ A $ y $ B $ se define cuando el número de columnas de $ A $ es igual al número de filas de $ B $. La matriz resultante $ C $ tendrá el tamaño correspondiente a las filas de $ A $ y las columnas de $ B $.\n",
        "<br><br>\n",
        "Cada elemento $ c_{ij} $ de $ C $ se calcula como la suma de los productos de los elementos correspondientes de la fila $ i $ de $ A $ y la columna $ j $ de $ B $:\n",
        "<br><br>\n",
        "\\[ C = A \\cdot B \\]\n",
        "<br><br>\n",
        "\\[ c_{ij} = \\sum_{k=1}^n a_{ik} \\cdot b_{kj} \\]\n"
      ],
      "metadata": {
        "id": "h3pgHa7l08LU"
      }
    },
    {
      "cell_type": "markdown",
      "source": [
        "<p align=\"justify\">\n",
        "👀 En un análisis de inversiones, queremos calcular los ingresos esperados multiplicando la matriz de precios de venta por la matriz de unidades vendidas."
      ],
      "metadata": {
        "id": "Wx6JWffe19Rs"
      }
    },
    {
      "cell_type": "code",
      "source": [
        "# Matriz de precios de venta por unidad en diferentes mercados\n",
        "precios = np.array([\n",
        "    [10, 15],\n",
        "    [20, 25]\n",
        "])"
      ],
      "metadata": {
        "id": "RML5RpDA2G3M"
      },
      "execution_count": 21,
      "outputs": []
    },
    {
      "cell_type": "code",
      "source": [
        "# Matriz de unidades vendidas en diferentes mercados\n",
        "unidades_vendidas = np.array([\n",
        "    [100, 150],\n",
        "    [200, 250]\n",
        "])"
      ],
      "metadata": {
        "id": "f3LwBMMo3Sl7"
      },
      "execution_count": 22,
      "outputs": []
    },
    {
      "cell_type": "code",
      "source": [
        "# Multiplicación de matrices (ingresos esperados)\n",
        "ingresos = np.dot(precios, unidades_vendidas)\n",
        "print(\"Ingresos esperados (Multiplicación de matrices):\")\n",
        "print(ingresos)"
      ],
      "metadata": {
        "colab": {
          "base_uri": "https://localhost:8080/"
        },
        "id": "0sl-yanD3U2F",
        "outputId": "f1ac5a11-8c3d-4ea5-d1c3-612969acf6ba"
      },
      "execution_count": 23,
      "outputs": [
        {
          "output_type": "stream",
          "name": "stdout",
          "text": [
            "Ingresos esperados (Multiplicación de matrices):\n",
            "[[4000 5250]\n",
            " [7000 9250]]\n"
          ]
        }
      ]
    },
    {
      "cell_type": "markdown",
      "source": [
        " # **<font color=\"DarkBlue\">Operaciones de agregación y estadística descriptiva</font>**"
      ],
      "metadata": {
        "id": "S48LDQc4RQje"
      }
    },
    {
      "cell_type": "markdown",
      "source": [
        " ## **<font color=\"DarkBlue\">Suma Total</font>**"
      ],
      "metadata": {
        "id": "O0XOazSq5Cnj"
      }
    },
    {
      "cell_type": "markdown",
      "source": [
        "<p align=\"justify\">\n",
        "La suma total de todos los elementos de una matriz $ A $ se define como:\n",
        "<br><br>\n",
        "\\[ S = \\sum_{i=1}^{m} \\sum_{j=1}^{n} a_{ij} \\]\n",
        "<br>\n",
        "donde \\( m \\) es el número de filas y \\( n \\) es el número de columnas.\n"
      ],
      "metadata": {
        "id": "sQFAXawe5CJZ"
      }
    },
    {
      "cell_type": "markdown",
      "source": [
        "<p align=\"justify\">\n",
        "👀 Supongamos que una empresa tiene una matriz de costos de producción y desea calcular el costo total."
      ],
      "metadata": {
        "id": "Gz1GN5LU6zU_"
      }
    },
    {
      "cell_type": "code",
      "source": [
        "# Matriz de costos de producción\n",
        "costos = np.array([\n",
        "    [200, 150, 100],\n",
        "    [300, 250, 200]\n",
        "])"
      ],
      "metadata": {
        "id": "dOIhtZ--66OT"
      },
      "execution_count": 24,
      "outputs": []
    },
    {
      "cell_type": "code",
      "source": [
        "variable_name = \"costos de produccion\" # @param {\"type\":\"string\"}\n",
        "# Suma total de los costos\n",
        "suma_total = np.sum(costos)\n",
        "print(\"Suma total de los costos de producción:\")\n",
        "print(suma_total)"
      ],
      "metadata": {
        "colab": {
          "base_uri": "https://localhost:8080/"
        },
        "id": "I7hCP-4O69QD",
        "outputId": "3d9d6b1c-2946-4670-bb69-a7c508c8813f"
      },
      "execution_count": 26,
      "outputs": [
        {
          "output_type": "stream",
          "name": "stdout",
          "text": [
            "Suma total de los costos de producción:\n",
            "1200\n"
          ]
        }
      ]
    },
    {
      "cell_type": "markdown",
      "source": [
        " ## **<font color=\"DarkBlue\">Promedio (Media Aritmética)</font>**"
      ],
      "metadata": {
        "id": "DTCSIWxj7WIc"
      }
    },
    {
      "cell_type": "markdown",
      "source": [
        "<p align=\"justify\">\n",
        "El promedio de todos los elementos de una matriz $ A $ se define como:\n",
        "<br><br>\n",
        "\\[ \\text{Media} = \\frac{S}{N} \\]\n",
        "<br><br>\n",
        "donde \\( S \\) es la suma total de los elementos y \\( N \\) es el número total de elementos en la matriz:\n",
        "<br><br>\n",
        "\\[ N = m \\cdot n \\]\n"
      ],
      "metadata": {
        "id": "8X650dlq7yD6"
      }
    },
    {
      "cell_type": "markdown",
      "source": [
        "<p align=\"justify\">\n",
        "👀 Imaginemos que queremos calcular el promedio de las ventas de diferentes productos en varias regiones."
      ],
      "metadata": {
        "id": "RG58wB2EENI_"
      }
    },
    {
      "cell_type": "code",
      "source": [
        "# Matriz de ventas por producto en diferentes regiones\n",
        "ventas = np.array([\n",
        "    [100, 150, 200],\n",
        "    [250, 300, 350]\n",
        "])"
      ],
      "metadata": {
        "id": "GARiSYEOEW7I"
      },
      "execution_count": 27,
      "outputs": []
    },
    {
      "cell_type": "code",
      "source": [
        "# Cálculo del promedio de ventas\n",
        "promedio_ventas = np.mean(ventas)\n",
        "print(\"Promedio de ventas:\")\n",
        "print(promedio_ventas)"
      ],
      "metadata": {
        "colab": {
          "base_uri": "https://localhost:8080/"
        },
        "id": "t27kxCJOEbhG",
        "outputId": "0af1998e-3081-4cbc-ebdd-a91b15d533ce"
      },
      "execution_count": 28,
      "outputs": [
        {
          "output_type": "stream",
          "name": "stdout",
          "text": [
            "Promedio de ventas:\n",
            "225.0\n"
          ]
        }
      ]
    },
    {
      "cell_type": "markdown",
      "source": [
        " ## **<font color=\"DarkBlue\">Mínimo y Máximo</font>**"
      ],
      "metadata": {
        "id": "E-syaonNEkHE"
      }
    },
    {
      "cell_type": "markdown",
      "source": [
        "<p align=\"justify\">\n",
        "El valor mínimo y el valor máximo de una matriz $ A $ se definen como:\n",
        "<br><br>\n",
        "\n",
        "- $ \\text{Mínimo} = \\min_{i,j} (a_{ij}) $\n",
        "\n",
        "\n",
        "- $ \\text{Máximo} = \\max_{i,j} (a_{ij}) $\n"
      ],
      "metadata": {
        "id": "RwbuaNEdJiF0"
      }
    },
    {
      "cell_type": "markdown",
      "source": [
        "<p align=\"justify\">\n",
        "👀 Supongamos que estamos analizando una matriz de precios de productos y queremos encontrar el precio mínimo y máximo."
      ],
      "metadata": {
        "id": "WuyjA3OuKO8L"
      }
    },
    {
      "cell_type": "code",
      "source": [
        "# Matriz de precios de productos\n",
        "precios = np.array([\n",
        "    [10, 15, 20],\n",
        "    [25, 30, 35]\n",
        "])"
      ],
      "metadata": {
        "id": "66H-SGxSKG_N"
      },
      "execution_count": 29,
      "outputs": []
    },
    {
      "cell_type": "code",
      "source": [
        "# Cálculo del mínimo y máximo\n",
        "precio_minimo = np.min(precios)\n",
        "precio_maximo = np.max(precios)"
      ],
      "metadata": {
        "id": "WEPz9r9rKduC"
      },
      "execution_count": 30,
      "outputs": []
    },
    {
      "cell_type": "code",
      "source": [
        "precio_minimo"
      ],
      "metadata": {
        "colab": {
          "base_uri": "https://localhost:8080/"
        },
        "id": "MRq1sTTlg2Rq",
        "outputId": "b42143be-5a9a-4596-864f-4c52bbadd7b0"
      },
      "execution_count": 31,
      "outputs": [
        {
          "output_type": "execute_result",
          "data": {
            "text/plain": [
              "10"
            ]
          },
          "metadata": {},
          "execution_count": 31
        }
      ]
    },
    {
      "cell_type": "code",
      "source": [
        "precio_maximo"
      ],
      "metadata": {
        "colab": {
          "base_uri": "https://localhost:8080/"
        },
        "id": "TcYZnlX0g5Oa",
        "outputId": "7a7f89e2-5b50-413f-e1aa-dfee9a1846af"
      },
      "execution_count": 32,
      "outputs": [
        {
          "output_type": "execute_result",
          "data": {
            "text/plain": [
              "35"
            ]
          },
          "metadata": {},
          "execution_count": 32
        }
      ]
    },
    {
      "cell_type": "code",
      "source": [
        "print(\"Precio mínimo:\")\n",
        "print(precio_minimo)"
      ],
      "metadata": {
        "colab": {
          "base_uri": "https://localhost:8080/"
        },
        "id": "Rix3UOdpKgvl",
        "outputId": "3e67894f-ee4f-4ef2-ee57-0577a1df58f2"
      },
      "execution_count": 33,
      "outputs": [
        {
          "output_type": "stream",
          "name": "stdout",
          "text": [
            "Precio mínimo:\n",
            "10\n"
          ]
        }
      ]
    },
    {
      "cell_type": "code",
      "source": [
        "print(\"Precio máximo:\")\n",
        "print(precio_maximo)"
      ],
      "metadata": {
        "colab": {
          "base_uri": "https://localhost:8080/"
        },
        "id": "YF5l7jomKift",
        "outputId": "ab1483ea-ec79-4693-a1cc-2b7455dbc9b5"
      },
      "execution_count": 34,
      "outputs": [
        {
          "output_type": "stream",
          "name": "stdout",
          "text": [
            "Precio máximo:\n",
            "35\n"
          ]
        }
      ]
    },
    {
      "cell_type": "markdown",
      "source": [
        " ## **<font color=\"DarkBlue\">Desviación Estándar</font>**"
      ],
      "metadata": {
        "id": "W_PY963SKp7K"
      }
    },
    {
      "cell_type": "markdown",
      "source": [
        "<p align=\"justify\">\n",
        "La desviación estándar de una matriz $ A $ se define como:\n",
        "<br><br>\n",
        "\\[ \\sigma = \\sqrt{\\frac{\\sum_{i=1}^{m} \\sum_{j=1}^{n} (a_{ij} - \\text{Media})^2}{N}} \\]\n",
        "<br>\n",
        "donde \\( \\text{Media} \\) es el promedio de los elementos de la matriz.\n"
      ],
      "metadata": {
        "id": "suo3zN-VKzTS"
      }
    },
    {
      "cell_type": "markdown",
      "source": [
        "![image.png](data:image/png;base64,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)"
      ],
      "metadata": {
        "id": "wV2i0MU7Bvf2"
      }
    },
    {
      "cell_type": "markdown",
      "source": [
        "<p align=\"justify\">\n",
        "👀 En un análisis de datos, queremos calcular la desviación estándar de los ingresos de diferentes sucursales de una empresa."
      ],
      "metadata": {
        "id": "erDCeGglLDVM"
      }
    },
    {
      "cell_type": "code",
      "source": [
        "# Matriz de ingresos por sucursal\n",
        "ingresos = np.array([\n",
        "    [1000, 1500, 2000],\n",
        "    [2500, 3000, 3500]\n",
        "])"
      ],
      "metadata": {
        "id": "y9ZSmzzKLP0F"
      },
      "execution_count": 35,
      "outputs": []
    },
    {
      "cell_type": "code",
      "source": [
        "# Cálculo de la desviación estándar\n",
        "desviacion_estandar = np.std(ingresos)\n",
        "print(\"Desviación estándar de los ingresos:\")\n",
        "print(desviacion_estandar)"
      ],
      "metadata": {
        "colab": {
          "base_uri": "https://localhost:8080/"
        },
        "id": "GaDPz6RiLaKz",
        "outputId": "d6d4311b-4d20-460a-911a-aaef1316f6a3"
      },
      "execution_count": 36,
      "outputs": [
        {
          "output_type": "stream",
          "name": "stdout",
          "text": [
            "Desviación estándar de los ingresos:\n",
            "853.9125638299665\n"
          ]
        }
      ]
    },
    {
      "cell_type": "code",
      "source": [
        "ingresos.mean() # media"
      ],
      "metadata": {
        "colab": {
          "base_uri": "https://localhost:8080/"
        },
        "id": "6jR7-DQIiK0O",
        "outputId": "6fae84d9-cf9d-487e-b3bd-661b66932dac"
      },
      "execution_count": 37,
      "outputs": [
        {
          "output_type": "execute_result",
          "data": {
            "text/plain": [
              "2250.0"
            ]
          },
          "metadata": {},
          "execution_count": 37
        }
      ]
    },
    {
      "cell_type": "code",
      "source": [
        "ingresos.max() # elemento maximo del array"
      ],
      "metadata": {
        "colab": {
          "base_uri": "https://localhost:8080/"
        },
        "id": "NyQLUX3FAZG4",
        "outputId": "69b4a0b2-013e-467a-9125-c1943b3794b9"
      },
      "execution_count": 38,
      "outputs": [
        {
          "output_type": "execute_result",
          "data": {
            "text/plain": [
              "3500"
            ]
          },
          "metadata": {},
          "execution_count": 38
        }
      ]
    },
    {
      "cell_type": "code",
      "source": [
        "ingresos.min() #  elemento minimo del array"
      ],
      "metadata": {
        "colab": {
          "base_uri": "https://localhost:8080/"
        },
        "id": "OWS_P5xoAeqh",
        "outputId": "9a8c340d-1642-46b6-c96a-e119e33dded2"
      },
      "execution_count": 39,
      "outputs": [
        {
          "output_type": "execute_result",
          "data": {
            "text/plain": [
              "1000"
            ]
          },
          "metadata": {},
          "execution_count": 39
        }
      ]
    },
    {
      "cell_type": "code",
      "source": [
        "ingresos.size #tamaño del array"
      ],
      "metadata": {
        "colab": {
          "base_uri": "https://localhost:8080/"
        },
        "id": "I-lA0l7tAjRS",
        "outputId": "4ece99b1-4e83-4712-db3b-2a4c18883768"
      },
      "execution_count": 40,
      "outputs": [
        {
          "output_type": "execute_result",
          "data": {
            "text/plain": [
              "6"
            ]
          },
          "metadata": {},
          "execution_count": 40
        }
      ]
    },
    {
      "cell_type": "code",
      "source": [
        "ingresos.squeeze() #La matriz de entrada"
      ],
      "metadata": {
        "colab": {
          "base_uri": "https://localhost:8080/"
        },
        "id": "zL9YAvtQAn1C",
        "outputId": "e6110afe-1aa9-4be9-e0d6-14a3a3119e6b"
      },
      "execution_count": 41,
      "outputs": [
        {
          "output_type": "execute_result",
          "data": {
            "text/plain": [
              "array([[1000, 1500, 2000],\n",
              "       [2500, 3000, 3500]])"
            ]
          },
          "metadata": {},
          "execution_count": 41
        }
      ]
    },
    {
      "cell_type": "code",
      "source": [
        "ingresos.cumsum() # suma de la matiz acumulada"
      ],
      "metadata": {
        "colab": {
          "base_uri": "https://localhost:8080/"
        },
        "id": "9zLuZttNA-hK",
        "outputId": "feca7c60-5339-446f-943b-728e2901ed10"
      },
      "execution_count": 42,
      "outputs": [
        {
          "output_type": "execute_result",
          "data": {
            "text/plain": [
              "array([ 1000,  2500,  4500,  7000, 10000, 13500])"
            ]
          },
          "metadata": {},
          "execution_count": 42
        }
      ]
    },
    {
      "cell_type": "code",
      "source": [
        "ingresos.std() # desviacion estandar"
      ],
      "metadata": {
        "colab": {
          "base_uri": "https://localhost:8080/"
        },
        "id": "IS42oaJ_Bxa8",
        "outputId": "70d3baaa-ce7c-4cda-c902-941dd7e8dcb9"
      },
      "execution_count": 43,
      "outputs": [
        {
          "output_type": "execute_result",
          "data": {
            "text/plain": [
              "853.9125638299665"
            ]
          },
          "metadata": {},
          "execution_count": 43
        }
      ]
    },
    {
      "cell_type": "code",
      "source": [
        "ingresos.var() # varianza"
      ],
      "metadata": {
        "colab": {
          "base_uri": "https://localhost:8080/"
        },
        "id": "TPfQ8ZwmB4YF",
        "outputId": "2510e6d9-a89d-42fb-8be1-7b330e825f2b"
      },
      "execution_count": 44,
      "outputs": [
        {
          "output_type": "execute_result",
          "data": {
            "text/plain": [
              "729166.6666666666"
            ]
          },
          "metadata": {},
          "execution_count": 44
        }
      ]
    },
    {
      "cell_type": "code",
      "source": [
        "ingresos.sum() # suma de los elementos de la matriz"
      ],
      "metadata": {
        "colab": {
          "base_uri": "https://localhost:8080/"
        },
        "id": "4c44GffeB9Wu",
        "outputId": "d9671f7d-6cde-489c-d189-e2e0d8dfa608"
      },
      "execution_count": 45,
      "outputs": [
        {
          "output_type": "execute_result",
          "data": {
            "text/plain": [
              "13500"
            ]
          },
          "metadata": {},
          "execution_count": 45
        }
      ]
    },
    {
      "cell_type": "code",
      "source": [
        "ingresos"
      ],
      "metadata": {
        "colab": {
          "base_uri": "https://localhost:8080/"
        },
        "id": "Ql5h2P3bCJUf",
        "outputId": "b5a5d667-af08-4df5-f1ea-7b1cb307cff9"
      },
      "execution_count": 46,
      "outputs": [
        {
          "output_type": "execute_result",
          "data": {
            "text/plain": [
              "array([[1000, 1500, 2000],\n",
              "       [2500, 3000, 3500]])"
            ]
          },
          "metadata": {},
          "execution_count": 46
        }
      ]
    },
    {
      "cell_type": "code",
      "source": [
        "ingresos.sum(axis=0) # suma de los elementos de cada columna"
      ],
      "metadata": {
        "colab": {
          "base_uri": "https://localhost:8080/"
        },
        "id": "F9tkitXICDN-",
        "outputId": "b9b64aa5-efc9-4c77-b337-5e79ce9e0e58"
      },
      "execution_count": 47,
      "outputs": [
        {
          "output_type": "execute_result",
          "data": {
            "text/plain": [
              "array([3500, 4500, 5500])"
            ]
          },
          "metadata": {},
          "execution_count": 47
        }
      ]
    },
    {
      "cell_type": "code",
      "source": [
        "ingresos.sum(axis=1) # suma de los elementos de cada fila"
      ],
      "metadata": {
        "colab": {
          "base_uri": "https://localhost:8080/"
        },
        "id": "yNlkYsgQCK_P",
        "outputId": "fe484071-5c8c-41ad-e3d4-706f03d51d5f"
      },
      "execution_count": 48,
      "outputs": [
        {
          "output_type": "execute_result",
          "data": {
            "text/plain": [
              "array([4500, 9000])"
            ]
          },
          "metadata": {},
          "execution_count": 48
        }
      ]
    },
    {
      "cell_type": "code",
      "source": [
        "ingresos.var(axis=0) # varianza de los elementos de cada columna"
      ],
      "metadata": {
        "colab": {
          "base_uri": "https://localhost:8080/"
        },
        "id": "LEoKyCOCB_4v",
        "outputId": "ae4f153f-a03e-44f3-ff57-4662888800bd"
      },
      "execution_count": 49,
      "outputs": [
        {
          "output_type": "execute_result",
          "data": {
            "text/plain": [
              "array([562500., 562500., 562500.])"
            ]
          },
          "metadata": {},
          "execution_count": 49
        }
      ]
    },
    {
      "cell_type": "code",
      "source": [
        "ingresos.var(axis=1) # varianza de los elementos de cada fila"
      ],
      "metadata": {
        "colab": {
          "base_uri": "https://localhost:8080/"
        },
        "id": "fX5xopinCQGL",
        "outputId": "46ccb7c6-cdf8-4752-9a1e-d67762a403f5"
      },
      "execution_count": 50,
      "outputs": [
        {
          "output_type": "execute_result",
          "data": {
            "text/plain": [
              "array([166666.66666667, 166666.66666667])"
            ]
          },
          "metadata": {},
          "execution_count": 50
        }
      ]
    },
    {
      "cell_type": "code",
      "source": [
        "ingresos"
      ],
      "metadata": {
        "colab": {
          "base_uri": "https://localhost:8080/"
        },
        "id": "XqWDu6njChfs",
        "outputId": "7d3a6eb6-ff45-4c97-f8e7-a6781b1d821a"
      },
      "execution_count": 51,
      "outputs": [
        {
          "output_type": "execute_result",
          "data": {
            "text/plain": [
              "array([[1000, 1500, 2000],\n",
              "       [2500, 3000, 3500]])"
            ]
          },
          "metadata": {},
          "execution_count": 51
        }
      ]
    },
    {
      "cell_type": "code",
      "source": [
        "ingresos_flattened = ingresos.flatten()# la matriz de entrada  convierte en una array unidimensional"
      ],
      "metadata": {
        "id": "P9FHCYynCjrt"
      },
      "execution_count": 52,
      "outputs": []
    },
    {
      "cell_type": "code",
      "source": [
        "ingresos_flattened # array unidimensional"
      ],
      "metadata": {
        "colab": {
          "base_uri": "https://localhost:8080/"
        },
        "id": "Q1eEbgmvCp_m",
        "outputId": "26a5aa57-fe10-427b-a414-1af64e609666"
      },
      "execution_count": 53,
      "outputs": [
        {
          "output_type": "execute_result",
          "data": {
            "text/plain": [
              "array([1000, 1500, 2000, 2500, 3000, 3500])"
            ]
          },
          "metadata": {},
          "execution_count": 53
        }
      ]
    },
    {
      "cell_type": "markdown",
      "source": [],
      "metadata": {
        "id": "ZhrmOHvay4UZ"
      }
    },
    {
      "cell_type": "markdown",
      "source": [
        " ## **<font color=\"DarkBlue\">Mediana</font>**"
      ],
      "metadata": {
        "id": "9Fx8eE6oLy-E"
      }
    },
    {
      "cell_type": "markdown",
      "source": [
        "<p align=\"justify\">\n",
        "La mediana de una matriz $ A $ es el valor que separa la mitad superior de la mitad inferior de los datos. Para calcular la mediana, primero se deben ordenar todos los elementos de la matriz. Si el número de elementos $ N $ es impar, la mediana es el valor del elemento central. Si $ N $ es par, la mediana es el promedio de los dos valores centrales:\n",
        "<br><br>\n",
        "$$\\text{Mediana} =\n",
        "\\begin{cases}\n",
        "\\text{Elemento}_{\\frac{N+1}{2}} & \\text{si } N \\text{ es impar} \\\\\n",
        "\\frac{\\text{Elemento}_{\\frac{N}{2}} + \\text{Elemento}_{\\frac{N}{2}+1}}{2} & \\text{si } N \\text{ es par}\n",
        "\\end{cases}\n",
        "$$\n"
      ],
      "metadata": {
        "id": "EXG7a52lL56E"
      }
    },
    {
      "cell_type": "markdown",
      "source": [
        "<p align=\"justify\">\n",
        "👀 Imaginemos que tenemos una matriz de ventas de diferentes productos en distintas regiones y queremos calcular la mediana de las ventas."
      ],
      "metadata": {
        "id": "ZdjTnUboMhPA"
      }
    },
    {
      "cell_type": "markdown",
      "source": [
        "![image.png](data:image/png;base64,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)"
      ],
      "metadata": {
        "id": "FMAiCYoUDLQ6"
      }
    },
    {
      "cell_type": "code",
      "source": [
        "# Matriz de ventas por producto en diferentes regiones\n",
        "ventas = np.array([\n",
        "    [100, 150, 200],\n",
        "    [250, 300, 350]\n",
        "])"
      ],
      "metadata": {
        "id": "hZgP999zMe3t"
      },
      "execution_count": 54,
      "outputs": []
    },
    {
      "cell_type": "code",
      "source": [
        "ventas.mean()"
      ],
      "metadata": {
        "colab": {
          "base_uri": "https://localhost:8080/"
        },
        "id": "oLY6QovBi6I4",
        "outputId": "e9075a18-eaed-4f15-e0ee-4eea29c47bb0"
      },
      "execution_count": 55,
      "outputs": [
        {
          "output_type": "execute_result",
          "data": {
            "text/plain": [
              "225.0"
            ]
          },
          "metadata": {},
          "execution_count": 55
        }
      ]
    },
    {
      "cell_type": "code",
      "source": [
        "# Cálculo de la mediana\n",
        "mediana_ventas = np.median(ventas)\n",
        "print(\"Mediana de las ventas:\")\n",
        "print(mediana_ventas)"
      ],
      "metadata": {
        "colab": {
          "base_uri": "https://localhost:8080/"
        },
        "id": "fs-kLmPyM3PV",
        "outputId": "d0f7f82c-9f4c-436e-95a2-31bf607e6e22"
      },
      "execution_count": 56,
      "outputs": [
        {
          "output_type": "stream",
          "name": "stdout",
          "text": [
            "Mediana de las ventas:\n",
            "225.0\n"
          ]
        }
      ]
    },
    {
      "cell_type": "markdown",
      "source": [
        " ## **<font color=\"DarkBlue\"> La media es la media aritmética de un conjunto de números. La mediana es un valor numérico que separa la mitad superior de un conjunto de la mitad inferior.</font>**"
      ],
      "metadata": {
        "id": "jyIwFTuwjUry"
      }
    },
    {
      "cell_type": "markdown",
      "source": [
        " ## **<font color=\"DarkBlue\">Normalización</font>**"
      ],
      "metadata": {
        "id": "3dm_VwoSNxxk"
      }
    },
    {
      "cell_type": "markdown",
      "source": [
        "<p align=\"justify\">\n",
        "La normalización es el proceso de ajustar los valores de una matriz para que se sitúen en un rango específico, típicamente $[0, 1]$. La normalización se puede definir como:\n",
        "<br><br>\n",
        "$$A_{\\text{norm}} = \\frac{A - \\text{min}(A)}{\\text{max}(A) - \\text{min}(A)} $$\n",
        "<br><br>\n",
        "donde $ A_{\\text{norm}} $ es la matriz normalizada.\n"
      ],
      "metadata": {
        "id": "oXcZBARaN5Ky"
      }
    },
    {
      "cell_type": "markdown",
      "source": [
        "<p align=\"justify\">\n",
        "👀 Supongamos que tenemos una matriz de ingresos por sucursal y queremos normalizar estos datos para compararlos de manera efectiva."
      ],
      "metadata": {
        "id": "xQ2fDY7NOd88"
      }
    },
    {
      "cell_type": "code",
      "source": [
        "# Matriz de ingresos por sucursal\n",
        "ingresos = np.array([\n",
        "    [1000, 1500, 2000],\n",
        "    [2500, 3000, 3500]\n",
        "])"
      ],
      "metadata": {
        "id": "U_ZYQGfwY0nw"
      },
      "execution_count": 57,
      "outputs": []
    },
    {
      "cell_type": "code",
      "source": [
        "ingresos.ndim # dimensiones de la matriz"
      ],
      "metadata": {
        "colab": {
          "base_uri": "https://localhost:8080/"
        },
        "id": "x2kU4l5fkc-L",
        "outputId": "44a060e9-84c2-41e2-9ddd-3effe5e24076"
      },
      "execution_count": 58,
      "outputs": [
        {
          "output_type": "execute_result",
          "data": {
            "text/plain": [
              "2"
            ]
          },
          "metadata": {},
          "execution_count": 58
        }
      ]
    },
    {
      "cell_type": "code",
      "source": [
        "ingresos.shape"
      ],
      "metadata": {
        "colab": {
          "base_uri": "https://localhost:8080/"
        },
        "id": "aJc9ScMukw38",
        "outputId": "58804db3-8371-4056-ce04-1013bd62fc9e"
      },
      "execution_count": 59,
      "outputs": [
        {
          "output_type": "execute_result",
          "data": {
            "text/plain": [
              "(2, 3)"
            ]
          },
          "metadata": {},
          "execution_count": 59
        }
      ]
    },
    {
      "cell_type": "code",
      "source": [
        "# Normalización de la matriz de ingresos\n",
        "ingresos_norm = (ingresos - np.min(ingresos)) / (np.max(ingresos) - np.min(ingresos))\n",
        "print(\"Matriz de ingresos normalizados:\")\n",
        "print(ingresos_norm)"
      ],
      "metadata": {
        "colab": {
          "base_uri": "https://localhost:8080/"
        },
        "id": "6BfdujoPY45u",
        "outputId": "62d71008-0a18-45f2-a340-e42982f144c5"
      },
      "execution_count": 66,
      "outputs": [
        {
          "output_type": "stream",
          "name": "stdout",
          "text": [
            "Matriz de ingresos normalizados:\n",
            "[[0.  0.2 0.4]\n",
            " [0.6 0.8 1. ]]\n"
          ]
        }
      ]
    },
    {
      "cell_type": "code",
      "source": [
        "ingresos"
      ],
      "metadata": {
        "colab": {
          "base_uri": "https://localhost:8080/"
        },
        "id": "kQl2okIxkECX",
        "outputId": "2d304a4e-4e6a-490f-ede1-76dcc632061f"
      },
      "execution_count": 60,
      "outputs": [
        {
          "output_type": "execute_result",
          "data": {
            "text/plain": [
              "array([[1000, 1500, 2000],\n",
              "       [2500, 3000, 3500]])"
            ]
          },
          "metadata": {},
          "execution_count": 60
        }
      ]
    },
    {
      "cell_type": "code",
      "source": [
        "numerador = ingresos - np.min(ingresos)\n",
        "numerador"
      ],
      "metadata": {
        "colab": {
          "base_uri": "https://localhost:8080/"
        },
        "id": "IE_17Vhyj-Xq",
        "outputId": "4366190a-5a5d-46e6-9dae-6af20df72875"
      },
      "execution_count": 61,
      "outputs": [
        {
          "output_type": "execute_result",
          "data": {
            "text/plain": [
              "array([[   0,  500, 1000],\n",
              "       [1500, 2000, 2500]])"
            ]
          },
          "metadata": {},
          "execution_count": 61
        }
      ]
    },
    {
      "cell_type": "code",
      "source": [
        "np.max(ingresos)"
      ],
      "metadata": {
        "colab": {
          "base_uri": "https://localhost:8080/"
        },
        "id": "hlcsLe-CkKlM",
        "outputId": "693c0b00-9fa6-4363-a414-0a393c56c68a"
      },
      "execution_count": 62,
      "outputs": [
        {
          "output_type": "execute_result",
          "data": {
            "text/plain": [
              "3500"
            ]
          },
          "metadata": {},
          "execution_count": 62
        }
      ]
    },
    {
      "cell_type": "code",
      "source": [
        "np.min(ingresos)"
      ],
      "metadata": {
        "colab": {
          "base_uri": "https://localhost:8080/"
        },
        "id": "jEb-RgRAkF6Z",
        "outputId": "bf25ba55-6ee3-4188-b170-472a8f00ac32"
      },
      "execution_count": 63,
      "outputs": [
        {
          "output_type": "execute_result",
          "data": {
            "text/plain": [
              "1000"
            ]
          },
          "metadata": {},
          "execution_count": 63
        }
      ]
    },
    {
      "cell_type": "code",
      "source": [
        "denominador = (np.max(ingresos) - np.min(ingresos))\n",
        "denominador"
      ],
      "metadata": {
        "colab": {
          "base_uri": "https://localhost:8080/"
        },
        "id": "Nxt-P2DCEFy0",
        "outputId": "e4ae615d-4c2e-4e5a-d0d4-58693b7c72a7"
      },
      "execution_count": 64,
      "outputs": [
        {
          "output_type": "execute_result",
          "data": {
            "text/plain": [
              "2500"
            ]
          },
          "metadata": {},
          "execution_count": 64
        }
      ]
    },
    {
      "cell_type": "code",
      "source": [
        "ingresos_norm"
      ],
      "metadata": {
        "colab": {
          "base_uri": "https://localhost:8080/"
        },
        "id": "Jy433DEVkX-L",
        "outputId": "70c269c7-8408-4290-87ec-9421d166dce1"
      },
      "execution_count": 67,
      "outputs": [
        {
          "output_type": "execute_result",
          "data": {
            "text/plain": [
              "array([[0. , 0.2, 0.4],\n",
              "       [0.6, 0.8, 1. ]])"
            ]
          },
          "metadata": {},
          "execution_count": 67
        }
      ]
    },
    {
      "cell_type": "markdown",
      "source": [
        " # **<font color=\"DarkBlue\">Normalizacion con libreria https://scikit-learn.org/stable/</font>**"
      ],
      "metadata": {
        "id": "rBoAe0Q1l3IE"
      }
    },
    {
      "cell_type": "code",
      "source": [
        "from sklearn.preprocessing import normalize # sklearn normalizar Biblioteca de algoritmos"
      ],
      "metadata": {
        "id": "GNDCarxAlUa9"
      },
      "execution_count": 68,
      "outputs": []
    },
    {
      "cell_type": "code",
      "source": [
        "matrix_norm = normalize(ingresos) # normalizar"
      ],
      "metadata": {
        "id": "8oYYNwnAk0au"
      },
      "execution_count": 71,
      "outputs": []
    },
    {
      "cell_type": "code",
      "source": [
        "ingresos"
      ],
      "metadata": {
        "colab": {
          "base_uri": "https://localhost:8080/"
        },
        "id": "7ueaMNKCPwGH",
        "outputId": "437d1fcd-66b1-43eb-bb08-d650d34da926"
      },
      "execution_count": 75,
      "outputs": [
        {
          "output_type": "execute_result",
          "data": {
            "text/plain": [
              "array([[1000, 1500, 2000],\n",
              "       [2500, 3000, 3500]])"
            ]
          },
          "metadata": {},
          "execution_count": 75
        }
      ]
    },
    {
      "cell_type": "code",
      "source": [
        "matrix_norm"
      ],
      "metadata": {
        "colab": {
          "base_uri": "https://localhost:8080/"
        },
        "id": "ZME8cY5olhZU",
        "outputId": "e3bdc8b4-bdd4-46dd-be31-04d0e9f6e8d9"
      },
      "execution_count": 74,
      "outputs": [
        {
          "output_type": "execute_result",
          "data": {
            "text/plain": [
              "array([[0.37139068, 0.55708601, 0.74278135],\n",
              "       [0.47673129, 0.57207755, 0.66742381]])"
            ]
          },
          "metadata": {},
          "execution_count": 74
        }
      ]
    },
    {
      "cell_type": "markdown",
      "source": [
        " ## **<font color=\"DarkBlue\"> la normalización de índices significa ajustar los valores medidos en diferentes escalas respecto a una escala común, a menudo previo a un proceso de realizar promedios.</font>**"
      ],
      "metadata": {
        "id": "mpvpcr_9jvLr"
      }
    },
    {
      "cell_type": "markdown",
      "source": [
        " # **<font color=\"DarkBlue\">Operaciones de Comparación</font>**"
      ],
      "metadata": {
        "id": "BUj6G3l5b481"
      }
    },
    {
      "cell_type": "markdown",
      "source": [
        "<p align=\"justify\">\n",
        "Las operaciones de comparación permiten evaluar elementos de una matriz con respecto a condiciones específicas y obtener matrices booleanas como resultado. Estas operaciones son fundamentales para el análisis de datos y la toma de decisiones basada en criterios específicos.\n"
      ],
      "metadata": {
        "id": "VF4-_5d1b-_J"
      }
    },
    {
      "cell_type": "markdown",
      "source": [
        " ## **<font color=\"DarkBlue\">Igualdad</font>**"
      ],
      "metadata": {
        "id": "26X0mfrqcAAE"
      }
    },
    {
      "cell_type": "markdown",
      "source": [
        "<p align=\"justify\">\n",
        "La operación de igualdad compara cada elemento de una matriz $ A $ con un valor escalar $ k $ o con los elementos de otra matriz $ B $ del mismo tamaño y devuelve una matriz booleana $ C $, donde cada elemento $ c_{ij} $ es True si $ a_{ij} = k $ o $ a_{ij} = b_{ij} $, y False en caso contrario:\n",
        "<br><br>\n",
        "\\[ C = (A == k) \\quad \\text{o} \\quad C = (A == B) \\]\n"
      ],
      "metadata": {
        "id": "huzK4DgEdKC4"
      }
    },
    {
      "cell_type": "markdown",
      "source": [
        "<p align=\"justify\">\n",
        "👀 Supongamos que una empresa quiere identificar las sucursales que alcanzaron una venta específica."
      ],
      "metadata": {
        "id": "Rw3CGAXc29To"
      }
    },
    {
      "cell_type": "code",
      "source": [
        "# Matriz de ventas por sucursal\n",
        "ventas = np.array([\n",
        "    [1000, 2000, 3000],\n",
        "    [4000, 5000, 6000]\n",
        "])"
      ],
      "metadata": {
        "id": "xzCjfGEp21Xv"
      },
      "execution_count": 76,
      "outputs": []
    },
    {
      "cell_type": "code",
      "source": [
        "# Valor específico de ventas a comparar\n",
        "meta_ventas = 3000"
      ],
      "metadata": {
        "id": "5YaXpte53JZ-"
      },
      "execution_count": 77,
      "outputs": []
    },
    {
      "cell_type": "code",
      "source": [
        "# Comparación de igualdad\n",
        "igual_a_meta = (ventas == meta_ventas)\n",
        "print(\"Sucursales que alcanzaron la meta de ventas:\")\n",
        "print(igual_a_meta)"
      ],
      "metadata": {
        "colab": {
          "base_uri": "https://localhost:8080/"
        },
        "id": "8SM_NSG73LR_",
        "outputId": "711d0d3d-6a81-4b15-ce25-9df209f493f9"
      },
      "execution_count": 78,
      "outputs": [
        {
          "output_type": "stream",
          "name": "stdout",
          "text": [
            "Sucursales que alcanzaron la meta de ventas:\n",
            "[[False False  True]\n",
            " [False False False]]\n"
          ]
        }
      ]
    },
    {
      "cell_type": "markdown",
      "source": [
        " ## **<font color=\"DarkBlue\">Desigualdad</font>**"
      ],
      "metadata": {
        "id": "rUOu5ITXdKtQ"
      }
    },
    {
      "cell_type": "markdown",
      "source": [
        "<p align=\"justify\">\n",
        "La operación de desigualdad compara cada elemento de una matriz $ A $ con un valor escalar $ k $ o con los elementos de otra matriz $ B $ del mismo tamaño y devuelve una matriz booleana $ C $, donde cada elemento $ c_{ij} $ es True si $ a_{ij} \\neq k $ o $ a_{ij} \\neq b_{ij} $, y False en caso contrario:\n",
        "<br><br>\n",
        "\\[ C = (A \\neq k) \\quad \\text{o} \\quad C = (A \\neq B) \\]\n"
      ],
      "metadata": {
        "id": "Zf59KNmcdOBS"
      }
    },
    {
      "cell_type": "markdown",
      "source": [
        " ## **<font color=\"DarkBlue\">Mayor que</font>**"
      ],
      "metadata": {
        "id": "Gwa02maWdO1t"
      }
    },
    {
      "cell_type": "markdown",
      "source": [
        "<p align=\"justify\">\n",
        "La operación mayor que compara cada elemento de una matriz $ A $ con un valor escalar $ k $ o con los elementos de otra matriz $ B $ del mismo tamaño y devuelve una matriz booleana $ C $, donde cada elemento $ c_{ij} $ es True si $ a_{ij} > k $ o $ a_{ij} > b_{ij} $, y False en caso contrario:\n",
        "<br><br>\n",
        "\\[ C = (A > k) \\quad \\text{o} \\quad C = (A > B) \\]\n"
      ],
      "metadata": {
        "id": "laewn8QidclP"
      }
    },
    {
      "cell_type": "markdown",
      "source": [
        "<p align=\"justify\">\n",
        "👀 Imaginemos que queremos identificar las sucursales que tuvieron ventas superiores a un determinado valor."
      ],
      "metadata": {
        "id": "fjuLT66Y4bl0"
      }
    },
    {
      "cell_type": "code",
      "source": [
        "# Matriz de ventas por sucursal\n",
        "ventas = np.array([\n",
        "    [1000, 2000, 3000],\n",
        "    [4000, 5000, 6000]\n",
        "])"
      ],
      "metadata": {
        "id": "qFaxUlVy4cuu"
      },
      "execution_count": 79,
      "outputs": []
    },
    {
      "cell_type": "code",
      "source": [
        "# Valor de comparación\n",
        "umbral_ventas = 3500"
      ],
      "metadata": {
        "id": "B-FfNC3M4r-l"
      },
      "execution_count": 80,
      "outputs": []
    },
    {
      "cell_type": "code",
      "source": [
        "# Comparación mayor que\n",
        "mayor_que_umbral = (ventas > umbral_ventas)\n",
        "print(\"Sucursales con ventas superiores al umbral:\")\n",
        "print(mayor_que_umbral)"
      ],
      "metadata": {
        "colab": {
          "base_uri": "https://localhost:8080/"
        },
        "id": "-zrwECUU4trw",
        "outputId": "2b6fb639-144a-4722-8484-fbee93f498c2"
      },
      "execution_count": 81,
      "outputs": [
        {
          "output_type": "stream",
          "name": "stdout",
          "text": [
            "Sucursales con ventas superiores al umbral:\n",
            "[[False False False]\n",
            " [ True  True  True]]\n"
          ]
        }
      ]
    },
    {
      "cell_type": "markdown",
      "source": [
        " ## **<font color=\"DarkBlue\">Mayor o igual que</font>**"
      ],
      "metadata": {
        "id": "NFQEd-guhY6Q"
      }
    },
    {
      "cell_type": "markdown",
      "source": [
        "<p align=\"justify\">\n",
        "La operación mayor o igual que compara cada elemento de una matriz $ A $ con un valor escalar $ k $ o con los elementos de otra matriz $ B $ del mismo tamaño y devuelve una matriz booleana $ C $, donde cada elemento $ c_{ij} $ es True si $ a_{ij} \\ge k $ o $ a_{ij} \\ge b_{ij} $, y False en caso contrario:\n",
        "<br><br>\n",
        "\\[ C = (A \\ge k) \\quad \\text{o} \\quad C = (A \\ge B) \\]\n"
      ],
      "metadata": {
        "id": "lbO7Nl3yhcJ5"
      }
    },
    {
      "cell_type": "markdown",
      "source": [
        "<p align=\"justify\">\n",
        "👀 Imaginemos que queremos identificar las sucursales que tuvieron ingresos mayores o iguales a un valor específico."
      ],
      "metadata": {
        "id": "aHZ1z6qv7ba4"
      }
    },
    {
      "cell_type": "code",
      "source": [
        "# Matriz de ingresos por sucursal\n",
        "ingresos = np.array([\n",
        "    [5000, 7000, 10000],\n",
        "    [11000, 13000, 15000]\n",
        "])"
      ],
      "metadata": {
        "id": "sgy41epZ7sdl"
      },
      "execution_count": 82,
      "outputs": []
    },
    {
      "cell_type": "code",
      "source": [
        "# Valor de comparación\n",
        "umbral_ingresos = 10000"
      ],
      "metadata": {
        "id": "aX_ICHrI7zYe"
      },
      "execution_count": 83,
      "outputs": []
    },
    {
      "cell_type": "code",
      "source": [
        "# Comparación mayor o igual que\n",
        "mayor_igual_umbral = (ingresos >= umbral_ingresos)\n",
        "print(\"Sucursales con ingresos mayores o iguales al umbral:\")\n",
        "print(mayor_igual_umbral)"
      ],
      "metadata": {
        "colab": {
          "base_uri": "https://localhost:8080/"
        },
        "id": "5SWTUAIl71Yw",
        "outputId": "513bff26-a12a-46d3-9c8b-b033e933ddd9"
      },
      "execution_count": 84,
      "outputs": [
        {
          "output_type": "stream",
          "name": "stdout",
          "text": [
            "Sucursales con ingresos mayores o iguales al umbral:\n",
            "[[False False  True]\n",
            " [ True  True  True]]\n"
          ]
        }
      ]
    },
    {
      "cell_type": "markdown",
      "source": [
        " ## **<font color=\"DarkBlue\">Menor que</font>**"
      ],
      "metadata": {
        "id": "7FEJbqTkddts"
      }
    },
    {
      "cell_type": "markdown",
      "source": [
        "<p align=\"justify\">\n",
        "La operación menor que compara cada elemento de una matriz $ A $ con un valor escalar $ k $ o con los elementos de otra matriz $ B $ del mismo tamaño y devuelve una matriz booleana $ C $, donde cada elemento $ c_{ij} $ es True si $ a_{ij} < k $ o $ a_{ij} < b_{ij} $, y False en caso contrario:\n",
        "<br><br>\n",
        "\\[ C = (A < k) \\quad \\text{o} \\quad C = (A < B) \\]\n"
      ],
      "metadata": {
        "id": "U1WhzhTedhZg"
      }
    },
    {
      "cell_type": "markdown",
      "source": [
        "<p align=\"justify\">\n",
        "👀 Supongamos que queremos identificar las sucursales que tuvieron costos menores que un determinado valor."
      ],
      "metadata": {
        "id": "6DOIN2gG8YIl"
      }
    },
    {
      "cell_type": "code",
      "source": [
        "# Matriz de costos por sucursal\n",
        "costos = np.array([\n",
        "    [800, 1600, 2400],\n",
        "    [3200, 4000, 4800]\n",
        "])"
      ],
      "metadata": {
        "id": "vs0lA8T68_py"
      },
      "execution_count": 85,
      "outputs": []
    },
    {
      "cell_type": "code",
      "source": [
        "# Valor de comparación\n",
        "umbral_costos = 2500"
      ],
      "metadata": {
        "id": "P1ITBLYk9Fkg"
      },
      "execution_count": 86,
      "outputs": []
    },
    {
      "cell_type": "code",
      "source": [
        "# Comparación menor que\n",
        "menor_que_umbral = (costos < umbral_costos)\n",
        "print(\"Sucursales con costos menores que el umbral:\")\n",
        "print(menor_que_umbral)"
      ],
      "metadata": {
        "colab": {
          "base_uri": "https://localhost:8080/"
        },
        "id": "2VA4euKc9HVi",
        "outputId": "1e07432d-ee69-4406-f43e-027686677340"
      },
      "execution_count": null,
      "outputs": [
        {
          "output_type": "stream",
          "name": "stdout",
          "text": [
            "Sucursales con costos menores que el umbral:\n",
            "[[ True  True  True]\n",
            " [False False False]]\n"
          ]
        }
      ]
    },
    {
      "cell_type": "markdown",
      "source": [
        " ## **<font color=\"DarkBlue\">Menor o igual que</font>**"
      ],
      "metadata": {
        "id": "y_qkTwu_didx"
      }
    },
    {
      "cell_type": "markdown",
      "source": [
        "<p align=\"justify\">\n",
        "La operación menor o igual que compara cada elemento de una matriz $ A $ con un valor escalar $ k $ o con los elementos de otra matriz $ B $ del mismo tamaño y devuelve una matriz booleana $ C $, donde cada elemento $ c_{ij} $ es True si $ a_{ij} \\le k $ o $ a_{ij} \\le b_{ij} $, y False en caso contrario:\n",
        "<br><br>\n",
        "\\[ C = (A \\le k) \\quad \\text{o} \\quad C = (A \\le B) \\]\n"
      ],
      "metadata": {
        "id": "tZIc-TRphiUh"
      }
    },
    {
      "cell_type": "markdown",
      "source": [
        "<p align=\"justify\">\n",
        "👀 Supongamos que queremos identificar las sucursales que tuvieron gastos menores o iguales a un determinado valor."
      ],
      "metadata": {
        "id": "51TAZup99mFd"
      }
    },
    {
      "cell_type": "code",
      "source": [
        "# Matriz de gastos por sucursal\n",
        "gastos = np.array([\n",
        "    [1000, 2000, 3000],\n",
        "    [4500, 5000, 6000]\n",
        "])"
      ],
      "metadata": {
        "id": "6PpTp4d79zLt"
      },
      "execution_count": 87,
      "outputs": []
    },
    {
      "cell_type": "code",
      "source": [
        "# Valor de comparación\n",
        "umbral_gastos = 4500"
      ],
      "metadata": {
        "id": "dVa3zh3j91PS"
      },
      "execution_count": 88,
      "outputs": []
    },
    {
      "cell_type": "code",
      "source": [
        "# Comparación menor o igual que\n",
        "menor_igual_umbral = (gastos <= umbral_gastos)\n",
        "print(\"Sucursales con gastos menores o iguales al umbral:\")\n",
        "print(menor_igual_umbral)"
      ],
      "metadata": {
        "colab": {
          "base_uri": "https://localhost:8080/"
        },
        "id": "V0Lxryab93AE",
        "outputId": "0b4b3f47-8581-43cc-d45e-edca444ff469"
      },
      "execution_count": 89,
      "outputs": [
        {
          "output_type": "stream",
          "name": "stdout",
          "text": [
            "Sucursales con gastos menores o iguales al umbral:\n",
            "[[ True  True  True]\n",
            " [ True False False]]\n"
          ]
        }
      ]
    },
    {
      "cell_type": "markdown",
      "source": [
        " # **<font color=\"DarkBlue\">Operaciones de Transformación de Datos</font>**"
      ],
      "metadata": {
        "id": "qrcZpqRPFWYd"
      }
    },
    {
      "cell_type": "markdown",
      "source": [
        "<p align=\"justify\">\n",
        "Las operaciones de transformación de datos permiten cambiar la estructura y forma de una matriz sin alterar sus datos. Estas operaciones son esenciales para preparar los datos para análisis y procesamiento.\n"
      ],
      "metadata": {
        "id": "iiNc0xpvFfxk"
      }
    },
    {
      "cell_type": "markdown",
      "source": [
        " ## **<font color=\"DarkBlue\">Reshape</font>**"
      ],
      "metadata": {
        "id": "PbD_Ml63Hc-G"
      }
    },
    {
      "cell_type": "markdown",
      "source": [
        "<p align=\"justify\">\n",
        "La operación <code>reshape</code> permite cambiar la forma de una matriz a una nueva forma especificada sin alterar los datos. La nueva forma debe tener el mismo número de elementos que la matriz original.\n",
        "<br><br>\n",
        "Si $ A $ es una matriz de dimensiones $ m \\times n $, se puede transformar en una matriz de dimensiones $ p \\times q $ siempre que $ m \\cdot n = p \\cdot q $\n"
      ],
      "metadata": {
        "id": "m5N2TbCyH_L0"
      }
    },
    {
      "cell_type": "markdown",
      "source": [
        "<p align=\"justify\">\n",
        "👀 Supongamos que tenemos una matriz que representa las ventas trimestrales de varios productos en diferentes regiones, y queremos transformar esta matriz para analizar las ventas por producto en todas las regiones y trimestres."
      ],
      "metadata": {
        "id": "DTX1cngnIRAr"
      }
    },
    {
      "cell_type": "code",
      "source": [
        "# Matriz de ventas trimestrales por producto y región\n",
        "ventas_trimestrales = np.array([\n",
        "    [100, 150, 200, 250],\n",
        "    [300, 350, 400, 450],\n",
        "    [500, 550, 600, 650]\n",
        "])"
      ],
      "metadata": {
        "id": "WTj7EpVzIRpt"
      },
      "execution_count": 90,
      "outputs": []
    },
    {
      "cell_type": "code",
      "source": [
        "ventas_trimestrales.shape"
      ],
      "metadata": {
        "colab": {
          "base_uri": "https://localhost:8080/"
        },
        "id": "VgIMgi2Stkdv",
        "outputId": "283729e2-5d27-4a67-dc39-09c443b40960"
      },
      "execution_count": 91,
      "outputs": [
        {
          "output_type": "execute_result",
          "data": {
            "text/plain": [
              "(3, 4)"
            ]
          },
          "metadata": {},
          "execution_count": 91
        }
      ]
    },
    {
      "cell_type": "code",
      "source": [
        "# Reshape para analizar ventas por producto\n",
        "ventas_reshaped = ventas_trimestrales.reshape(6, 2)\n",
        "print(\"Ventas trimestrales transformadas:\")\n",
        "print(ventas_reshaped)"
      ],
      "metadata": {
        "colab": {
          "base_uri": "https://localhost:8080/"
        },
        "id": "l9RIphEMIkTH",
        "outputId": "afe9a662-b9f9-4055-bc16-3bcf99f2bf07"
      },
      "execution_count": 92,
      "outputs": [
        {
          "output_type": "stream",
          "name": "stdout",
          "text": [
            "Ventas trimestrales transformadas:\n",
            "[[100 150]\n",
            " [200 250]\n",
            " [300 350]\n",
            " [400 450]\n",
            " [500 550]\n",
            " [600 650]]\n"
          ]
        }
      ]
    },
    {
      "cell_type": "code",
      "source": [
        "ventas_reshaped.shape"
      ],
      "metadata": {
        "colab": {
          "base_uri": "https://localhost:8080/"
        },
        "id": "HxsJ2s0i0G8w",
        "outputId": "f4697529-f32c-49c0-ad8c-94a6f709abd0"
      },
      "execution_count": 94,
      "outputs": [
        {
          "output_type": "execute_result",
          "data": {
            "text/plain": [
              "(6, 2)"
            ]
          },
          "metadata": {},
          "execution_count": 94
        }
      ]
    },
    {
      "cell_type": "markdown",
      "source": [
        " ## **<font color=\"DarkBlue\">Flatten</font>**"
      ],
      "metadata": {
        "id": "omjMaRn2JDNn"
      }
    },
    {
      "cell_type": "markdown",
      "source": [
        "<p align=\"justify\">\n",
        "La operación <code>flatten</code> convierte una matriz multidimensional en un vector unidimensional, manteniendo el orden de los elementos."
      ],
      "metadata": {
        "id": "D1dmJHRtJGLK"
      }
    },
    {
      "cell_type": "markdown",
      "source": [
        "<p align=\"justify\">\n",
        "👀 Imaginemos que queremos convertir una matriz de ingresos mensuales por sucursal en un vector unidimensional para aplicar una función de análisis."
      ],
      "metadata": {
        "id": "b9WqY_cbJagO"
      }
    },
    {
      "cell_type": "code",
      "source": [
        "# Matriz de ingresos mensuales por sucursal\n",
        "ingresos_mensuales = np.array([\n",
        "    [1000, 1500, 2000],\n",
        "    [2500, 3000, 3500]\n",
        "])"
      ],
      "metadata": {
        "id": "CDJp5bRAJh-T"
      },
      "execution_count": 95,
      "outputs": []
    },
    {
      "cell_type": "code",
      "source": [
        "# Flatten para convertir a vector unidimensional\n",
        "ingresos_flattened = ingresos_mensuales.flatten()\n",
        "print(\"Ingresos mensuales a vector unidimensional:\")\n",
        "print(ingresos_flattened)"
      ],
      "metadata": {
        "colab": {
          "base_uri": "https://localhost:8080/"
        },
        "id": "I-C280Z-JnpL",
        "outputId": "0d657f65-0fbb-48ff-9d93-004e823f7ae8"
      },
      "execution_count": 96,
      "outputs": [
        {
          "output_type": "stream",
          "name": "stdout",
          "text": [
            "Ingresos mensuales a vector unidimensional:\n",
            "[1000 1500 2000 2500 3000 3500]\n"
          ]
        }
      ]
    },
    {
      "cell_type": "markdown",
      "source": [
        "## Valor semilla"
      ],
      "metadata": {
        "id": "U6qh75Qw2pDp"
      }
    },
    {
      "cell_type": "code",
      "source": [
        "np.random.seed(72) # establecimiento del valor semilla\n",
        "azar = np.random.rand(10) # Uso random.rand para generar 10 valores aleatorios entre 0 y 1\n",
        "azar"
      ],
      "metadata": {
        "colab": {
          "base_uri": "https://localhost:8080/"
        },
        "id": "DjJoli-l2sP5",
        "outputId": "a25087b1-5a03-43cc-c3ac-79d36a3357f4"
      },
      "execution_count": 103,
      "outputs": [
        {
          "output_type": "execute_result",
          "data": {
            "text/plain": [
              "array([0.1067382 , 0.68434263, 0.53496262, 0.36918708, 0.41261464,\n",
              "       0.58784748, 0.71607379, 0.17333404, 0.06674229, 0.50067887])"
            ]
          },
          "metadata": {},
          "execution_count": 103
        }
      ]
    },
    {
      "cell_type": "code",
      "source": [
        "azar"
      ],
      "metadata": {
        "colab": {
          "base_uri": "https://localhost:8080/"
        },
        "id": "C53c56V03Tx2",
        "outputId": "46c5fbc2-fb97-4a77-cbfe-f25156ec3479"
      },
      "execution_count": 104,
      "outputs": [
        {
          "output_type": "execute_result",
          "data": {
            "text/plain": [
              "array([0.1067382 , 0.68434263, 0.53496262, 0.36918708, 0.41261464,\n",
              "       0.58784748, 0.71607379, 0.17333404, 0.06674229, 0.50067887])"
            ]
          },
          "metadata": {},
          "execution_count": 104
        }
      ]
    },
    {
      "cell_type": "markdown",
      "source": [
        "<br>\n",
        "<br>\n",
        "<p align=\"center\"><b>\n",
        "💗\n",
        "<font color=\"DarkBlue\">\n",
        "Hemos llegado al final de nuestro colab, a seguir codeando en NumPy...\n",
        "</font>\n",
        "</p>\n"
      ],
      "metadata": {
        "id": "rrDMEhW6Vq2a"
      }
    }
  ]
}