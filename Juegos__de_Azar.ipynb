{
  "cells": [
    {
      "cell_type": "markdown",
      "metadata": {
        "id": "_QJgpNhRQeUC"
      },
      "source": [
        "##Carga de Librerias"
      ]
    },
    {
      "cell_type": "code",
      "execution_count": 1,
      "metadata": {
        "id": "-rb2HGkRQbt2"
      },
      "outputs": [],
      "source": [
        "import numpy as np\n",
        "import pandas as pd"
      ]
    },
    {
      "cell_type": "markdown",
      "source": [
        "##Version de python"
      ],
      "metadata": {
        "id": "A5mligBSh6rI"
      }
    },
    {
      "cell_type": "code",
      "execution_count": 2,
      "metadata": {
        "colab": {
          "base_uri": "https://localhost:8080/"
        },
        "id": "oBbU9-wfQ6Zo",
        "outputId": "caf0f937-8eab-4e87-fdeb-220b2d8210c3"
      },
      "outputs": [
        {
          "output_type": "stream",
          "name": "stdout",
          "text": [
            "Python 3.10.12\n"
          ]
        }
      ],
      "source": [
        "!python --version"
      ]
    },
    {
      "cell_type": "markdown",
      "source": [
        "##Carga de libreria random de numpy"
      ],
      "metadata": {
        "id": "8l7TAB7fiDRB"
      }
    },
    {
      "cell_type": "code",
      "execution_count": 3,
      "metadata": {
        "id": "tz60KHXjRCNG"
      },
      "outputs": [],
      "source": [
        "import random as rd # la libreria random genera datos aleatorios"
      ]
    },
    {
      "cell_type": "markdown",
      "source": [
        "##Loto5 es un juego donde se juegan 5 numeros del 0 al 36"
      ],
      "metadata": {
        "id": "q9jq2NMTiOYD"
      }
    },
    {
      "cell_type": "code",
      "execution_count": 5,
      "metadata": {
        "colab": {
          "base_uri": "https://localhost:8080/"
        },
        "id": "7I_RYjVJXRw-",
        "outputId": "0f464fe3-51cb-4538-bd16-eb33d90a204d"
      },
      "outputs": [
        {
          "output_type": "stream",
          "name": "stdout",
          "text": [
            "[0, 11, 14, 31, 32]\n"
          ]
        }
      ],
      "source": [
        "import random  #### loto 5\n",
        "def unico(x,L):\n",
        "  esUnico=True\n",
        "  for i in range(len(L)):\n",
        "    if x==L[i]:\n",
        "      esUnico=False\n",
        "      break\n",
        "  return esUnico\n",
        "L=[]\n",
        "j=0\n",
        "while j<5:\n",
        "  x=random.randint(0,36)\n",
        "  if unico(x,L):\n",
        "    L.append(x)\n",
        "    j+=1\n",
        "\n",
        "L.sort()\n",
        "print(L)"
      ]
    },
    {
      "cell_type": "markdown",
      "source": [
        "##Lotoplus es un juego donde se juegan 6 numeros y una clave, en base a numeros  del 0 al 36"
      ],
      "metadata": {
        "id": "2sL2GsaxiZ4t"
      }
    },
    {
      "cell_type": "code",
      "execution_count": null,
      "metadata": {
        "colab": {
          "base_uri": "https://localhost:8080/"
        },
        "id": "2gNIk7LPikHg",
        "outputId": "510996ac-f522-4887-8a72-f4875cd19e3e"
      },
      "outputs": [
        {
          "output_type": "stream",
          "name": "stdout",
          "text": [
            "[3, 4, 10, 32, 40, 45]\n"
          ]
        }
      ],
      "source": [
        "# lotoplus\n",
        "import random  ####\n",
        "def unico(x,L):\n",
        "  esUnico=True\n",
        "  for i in range(len(L)):\n",
        "    if x==L[i]:\n",
        "      esUnico=False\n",
        "      break\n",
        "  return esUnico\n",
        "L=[]\n",
        "j=0\n",
        "while j<6:\n",
        "  x=random.randint(0,45)\n",
        "  if unico(x,L):\n",
        "    L.append(x)\n",
        "    j+=1\n",
        "\n",
        "L.sort()\n",
        "print(L)\n",
        "\n"
      ]
    },
    {
      "cell_type": "markdown",
      "source": [
        "##La clave del Lotoplus son numeros del 0 al 9"
      ],
      "metadata": {
        "id": "EMsExVF7ipWf"
      }
    },
    {
      "cell_type": "code",
      "execution_count": 6,
      "metadata": {
        "colab": {
          "base_uri": "https://localhost:8080/"
        },
        "id": "36xnHhwBi-3K",
        "outputId": "b6a8aa9f-a50a-4067-a281-303725fffbd1"
      },
      "outputs": [
        {
          "output_type": "stream",
          "name": "stdout",
          "text": [
            "[1]\n"
          ]
        }
      ],
      "source": [
        "# loto plus numero plus\n",
        "import random  #### loto\n",
        "def unico(x,L):\n",
        "  esUnico=True\n",
        "  for i in range(len(L)):\n",
        "    if x==L[i]:\n",
        "      esUnico=False\n",
        "      break\n",
        "  return esUnico\n",
        "L=[]\n",
        "j=0\n",
        "while j<1:\n",
        "  x=random.randint(0,9)\n",
        "  if unico(x,L):\n",
        "    L.append(x)\n",
        "    j+=1\n",
        "\n",
        "L.sort()\n",
        "print(L)"
      ]
    },
    {
      "cell_type": "markdown",
      "source": [
        "## La loteria poceada es un juego de 8 numeros del 0 al 99"
      ],
      "metadata": {
        "id": "AmPAC9mRi3LP"
      }
    },
    {
      "cell_type": "code",
      "execution_count": null,
      "metadata": {
        "colab": {
          "base_uri": "https://localhost:8080/"
        },
        "id": "cQKzvj24X3mu",
        "outputId": "afe4bb7b-45e7-4608-c20d-d6eebf06590f"
      },
      "outputs": [
        {
          "output_type": "stream",
          "name": "stdout",
          "text": [
            "[4, 19, 47, 60, 65, 67, 82, 96]\n"
          ]
        }
      ],
      "source": [
        "import random  #### poceada\n",
        "def unico(x,L):\n",
        "  esUnico=True\n",
        "  for i in range(len(L)):\n",
        "    if x==L[i]:\n",
        "      esUnico=False\n",
        "      break\n",
        "  return esUnico\n",
        "L=[]\n",
        "j=0\n",
        "while j<8:\n",
        "  x=random.randint(0,99)\n",
        "  if unico(x,L):\n",
        "    L.append(x)\n",
        "    j+=1\n",
        "\n",
        "L.sort()\n",
        "print(L)"
      ]
    },
    {
      "cell_type": "markdown",
      "source": [
        "## El brinco  es un juego de 6 numeros del 0 al 39"
      ],
      "metadata": {
        "id": "ohKZ3RnjjEIc"
      }
    },
    {
      "cell_type": "code",
      "execution_count": 7,
      "metadata": {
        "colab": {
          "base_uri": "https://localhost:8080/"
        },
        "id": "q-y1SdMLYHrh",
        "outputId": "0de5d6d6-53c6-47e0-da54-556db15a99a0"
      },
      "outputs": [
        {
          "output_type": "stream",
          "name": "stdout",
          "text": [
            "[0, 19, 27, 34, 35, 37]\n"
          ]
        }
      ],
      "source": [
        "import random  #### brinco\n",
        "def unico(x,L):\n",
        "  esUnico=True\n",
        "  for i in range(len(L)):\n",
        "    if x==L[i]:\n",
        "      esUnico=False\n",
        "      break\n",
        "  return esUnico\n",
        "L=[]\n",
        "j=0\n",
        "while j<6:\n",
        "  x=random.randint(0,39)\n",
        "  if unico(x,L):\n",
        "    L.append(x)\n",
        "    j+=1\n",
        "\n",
        "L.sort()\n",
        "print(L)"
      ]
    },
    {
      "cell_type": "markdown",
      "source": [
        "## El Quini6  es un juego de 6 numeros del 0 al 45"
      ],
      "metadata": {
        "id": "owmQyK2ujMSz"
      }
    },
    {
      "cell_type": "code",
      "execution_count": null,
      "metadata": {
        "colab": {
          "base_uri": "https://localhost:8080/"
        },
        "id": "UAsYHKfEYT_3",
        "outputId": "a7959cad-5afc-4fa2-a32d-ec8e3474967a"
      },
      "outputs": [
        {
          "output_type": "stream",
          "name": "stdout",
          "text": [
            "[5, 10, 18, 27, 44, 45]\n"
          ]
        }
      ],
      "source": [
        "import random  #### quini6\n",
        "def unico(x,L):\n",
        "  esUnico=True\n",
        "  for i in range(len(L)):\n",
        "    if x==L[i]:\n",
        "      esUnico=False\n",
        "      break\n",
        "  return esUnico\n",
        "L=[]\n",
        "j=0\n",
        "while j<6:\n",
        "  x=random.randint(0,45)\n",
        "  if unico(x,L):\n",
        "    L.append(x)\n",
        "    j+=1\n",
        "\n",
        "L.sort()\n",
        "print(L)"
      ]
    },
    {
      "cell_type": "markdown",
      "source": [
        "## La loteria   es un juego de 5 numeros del 0 al 9, se forma un vector..."
      ],
      "metadata": {
        "id": "H16QuC2kjXkE"
      }
    },
    {
      "cell_type": "code",
      "execution_count": 9,
      "metadata": {
        "colab": {
          "base_uri": "https://localhost:8080/"
        },
        "id": "KGhSMiUYYzJX",
        "outputId": "2da9d0dc-7c5c-4d53-cd76-b1910352fd89"
      },
      "outputs": [
        {
          "output_type": "stream",
          "name": "stdout",
          "text": [
            "9\n",
            "7\n",
            "7\n",
            "1\n",
            "9\n"
          ]
        }
      ],
      "source": [
        "import random\n",
        "for a in range(5):\n",
        "  valor = random.randint(0, 9) # fijate que esta dentro del ciclo\n",
        "  print(valor) ### LOTERIA"
      ]
    }
  ],
  "metadata": {
    "colab": {
      "provenance": []
    },
    "kernelspec": {
      "display_name": "Python 3",
      "name": "python3"
    },
    "language_info": {
      "name": "python"
    }
  },
  "nbformat": 4,
  "nbformat_minor": 0
}