{
  "metadata": {
    "kernelspec": {
      "language": "python",
      "display_name": "Python 3",
      "name": "python3"
    },
    "language_info": {
      "pygments_lexer": "ipython3",
      "nbconvert_exporter": "python",
      "version": "3.6.4",
      "file_extension": ".py",
      "codemirror_mode": {
        "name": "ipython",
        "version": 3
      },
      "name": "python",
      "mimetype": "text/x-python"
    },
    "colab": {
      "provenance": [],
      "include_colab_link": true
    }
  },
  "nbformat_minor": 0,
  "nbformat": 4,
  "cells": [
    {
      "cell_type": "markdown",
      "metadata": {
        "id": "view-in-github",
        "colab_type": "text"
      },
      "source": [
        "<a href=\"https://colab.research.google.com/github/VINY1958/UMSA/blob/main/Hotel_Booking_Prediction_(99_5_acc).ipynb\" target=\"_parent\"><img src=\"https://colab.research.google.com/assets/colab-badge.svg\" alt=\"Open In Colab\"/></a>"
      ]
    },
    {
      "source": [
        "# IMPORTANT: RUN THIS CELL IN ORDER TO IMPORT YOUR KAGGLE DATA SOURCES,\n",
        "# THEN FEEL FREE TO DELETE THIS CELL.\n",
        "# NOTE: THIS NOTEBOOK ENVIRONMENT DIFFERS FROM KAGGLE'S PYTHON\n",
        "# ENVIRONMENT SO THERE MAY BE MISSING LIBRARIES USED BY YOUR\n",
        "# NOTEBOOK.\n",
        "import kagglehub\n",
        "jessemostipak_hotel_booking_demand_path = kagglehub.dataset_download('jessemostipak/hotel-booking-demand')\n",
        "\n",
        "print('Data source import complete.')\n"
      ],
      "metadata": {
        "id": "naryU9h-S1rJ"
      },
      "cell_type": "code",
      "outputs": [],
      "execution_count": null
    },
    {
      "cell_type": "markdown",
      "source": [
        "<p style = \"font-size : 42px; color : #393e46 ; font-family : 'Comic Sans MS'; text-align : center; background-color : #00adb5; border-radius: 5px 5px;\"><strong>Hotel Booking Cancellation EDA and Prediction</strong></p>"
      ],
      "metadata": {
        "id": "s2fbRxvkS1rK"
      }
    },
    {
      "cell_type": "markdown",
      "source": [
        "<img style=\"margin-left: 10%; float: center;  border:5px solid #ffb037; width:80%; height : 80%;\" src = https://www.rd.com/wp-content/uploads/2017/11/this-hotel-booking-secret-guarantees-you-ll-get-the-cheapest-rate-possible_520663291-rawpixel-com-1024x683.jpg>"
      ],
      "metadata": {
        "id": "XIHZVmM_S1rK"
      }
    },
    {
      "cell_type": "markdown",
      "source": [
        "<a id = '0'></a>\n",
        "<p style = \"font-size : 35px; color : #34656d ; font-family : 'Comic Sans MS'; text-align : center; background-color : #f9b208; border-radius: 5px 5px;\"><strong>Table of Contents</strong></p>\n",
        "\n",
        "* [EDA](#2.0)\n",
        "    * [From where the most guests are coming ?](#2.1)\n",
        "    * [How much do guests pay for a room per night?](#2.2)\n",
        "    * [How does the price vary per night over the year?](#2.3)\n",
        "    * [Which are the most busy months?](#2.4)\n",
        "    * [How long do people stay at the hotels?](#2.5)\n",
        "    \n",
        "* [Data Pre Processing](#3.0)\n",
        "* [Model Building](#4.0)\n",
        "    * [Logistic Regression](#4.1)\n",
        "    * [Knn](#4.2)\n",
        "    * [Decision Tree Classifier](#4.3)\n",
        "    * [Random Forest Classifier](#4.4)\n",
        "    * [Ada Boost Classifier](#4.5)\n",
        "    * [Gradient Boosting Classifier](#4.6)\n",
        "    * [XgBoost](#4.7)\n",
        "    * [Cat Boost Classifier](#4.8)\n",
        "    * [Extra Trees Classifier](#4.9)\n",
        "    * [LGBM Classifier](#4.10)\n",
        "    * [ANN](#4.11)\n",
        "    * [Voting Classifier](#4.12)\n",
        "\n",
        "* [Models Comparison](#5.0)\n"
      ],
      "metadata": {
        "id": "-G0ewFlgS1rL"
      }
    },
    {
      "cell_type": "code",
      "source": [
        "# importing libraries\n",
        "\n",
        "import pandas as pd\n",
        "import numpy as np\n",
        "import matplotlib.pyplot as plt\n",
        "import seaborn as sns\n",
        "import missingno as msno\n",
        "\n",
        "import warnings\n",
        "warnings.filterwarnings('ignore')\n",
        "\n",
        "from sklearn.model_selection import train_test_split, GridSearchCV\n",
        "from sklearn.preprocessing import StandardScaler\n",
        "from sklearn.metrics import accuracy_score, confusion_matrix, classification_report\n",
        "from sklearn.linear_model import LogisticRegression\n",
        "from sklearn.neighbors import KNeighborsClassifier\n",
        "from sklearn.svm import SVC\n",
        "from sklearn.tree import DecisionTreeClassifier\n",
        "from sklearn.ensemble import RandomForestClassifier\n",
        "from sklearn.ensemble import RandomForestClassifier\n",
        "from sklearn.ensemble import AdaBoostClassifier\n",
        "from sklearn.ensemble import GradientBoostingClassifier\n",
        "from xgboost import XGBClassifier\n",
        "from catboost import CatBoostClassifier\n",
        "from sklearn.ensemble import ExtraTreesClassifier\n",
        "from lightgbm import LGBMClassifier\n",
        "from sklearn.ensemble import VotingClassifier\n",
        "\n",
        "import folium\n",
        "from folium.plugins import HeatMap\n",
        "import plotly.express as px\n",
        "\n",
        "plt.style.use('fivethirtyeight')\n",
        "%matplotlib inline\n",
        "pd.set_option('display.max_columns', 32)"
      ],
      "metadata": {
        "execution": {
          "iopub.status.busy": "2021-05-23T07:24:52.884556Z",
          "iopub.execute_input": "2021-05-23T07:24:52.885095Z",
          "iopub.status.idle": "2021-05-23T07:24:52.899979Z",
          "shell.execute_reply.started": "2021-05-23T07:24:52.885043Z",
          "shell.execute_reply": "2021-05-23T07:24:52.898543Z"
        },
        "trusted": true,
        "id": "zzepzwgUS1rL"
      },
      "execution_count": null,
      "outputs": []
    },
    {
      "cell_type": "code",
      "source": [
        "# reading data\n",
        "df = pd.read_csv('../input/hotel-booking-demand/hotel_bookings.csv')\n",
        "df.head()"
      ],
      "metadata": {
        "execution": {
          "iopub.status.busy": "2021-05-23T07:24:52.924218Z",
          "iopub.execute_input": "2021-05-23T07:24:52.924595Z",
          "iopub.status.idle": "2021-05-23T07:24:53.344799Z",
          "shell.execute_reply.started": "2021-05-23T07:24:52.924552Z",
          "shell.execute_reply": "2021-05-23T07:24:53.343689Z"
        },
        "trusted": true,
        "id": "-Obpk_pOS1rL"
      },
      "execution_count": null,
      "outputs": []
    },
    {
      "cell_type": "code",
      "source": [
        "df.describe()"
      ],
      "metadata": {
        "execution": {
          "iopub.status.busy": "2021-05-23T07:24:53.34729Z",
          "iopub.execute_input": "2021-05-23T07:24:53.347737Z",
          "iopub.status.idle": "2021-05-23T07:24:53.484553Z",
          "shell.execute_reply.started": "2021-05-23T07:24:53.347693Z",
          "shell.execute_reply": "2021-05-23T07:24:53.483338Z"
        },
        "trusted": true,
        "id": "5YPwSUZNS1rM"
      },
      "execution_count": null,
      "outputs": []
    },
    {
      "cell_type": "code",
      "source": [
        "df.info()"
      ],
      "metadata": {
        "execution": {
          "iopub.status.busy": "2021-05-23T07:24:53.486159Z",
          "iopub.execute_input": "2021-05-23T07:24:53.48655Z",
          "iopub.status.idle": "2021-05-23T07:24:53.640086Z",
          "shell.execute_reply.started": "2021-05-23T07:24:53.486517Z",
          "shell.execute_reply": "2021-05-23T07:24:53.639166Z"
        },
        "trusted": true,
        "id": "GxOoW7W1S1rM"
      },
      "execution_count": null,
      "outputs": []
    },
    {
      "cell_type": "code",
      "source": [
        "# checking for null values\n",
        "\n",
        "null = pd.DataFrame({'Null Values' : df.isna().sum(), 'Percentage Null Values' : (df.isna().sum()) / (df.shape[0]) * (100)})\n",
        "null"
      ],
      "metadata": {
        "execution": {
          "iopub.status.busy": "2021-05-23T07:24:53.641235Z",
          "iopub.execute_input": "2021-05-23T07:24:53.641525Z",
          "iopub.status.idle": "2021-05-23T07:24:53.940555Z",
          "shell.execute_reply.started": "2021-05-23T07:24:53.641499Z",
          "shell.execute_reply": "2021-05-23T07:24:53.939806Z"
        },
        "trusted": true,
        "id": "R85XUUtES1rM"
      },
      "execution_count": null,
      "outputs": []
    },
    {
      "cell_type": "code",
      "source": [
        "# filling null values with zero\n",
        "\n",
        "df.fillna(0, inplace = True)"
      ],
      "metadata": {
        "execution": {
          "iopub.status.busy": "2021-05-23T07:24:53.943372Z",
          "iopub.execute_input": "2021-05-23T07:24:53.943674Z",
          "iopub.status.idle": "2021-05-23T07:24:54.076191Z",
          "shell.execute_reply.started": "2021-05-23T07:24:53.943646Z",
          "shell.execute_reply": "2021-05-23T07:24:54.075215Z"
        },
        "trusted": true,
        "id": "GtwfzTH-S1rM"
      },
      "execution_count": null,
      "outputs": []
    },
    {
      "cell_type": "code",
      "source": [
        "# visualizing null values\n",
        "msno.bar(df)\n",
        "plt.show()"
      ],
      "metadata": {
        "execution": {
          "iopub.status.busy": "2021-05-23T07:24:54.078877Z",
          "iopub.execute_input": "2021-05-23T07:24:54.079177Z",
          "iopub.status.idle": "2021-05-23T07:24:57.597378Z",
          "shell.execute_reply.started": "2021-05-23T07:24:54.079148Z",
          "shell.execute_reply": "2021-05-23T07:24:57.596503Z"
        },
        "trusted": true,
        "id": "Eubt2qtZS1rM"
      },
      "execution_count": null,
      "outputs": []
    },
    {
      "cell_type": "code",
      "source": [
        "# adults, babies and children cant be zero at same time, so dropping the rows having all these zero at same time\n",
        "\n",
        "filter = (df.children == 0) & (df.adults == 0) & (df.babies == 0)\n",
        "df[filter]"
      ],
      "metadata": {
        "execution": {
          "iopub.status.busy": "2021-05-23T07:24:57.598755Z",
          "iopub.execute_input": "2021-05-23T07:24:57.599253Z",
          "iopub.status.idle": "2021-05-23T07:24:57.69081Z",
          "shell.execute_reply.started": "2021-05-23T07:24:57.599219Z",
          "shell.execute_reply": "2021-05-23T07:24:57.690013Z"
        },
        "trusted": true,
        "id": "GZYhjHbVS1rN"
      },
      "execution_count": null,
      "outputs": []
    },
    {
      "cell_type": "code",
      "source": [
        "df = df[~filter]\n",
        "df"
      ],
      "metadata": {
        "execution": {
          "iopub.status.busy": "2021-05-23T07:24:57.691882Z",
          "iopub.execute_input": "2021-05-23T07:24:57.692384Z",
          "iopub.status.idle": "2021-05-23T07:24:57.761975Z",
          "shell.execute_reply.started": "2021-05-23T07:24:57.692339Z",
          "shell.execute_reply": "2021-05-23T07:24:57.7611Z"
        },
        "trusted": true,
        "id": "ce3ar0TkS1rN"
      },
      "execution_count": null,
      "outputs": []
    },
    {
      "cell_type": "markdown",
      "source": [
        "<a id = '2.0'></a>\n",
        "<p style = \"font-size : 40px; color : #34656d ; font-family : 'Comic Sans MS'; text-align : center; background-color : #f9b208; border-radius: 5px 5px;\"><strong>Exploratory Data Analysis (EDA)</strong></p>"
      ],
      "metadata": {
        "execution": {
          "iopub.status.busy": "2021-05-23T08:11:05.821312Z",
          "iopub.execute_input": "2021-05-23T08:11:05.821854Z",
          "iopub.status.idle": "2021-05-23T08:11:05.829971Z",
          "shell.execute_reply.started": "2021-05-23T08:11:05.821812Z",
          "shell.execute_reply": "2021-05-23T08:11:05.828074Z"
        },
        "id": "x11JaqtlS1rN"
      }
    },
    {
      "cell_type": "markdown",
      "source": [
        "<a id = '2.1'></a>\n",
        "<p style = \"font-size : 35px; color : #34656d ; font-family : 'Comic Sans MS'; \"><strong>From where the most guests are coming ?.</strong></p>"
      ],
      "metadata": {
        "id": "lwPC6cIIS1rN"
      }
    },
    {
      "cell_type": "code",
      "source": [
        "country_wise_guests = df[df['is_canceled'] == 0]['country'].value_counts().reset_index()\n",
        "country_wise_guests.columns = ['country', 'No of guests']\n",
        "country_wise_guests"
      ],
      "metadata": {
        "execution": {
          "iopub.status.busy": "2021-05-23T07:24:57.763229Z",
          "iopub.execute_input": "2021-05-23T07:24:57.763531Z",
          "iopub.status.idle": "2021-05-23T07:24:57.817901Z",
          "shell.execute_reply.started": "2021-05-23T07:24:57.763501Z",
          "shell.execute_reply": "2021-05-23T07:24:57.816762Z"
        },
        "trusted": true,
        "id": "Yu9jnmEeS1rN"
      },
      "execution_count": null,
      "outputs": []
    },
    {
      "cell_type": "code",
      "source": [
        "basemap = folium.Map()\n",
        "guests_map = px.choropleth(country_wise_guests, locations = country_wise_guests['country'],\n",
        "                           color = country_wise_guests['No of guests'], hover_name = country_wise_guests['country'])\n",
        "guests_map.show()"
      ],
      "metadata": {
        "execution": {
          "iopub.status.busy": "2021-05-23T07:24:57.819339Z",
          "iopub.execute_input": "2021-05-23T07:24:57.81964Z",
          "iopub.status.idle": "2021-05-23T07:24:59.04057Z",
          "shell.execute_reply.started": "2021-05-23T07:24:57.819612Z",
          "shell.execute_reply": "2021-05-23T07:24:59.039424Z"
        },
        "trusted": true,
        "id": "uulkO0peS1rN"
      },
      "execution_count": null,
      "outputs": []
    },
    {
      "cell_type": "markdown",
      "source": [
        "<p style = \"font-size : 20px; color : #810000 ; font-family : 'Comic Sans MS'; \"><strong>People from all over the world are staying in these two hotels. Most guests are from Portugal and other countries in Europe.</strong></p>"
      ],
      "metadata": {
        "id": "j0YaougaS1rN"
      }
    },
    {
      "cell_type": "markdown",
      "source": [
        "<a id = '2.2'></a>\n",
        "<p style = \"font-size : 35px; color : #34656d ; font-family : 'Comic Sans MS'; \"><strong>How much do guests pay for a room per night?</strong></p>"
      ],
      "metadata": {
        "id": "CeyjkDBtS1rO"
      }
    },
    {
      "cell_type": "code",
      "source": [
        "df.head()"
      ],
      "metadata": {
        "execution": {
          "iopub.status.busy": "2021-05-23T07:24:59.042002Z",
          "iopub.execute_input": "2021-05-23T07:24:59.042296Z",
          "iopub.status.idle": "2021-05-23T07:24:59.074216Z",
          "shell.execute_reply.started": "2021-05-23T07:24:59.042268Z",
          "shell.execute_reply": "2021-05-23T07:24:59.073129Z"
        },
        "trusted": true,
        "id": "s5fO97hhS1rO"
      },
      "execution_count": null,
      "outputs": []
    },
    {
      "cell_type": "markdown",
      "source": [
        "<p style = \"font-size : 20px; color : #810000 ; font-family : 'Comic Sans MS'; \"><strong>Both hotels have different room types and different meal arrangements.Seasonal factors are also important, So the prices varies a lot.</strong></p>"
      ],
      "metadata": {
        "id": "qz_Z4brZS1rO"
      }
    },
    {
      "cell_type": "code",
      "source": [
        "data = df[df['is_canceled'] == 0]\n",
        "\n",
        "px.box(data_frame = data, x = 'reserved_room_type', y = 'adr', color = 'hotel', template = 'plotly_dark')"
      ],
      "metadata": {
        "execution": {
          "iopub.status.busy": "2021-05-23T07:24:59.075468Z",
          "iopub.execute_input": "2021-05-23T07:24:59.075805Z",
          "iopub.status.idle": "2021-05-23T07:25:00.009027Z",
          "shell.execute_reply.started": "2021-05-23T07:24:59.075764Z",
          "shell.execute_reply": "2021-05-23T07:25:00.007841Z"
        },
        "trusted": true,
        "id": "5ptSf8leS1rO"
      },
      "execution_count": null,
      "outputs": []
    },
    {
      "cell_type": "markdown",
      "source": [
        "<p style = \"font-size : 20px; color : #810000 ; font-family : 'Comic Sans MS'; \"><strong>The figure shows that the average price per room depends on its type and the standard deviation.</strong></p>"
      ],
      "metadata": {
        "id": "86i-NLpWS1rO"
      }
    },
    {
      "cell_type": "markdown",
      "source": [
        "<a id = '2.3'></a>\n",
        "<p style = \"font-size : 35px; color : #34656d ; font-family : 'Comic Sans MS'; \"><strong>How does the price vary per night over the year?</strong></p>"
      ],
      "metadata": {
        "id": "OW7KgvdKS1rO"
      }
    },
    {
      "cell_type": "code",
      "source": [
        "data_resort = df[(df['hotel'] == 'Resort Hotel') & (df['is_canceled'] == 0)]\n",
        "data_city = df[(df['hotel'] == 'City Hotel') & (df['is_canceled'] == 0)]"
      ],
      "metadata": {
        "execution": {
          "iopub.status.busy": "2021-05-23T07:25:00.010317Z",
          "iopub.execute_input": "2021-05-23T07:25:00.010723Z",
          "iopub.status.idle": "2021-05-23T07:25:00.083165Z",
          "shell.execute_reply.started": "2021-05-23T07:25:00.010685Z",
          "shell.execute_reply": "2021-05-23T07:25:00.081835Z"
        },
        "trusted": true,
        "id": "t4Nx7rNlS1rO"
      },
      "execution_count": null,
      "outputs": []
    },
    {
      "cell_type": "code",
      "source": [
        "resort_hotel = data_resort.groupby(['arrival_date_month'])['adr'].mean().reset_index()\n",
        "resort_hotel"
      ],
      "metadata": {
        "execution": {
          "iopub.status.busy": "2021-05-23T07:25:00.08462Z",
          "iopub.execute_input": "2021-05-23T07:25:00.084948Z",
          "iopub.status.idle": "2021-05-23T07:25:00.103102Z",
          "shell.execute_reply.started": "2021-05-23T07:25:00.084914Z",
          "shell.execute_reply": "2021-05-23T07:25:00.102181Z"
        },
        "trusted": true,
        "id": "s7szlEHBS1rO"
      },
      "execution_count": null,
      "outputs": []
    },
    {
      "cell_type": "code",
      "source": [
        "city_hotel=data_city.groupby(['arrival_date_month'])['adr'].mean().reset_index()\n",
        "city_hotel"
      ],
      "metadata": {
        "execution": {
          "iopub.status.busy": "2021-05-23T07:25:00.104361Z",
          "iopub.execute_input": "2021-05-23T07:25:00.104648Z",
          "iopub.status.idle": "2021-05-23T07:25:00.122966Z",
          "shell.execute_reply.started": "2021-05-23T07:25:00.104621Z",
          "shell.execute_reply": "2021-05-23T07:25:00.12188Z"
        },
        "trusted": true,
        "id": "qgLTnCH2S1rO"
      },
      "execution_count": null,
      "outputs": []
    },
    {
      "cell_type": "code",
      "source": [
        "final_hotel = resort_hotel.merge(city_hotel, on = 'arrival_date_month')\n",
        "final_hotel.columns = ['month', 'price_for_resort', 'price_for_city_hotel']\n",
        "final_hotel"
      ],
      "metadata": {
        "execution": {
          "iopub.status.busy": "2021-05-23T07:25:00.124235Z",
          "iopub.execute_input": "2021-05-23T07:25:00.124675Z",
          "iopub.status.idle": "2021-05-23T07:25:00.268408Z",
          "shell.execute_reply.started": "2021-05-23T07:25:00.124641Z",
          "shell.execute_reply": "2021-05-23T07:25:00.267545Z"
        },
        "trusted": true,
        "id": "5b25uYJfS1rO"
      },
      "execution_count": null,
      "outputs": []
    },
    {
      "cell_type": "markdown",
      "source": [
        "<p style = \"font-size : 20px; color : #810000 ; font-family : 'Comic Sans MS'; \"><strong>Now we observe here that month column is not in order, and if we visualize we will get improper conclusions.</strong></p>"
      ],
      "metadata": {
        "id": "bBsSHemZS1rP"
      }
    },
    {
      "cell_type": "markdown",
      "source": [
        "<p style = \"font-size : 20px; color : #810000 ; font-family : 'Comic Sans MS'; \"><strong>So, first we have to provide right hierarchy to month column.</strong></p>"
      ],
      "metadata": {
        "id": "oaMiRmrpS1rP"
      }
    },
    {
      "cell_type": "code",
      "source": [
        "!pip install sort-dataframeby-monthorweek\n",
        "\n",
        "!pip install sorted-months-weekdays"
      ],
      "metadata": {
        "execution": {
          "iopub.status.busy": "2021-05-23T07:25:00.269693Z",
          "iopub.execute_input": "2021-05-23T07:25:00.270176Z",
          "iopub.status.idle": "2021-05-23T07:25:19.481437Z",
          "shell.execute_reply.started": "2021-05-23T07:25:00.270144Z",
          "shell.execute_reply": "2021-05-23T07:25:19.480157Z"
        },
        "_kg_hide-output": true,
        "trusted": true,
        "id": "zaAx8ETKS1rP"
      },
      "execution_count": null,
      "outputs": []
    },
    {
      "cell_type": "code",
      "source": [
        "import sort_dataframeby_monthorweek as sd\n",
        "\n",
        "def sort_month(df, column_name):\n",
        "    return sd.Sort_Dataframeby_Month(df, column_name)"
      ],
      "metadata": {
        "execution": {
          "iopub.status.busy": "2021-05-23T07:25:19.483721Z",
          "iopub.execute_input": "2021-05-23T07:25:19.484058Z",
          "iopub.status.idle": "2021-05-23T07:25:19.492347Z",
          "shell.execute_reply.started": "2021-05-23T07:25:19.484024Z",
          "shell.execute_reply": "2021-05-23T07:25:19.491601Z"
        },
        "trusted": true,
        "id": "VMk5TYGxS1rP"
      },
      "execution_count": null,
      "outputs": []
    },
    {
      "cell_type": "code",
      "source": [
        "final_prices = sort_month(final_hotel, 'month')\n",
        "final_prices"
      ],
      "metadata": {
        "execution": {
          "iopub.status.busy": "2021-05-23T07:25:19.49337Z",
          "iopub.execute_input": "2021-05-23T07:25:19.493786Z",
          "iopub.status.idle": "2021-05-23T07:25:19.528327Z",
          "shell.execute_reply.started": "2021-05-23T07:25:19.493755Z",
          "shell.execute_reply": "2021-05-23T07:25:19.527522Z"
        },
        "trusted": true,
        "id": "KYg1IZQFS1rP"
      },
      "execution_count": null,
      "outputs": []
    },
    {
      "cell_type": "code",
      "source": [
        "plt.figure(figsize = (17, 8))\n",
        "\n",
        "px.line(final_prices, x = 'month', y = ['price_for_resort','price_for_city_hotel'],\n",
        "        title = 'Room price per night over the Months', template = 'plotly_dark')"
      ],
      "metadata": {
        "execution": {
          "iopub.status.busy": "2021-05-23T07:25:19.529468Z",
          "iopub.execute_input": "2021-05-23T07:25:19.529951Z",
          "iopub.status.idle": "2021-05-23T07:25:19.648092Z",
          "shell.execute_reply.started": "2021-05-23T07:25:19.529891Z",
          "shell.execute_reply": "2021-05-23T07:25:19.64704Z"
        },
        "trusted": true,
        "id": "GpmI_UUeS1rP"
      },
      "execution_count": null,
      "outputs": []
    },
    {
      "cell_type": "markdown",
      "source": [
        "<p style = \"font-size : 20px; color : #810000 ; font-family : 'Comic Sans MS'; \"><strong>This plot clearly shows that prices in the Resort Hotel are much higher during the summer and prices of city hotel varies less and is most expensive during Spring and Autumn .</strong></p>"
      ],
      "metadata": {
        "id": "5bnVmbN9S1rQ"
      }
    },
    {
      "cell_type": "markdown",
      "source": [
        "<a id = '2.4'></a>\n",
        "<p style = \"font-size : 35px; color : #34656d ; font-family : 'Comic Sans MS'; \"><strong>Which are the most busy months?</strong></p>"
      ],
      "metadata": {
        "id": "2G3BrT_HS1rQ"
      }
    },
    {
      "cell_type": "code",
      "source": [
        "resort_guests = data_resort['arrival_date_month'].value_counts().reset_index()\n",
        "resort_guests.columns=['month','no of guests']\n",
        "resort_guests"
      ],
      "metadata": {
        "execution": {
          "iopub.status.busy": "2021-05-23T07:25:19.649676Z",
          "iopub.execute_input": "2021-05-23T07:25:19.650017Z",
          "iopub.status.idle": "2021-05-23T07:25:19.670176Z",
          "shell.execute_reply.started": "2021-05-23T07:25:19.649986Z",
          "shell.execute_reply": "2021-05-23T07:25:19.668711Z"
        },
        "trusted": true,
        "id": "KcF6AT_aS1rQ"
      },
      "execution_count": null,
      "outputs": []
    },
    {
      "cell_type": "code",
      "source": [
        "city_guests = data_city['arrival_date_month'].value_counts().reset_index()\n",
        "city_guests.columns=['month','no of guests']\n",
        "city_guests"
      ],
      "metadata": {
        "execution": {
          "iopub.status.busy": "2021-05-23T07:25:19.671949Z",
          "iopub.execute_input": "2021-05-23T07:25:19.672378Z",
          "iopub.status.idle": "2021-05-23T07:25:19.700381Z",
          "shell.execute_reply.started": "2021-05-23T07:25:19.672335Z",
          "shell.execute_reply": "2021-05-23T07:25:19.698785Z"
        },
        "trusted": true,
        "id": "As-OKtj6S1rQ"
      },
      "execution_count": null,
      "outputs": []
    },
    {
      "cell_type": "code",
      "source": [
        "final_guests = resort_guests.merge(city_guests,on='month')\n",
        "final_guests.columns=['month','no of guests in resort','no of guest in city hotel']\n",
        "final_guests"
      ],
      "metadata": {
        "execution": {
          "iopub.status.busy": "2021-05-23T07:25:19.70178Z",
          "iopub.execute_input": "2021-05-23T07:25:19.702164Z",
          "iopub.status.idle": "2021-05-23T07:25:19.721921Z",
          "shell.execute_reply.started": "2021-05-23T07:25:19.70213Z",
          "shell.execute_reply": "2021-05-23T07:25:19.721099Z"
        },
        "trusted": true,
        "id": "a4fs5e3lS1rQ"
      },
      "execution_count": null,
      "outputs": []
    },
    {
      "cell_type": "code",
      "source": [
        "final_guests = sort_month(final_guests,'month')\n",
        "final_guests"
      ],
      "metadata": {
        "execution": {
          "iopub.status.busy": "2021-05-23T07:25:19.72305Z",
          "iopub.execute_input": "2021-05-23T07:25:19.723642Z",
          "iopub.status.idle": "2021-05-23T07:25:19.751095Z",
          "shell.execute_reply.started": "2021-05-23T07:25:19.723602Z",
          "shell.execute_reply": "2021-05-23T07:25:19.750019Z"
        },
        "trusted": true,
        "id": "zXNFTXZnS1rT"
      },
      "execution_count": null,
      "outputs": []
    },
    {
      "cell_type": "code",
      "source": [
        "px.line(final_guests, x = 'month', y = ['no of guests in resort','no of guest in city hotel'],\n",
        "        title='Total no of guests per Months', template = 'plotly_dark')"
      ],
      "metadata": {
        "execution": {
          "iopub.status.busy": "2021-05-23T07:25:19.759001Z",
          "iopub.execute_input": "2021-05-23T07:25:19.759392Z",
          "iopub.status.idle": "2021-05-23T07:25:19.835685Z",
          "shell.execute_reply.started": "2021-05-23T07:25:19.75936Z",
          "shell.execute_reply": "2021-05-23T07:25:19.834681Z"
        },
        "trusted": true,
        "id": "T60avQVqS1rU"
      },
      "execution_count": null,
      "outputs": []
    },
    {
      "cell_type": "markdown",
      "source": [
        "<ul>\n",
        "    <li style = \"font-size : 20px; color : #810000 ; font-family : 'Comic Sans MS'; \"><strong>The City hotel has more guests during spring and autumn, when the prices are also highest, In July and August there are less visitors, although prices are lower.</strong></li>\n",
        "    <li style = \"font-size : 20px; color : #810000 ; font-family : 'Comic Sans MS'; \"><strong>Guest numbers for the Resort hotel go down slighty from June to September, which is also when the prices are highest. Both hotels have the fewest guests during the winter.</strong></li>\n",
        "</ul>"
      ],
      "metadata": {
        "id": "xtreFg4CS1rU"
      }
    },
    {
      "cell_type": "markdown",
      "source": [
        "<a id = '2.5'></a>\n",
        "<p style = \"font-size : 35px; color : #34656d ; font-family : 'Comic Sans MS'; \"><strong>How long do people stay at the hotels?</strong></p>"
      ],
      "metadata": {
        "id": "f1deVInnS1rU"
      }
    },
    {
      "cell_type": "code",
      "source": [
        "filter = df['is_canceled'] == 0\n",
        "data = df[filter]\n",
        "data.head()"
      ],
      "metadata": {
        "execution": {
          "iopub.status.busy": "2021-05-23T07:25:19.837416Z",
          "iopub.execute_input": "2021-05-23T07:25:19.837755Z",
          "iopub.status.idle": "2021-05-23T07:25:19.8943Z",
          "shell.execute_reply.started": "2021-05-23T07:25:19.837726Z",
          "shell.execute_reply": "2021-05-23T07:25:19.892893Z"
        },
        "trusted": true,
        "id": "dgAVJTLvS1rU"
      },
      "execution_count": null,
      "outputs": []
    },
    {
      "cell_type": "code",
      "source": [
        "data['total_nights'] = data['stays_in_weekend_nights'] + data['stays_in_week_nights']\n",
        "data.head()"
      ],
      "metadata": {
        "execution": {
          "iopub.status.busy": "2021-05-23T07:25:19.895736Z",
          "iopub.execute_input": "2021-05-23T07:25:19.896195Z",
          "iopub.status.idle": "2021-05-23T07:25:19.942198Z",
          "shell.execute_reply.started": "2021-05-23T07:25:19.896152Z",
          "shell.execute_reply": "2021-05-23T07:25:19.940912Z"
        },
        "trusted": true,
        "id": "eqqLdp9DS1rU"
      },
      "execution_count": null,
      "outputs": []
    },
    {
      "cell_type": "code",
      "source": [
        "stay = data.groupby(['total_nights', 'hotel']).agg('count').reset_index()\n",
        "stay = stay.iloc[:, :3]\n",
        "stay = stay.rename(columns={'is_canceled':'Number of stays'})\n",
        "stay"
      ],
      "metadata": {
        "execution": {
          "iopub.status.busy": "2021-05-23T07:25:19.943559Z",
          "iopub.execute_input": "2021-05-23T07:25:19.943893Z",
          "iopub.status.idle": "2021-05-23T07:25:20.089342Z",
          "shell.execute_reply.started": "2021-05-23T07:25:19.943862Z",
          "shell.execute_reply": "2021-05-23T07:25:20.088059Z"
        },
        "trusted": true,
        "id": "HGrKU_6TS1rU"
      },
      "execution_count": null,
      "outputs": []
    },
    {
      "cell_type": "code",
      "source": [
        "px.bar(data_frame = stay, x = 'total_nights', y = 'Number of stays', color = 'hotel', barmode = 'group',\n",
        "        template = 'plotly_dark')"
      ],
      "metadata": {
        "execution": {
          "iopub.status.busy": "2021-05-23T07:25:20.090784Z",
          "iopub.execute_input": "2021-05-23T07:25:20.091087Z",
          "iopub.status.idle": "2021-05-23T07:25:20.17603Z",
          "shell.execute_reply.started": "2021-05-23T07:25:20.091058Z",
          "shell.execute_reply": "2021-05-23T07:25:20.175003Z"
        },
        "trusted": true,
        "id": "TYO80TlcS1rU"
      },
      "execution_count": null,
      "outputs": []
    },
    {
      "cell_type": "markdown",
      "source": [
        "<a id = '3.0'></a>\n",
        "<p style = \"font-size : 40px; color : #34656d ; font-family : 'Comic Sans MS'; text-align : center; background-color : #f9b208; border-radius: 5px 5px;\"><strong>Data Pre Processing</strong></p>"
      ],
      "metadata": {
        "id": "aK4QrQNSS1rU"
      }
    },
    {
      "cell_type": "code",
      "source": [
        "plt.figure(figsize = (24, 12))\n",
        "\n",
        "corr = df.corr()\n",
        "sns.heatmap(corr, annot = True, linewidths = 1)\n",
        "plt.show()\n"
      ],
      "metadata": {
        "execution": {
          "iopub.status.busy": "2021-05-23T07:25:20.178768Z",
          "iopub.execute_input": "2021-05-23T07:25:20.179221Z",
          "iopub.status.idle": "2021-05-23T07:25:22.567128Z",
          "shell.execute_reply.started": "2021-05-23T07:25:20.179175Z",
          "shell.execute_reply": "2021-05-23T07:25:22.565991Z"
        },
        "trusted": true,
        "id": "CGsyAyc2S1rV"
      },
      "execution_count": null,
      "outputs": []
    },
    {
      "cell_type": "code",
      "source": [
        "correlation = df.corr()['is_canceled'].abs().sort_values(ascending = False)\n",
        "correlation"
      ],
      "metadata": {
        "execution": {
          "iopub.status.busy": "2021-05-23T07:25:22.56861Z",
          "iopub.execute_input": "2021-05-23T07:25:22.569173Z",
          "iopub.status.idle": "2021-05-23T07:25:22.726375Z",
          "shell.execute_reply.started": "2021-05-23T07:25:22.569125Z",
          "shell.execute_reply": "2021-05-23T07:25:22.725033Z"
        },
        "trusted": true,
        "id": "XmAPhXJ_S1rV"
      },
      "execution_count": null,
      "outputs": []
    },
    {
      "cell_type": "code",
      "source": [
        "# dropping columns that are not useful\n",
        "\n",
        "useless_col = ['days_in_waiting_list', 'arrival_date_year', 'arrival_date_year', 'assigned_room_type', 'booking_changes',\n",
        "               'reservation_status', 'country', 'days_in_waiting_list']\n",
        "\n",
        "df.drop(useless_col, axis = 1, inplace = True)"
      ],
      "metadata": {
        "execution": {
          "iopub.status.busy": "2021-05-23T07:25:22.728075Z",
          "iopub.execute_input": "2021-05-23T07:25:22.728529Z",
          "iopub.status.idle": "2021-05-23T07:25:22.746749Z",
          "shell.execute_reply.started": "2021-05-23T07:25:22.728471Z",
          "shell.execute_reply": "2021-05-23T07:25:22.74577Z"
        },
        "trusted": true,
        "id": "uriaUaqOS1rV"
      },
      "execution_count": null,
      "outputs": []
    },
    {
      "cell_type": "code",
      "source": [
        "df.head()"
      ],
      "metadata": {
        "execution": {
          "iopub.status.busy": "2021-05-23T07:25:22.75048Z",
          "iopub.execute_input": "2021-05-23T07:25:22.750857Z",
          "iopub.status.idle": "2021-05-23T07:25:22.779733Z",
          "shell.execute_reply.started": "2021-05-23T07:25:22.750826Z",
          "shell.execute_reply": "2021-05-23T07:25:22.778498Z"
        },
        "trusted": true,
        "id": "MrO3g8e_S1rV"
      },
      "execution_count": null,
      "outputs": []
    },
    {
      "cell_type": "code",
      "source": [
        "# creating numerical and categorical dataframes\n",
        "\n",
        "cat_cols = [col for col in df.columns if df[col].dtype == 'O']\n",
        "cat_cols"
      ],
      "metadata": {
        "execution": {
          "iopub.status.busy": "2021-05-23T07:25:22.78188Z",
          "iopub.execute_input": "2021-05-23T07:25:22.782304Z",
          "iopub.status.idle": "2021-05-23T07:25:22.794853Z",
          "shell.execute_reply.started": "2021-05-23T07:25:22.782266Z",
          "shell.execute_reply": "2021-05-23T07:25:22.793876Z"
        },
        "trusted": true,
        "id": "wljkXhyJS1rV"
      },
      "execution_count": null,
      "outputs": []
    },
    {
      "cell_type": "code",
      "source": [
        "cat_df = df[cat_cols]\n",
        "cat_df.head()"
      ],
      "metadata": {
        "execution": {
          "iopub.status.busy": "2021-05-23T07:25:22.79648Z",
          "iopub.execute_input": "2021-05-23T07:25:22.796817Z",
          "iopub.status.idle": "2021-05-23T07:25:22.831441Z",
          "shell.execute_reply.started": "2021-05-23T07:25:22.796786Z",
          "shell.execute_reply": "2021-05-23T07:25:22.830378Z"
        },
        "trusted": true,
        "id": "68ZvzqsbS1rV"
      },
      "execution_count": null,
      "outputs": []
    },
    {
      "cell_type": "code",
      "source": [
        "cat_df['reservation_status_date'] = pd.to_datetime(cat_df['reservation_status_date'])\n",
        "\n",
        "cat_df['year'] = cat_df['reservation_status_date'].dt.year\n",
        "cat_df['month'] = cat_df['reservation_status_date'].dt.month\n",
        "cat_df['day'] = cat_df['reservation_status_date'].dt.day"
      ],
      "metadata": {
        "execution": {
          "iopub.status.busy": "2021-05-23T07:25:22.833166Z",
          "iopub.execute_input": "2021-05-23T07:25:22.833632Z",
          "iopub.status.idle": "2021-05-23T07:25:22.918613Z",
          "shell.execute_reply.started": "2021-05-23T07:25:22.833568Z",
          "shell.execute_reply": "2021-05-23T07:25:22.917536Z"
        },
        "trusted": true,
        "id": "T-8BS5_6S1rV"
      },
      "execution_count": null,
      "outputs": []
    },
    {
      "cell_type": "code",
      "source": [
        "cat_df.drop(['reservation_status_date','arrival_date_month'] , axis = 1, inplace = True)"
      ],
      "metadata": {
        "execution": {
          "iopub.status.busy": "2021-05-23T07:25:22.919872Z",
          "iopub.execute_input": "2021-05-23T07:25:22.920195Z",
          "iopub.status.idle": "2021-05-23T07:25:22.941003Z",
          "shell.execute_reply.started": "2021-05-23T07:25:22.920164Z",
          "shell.execute_reply": "2021-05-23T07:25:22.940136Z"
        },
        "trusted": true,
        "id": "NB1AAndtS1rV"
      },
      "execution_count": null,
      "outputs": []
    },
    {
      "cell_type": "code",
      "source": [
        "cat_df.head()"
      ],
      "metadata": {
        "execution": {
          "iopub.status.busy": "2021-05-23T07:25:22.942545Z",
          "iopub.execute_input": "2021-05-23T07:25:22.943202Z",
          "iopub.status.idle": "2021-05-23T07:25:22.961122Z",
          "shell.execute_reply.started": "2021-05-23T07:25:22.943151Z",
          "shell.execute_reply": "2021-05-23T07:25:22.960024Z"
        },
        "trusted": true,
        "id": "ruK_iCh8S1rW"
      },
      "execution_count": null,
      "outputs": []
    },
    {
      "cell_type": "code",
      "source": [
        "# printing unique values of each column\n",
        "for col in cat_df.columns:\n",
        "    print(f\"{col}: \\n{cat_df[col].unique()}\\n\")"
      ],
      "metadata": {
        "execution": {
          "iopub.status.busy": "2021-05-23T07:25:22.962684Z",
          "iopub.execute_input": "2021-05-23T07:25:22.963325Z",
          "iopub.status.idle": "2021-05-23T07:25:23.042501Z",
          "shell.execute_reply.started": "2021-05-23T07:25:22.963277Z",
          "shell.execute_reply": "2021-05-23T07:25:23.041355Z"
        },
        "trusted": true,
        "id": "ATSYO5OZS1rW"
      },
      "execution_count": null,
      "outputs": []
    },
    {
      "cell_type": "code",
      "source": [
        "# encoding categorical variables\n",
        "\n",
        "cat_df['hotel'] = cat_df['hotel'].map({'Resort Hotel' : 0, 'City Hotel' : 1})\n",
        "\n",
        "cat_df['meal'] = cat_df['meal'].map({'BB' : 0, 'FB': 1, 'HB': 2, 'SC': 3, 'Undefined': 4})\n",
        "\n",
        "cat_df['market_segment'] = cat_df['market_segment'].map({'Direct': 0, 'Corporate': 1, 'Online TA': 2, 'Offline TA/TO': 3,\n",
        "                                                           'Complementary': 4, 'Groups': 5, 'Undefined': 6, 'Aviation': 7})\n",
        "\n",
        "cat_df['distribution_channel'] = cat_df['distribution_channel'].map({'Direct': 0, 'Corporate': 1, 'TA/TO': 2, 'Undefined': 3,\n",
        "                                                                       'GDS': 4})\n",
        "\n",
        "cat_df['reserved_room_type'] = cat_df['reserved_room_type'].map({'C': 0, 'A': 1, 'D': 2, 'E': 3, 'G': 4, 'F': 5, 'H': 6,\n",
        "                                                                   'L': 7, 'B': 8})\n",
        "\n",
        "cat_df['deposit_type'] = cat_df['deposit_type'].map({'No Deposit': 0, 'Refundable': 1, 'Non Refund': 3})\n",
        "\n",
        "cat_df['customer_type'] = cat_df['customer_type'].map({'Transient': 0, 'Contract': 1, 'Transient-Party': 2, 'Group': 3})\n",
        "\n",
        "cat_df['year'] = cat_df['year'].map({2015: 0, 2014: 1, 2016: 2, 2017: 3})"
      ],
      "metadata": {
        "execution": {
          "iopub.status.busy": "2021-05-23T07:25:23.044532Z",
          "iopub.execute_input": "2021-05-23T07:25:23.045285Z",
          "iopub.status.idle": "2021-05-23T07:25:23.166332Z",
          "shell.execute_reply.started": "2021-05-23T07:25:23.045237Z",
          "shell.execute_reply": "2021-05-23T07:25:23.165445Z"
        },
        "trusted": true,
        "id": "p7mxr88fS1rW"
      },
      "execution_count": null,
      "outputs": []
    },
    {
      "cell_type": "code",
      "source": [
        "cat_df.head()"
      ],
      "metadata": {
        "execution": {
          "iopub.status.busy": "2021-05-23T07:25:23.167609Z",
          "iopub.execute_input": "2021-05-23T07:25:23.168222Z",
          "iopub.status.idle": "2021-05-23T07:25:23.18349Z",
          "shell.execute_reply.started": "2021-05-23T07:25:23.168177Z",
          "shell.execute_reply": "2021-05-23T07:25:23.182357Z"
        },
        "trusted": true,
        "id": "_jANyPPMS1rW"
      },
      "execution_count": null,
      "outputs": []
    },
    {
      "cell_type": "code",
      "source": [
        "num_df = df.drop(columns = cat_cols, axis = 1)\n",
        "num_df.drop('is_canceled', axis = 1, inplace = True)\n",
        "num_df"
      ],
      "metadata": {
        "execution": {
          "iopub.status.busy": "2021-05-23T07:25:23.185144Z",
          "iopub.execute_input": "2021-05-23T07:25:23.185611Z",
          "iopub.status.idle": "2021-05-23T07:25:23.249604Z",
          "shell.execute_reply.started": "2021-05-23T07:25:23.18554Z",
          "shell.execute_reply": "2021-05-23T07:25:23.248526Z"
        },
        "trusted": true,
        "id": "Sh10ErwtS1rW"
      },
      "execution_count": null,
      "outputs": []
    },
    {
      "cell_type": "code",
      "source": [
        "num_df.var()"
      ],
      "metadata": {
        "execution": {
          "iopub.status.busy": "2021-05-23T07:25:23.251169Z",
          "iopub.execute_input": "2021-05-23T07:25:23.251476Z",
          "iopub.status.idle": "2021-05-23T07:25:23.266826Z",
          "shell.execute_reply.started": "2021-05-23T07:25:23.251446Z",
          "shell.execute_reply": "2021-05-23T07:25:23.265821Z"
        },
        "trusted": true,
        "id": "ruvfQOOvS1rW"
      },
      "execution_count": null,
      "outputs": []
    },
    {
      "cell_type": "code",
      "source": [
        "# normalizing numerical variables\n",
        "\n",
        "num_df['lead_time'] = np.log(num_df['lead_time'] + 1)\n",
        "num_df['arrival_date_week_number'] = np.log(num_df['arrival_date_week_number'] + 1)\n",
        "num_df['arrival_date_day_of_month'] = np.log(num_df['arrival_date_day_of_month'] + 1)\n",
        "num_df['agent'] = np.log(num_df['agent'] + 1)\n",
        "num_df['company'] = np.log(num_df['company'] + 1)\n",
        "num_df['adr'] = np.log(num_df['adr'] + 1)"
      ],
      "metadata": {
        "execution": {
          "iopub.status.busy": "2021-05-23T07:25:23.26807Z",
          "iopub.execute_input": "2021-05-23T07:25:23.268362Z",
          "iopub.status.idle": "2021-05-23T07:25:23.307649Z",
          "shell.execute_reply.started": "2021-05-23T07:25:23.268334Z",
          "shell.execute_reply": "2021-05-23T07:25:23.306746Z"
        },
        "trusted": true,
        "id": "M39AD5Y2S1rW"
      },
      "execution_count": null,
      "outputs": []
    },
    {
      "cell_type": "code",
      "source": [
        "num_df.var()"
      ],
      "metadata": {
        "execution": {
          "iopub.status.busy": "2021-05-23T07:25:23.309244Z",
          "iopub.execute_input": "2021-05-23T07:25:23.309552Z",
          "iopub.status.idle": "2021-05-23T07:25:23.326455Z",
          "shell.execute_reply.started": "2021-05-23T07:25:23.309522Z",
          "shell.execute_reply": "2021-05-23T07:25:23.325329Z"
        },
        "trusted": true,
        "id": "ZQk4ydC5S1rX"
      },
      "execution_count": null,
      "outputs": []
    },
    {
      "cell_type": "code",
      "source": [
        "num_df['adr'] = num_df['adr'].fillna(value = num_df['adr'].mean())"
      ],
      "metadata": {
        "execution": {
          "iopub.status.busy": "2021-05-23T07:25:23.328123Z",
          "iopub.execute_input": "2021-05-23T07:25:23.328562Z",
          "iopub.status.idle": "2021-05-23T07:25:23.336371Z",
          "shell.execute_reply.started": "2021-05-23T07:25:23.328515Z",
          "shell.execute_reply": "2021-05-23T07:25:23.335111Z"
        },
        "trusted": true,
        "id": "t6uEUubpS1rX"
      },
      "execution_count": null,
      "outputs": []
    },
    {
      "cell_type": "code",
      "source": [
        "num_df.head()"
      ],
      "metadata": {
        "execution": {
          "iopub.status.busy": "2021-05-23T07:25:23.337818Z",
          "iopub.execute_input": "2021-05-23T07:25:23.338122Z",
          "iopub.status.idle": "2021-05-23T07:25:23.365273Z",
          "shell.execute_reply.started": "2021-05-23T07:25:23.338094Z",
          "shell.execute_reply": "2021-05-23T07:25:23.364248Z"
        },
        "trusted": true,
        "id": "2cUKtL1fS1rX"
      },
      "execution_count": null,
      "outputs": []
    },
    {
      "cell_type": "code",
      "source": [
        "X = pd.concat([cat_df, num_df], axis = 1)\n",
        "y = df['is_canceled']"
      ],
      "metadata": {
        "execution": {
          "iopub.status.busy": "2021-05-23T07:25:23.366513Z",
          "iopub.execute_input": "2021-05-23T07:25:23.367018Z",
          "iopub.status.idle": "2021-05-23T07:25:23.415883Z",
          "shell.execute_reply.started": "2021-05-23T07:25:23.366979Z",
          "shell.execute_reply": "2021-05-23T07:25:23.414853Z"
        },
        "trusted": true,
        "id": "s1QzIpn4S1rX"
      },
      "execution_count": null,
      "outputs": []
    },
    {
      "cell_type": "code",
      "source": [
        "X.shape, y.shape"
      ],
      "metadata": {
        "execution": {
          "iopub.status.busy": "2021-05-23T07:25:23.417364Z",
          "iopub.execute_input": "2021-05-23T07:25:23.417678Z",
          "iopub.status.idle": "2021-05-23T07:25:23.424195Z",
          "shell.execute_reply.started": "2021-05-23T07:25:23.417649Z",
          "shell.execute_reply": "2021-05-23T07:25:23.422987Z"
        },
        "trusted": true,
        "id": "tWEYIwaRS1rX"
      },
      "execution_count": null,
      "outputs": []
    },
    {
      "cell_type": "code",
      "source": [
        "# splitting data into training set and test set\n",
        "\n",
        "X_train, X_test, y_train, y_test = train_test_split(X, y, test_size = 0.30)"
      ],
      "metadata": {
        "execution": {
          "iopub.status.busy": "2021-05-23T07:25:23.426147Z",
          "iopub.execute_input": "2021-05-23T07:25:23.426749Z",
          "iopub.status.idle": "2021-05-23T07:25:23.504642Z",
          "shell.execute_reply.started": "2021-05-23T07:25:23.426573Z",
          "shell.execute_reply": "2021-05-23T07:25:23.503702Z"
        },
        "trusted": true,
        "id": "ANKN-CFaS1rX"
      },
      "execution_count": null,
      "outputs": []
    },
    {
      "cell_type": "code",
      "source": [
        "X_train.head()"
      ],
      "metadata": {
        "execution": {
          "iopub.status.busy": "2021-05-23T07:25:23.50591Z",
          "iopub.execute_input": "2021-05-23T07:25:23.506401Z",
          "iopub.status.idle": "2021-05-23T07:25:23.532805Z",
          "shell.execute_reply.started": "2021-05-23T07:25:23.506354Z",
          "shell.execute_reply": "2021-05-23T07:25:23.531483Z"
        },
        "trusted": true,
        "id": "1HkFKgPkS1rY"
      },
      "execution_count": null,
      "outputs": []
    },
    {
      "cell_type": "code",
      "source": [
        "X_test.head()"
      ],
      "metadata": {
        "execution": {
          "iopub.status.busy": "2021-05-23T07:25:23.534266Z",
          "iopub.execute_input": "2021-05-23T07:25:23.534681Z",
          "iopub.status.idle": "2021-05-23T07:25:23.563223Z",
          "shell.execute_reply.started": "2021-05-23T07:25:23.534646Z",
          "shell.execute_reply": "2021-05-23T07:25:23.561782Z"
        },
        "trusted": true,
        "id": "NIwghmZOS1rY"
      },
      "execution_count": null,
      "outputs": []
    },
    {
      "cell_type": "code",
      "source": [
        "y_train.head(), y_test.head()"
      ],
      "metadata": {
        "execution": {
          "iopub.status.busy": "2021-05-23T07:25:23.565234Z",
          "iopub.execute_input": "2021-05-23T07:25:23.565683Z",
          "iopub.status.idle": "2021-05-23T07:25:23.576806Z",
          "shell.execute_reply.started": "2021-05-23T07:25:23.565636Z",
          "shell.execute_reply": "2021-05-23T07:25:23.575607Z"
        },
        "trusted": true,
        "id": "Po_AuogjS1rY"
      },
      "execution_count": null,
      "outputs": []
    },
    {
      "cell_type": "markdown",
      "source": [
        "<a id = '4.0'></a>\n",
        "<p style = \"font-size : 45px; color : #34656d ; font-family : 'Comic Sans MS'; text-align : center; background-color : #f9b208; border-radius: 5px 5px;\"><strong>Model Building</strong></p>"
      ],
      "metadata": {
        "id": "1IqXeKygS1rY"
      }
    },
    {
      "cell_type": "markdown",
      "source": [
        "<a id = '4.1'></a>\n",
        "<p style = \"font-size : 34px; color : #fed049 ; font-family : 'Comic Sans MS'; text-align : center; background-color : #007580; border-radius: 5px 5px;\"><strong>Logistic Regression</strong></p>"
      ],
      "metadata": {
        "id": "nF3ry3fjS1rY"
      }
    },
    {
      "cell_type": "code",
      "source": [
        "lr = LogisticRegression()\n",
        "lr.fit(X_train, y_train)\n",
        "\n",
        "y_pred_lr = lr.predict(X_test)\n",
        "\n",
        "acc_lr = accuracy_score(y_test, y_pred_lr)\n",
        "conf = confusion_matrix(y_test, y_pred_lr)\n",
        "clf_report = classification_report(y_test, y_pred_lr)\n",
        "\n",
        "print(f\"Accuracy Score of Logistic Regression is : {acc_lr}\")\n",
        "print(f\"Confusion Matrix : \\n{conf}\")\n",
        "print(f\"Classification Report : \\n{clf_report}\")"
      ],
      "metadata": {
        "execution": {
          "iopub.status.busy": "2021-05-23T07:25:23.578239Z",
          "iopub.execute_input": "2021-05-23T07:25:23.578656Z",
          "iopub.status.idle": "2021-05-23T07:25:25.693007Z",
          "shell.execute_reply.started": "2021-05-23T07:25:23.57862Z",
          "shell.execute_reply": "2021-05-23T07:25:25.692199Z"
        },
        "trusted": true,
        "id": "5LFeUJ8IS1rY"
      },
      "execution_count": null,
      "outputs": []
    },
    {
      "cell_type": "markdown",
      "source": [
        "<a id = '4.2'></a>\n",
        "<p style = \"font-size : 34px; color : #fed049 ; font-family : 'Comic Sans MS'; text-align : center; background-color : #007580; border-radius: 5px 5px;\"><strong>KNN</strong></p>"
      ],
      "metadata": {
        "id": "UtM28QESS1rY"
      }
    },
    {
      "cell_type": "code",
      "source": [
        "knn = KNeighborsClassifier()\n",
        "knn.fit(X_train, y_train)\n",
        "\n",
        "y_pred_knn = knn.predict(X_test)\n",
        "\n",
        "acc_knn = accuracy_score(y_test, y_pred_knn)\n",
        "conf = confusion_matrix(y_test, y_pred_knn)\n",
        "clf_report = classification_report(y_test, y_pred_knn)\n",
        "\n",
        "print(f\"Accuracy Score of KNN is : {acc_knn}\")\n",
        "print(f\"Confusion Matrix : \\n{conf}\")\n",
        "print(f\"Classification Report : \\n{clf_report}\")"
      ],
      "metadata": {
        "execution": {
          "iopub.status.busy": "2021-05-23T07:25:25.694239Z",
          "iopub.execute_input": "2021-05-23T07:25:25.694669Z",
          "iopub.status.idle": "2021-05-23T07:26:27.469914Z",
          "shell.execute_reply.started": "2021-05-23T07:25:25.694636Z",
          "shell.execute_reply": "2021-05-23T07:26:27.468736Z"
        },
        "trusted": true,
        "id": "xLq-QlYaS1rY"
      },
      "execution_count": null,
      "outputs": []
    },
    {
      "cell_type": "markdown",
      "source": [
        "<a id = '4.3'></a>\n",
        "<p style = \"font-size : 34px; color : #fed049 ; font-family : 'Comic Sans MS'; text-align : center; background-color : #007580; border-radius: 5px 5px;\"><strong>Decision Tree Classifier</strong></p>"
      ],
      "metadata": {
        "id": "6AHOiNTwS1rZ"
      }
    },
    {
      "cell_type": "code",
      "source": [
        "dtc = DecisionTreeClassifier()\n",
        "dtc.fit(X_train, y_train)\n",
        "\n",
        "y_pred_dtc = dtc.predict(X_test)\n",
        "\n",
        "acc_dtc = accuracy_score(y_test, y_pred_dtc)\n",
        "conf = confusion_matrix(y_test, y_pred_dtc)\n",
        "clf_report = classification_report(y_test, y_pred_dtc)\n",
        "\n",
        "print(f\"Accuracy Score of Decision Tree is : {acc_dtc}\")\n",
        "print(f\"Confusion Matrix : \\n{conf}\")\n",
        "print(f\"Classification Report : \\n{clf_report}\")"
      ],
      "metadata": {
        "execution": {
          "iopub.status.busy": "2021-05-23T07:26:27.471534Z",
          "iopub.execute_input": "2021-05-23T07:26:27.472213Z",
          "iopub.status.idle": "2021-05-23T07:26:28.25803Z",
          "shell.execute_reply.started": "2021-05-23T07:26:27.472166Z",
          "shell.execute_reply": "2021-05-23T07:26:28.256708Z"
        },
        "trusted": true,
        "id": "AeGwsKwoS1rZ"
      },
      "execution_count": null,
      "outputs": []
    },
    {
      "cell_type": "markdown",
      "source": [
        "<a id = '4.4'></a>\n",
        "<p style = \"font-size : 34px; color : #fed049 ; font-family : 'Comic Sans MS'; text-align : center; background-color : #007580; border-radius: 5px 5px;\"><strong>Random Forest Classifier</strong></p>"
      ],
      "metadata": {
        "id": "ywu7EV4QS1rZ"
      }
    },
    {
      "cell_type": "code",
      "source": [
        "rd_clf = RandomForestClassifier()\n",
        "rd_clf.fit(X_train, y_train)\n",
        "\n",
        "y_pred_rd_clf = rd_clf.predict(X_test)\n",
        "\n",
        "acc_rd_clf = accuracy_score(y_test, y_pred_rd_clf)\n",
        "conf = confusion_matrix(y_test, y_pred_rd_clf)\n",
        "clf_report = classification_report(y_test, y_pred_rd_clf)\n",
        "\n",
        "print(f\"Accuracy Score of Random Forest is : {acc_rd_clf}\")\n",
        "print(f\"Confusion Matrix : \\n{conf}\")\n",
        "print(f\"Classification Report : \\n{clf_report}\")"
      ],
      "metadata": {
        "execution": {
          "iopub.status.busy": "2021-05-23T07:26:28.259399Z",
          "iopub.execute_input": "2021-05-23T07:26:28.259737Z",
          "iopub.status.idle": "2021-05-23T07:26:41.261168Z",
          "shell.execute_reply.started": "2021-05-23T07:26:28.259706Z",
          "shell.execute_reply": "2021-05-23T07:26:41.260077Z"
        },
        "trusted": true,
        "id": "tR5gfRMNS1rZ"
      },
      "execution_count": null,
      "outputs": []
    },
    {
      "cell_type": "markdown",
      "source": [
        "<a id = '4.5'></a>\n",
        "<p style = \"font-size : 34px; color : #fed049 ; font-family : 'Comic Sans MS'; text-align : center; background-color : #007580; border-radius: 5px 5px;\"><strong>Ada Boost Classifier</strong></p>"
      ],
      "metadata": {
        "id": "1ft_KYP4S1rZ"
      }
    },
    {
      "cell_type": "code",
      "source": [
        "ada = AdaBoostClassifier(base_estimator = dtc)\n",
        "ada.fit(X_train, y_train)\n",
        "\n",
        "y_pred_ada = ada.predict(X_test)\n",
        "\n",
        "acc_ada = accuracy_score(y_test, y_pred_ada)\n",
        "conf = confusion_matrix(y_test, y_pred_ada)\n",
        "clf_report = classification_report(y_test, y_pred_ada)\n",
        "\n",
        "print(f\"Accuracy Score of Ada Boost Classifier is : {acc_ada}\")\n",
        "print(f\"Confusion Matrix : \\n{conf}\")\n",
        "print(f\"Classification Report : \\n{clf_report}\")"
      ],
      "metadata": {
        "execution": {
          "iopub.status.busy": "2021-05-23T07:26:41.264952Z",
          "iopub.execute_input": "2021-05-23T07:26:41.265299Z",
          "iopub.status.idle": "2021-05-23T07:26:42.113083Z",
          "shell.execute_reply.started": "2021-05-23T07:26:41.265265Z",
          "shell.execute_reply": "2021-05-23T07:26:42.112082Z"
        },
        "trusted": true,
        "id": "lLgc__eKS1rZ"
      },
      "execution_count": null,
      "outputs": []
    },
    {
      "cell_type": "markdown",
      "source": [
        "<a id = '4.6'></a>\n",
        "<p style = \"font-size : 34px; color : #fed049 ; font-family : 'Comic Sans MS'; text-align : center; background-color : #007580; border-radius: 5px 5px;\"><strong>Gradient Boosting Classifier</strong></p>"
      ],
      "metadata": {
        "id": "700DIsmTS1rZ"
      }
    },
    {
      "cell_type": "code",
      "source": [
        "gb = GradientBoostingClassifier()\n",
        "gb.fit(X_train, y_train)\n",
        "\n",
        "y_pred_gb = gb.predict(X_test)\n",
        "\n",
        "acc_gb = accuracy_score(y_test, y_pred_gb)\n",
        "conf = confusion_matrix(y_test, y_pred_gb)\n",
        "clf_report = classification_report(y_test, y_pred_gb)\n",
        "\n",
        "print(f\"Accuracy Score of Ada Boost Classifier is : {acc_gb}\")\n",
        "print(f\"Confusion Matrix : \\n{conf}\")\n",
        "print(f\"Classification Report : \\n{clf_report}\")"
      ],
      "metadata": {
        "execution": {
          "iopub.status.busy": "2021-05-23T07:26:42.116654Z",
          "iopub.execute_input": "2021-05-23T07:26:42.117348Z",
          "iopub.status.idle": "2021-05-23T07:26:56.85604Z",
          "shell.execute_reply.started": "2021-05-23T07:26:42.117296Z",
          "shell.execute_reply": "2021-05-23T07:26:56.854706Z"
        },
        "trusted": true,
        "id": "qmmauA7kS1rZ"
      },
      "execution_count": null,
      "outputs": []
    },
    {
      "cell_type": "markdown",
      "source": [
        "<a id = '4.7'></a>\n",
        "<p style = \"font-size : 34px; color : #fed049 ; font-family : 'Comic Sans MS'; text-align : center; background-color : #007580; border-radius: 5px 5px;\"><strong>XgBoost Classifier</strong></p>"
      ],
      "metadata": {
        "id": "wR2fYjh9S1ra"
      }
    },
    {
      "cell_type": "code",
      "source": [
        "xgb = XGBClassifier(booster = 'gbtree', learning_rate = 0.1, max_depth = 5, n_estimators = 180)\n",
        "xgb.fit(X_train, y_train)\n",
        "\n",
        "y_pred_xgb = xgb.predict(X_test)\n",
        "\n",
        "acc_xgb = accuracy_score(y_test, y_pred_xgb)\n",
        "conf = confusion_matrix(y_test, y_pred_xgb)\n",
        "clf_report = classification_report(y_test, y_pred_xgb)\n",
        "\n",
        "print(f\"Accuracy Score of Ada Boost Classifier is : {acc_xgb}\")\n",
        "print(f\"Confusion Matrix : \\n{conf}\")\n",
        "print(f\"Classification Report : \\n{clf_report}\")"
      ],
      "metadata": {
        "execution": {
          "iopub.status.busy": "2021-05-23T07:26:56.857132Z",
          "iopub.execute_input": "2021-05-23T07:26:56.857432Z",
          "iopub.status.idle": "2021-05-23T07:27:04.348777Z",
          "shell.execute_reply.started": "2021-05-23T07:26:56.857403Z",
          "shell.execute_reply": "2021-05-23T07:27:04.347674Z"
        },
        "trusted": true,
        "id": "FGfeyTGVS1ra"
      },
      "execution_count": null,
      "outputs": []
    },
    {
      "cell_type": "markdown",
      "source": [
        "<a id = '4.8'></a>\n",
        "<p style = \"font-size : 34px; color : #fed049 ; font-family : 'Comic Sans MS'; text-align : center; background-color : #007580; border-radius: 5px 5px;\"><strong>Cat Boost Classifier</strong></p>"
      ],
      "metadata": {
        "id": "YLRj185kS1ra"
      }
    },
    {
      "cell_type": "code",
      "source": [
        "cat = CatBoostClassifier(iterations=100)\n",
        "cat.fit(X_train, y_train)\n",
        "\n",
        "y_pred_cat = cat.predict(X_test)\n",
        "\n",
        "acc_cat = accuracy_score(y_test, y_pred_cat)\n",
        "conf = confusion_matrix(y_test, y_pred_cat)\n",
        "clf_report = classification_report(y_test, y_pred_cat)"
      ],
      "metadata": {
        "execution": {
          "iopub.status.busy": "2021-05-23T07:27:04.350093Z",
          "iopub.execute_input": "2021-05-23T07:27:04.350395Z",
          "iopub.status.idle": "2021-05-23T07:27:06.882272Z",
          "shell.execute_reply.started": "2021-05-23T07:27:04.350367Z",
          "shell.execute_reply": "2021-05-23T07:27:06.881078Z"
        },
        "_kg_hide-output": true,
        "trusted": true,
        "id": "xN-OLw8AS1ra"
      },
      "execution_count": null,
      "outputs": []
    },
    {
      "cell_type": "code",
      "source": [
        "print(f\"Accuracy Score of Ada Boost Classifier is : {acc_cat}\")\n",
        "print(f\"Confusion Matrix : \\n{conf}\")\n",
        "print(f\"Classification Report : \\n{clf_report}\")"
      ],
      "metadata": {
        "execution": {
          "iopub.status.busy": "2021-05-23T07:27:06.883931Z",
          "iopub.execute_input": "2021-05-23T07:27:06.884272Z",
          "iopub.status.idle": "2021-05-23T07:27:06.890964Z",
          "shell.execute_reply.started": "2021-05-23T07:27:06.884241Z",
          "shell.execute_reply": "2021-05-23T07:27:06.889324Z"
        },
        "trusted": true,
        "id": "uPzKpMunS1ra"
      },
      "execution_count": null,
      "outputs": []
    },
    {
      "cell_type": "markdown",
      "source": [
        "<a id = '4.9'></a>\n",
        "<p style = \"font-size : 34px; color : #fed049 ; font-family : 'Comic Sans MS'; text-align : center; background-color : #007580; border-radius: 5px 5px;\"><strong>Extra Trees Classifier</strong></p>"
      ],
      "metadata": {
        "id": "zFa5VhgVS1ra"
      }
    },
    {
      "cell_type": "code",
      "source": [
        "etc = ExtraTreesClassifier()\n",
        "etc.fit(X_train, y_train)\n",
        "\n",
        "y_pred_etc = etc.predict(X_test)\n",
        "\n",
        "acc_etc = accuracy_score(y_test, y_pred_etc)\n",
        "conf = confusion_matrix(y_test, y_pred_etc)\n",
        "clf_report = classification_report(y_test, y_pred_etc)\n",
        "\n",
        "print(f\"Accuracy Score of Ada Boost Classifier is : {acc_etc}\")\n",
        "print(f\"Confusion Matrix : \\n{conf}\")\n",
        "print(f\"Classification Report : \\n{clf_report}\")"
      ],
      "metadata": {
        "execution": {
          "iopub.status.busy": "2021-05-23T07:27:06.892781Z",
          "iopub.execute_input": "2021-05-23T07:27:06.893229Z",
          "iopub.status.idle": "2021-05-23T07:27:18.85904Z",
          "shell.execute_reply.started": "2021-05-23T07:27:06.89318Z",
          "shell.execute_reply": "2021-05-23T07:27:18.858075Z"
        },
        "trusted": true,
        "id": "e8ch-ZgCS1rc"
      },
      "execution_count": null,
      "outputs": []
    },
    {
      "cell_type": "markdown",
      "source": [
        "<a id = '4.10'></a>\n",
        "<p style = \"font-size : 34px; color : #fed049 ; font-family : 'Comic Sans MS'; text-align : center; background-color : #007580; border-radius: 5px 5px;\"><strong>LGBM Classifier</strong></p>"
      ],
      "metadata": {
        "id": "B4JDaNAlS1rc"
      }
    },
    {
      "cell_type": "code",
      "source": [
        "lgbm = LGBMClassifier(learning_rate = 1)\n",
        "lgbm.fit(X_train, y_train)\n",
        "\n",
        "y_pred_lgbm = lgbm.predict(X_test)\n",
        "\n",
        "acc_lgbm = accuracy_score(y_test, y_pred_lgbm)\n",
        "conf = confusion_matrix(y_test, y_pred_lgbm)\n",
        "clf_report = classification_report(y_test, y_pred_lgbm)\n",
        "\n",
        "print(f\"Accuracy Score of Ada Boost Classifier is : {acc_lgbm}\")\n",
        "print(f\"Confusion Matrix : \\n{conf}\")\n",
        "print(f\"Classification Report : \\n{clf_report}\")"
      ],
      "metadata": {
        "execution": {
          "iopub.status.busy": "2021-05-23T07:27:18.860661Z",
          "iopub.execute_input": "2021-05-23T07:27:18.861026Z",
          "iopub.status.idle": "2021-05-23T07:27:20.036273Z",
          "shell.execute_reply.started": "2021-05-23T07:27:18.860993Z",
          "shell.execute_reply": "2021-05-23T07:27:20.035254Z"
        },
        "trusted": true,
        "id": "nku7jZbQS1rc"
      },
      "execution_count": null,
      "outputs": []
    },
    {
      "cell_type": "markdown",
      "source": [
        "<a id = '4.12'></a>\n",
        "<p style = \"font-size : 34px; color : #fed049 ; font-family : 'Comic Sans MS'; text-align : center; background-color : #007580; border-radius: 5px 5px;\"><strong>Voting Classifier</strong></p>"
      ],
      "metadata": {
        "id": "E2A2wNMrS1rc"
      }
    },
    {
      "cell_type": "code",
      "source": [
        "classifiers = [('Gradient Boosting Classifier', gb), ('Cat Boost Classifier', cat), ('XGboost', xgb),  ('Decision Tree', dtc),\n",
        "               ('Extra Tree', etc), ('Light Gradient', lgbm), ('Random Forest', rd_clf), ('Ada Boost', ada), ('Logistic', lr),\n",
        "               ('Knn', knn)]\n",
        "vc = VotingClassifier(estimators = classifiers)\n",
        "vc.fit(X_train, y_train)"
      ],
      "metadata": {
        "_kg_hide-output": true,
        "id": "I-Wc05v7S1rc"
      },
      "execution_count": null,
      "outputs": []
    },
    {
      "cell_type": "code",
      "source": [
        "y_pred_vc = vc.predict(X_test)\n",
        "\n",
        "acc_vtc = accuracy_score(y_test, y_pred_vc)\n",
        "conf = confusion_matrix(y_test, y_pred_vc)\n",
        "clf_report = classification_report(y_test, y_pred_vc)\n",
        "\n",
        "print(f\"Accuracy Score of Ada Boost Classifier is : {acc_vtc}\")\n",
        "print(f\"Confusion Matrix : \\n{conf}\")\n",
        "print(f\"Classification Report : \\n{clf_report}\")"
      ],
      "metadata": {
        "execution": {
          "iopub.status.busy": "2021-05-23T07:28:10.646306Z",
          "iopub.execute_input": "2021-05-23T07:28:10.649241Z",
          "iopub.status.idle": "2021-05-23T07:29:15.017344Z",
          "shell.execute_reply.started": "2021-05-23T07:28:10.649175Z",
          "shell.execute_reply": "2021-05-23T07:29:15.016467Z"
        },
        "trusted": true,
        "id": "V23XGMGwS1rc"
      },
      "execution_count": null,
      "outputs": []
    },
    {
      "cell_type": "markdown",
      "source": [
        "<a id = '4.11'></a>\n",
        "<p style = \"font-size : 34px; color : #fed049 ; font-family : 'Comic Sans MS'; text-align : center; background-color : #007580; border-radius: 5px 5px;\"><strong>ANN</strong></p>"
      ],
      "metadata": {
        "id": "qF9fIybYS1rc"
      }
    },
    {
      "cell_type": "code",
      "source": [
        "from tensorflow.keras.utils import to_categorical\n",
        "\n",
        "X = pd.concat([cat_df, num_df], axis = 1)\n",
        "y = to_categorical(df['is_canceled'])"
      ],
      "metadata": {
        "execution": {
          "iopub.status.busy": "2021-05-23T07:29:15.018667Z",
          "iopub.execute_input": "2021-05-23T07:29:15.018989Z",
          "iopub.status.idle": "2021-05-23T07:29:20.602706Z",
          "shell.execute_reply.started": "2021-05-23T07:29:15.018955Z",
          "shell.execute_reply": "2021-05-23T07:29:20.601795Z"
        },
        "trusted": true,
        "id": "x0I5df2OS1rc"
      },
      "execution_count": null,
      "outputs": []
    },
    {
      "cell_type": "code",
      "source": [
        "# splitting data into training set and test set\n",
        "\n",
        "X_train, X_test, y_train, y_test = train_test_split(X, y, test_size = 0.30)"
      ],
      "metadata": {
        "execution": {
          "iopub.status.busy": "2021-05-23T07:29:20.603831Z",
          "iopub.execute_input": "2021-05-23T07:29:20.604276Z",
          "iopub.status.idle": "2021-05-23T07:29:20.661651Z",
          "shell.execute_reply.started": "2021-05-23T07:29:20.604233Z",
          "shell.execute_reply": "2021-05-23T07:29:20.660663Z"
        },
        "trusted": true,
        "id": "HDbzpDvdS1rd"
      },
      "execution_count": null,
      "outputs": []
    },
    {
      "cell_type": "code",
      "source": [
        "import keras\n",
        "from keras.layers import Dense\n",
        "from keras.models import Sequential\n",
        "\n",
        "model  = Sequential()\n",
        "model.add(Dense(100, activation = 'relu', input_shape = (26, )))\n",
        "model.add(Dense(100, activation = 'relu'))\n",
        "model.add(Dense(2, activation = 'sigmoid'))\n",
        "model.compile(optimizer = 'adam', loss = 'binary_crossentropy', metrics = ['accuracy'])\n",
        "model_history = model.fit(X_train, y_train, validation_data = (X_test, y_test),\n",
        "                          epochs = 100)"
      ],
      "metadata": {
        "execution": {
          "iopub.status.busy": "2021-05-23T07:29:20.662812Z",
          "iopub.execute_input": "2021-05-23T07:29:20.663281Z",
          "iopub.status.idle": "2021-05-23T07:37:02.424648Z",
          "shell.execute_reply.started": "2021-05-23T07:29:20.663235Z",
          "shell.execute_reply": "2021-05-23T07:37:02.423475Z"
        },
        "_kg_hide-output": true,
        "trusted": true,
        "id": "yiBSnxZAS1rd"
      },
      "execution_count": null,
      "outputs": []
    },
    {
      "cell_type": "code",
      "source": [
        "plt.figure(figsize = (12, 6))\n",
        "\n",
        "train_loss = model_history.history['loss']\n",
        "val_loss = model_history.history['val_loss']\n",
        "epoch = range(1, 101)\n",
        "\n",
        "loss = pd.DataFrame({'train_loss' : train_loss, 'val_loss' : val_loss})\n",
        "\n",
        "px.line(data_frame = loss, x = epoch, y = ['val_loss', 'train_loss'], title = 'Training and Validation Loss',\n",
        "        template = 'plotly_dark')"
      ],
      "metadata": {
        "execution": {
          "iopub.status.busy": "2021-05-23T07:37:02.428386Z",
          "iopub.execute_input": "2021-05-23T07:37:02.428744Z",
          "iopub.status.idle": "2021-05-23T07:37:02.518392Z",
          "shell.execute_reply.started": "2021-05-23T07:37:02.42871Z",
          "shell.execute_reply": "2021-05-23T07:37:02.517459Z"
        },
        "trusted": true,
        "id": "tRhdKRFCS1rd"
      },
      "execution_count": null,
      "outputs": []
    },
    {
      "cell_type": "code",
      "source": [
        "plt.figure(figsize = (12, 6))\n",
        "\n",
        "train_acc = model_history.history['accuracy']\n",
        "val_acc = model_history.history['val_accuracy']\n",
        "epoch = range(1, 101)\n",
        "\n",
        "\n",
        "accuracy = pd.DataFrame({'train_acc' : train_acc, 'val_acc' : val_acc})\n",
        "\n",
        "px.line(data_frame = accuracy, x = epoch, y = ['val_acc', 'train_acc'], title = 'Training and Validation Accuracy',\n",
        "        template = 'plotly_dark')"
      ],
      "metadata": {
        "execution": {
          "iopub.status.busy": "2021-05-23T07:37:02.520657Z",
          "iopub.execute_input": "2021-05-23T07:37:02.52094Z",
          "iopub.status.idle": "2021-05-23T07:37:02.608134Z",
          "shell.execute_reply.started": "2021-05-23T07:37:02.520913Z",
          "shell.execute_reply": "2021-05-23T07:37:02.60687Z"
        },
        "trusted": true,
        "id": "rK7ryXfhS1rd"
      },
      "execution_count": null,
      "outputs": []
    },
    {
      "cell_type": "code",
      "source": [
        "acc_ann = model.evaluate(X_test, y_test)[1]\n",
        "\n",
        "print(f'Accuracy of model is {acc_ann}')"
      ],
      "metadata": {
        "execution": {
          "iopub.status.busy": "2021-05-23T07:37:02.609682Z",
          "iopub.execute_input": "2021-05-23T07:37:02.610014Z",
          "iopub.status.idle": "2021-05-23T07:37:03.708457Z",
          "shell.execute_reply.started": "2021-05-23T07:37:02.609981Z",
          "shell.execute_reply": "2021-05-23T07:37:03.707609Z"
        },
        "trusted": true,
        "id": "U-m_afSPS1rd"
      },
      "execution_count": null,
      "outputs": []
    },
    {
      "cell_type": "markdown",
      "source": [
        "<a id = '5.0'></a>\n",
        "<p style = \"font-size : 34px; color : #fed049 ; font-family : 'Comic Sans MS'; text-align : center; background-color : #007580; border-radius: 5px 5px;\"><strong>Models Comparison</strong></p>"
      ],
      "metadata": {
        "id": "ejykWxAHS1rd"
      }
    },
    {
      "cell_type": "code",
      "source": [
        "models = pd.DataFrame({\n",
        "    'Model' : ['Logistic Regression', 'KNN', 'Decision Tree Classifier', 'Random Forest Classifier','Ada Boost Classifier',\n",
        "             'Gradient Boosting Classifier', 'XgBoost', 'Cat Boost', 'Extra Trees Classifier', 'LGBM', 'Voting Classifier'\n",
        "               , 'ANN'],\n",
        "    'Score' : [acc_lr, acc_knn, acc_dtc, acc_rd_clf, acc_ada, acc_gb, acc_xgb, acc_cat, acc_etc, acc_lgbm, acc_vtc, acc_ann]\n",
        "})\n",
        "\n",
        "\n",
        "models.sort_values(by = 'Score', ascending = False)"
      ],
      "metadata": {
        "execution": {
          "iopub.status.busy": "2021-05-23T07:37:03.710702Z",
          "iopub.execute_input": "2021-05-23T07:37:03.711157Z",
          "iopub.status.idle": "2021-05-23T07:37:03.728382Z",
          "shell.execute_reply.started": "2021-05-23T07:37:03.711111Z",
          "shell.execute_reply": "2021-05-23T07:37:03.727192Z"
        },
        "trusted": true,
        "id": "78WLnRs3S1rd"
      },
      "execution_count": null,
      "outputs": []
    },
    {
      "cell_type": "code",
      "source": [
        "px.bar(data_frame = models, x = 'Score', y = 'Model', color = 'Score', template = 'plotly_dark', title = 'Models Comparison')"
      ],
      "metadata": {
        "execution": {
          "iopub.status.busy": "2021-05-23T07:46:21.620671Z",
          "iopub.execute_input": "2021-05-23T07:46:21.621469Z",
          "iopub.status.idle": "2021-05-23T07:46:21.701136Z",
          "shell.execute_reply.started": "2021-05-23T07:46:21.621411Z",
          "shell.execute_reply": "2021-05-23T07:46:21.699907Z"
        },
        "trusted": true,
        "id": "tmzmZc46S1rd"
      },
      "execution_count": null,
      "outputs": []
    },
    {
      "cell_type": "markdown",
      "source": [
        "<p style = \"font-size : 30px; color : #03506f ; font-family : 'Comic Sans MS'; \"><strong>We got accuracy score of 99.5% which is quite impresive.</strong></p>"
      ],
      "metadata": {
        "id": "OvMMNfyIS1re"
      }
    },
    {
      "cell_type": "markdown",
      "source": [
        "<p style = \"font-size : 25px; color : #f55c47 ; font-family : 'Comic Sans MS'; \"><strong>If you like my work, please do Upvote.</strong></p>"
      ],
      "metadata": {
        "id": "cQfckAdOS1re"
      }
    }
  ]
}