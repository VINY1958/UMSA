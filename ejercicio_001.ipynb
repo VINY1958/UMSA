{
  "nbformat": 4,
  "nbformat_minor": 0,
  "metadata": {
    "colab": {
      "provenance": []
    },
    "kernelspec": {
      "name": "python3",
      "display_name": "Python 3"
    },
    "language_info": {
      "name": "python"
    }
  },
  "cells": [
    {
      "cell_type": "markdown",
      "source": [
        "# **<font color=\"DarkBlue\">Mis primeros ejercicios con Python</font>**"
      ],
      "metadata": {
        "id": "ZJ8MFCRegkBU"
      }
    },
    {
      "cell_type": "markdown",
      "source": [
        "<p align=\"center\">\n",
        "<img src=\"https://pypi.org/static/images/logo-small.8998e9d1.svg\" width=\"90\" height=\"\">\n",
        "</p>"
      ],
      "metadata": {
        "id": "gjpEYi_23t-3"
      }
    },
    {
      "cell_type": "markdown",
      "source": [
        "## **<font color=\"DarkBlue\">Ejercicio 1: Añadir comentarios</font>**"
      ],
      "metadata": {
        "id": "ZiHPlFwRnqdY"
      }
    },
    {
      "cell_type": "markdown",
      "source": [
        "Tarea: Añade comentarios explicativos al siguiente código para describir lo que hace cada línea"
      ],
      "metadata": {
        "id": "Gg4K_0MVpdOS"
      }
    },
    {
      "cell_type": "code",
      "source": [
        "a = 5\n",
        "b = 3\n",
        "suma = a + b\n",
        "print(suma)"
      ],
      "metadata": {
        "id": "o6vCIAz9nzfq",
        "colab": {
          "base_uri": "https://localhost:8080/"
        },
        "outputId": "6dc85101-4c9b-4da2-92bb-4de2cac22368"
      },
      "execution_count": null,
      "outputs": [
        {
          "output_type": "stream",
          "name": "stdout",
          "text": [
            "8\n"
          ]
        }
      ]
    },
    {
      "cell_type": "markdown",
      "source": [
        "## **<font color=\"DarkBlue\">Ejercicio 2: Asignación de variables</font>**"
      ],
      "metadata": {
        "id": "N1lFpAnWpjmt"
      }
    },
    {
      "cell_type": "markdown",
      "source": [
        "Tarea: Crea variables de diferentes tipos (entero, flotante, cadena, booleano) y asigna valores adecuados a cada una. Luego imprime los valores."
      ],
      "metadata": {
        "id": "-nAuKvYVprIq"
      }
    },
    {
      "cell_type": "code",
      "source": [
        "# Ejemplo de variables de diferentes tipos\n",
        "# Completa el código\n",
        "mi_entero = 4\n",
        "mi_flotante = 3.4\n",
        "mi_cadena = \"Hola\"\n",
        "mi_booleano = True"
      ],
      "metadata": {
        "id": "QNNlluD_prkV"
      },
      "execution_count": 1,
      "outputs": []
    },
    {
      "cell_type": "code",
      "source": [
        "# Imprime los valores\n",
        "print(mi_entero)\n",
        "print(mi_flotante)\n",
        "print(mi_cadena)\n",
        "print(mi_booleano)"
      ],
      "metadata": {
        "id": "AblM_866qBUf",
        "colab": {
          "base_uri": "https://localhost:8080/"
        },
        "outputId": "d5e50808-cc29-401f-e4a0-c64bc608466d"
      },
      "execution_count": 2,
      "outputs": [
        {
          "output_type": "stream",
          "name": "stdout",
          "text": [
            "4\n",
            "3.4\n",
            "Hola\n",
            "True\n"
          ]
        }
      ]
    },
    {
      "cell_type": "markdown",
      "source": [
        "## **<font color=\"DarkBlue\">Ejercicio 3: Operaciones aritméticas</font>**"
      ],
      "metadata": {
        "id": "hEeVDYqKpsDC"
      }
    },
    {
      "cell_type": "markdown",
      "source": [
        "Tarea: Realiza las siguientes operaciones aritméticas e imprime los resultados: suma, resta, multiplicación, división, división entera, módulo y exponenciación con los números 10 y 3."
      ],
      "metadata": {
        "id": "a4iAaTJppsgc"
      }
    },
    {
      "cell_type": "code",
      "source": [
        "a = 3\n",
        "b = 2"
      ],
      "metadata": {
        "id": "ywUVb7_WptE9"
      },
      "execution_count": 3,
      "outputs": []
    },
    {
      "cell_type": "code",
      "source": [
        "# Completa el código para realizar las operaciones e imprimir los resultados\n",
        "\n",
        "suma = a + b\n",
        "resta = a - b\n",
        "multiplicacion = a * b\n",
        "division = a / b\n",
        "division_entera = a//b\n",
        "modulo = a % b\n",
        "exponenciacion = a**b"
      ],
      "metadata": {
        "id": "8Z0hvwxKqfW_"
      },
      "execution_count": null,
      "outputs": []
    },
    {
      "cell_type": "code",
      "source": [
        "print(\"Suma:\", suma)\n",
        "print(\"Resta:\", resta)\n",
        "print(\"Multiplicación:\", multiplicacion)\n",
        "print(\"División:\", division)\n",
        "print(\"División Entera:\", division_entera)\n",
        "print(\"Módulo:\", modulo)\n",
        "print(\"Exponenciación:\", exponenciacion)"
      ],
      "metadata": {
        "id": "O1C2IwKKqh-m",
        "colab": {
          "base_uri": "https://localhost:8080/"
        },
        "outputId": "30ca4c2d-b6ab-430c-bc61-e87d3eef8bc8"
      },
      "execution_count": null,
      "outputs": [
        {
          "output_type": "stream",
          "name": "stdout",
          "text": [
            "Suma: 8\n",
            "Resta: 2\n",
            "Multiplicación: 15\n",
            "División: 1.6666666666666667\n",
            "División Entera: 1\n",
            "Módulo: 2\n",
            "Exponenciación: 125\n"
          ]
        }
      ]
    },
    {
      "cell_type": "markdown",
      "source": [
        "## **<font color=\"DarkBlue\">Ejercicio 4: Operadores de comparación</font>**"
      ],
      "metadata": {
        "id": "8RgbGQOpqpbk"
      }
    },
    {
      "cell_type": "markdown",
      "source": [
        "Tarea: Escribe un código que compare dos números (5 y 7) usando todos los operadores de comparación y muestre los resultados."
      ],
      "metadata": {
        "id": "D6wfMO0WqqKW"
      }
    },
    {
      "cell_type": "code",
      "source": [
        "a = 3\n",
        "b ="
      ],
      "metadata": {
        "id": "w8To5jqHqqjM"
      },
      "execution_count": null,
      "outputs": []
    },
    {
      "cell_type": "code",
      "source": [
        "# Completa el código para realizar las comparaciones e imprimir los resultados\n",
        "igual = a == b\n",
        "diferente = a!= b\n",
        "mayor_que = a> b\n",
        "menor_que = a<= b\n",
        "mayor_o_igual = a>=b\n",
        "menor_o_igual = a<=b"
      ],
      "metadata": {
        "id": "tEFT1WQ1u60H"
      },
      "execution_count": 4,
      "outputs": []
    },
    {
      "cell_type": "code",
      "source": [
        "print(\"Igual:\", igual)\n",
        "print(\"Diferente:\", diferente)\n",
        "print(\"Mayor que:\", mayor_que)\n",
        "print(\"Menor que:\", menor_que)\n",
        "print(\"Mayor o igual que:\", mayor_o_igual)\n",
        "print(\"Menor o igual que:\", menor_o_igual)"
      ],
      "metadata": {
        "id": "EhivkbL8vMoq",
        "colab": {
          "base_uri": "https://localhost:8080/"
        },
        "outputId": "2d3099a7-a9b5-47f3-89d8-ef771771b40f"
      },
      "execution_count": 5,
      "outputs": [
        {
          "output_type": "stream",
          "name": "stdout",
          "text": [
            "Igual: False\n",
            "Diferente: True\n",
            "Mayor que: True\n",
            "Menor que: False\n",
            "Mayor o igual que: True\n",
            "Menor o igual que: False\n"
          ]
        }
      ]
    },
    {
      "cell_type": "markdown",
      "source": [
        "## **<font color=\"DarkBlue\">Ejercicio 5: Operadores lógicos</font>**"
      ],
      "metadata": {
        "id": "yKIagXe7v4EX"
      }
    },
    {
      "cell_type": "markdown",
      "source": [
        "Tarea: Usa los operadores lógicos and, or y not para evaluar las siguientes expresiones y muestra los resultados:\n",
        "\n",
        "- True and False\n",
        "- True or False\n",
        "- not True"
      ],
      "metadata": {
        "id": "mfMgq1Amv_IP"
      }
    },
    {
      "cell_type": "code",
      "source": [
        "exp1 = True and False\n",
        "exp2 = True or False\n",
        "exp3 = not True"
      ],
      "metadata": {
        "id": "N6v3qlKsv_y-"
      },
      "execution_count": 6,
      "outputs": []
    },
    {
      "cell_type": "code",
      "source": [
        "print(\"True and False:\", exp1)\n",
        "print(\"True or False:\", exp2)\n",
        "print(\"not True:\", exp3)"
      ],
      "metadata": {
        "id": "CofyDddcyIgF",
        "colab": {
          "base_uri": "https://localhost:8080/"
        },
        "outputId": "cb62c40c-0098-4a83-bcb7-e60f78fc18cd"
      },
      "execution_count": 7,
      "outputs": [
        {
          "output_type": "stream",
          "name": "stdout",
          "text": [
            "True and False: False\n",
            "True or False: True\n",
            "not True: False\n"
          ]
        }
      ]
    },
    {
      "cell_type": "markdown",
      "source": [
        "## **<font color=\"DarkBlue\">Ejercicio 6: Condicionales</font>**"
      ],
      "metadata": {
        "id": "GFXmd3nWyTQD"
      }
    },
    {
      "cell_type": "markdown",
      "source": [
        "Tarea: Escribe un programa que tome una variable edad e imprima si la persona es un niño, adolescente, o adulto, usando if, elif y else."
      ],
      "metadata": {
        "id": "VayKiE1gyZtv"
      }
    },
    {
      "cell_type": "code",
      "source": [
        "edad = 25"
      ],
      "metadata": {
        "id": "4-BUWiDuyo79"
      },
      "execution_count": 8,
      "outputs": []
    },
    {
      "cell_type": "code",
      "source": [
        "# Completa el código para verificar la edad e imprimir el mensaje correspondiente\n",
        "if edad < 12:\n",
        "    print(\"Eres un niño\")\n",
        "elif edad < 18:\n",
        "    print(\"Eres un adolescente\")\n",
        "elif edad > 18:\n",
        "    print(\"Eres un adulto\")"
      ],
      "metadata": {
        "id": "OFlOaN-eyaGS",
        "colab": {
          "base_uri": "https://localhost:8080/"
        },
        "outputId": "fe8fd034-3b94-4188-bb4b-b3d02020d181"
      },
      "execution_count": 9,
      "outputs": [
        {
          "output_type": "stream",
          "name": "stdout",
          "text": [
            "Eres un adulto\n"
          ]
        }
      ]
    },
    {
      "cell_type": "markdown",
      "source": [
        "## **<font color=\"DarkBlue\">Ejercicio 7: Bucle for</font>**"
      ],
      "metadata": {
        "id": "EONo8ncUyx3z"
      }
    },
    {
      "cell_type": "markdown",
      "source": [
        "Tarea: Usa un bucle for para iterar sobre una lista de nombres e imprimir cada elemento."
      ],
      "metadata": {
        "id": "FSSMNWVyyyZ7"
      }
    },
    {
      "cell_type": "code",
      "source": [
        "financiacion = [\"3 cuotas\", \"6 cuotas\", \"9 cuotas\", \"12 cuotas\"]"
      ],
      "metadata": {
        "id": "g60ct_-zzTDh"
      },
      "execution_count": 10,
      "outputs": []
    },
    {
      "cell_type": "code",
      "source": [
        "\n",
        "# Completa el código para iterar sobre la lista de financiacion e imprimir cada uno\n",
        "for i in financiacion:\n",
        "    print(i)"
      ],
      "metadata": {
        "id": "U6Cb7vD1yy7n",
        "colab": {
          "base_uri": "https://localhost:8080/"
        },
        "outputId": "323f3075-8bb6-48f4-e192-c3e42f3388ab"
      },
      "execution_count": 11,
      "outputs": [
        {
          "output_type": "stream",
          "name": "stdout",
          "text": [
            "3 cuotas\n",
            "6 cuotas\n",
            "9 cuotas\n",
            "12 cuotas\n"
          ]
        }
      ]
    },
    {
      "cell_type": "markdown",
      "source": [
        "## **<font color=\"DarkBlue\">Ejercicio 8: Bucle while</font>**"
      ],
      "metadata": {
        "id": "HNS94HPCzsLA"
      }
    },
    {
      "cell_type": "markdown",
      "source": [
        "Tarea: Escribe un bucle while que imprima los números del 1 al 5."
      ],
      "metadata": {
        "id": "-7l9T0gb0NBY"
      }
    },
    {
      "cell_type": "code",
      "source": [
        "contador = 1"
      ],
      "metadata": {
        "id": "83m7-0Qj0S1a"
      },
      "execution_count": 12,
      "outputs": []
    },
    {
      "cell_type": "code",
      "source": [
        "# Completa el código para imprimir los números del 1 al 5 usando un bucle while\n",
        "while contador <5:\n",
        "    print(contador)\n",
        "    contador += 1\n"
      ],
      "metadata": {
        "id": "U_0_5Osk0NcM",
        "colab": {
          "base_uri": "https://localhost:8080/"
        },
        "outputId": "799ea701-013f-4ede-bc8b-abc40b922487"
      },
      "execution_count": 13,
      "outputs": [
        {
          "output_type": "stream",
          "name": "stdout",
          "text": [
            "1\n",
            "2\n",
            "3\n",
            "4\n"
          ]
        }
      ]
    },
    {
      "cell_type": "markdown",
      "source": [
        "<p align=\"center\"><b>\n",
        "💗\n",
        "<font color=\"DarkBlue\">\n",
        "Hemos llegado al final de nuestra ejercitación en colab, a seguir ejercitando...\n",
        "</font>\n",
        "</p>\n",
        "\n"
      ],
      "metadata": {
        "id": "jLFcCFoEuxr6"
      }
    }
  ]
}