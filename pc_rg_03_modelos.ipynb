{
  "nbformat": 4,
  "nbformat_minor": 0,
  "metadata": {
    "colab": {
      "provenance": [],
      "gpuType": "T4",
      "include_colab_link": true
    },
    "kernelspec": {
      "name": "python3",
      "display_name": "Python 3"
    },
    "accelerator": "GPU",
    "widgets": {
      "application/vnd.jupyter.widget-state+json": {
        "34b41794671941d8a419533ea7874776": {
          "model_module": "@jupyter-widgets/controls",
          "model_name": "HBoxModel",
          "model_module_version": "1.5.0",
          "state": {
            "_dom_classes": [],
            "_model_module": "@jupyter-widgets/controls",
            "_model_module_version": "1.5.0",
            "_model_name": "HBoxModel",
            "_view_count": null,
            "_view_module": "@jupyter-widgets/controls",
            "_view_module_version": "1.5.0",
            "_view_name": "HBoxView",
            "box_style": "",
            "children": [
              "IPY_MODEL_583eabea41bd4d0789375cc6988168ca",
              "IPY_MODEL_e6137c247a98442d8368a1d625e64f82",
              "IPY_MODEL_642cf0be254146c796bfef50b8ad0df8"
            ],
            "layout": "IPY_MODEL_8b8ac35546d7457f9dbeb4d5249b9e5c"
          }
        },
        "583eabea41bd4d0789375cc6988168ca": {
          "model_module": "@jupyter-widgets/controls",
          "model_name": "HTMLModel",
          "model_module_version": "1.5.0",
          "state": {
            "_dom_classes": [],
            "_model_module": "@jupyter-widgets/controls",
            "_model_module_version": "1.5.0",
            "_model_name": "HTMLModel",
            "_view_count": null,
            "_view_module": "@jupyter-widgets/controls",
            "_view_module_version": "1.5.0",
            "_view_name": "HTMLView",
            "description": "",
            "description_tooltip": null,
            "layout": "IPY_MODEL_e81216df6bdf4d68b34f45f95420c8c9",
            "placeholder": "​",
            "style": "IPY_MODEL_14c071ff5341413d8710a53c1cb26efa",
            "value": "Processing:   0%"
          }
        },
        "e6137c247a98442d8368a1d625e64f82": {
          "model_module": "@jupyter-widgets/controls",
          "model_name": "FloatProgressModel",
          "model_module_version": "1.5.0",
          "state": {
            "_dom_classes": [],
            "_model_module": "@jupyter-widgets/controls",
            "_model_module_version": "1.5.0",
            "_model_name": "FloatProgressModel",
            "_view_count": null,
            "_view_module": "@jupyter-widgets/controls",
            "_view_module_version": "1.5.0",
            "_view_name": "ProgressView",
            "bar_style": "",
            "description": "",
            "description_tooltip": null,
            "layout": "IPY_MODEL_8d4825cb5383484f9fb731f048438de5",
            "max": 7,
            "min": 0,
            "orientation": "horizontal",
            "style": "IPY_MODEL_b267741ccca24d8d85106b87d2a63f6d",
            "value": 0
          }
        },
        "642cf0be254146c796bfef50b8ad0df8": {
          "model_module": "@jupyter-widgets/controls",
          "model_name": "HTMLModel",
          "model_module_version": "1.5.0",
          "state": {
            "_dom_classes": [],
            "_model_module": "@jupyter-widgets/controls",
            "_model_module_version": "1.5.0",
            "_model_name": "HTMLModel",
            "_view_count": null,
            "_view_module": "@jupyter-widgets/controls",
            "_view_module_version": "1.5.0",
            "_view_name": "HTMLView",
            "description": "",
            "description_tooltip": null,
            "layout": "IPY_MODEL_f3861e1c8d6e4689bae53d83af5d4813",
            "placeholder": "​",
            "style": "IPY_MODEL_c59d9088517a4f219b7ef817d27a3a1d",
            "value": " 0/7 [00:00&lt;?, ?it/s]"
          }
        },
        "8b8ac35546d7457f9dbeb4d5249b9e5c": {
          "model_module": "@jupyter-widgets/base",
          "model_name": "LayoutModel",
          "model_module_version": "1.2.0",
          "state": {
            "_model_module": "@jupyter-widgets/base",
            "_model_module_version": "1.2.0",
            "_model_name": "LayoutModel",
            "_view_count": null,
            "_view_module": "@jupyter-widgets/base",
            "_view_module_version": "1.2.0",
            "_view_name": "LayoutView",
            "align_content": null,
            "align_items": null,
            "align_self": null,
            "border": null,
            "bottom": null,
            "display": null,
            "flex": null,
            "flex_flow": null,
            "grid_area": null,
            "grid_auto_columns": null,
            "grid_auto_flow": null,
            "grid_auto_rows": null,
            "grid_column": null,
            "grid_gap": null,
            "grid_row": null,
            "grid_template_areas": null,
            "grid_template_columns": null,
            "grid_template_rows": null,
            "height": null,
            "justify_content": null,
            "justify_items": null,
            "left": null,
            "margin": null,
            "max_height": null,
            "max_width": null,
            "min_height": null,
            "min_width": null,
            "object_fit": null,
            "object_position": null,
            "order": null,
            "overflow": null,
            "overflow_x": null,
            "overflow_y": null,
            "padding": null,
            "right": null,
            "top": null,
            "visibility": null,
            "width": null
          }
        },
        "e81216df6bdf4d68b34f45f95420c8c9": {
          "model_module": "@jupyter-widgets/base",
          "model_name": "LayoutModel",
          "model_module_version": "1.2.0",
          "state": {
            "_model_module": "@jupyter-widgets/base",
            "_model_module_version": "1.2.0",
            "_model_name": "LayoutModel",
            "_view_count": null,
            "_view_module": "@jupyter-widgets/base",
            "_view_module_version": "1.2.0",
            "_view_name": "LayoutView",
            "align_content": null,
            "align_items": null,
            "align_self": null,
            "border": null,
            "bottom": null,
            "display": null,
            "flex": null,
            "flex_flow": null,
            "grid_area": null,
            "grid_auto_columns": null,
            "grid_auto_flow": null,
            "grid_auto_rows": null,
            "grid_column": null,
            "grid_gap": null,
            "grid_row": null,
            "grid_template_areas": null,
            "grid_template_columns": null,
            "grid_template_rows": null,
            "height": null,
            "justify_content": null,
            "justify_items": null,
            "left": null,
            "margin": null,
            "max_height": null,
            "max_width": null,
            "min_height": null,
            "min_width": null,
            "object_fit": null,
            "object_position": null,
            "order": null,
            "overflow": null,
            "overflow_x": null,
            "overflow_y": null,
            "padding": null,
            "right": null,
            "top": null,
            "visibility": null,
            "width": null
          }
        },
        "14c071ff5341413d8710a53c1cb26efa": {
          "model_module": "@jupyter-widgets/controls",
          "model_name": "DescriptionStyleModel",
          "model_module_version": "1.5.0",
          "state": {
            "_model_module": "@jupyter-widgets/controls",
            "_model_module_version": "1.5.0",
            "_model_name": "DescriptionStyleModel",
            "_view_count": null,
            "_view_module": "@jupyter-widgets/base",
            "_view_module_version": "1.2.0",
            "_view_name": "StyleView",
            "description_width": ""
          }
        },
        "8d4825cb5383484f9fb731f048438de5": {
          "model_module": "@jupyter-widgets/base",
          "model_name": "LayoutModel",
          "model_module_version": "1.2.0",
          "state": {
            "_model_module": "@jupyter-widgets/base",
            "_model_module_version": "1.2.0",
            "_model_name": "LayoutModel",
            "_view_count": null,
            "_view_module": "@jupyter-widgets/base",
            "_view_module_version": "1.2.0",
            "_view_name": "LayoutView",
            "align_content": null,
            "align_items": null,
            "align_self": null,
            "border": null,
            "bottom": null,
            "display": null,
            "flex": null,
            "flex_flow": null,
            "grid_area": null,
            "grid_auto_columns": null,
            "grid_auto_flow": null,
            "grid_auto_rows": null,
            "grid_column": null,
            "grid_gap": null,
            "grid_row": null,
            "grid_template_areas": null,
            "grid_template_columns": null,
            "grid_template_rows": null,
            "height": null,
            "justify_content": null,
            "justify_items": null,
            "left": null,
            "margin": null,
            "max_height": null,
            "max_width": null,
            "min_height": null,
            "min_width": null,
            "object_fit": null,
            "object_position": null,
            "order": null,
            "overflow": null,
            "overflow_x": null,
            "overflow_y": null,
            "padding": null,
            "right": null,
            "top": null,
            "visibility": null,
            "width": null
          }
        },
        "b267741ccca24d8d85106b87d2a63f6d": {
          "model_module": "@jupyter-widgets/controls",
          "model_name": "ProgressStyleModel",
          "model_module_version": "1.5.0",
          "state": {
            "_model_module": "@jupyter-widgets/controls",
            "_model_module_version": "1.5.0",
            "_model_name": "ProgressStyleModel",
            "_view_count": null,
            "_view_module": "@jupyter-widgets/base",
            "_view_module_version": "1.2.0",
            "_view_name": "StyleView",
            "bar_color": null,
            "description_width": ""
          }
        },
        "f3861e1c8d6e4689bae53d83af5d4813": {
          "model_module": "@jupyter-widgets/base",
          "model_name": "LayoutModel",
          "model_module_version": "1.2.0",
          "state": {
            "_model_module": "@jupyter-widgets/base",
            "_model_module_version": "1.2.0",
            "_model_name": "LayoutModel",
            "_view_count": null,
            "_view_module": "@jupyter-widgets/base",
            "_view_module_version": "1.2.0",
            "_view_name": "LayoutView",
            "align_content": null,
            "align_items": null,
            "align_self": null,
            "border": null,
            "bottom": null,
            "display": null,
            "flex": null,
            "flex_flow": null,
            "grid_area": null,
            "grid_auto_columns": null,
            "grid_auto_flow": null,
            "grid_auto_rows": null,
            "grid_column": null,
            "grid_gap": null,
            "grid_row": null,
            "grid_template_areas": null,
            "grid_template_columns": null,
            "grid_template_rows": null,
            "height": null,
            "justify_content": null,
            "justify_items": null,
            "left": null,
            "margin": null,
            "max_height": null,
            "max_width": null,
            "min_height": null,
            "min_width": null,
            "object_fit": null,
            "object_position": null,
            "order": null,
            "overflow": null,
            "overflow_x": null,
            "overflow_y": null,
            "padding": null,
            "right": null,
            "top": null,
            "visibility": null,
            "width": null
          }
        },
        "c59d9088517a4f219b7ef817d27a3a1d": {
          "model_module": "@jupyter-widgets/controls",
          "model_name": "DescriptionStyleModel",
          "model_module_version": "1.5.0",
          "state": {
            "_model_module": "@jupyter-widgets/controls",
            "_model_module_version": "1.5.0",
            "_model_name": "DescriptionStyleModel",
            "_view_count": null,
            "_view_module": "@jupyter-widgets/base",
            "_view_module_version": "1.2.0",
            "_view_name": "StyleView",
            "description_width": ""
          }
        },
        "2740c45c973e4ebca24b56f4326a9347": {
          "model_module": "@jupyter-widgets/controls",
          "model_name": "VBoxModel",
          "model_module_version": "1.5.0",
          "state": {
            "_dom_classes": [
              "widget-interact"
            ],
            "_model_module": "@jupyter-widgets/controls",
            "_model_module_version": "1.5.0",
            "_model_name": "VBoxModel",
            "_view_count": null,
            "_view_module": "@jupyter-widgets/controls",
            "_view_module_version": "1.5.0",
            "_view_name": "VBoxView",
            "box_style": "",
            "children": [
              "IPY_MODEL_96741d0e4e904f30b94f902b0766f18e",
              "IPY_MODEL_95585b3932b24bef97e00f5d198ee3d9"
            ],
            "layout": "IPY_MODEL_281a7fc96074483297cc44de7311b498"
          }
        },
        "96741d0e4e904f30b94f902b0766f18e": {
          "model_module": "@jupyter-widgets/controls",
          "model_name": "ToggleButtonsModel",
          "model_module_version": "1.5.0",
          "state": {
            "_dom_classes": [],
            "_model_module": "@jupyter-widgets/controls",
            "_model_module_version": "1.5.0",
            "_model_name": "ToggleButtonsModel",
            "_options_labels": [
              "Pipeline Plot",
              "Hyperparameters",
              "Residuals",
              "Prediction Error",
              "Cooks Distance",
              "Feature Selection",
              "Learning Curve",
              "Manifold Learning",
              "Validation Curve",
              "Feature Importance",
              "Feature Importance (All)",
              "Decision Tree",
              "Interactive Residuals"
            ],
            "_view_count": null,
            "_view_module": "@jupyter-widgets/controls",
            "_view_module_version": "1.5.0",
            "_view_name": "ToggleButtonsView",
            "button_style": "",
            "description": "Plot Type:",
            "description_tooltip": null,
            "disabled": false,
            "icons": [
              ""
            ],
            "index": 0,
            "layout": "IPY_MODEL_a4eb5255e5584265aa31ac993c148854",
            "style": "IPY_MODEL_13f3ef3e9288495bbcc02ea187352833",
            "tooltips": []
          }
        },
        "95585b3932b24bef97e00f5d198ee3d9": {
          "model_module": "@jupyter-widgets/output",
          "model_name": "OutputModel",
          "model_module_version": "1.0.0",
          "state": {
            "_dom_classes": [],
            "_model_module": "@jupyter-widgets/output",
            "_model_module_version": "1.0.0",
            "_model_name": "OutputModel",
            "_view_count": null,
            "_view_module": "@jupyter-widgets/output",
            "_view_module_version": "1.0.0",
            "_view_name": "OutputView",
            "layout": "IPY_MODEL_c3b342f098d04f0ba9c1862b4dfdb282",
            "msg_id": "",
            "outputs": [
              {
                "output_type": "display_data",
                "data": {
                  "text/plain": "<Figure size 2200x600 with 1 Axes>",
                  "image/png": "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\n"
                },
                "metadata": {}
              }
            ]
          }
        },
        "281a7fc96074483297cc44de7311b498": {
          "model_module": "@jupyter-widgets/base",
          "model_name": "LayoutModel",
          "model_module_version": "1.2.0",
          "state": {
            "_model_module": "@jupyter-widgets/base",
            "_model_module_version": "1.2.0",
            "_model_name": "LayoutModel",
            "_view_count": null,
            "_view_module": "@jupyter-widgets/base",
            "_view_module_version": "1.2.0",
            "_view_name": "LayoutView",
            "align_content": null,
            "align_items": null,
            "align_self": null,
            "border": null,
            "bottom": null,
            "display": null,
            "flex": null,
            "flex_flow": null,
            "grid_area": null,
            "grid_auto_columns": null,
            "grid_auto_flow": null,
            "grid_auto_rows": null,
            "grid_column": null,
            "grid_gap": null,
            "grid_row": null,
            "grid_template_areas": null,
            "grid_template_columns": null,
            "grid_template_rows": null,
            "height": null,
            "justify_content": null,
            "justify_items": null,
            "left": null,
            "margin": null,
            "max_height": null,
            "max_width": null,
            "min_height": null,
            "min_width": null,
            "object_fit": null,
            "object_position": null,
            "order": null,
            "overflow": null,
            "overflow_x": null,
            "overflow_y": null,
            "padding": null,
            "right": null,
            "top": null,
            "visibility": null,
            "width": null
          }
        },
        "a4eb5255e5584265aa31ac993c148854": {
          "model_module": "@jupyter-widgets/base",
          "model_name": "LayoutModel",
          "model_module_version": "1.2.0",
          "state": {
            "_model_module": "@jupyter-widgets/base",
            "_model_module_version": "1.2.0",
            "_model_name": "LayoutModel",
            "_view_count": null,
            "_view_module": "@jupyter-widgets/base",
            "_view_module_version": "1.2.0",
            "_view_name": "LayoutView",
            "align_content": null,
            "align_items": null,
            "align_self": null,
            "border": null,
            "bottom": null,
            "display": null,
            "flex": null,
            "flex_flow": null,
            "grid_area": null,
            "grid_auto_columns": null,
            "grid_auto_flow": null,
            "grid_auto_rows": null,
            "grid_column": null,
            "grid_gap": null,
            "grid_row": null,
            "grid_template_areas": null,
            "grid_template_columns": null,
            "grid_template_rows": null,
            "height": null,
            "justify_content": null,
            "justify_items": null,
            "left": null,
            "margin": null,
            "max_height": null,
            "max_width": null,
            "min_height": null,
            "min_width": null,
            "object_fit": null,
            "object_position": null,
            "order": null,
            "overflow": null,
            "overflow_x": null,
            "overflow_y": null,
            "padding": null,
            "right": null,
            "top": null,
            "visibility": null,
            "width": null
          }
        },
        "13f3ef3e9288495bbcc02ea187352833": {
          "model_module": "@jupyter-widgets/controls",
          "model_name": "ToggleButtonsStyleModel",
          "model_module_version": "1.5.0",
          "state": {
            "_model_module": "@jupyter-widgets/controls",
            "_model_module_version": "1.5.0",
            "_model_name": "ToggleButtonsStyleModel",
            "_view_count": null,
            "_view_module": "@jupyter-widgets/base",
            "_view_module_version": "1.2.0",
            "_view_name": "StyleView",
            "button_width": "",
            "description_width": "",
            "font_weight": ""
          }
        },
        "c3b342f098d04f0ba9c1862b4dfdb282": {
          "model_module": "@jupyter-widgets/base",
          "model_name": "LayoutModel",
          "model_module_version": "1.2.0",
          "state": {
            "_model_module": "@jupyter-widgets/base",
            "_model_module_version": "1.2.0",
            "_model_name": "LayoutModel",
            "_view_count": null,
            "_view_module": "@jupyter-widgets/base",
            "_view_module_version": "1.2.0",
            "_view_name": "LayoutView",
            "align_content": null,
            "align_items": null,
            "align_self": null,
            "border": null,
            "bottom": null,
            "display": null,
            "flex": null,
            "flex_flow": null,
            "grid_area": null,
            "grid_auto_columns": null,
            "grid_auto_flow": null,
            "grid_auto_rows": null,
            "grid_column": null,
            "grid_gap": null,
            "grid_row": null,
            "grid_template_areas": null,
            "grid_template_columns": null,
            "grid_template_rows": null,
            "height": null,
            "justify_content": null,
            "justify_items": null,
            "left": null,
            "margin": null,
            "max_height": null,
            "max_width": null,
            "min_height": null,
            "min_width": null,
            "object_fit": null,
            "object_position": null,
            "order": null,
            "overflow": null,
            "overflow_x": null,
            "overflow_y": null,
            "padding": null,
            "right": null,
            "top": null,
            "visibility": null,
            "width": null
          }
        },
        "7a64a98cd8104c0290cd06859b16098a": {
          "model_module": "@jupyter-widgets/controls",
          "model_name": "HBoxModel",
          "model_module_version": "1.5.0",
          "state": {
            "_dom_classes": [],
            "_model_module": "@jupyter-widgets/controls",
            "_model_module_version": "1.5.0",
            "_model_name": "HBoxModel",
            "_view_count": null,
            "_view_module": "@jupyter-widgets/controls",
            "_view_module_version": "1.5.0",
            "_view_name": "HBoxView",
            "box_style": "",
            "children": [
              "IPY_MODEL_c18de03e968841eeb64933b2d8a261fd",
              "IPY_MODEL_b738844271b74fac946ca9d591a5cfad",
              "IPY_MODEL_eb5e185ca7a047e080f4333ca01578e7"
            ],
            "layout": "IPY_MODEL_69576b6c3f4d4785892b005441969e72"
          }
        },
        "c18de03e968841eeb64933b2d8a261fd": {
          "model_module": "@jupyter-widgets/controls",
          "model_name": "HTMLModel",
          "model_module_version": "1.5.0",
          "state": {
            "_dom_classes": [],
            "_model_module": "@jupyter-widgets/controls",
            "_model_module_version": "1.5.0",
            "_model_name": "HTMLModel",
            "_view_count": null,
            "_view_module": "@jupyter-widgets/controls",
            "_view_module_version": "1.5.0",
            "_view_name": "HTMLView",
            "description": "",
            "description_tooltip": null,
            "layout": "IPY_MODEL_79a1d9f355284a5097bae04bb9d601a4",
            "placeholder": "​",
            "style": "IPY_MODEL_93d1b8025b45403a9161f428b000501f",
            "value": "Processing: 100%"
          }
        },
        "b738844271b74fac946ca9d591a5cfad": {
          "model_module": "@jupyter-widgets/controls",
          "model_name": "FloatProgressModel",
          "model_module_version": "1.5.0",
          "state": {
            "_dom_classes": [],
            "_model_module": "@jupyter-widgets/controls",
            "_model_module_version": "1.5.0",
            "_model_name": "FloatProgressModel",
            "_view_count": null,
            "_view_module": "@jupyter-widgets/controls",
            "_view_module_version": "1.5.0",
            "_view_name": "ProgressView",
            "bar_style": "",
            "description": "",
            "description_tooltip": null,
            "layout": "IPY_MODEL_301ada09d1cf4e87b26c42a38f4a65d8",
            "max": 6,
            "min": 0,
            "orientation": "horizontal",
            "style": "IPY_MODEL_c5eafe2e86874e5fa69e18d2e5f06bc7",
            "value": 6
          }
        },
        "eb5e185ca7a047e080f4333ca01578e7": {
          "model_module": "@jupyter-widgets/controls",
          "model_name": "HTMLModel",
          "model_module_version": "1.5.0",
          "state": {
            "_dom_classes": [],
            "_model_module": "@jupyter-widgets/controls",
            "_model_module_version": "1.5.0",
            "_model_name": "HTMLModel",
            "_view_count": null,
            "_view_module": "@jupyter-widgets/controls",
            "_view_module_version": "1.5.0",
            "_view_name": "HTMLView",
            "description": "",
            "description_tooltip": null,
            "layout": "IPY_MODEL_4557fa15389144e39e62a017c8596bdb",
            "placeholder": "​",
            "style": "IPY_MODEL_6bdb9b0636c343deb64ad189625bd7e3",
            "value": " 6/6 [03:08&lt;00:00, 30.40s/it]"
          }
        },
        "69576b6c3f4d4785892b005441969e72": {
          "model_module": "@jupyter-widgets/base",
          "model_name": "LayoutModel",
          "model_module_version": "1.2.0",
          "state": {
            "_model_module": "@jupyter-widgets/base",
            "_model_module_version": "1.2.0",
            "_model_name": "LayoutModel",
            "_view_count": null,
            "_view_module": "@jupyter-widgets/base",
            "_view_module_version": "1.2.0",
            "_view_name": "LayoutView",
            "align_content": null,
            "align_items": null,
            "align_self": null,
            "border": null,
            "bottom": null,
            "display": null,
            "flex": null,
            "flex_flow": null,
            "grid_area": null,
            "grid_auto_columns": null,
            "grid_auto_flow": null,
            "grid_auto_rows": null,
            "grid_column": null,
            "grid_gap": null,
            "grid_row": null,
            "grid_template_areas": null,
            "grid_template_columns": null,
            "grid_template_rows": null,
            "height": null,
            "justify_content": null,
            "justify_items": null,
            "left": null,
            "margin": null,
            "max_height": null,
            "max_width": null,
            "min_height": null,
            "min_width": null,
            "object_fit": null,
            "object_position": null,
            "order": null,
            "overflow": null,
            "overflow_x": null,
            "overflow_y": null,
            "padding": null,
            "right": null,
            "top": null,
            "visibility": "hidden",
            "width": null
          }
        },
        "79a1d9f355284a5097bae04bb9d601a4": {
          "model_module": "@jupyter-widgets/base",
          "model_name": "LayoutModel",
          "model_module_version": "1.2.0",
          "state": {
            "_model_module": "@jupyter-widgets/base",
            "_model_module_version": "1.2.0",
            "_model_name": "LayoutModel",
            "_view_count": null,
            "_view_module": "@jupyter-widgets/base",
            "_view_module_version": "1.2.0",
            "_view_name": "LayoutView",
            "align_content": null,
            "align_items": null,
            "align_self": null,
            "border": null,
            "bottom": null,
            "display": null,
            "flex": null,
            "flex_flow": null,
            "grid_area": null,
            "grid_auto_columns": null,
            "grid_auto_flow": null,
            "grid_auto_rows": null,
            "grid_column": null,
            "grid_gap": null,
            "grid_row": null,
            "grid_template_areas": null,
            "grid_template_columns": null,
            "grid_template_rows": null,
            "height": null,
            "justify_content": null,
            "justify_items": null,
            "left": null,
            "margin": null,
            "max_height": null,
            "max_width": null,
            "min_height": null,
            "min_width": null,
            "object_fit": null,
            "object_position": null,
            "order": null,
            "overflow": null,
            "overflow_x": null,
            "overflow_y": null,
            "padding": null,
            "right": null,
            "top": null,
            "visibility": null,
            "width": null
          }
        },
        "93d1b8025b45403a9161f428b000501f": {
          "model_module": "@jupyter-widgets/controls",
          "model_name": "DescriptionStyleModel",
          "model_module_version": "1.5.0",
          "state": {
            "_model_module": "@jupyter-widgets/controls",
            "_model_module_version": "1.5.0",
            "_model_name": "DescriptionStyleModel",
            "_view_count": null,
            "_view_module": "@jupyter-widgets/base",
            "_view_module_version": "1.2.0",
            "_view_name": "StyleView",
            "description_width": ""
          }
        },
        "301ada09d1cf4e87b26c42a38f4a65d8": {
          "model_module": "@jupyter-widgets/base",
          "model_name": "LayoutModel",
          "model_module_version": "1.2.0",
          "state": {
            "_model_module": "@jupyter-widgets/base",
            "_model_module_version": "1.2.0",
            "_model_name": "LayoutModel",
            "_view_count": null,
            "_view_module": "@jupyter-widgets/base",
            "_view_module_version": "1.2.0",
            "_view_name": "LayoutView",
            "align_content": null,
            "align_items": null,
            "align_self": null,
            "border": null,
            "bottom": null,
            "display": null,
            "flex": null,
            "flex_flow": null,
            "grid_area": null,
            "grid_auto_columns": null,
            "grid_auto_flow": null,
            "grid_auto_rows": null,
            "grid_column": null,
            "grid_gap": null,
            "grid_row": null,
            "grid_template_areas": null,
            "grid_template_columns": null,
            "grid_template_rows": null,
            "height": null,
            "justify_content": null,
            "justify_items": null,
            "left": null,
            "margin": null,
            "max_height": null,
            "max_width": null,
            "min_height": null,
            "min_width": null,
            "object_fit": null,
            "object_position": null,
            "order": null,
            "overflow": null,
            "overflow_x": null,
            "overflow_y": null,
            "padding": null,
            "right": null,
            "top": null,
            "visibility": null,
            "width": null
          }
        },
        "c5eafe2e86874e5fa69e18d2e5f06bc7": {
          "model_module": "@jupyter-widgets/controls",
          "model_name": "ProgressStyleModel",
          "model_module_version": "1.5.0",
          "state": {
            "_model_module": "@jupyter-widgets/controls",
            "_model_module_version": "1.5.0",
            "_model_name": "ProgressStyleModel",
            "_view_count": null,
            "_view_module": "@jupyter-widgets/base",
            "_view_module_version": "1.2.0",
            "_view_name": "StyleView",
            "bar_color": null,
            "description_width": ""
          }
        },
        "4557fa15389144e39e62a017c8596bdb": {
          "model_module": "@jupyter-widgets/base",
          "model_name": "LayoutModel",
          "model_module_version": "1.2.0",
          "state": {
            "_model_module": "@jupyter-widgets/base",
            "_model_module_version": "1.2.0",
            "_model_name": "LayoutModel",
            "_view_count": null,
            "_view_module": "@jupyter-widgets/base",
            "_view_module_version": "1.2.0",
            "_view_name": "LayoutView",
            "align_content": null,
            "align_items": null,
            "align_self": null,
            "border": null,
            "bottom": null,
            "display": null,
            "flex": null,
            "flex_flow": null,
            "grid_area": null,
            "grid_auto_columns": null,
            "grid_auto_flow": null,
            "grid_auto_rows": null,
            "grid_column": null,
            "grid_gap": null,
            "grid_row": null,
            "grid_template_areas": null,
            "grid_template_columns": null,
            "grid_template_rows": null,
            "height": null,
            "justify_content": null,
            "justify_items": null,
            "left": null,
            "margin": null,
            "max_height": null,
            "max_width": null,
            "min_height": null,
            "min_width": null,
            "object_fit": null,
            "object_position": null,
            "order": null,
            "overflow": null,
            "overflow_x": null,
            "overflow_y": null,
            "padding": null,
            "right": null,
            "top": null,
            "visibility": null,
            "width": null
          }
        },
        "6bdb9b0636c343deb64ad189625bd7e3": {
          "model_module": "@jupyter-widgets/controls",
          "model_name": "DescriptionStyleModel",
          "model_module_version": "1.5.0",
          "state": {
            "_model_module": "@jupyter-widgets/controls",
            "_model_module_version": "1.5.0",
            "_model_name": "DescriptionStyleModel",
            "_view_count": null,
            "_view_module": "@jupyter-widgets/base",
            "_view_module_version": "1.2.0",
            "_view_name": "StyleView",
            "description_width": ""
          }
        }
      }
    }
  },
  "cells": [
    {
      "cell_type": "markdown",
      "metadata": {
        "id": "view-in-github",
        "colab_type": "text"
      },
      "source": [
        "<a href=\"https://colab.research.google.com/github/Viny2030/UMSA/blob/main/pc_rg_03_modelos.ipynb\" target=\"_parent\"><img src=\"https://colab.research.google.com/assets/colab-badge.svg\" alt=\"Open In Colab\"/></a>"
      ]
    },
    {
      "cell_type": "markdown",
      "metadata": {
        "id": "WJAQsOrbL_tU"
      },
      "source": [
        "![logo](https://github.com/cristiandarioortegayubro/BA/blob/main/PyCaret.png?raw=true)"
      ]
    },
    {
      "cell_type": "markdown",
      "source": [
        "# **Regresión**\n"
      ],
      "metadata": {
        "id": "-Iwnce5pFz_0"
      }
    },
    {
      "cell_type": "markdown",
      "source": [
        "<p align=\"justify\">\n",
        "👀 Una inmobiliaria de la zona de Capital Federal solicito la estimacion del precio de 45.000 propiedades con caracteristicas de ciertos barrios especificos."
      ],
      "metadata": {
        "id": "IUzXKqrIJa7l"
      }
    },
    {
      "cell_type": "markdown",
      "source": [
        "<p align=\"justify\">\n",
        "En <code>PyCaret</code>, el módulo de Regresión (Regression Module) es una parte importante de la biblioteca diseñada para abordar tareas de regresión automatizada. La regresión es un tipo de problema de aprendizaje automático supervisado en el que el objetivo es predecir un valor numérico continuo, en lugar de una clase o categoría como en la clasificación.\n",
        "<br><br>\n",
        "El módulo de Regresión de <code>PyCaret</code> ofrece una serie de funciones y herramientas que simplifican el proceso de construcción, entrenamiento y evaluación de modelos de regresión de manera automatizada y eficiente.\n",
        "<br><br>\n",
        "Algunas de las características clave del módulo de Regresión de <code>PyCaret</code> son:\n",
        "<br>\n",
        "<br>\n",
        "<ol align=\"justify\">\n",
        "<li><b>Preprocesamiento de datos</b>: <code>PyCaret</code> automatiza el preprocesamiento de datos para tareas de regresión, lo que incluye el manejo de valores faltantes, codificación de variables categóricas, normalización de datos, y partición de datos en conjuntos de entrenamiento y prueba. Esto permite a los usuarios concentrarse más en el desarrollo del modelo y menos en las tareas de limpieza y transformación de datos.</li>\n",
        "<br>\n",
        "<li><b>Comparación de modelos</b>: <code>PyCaret</code> permite a los usuarios comparar fácilmente varios modelos de regresión populares. La biblioteca entrena automáticamente múltiples modelos en el conjunto de datos y proporciona una tabla de resultados que muestra las métricas de rendimiento de cada modelo, lo que facilita la identificación del modelo más prometedor para un problema en particular.</li>\n",
        "<br>\n",
        "<li><b>Optimización de hiperparámetros</b>: Los hiperparámetros son configuraciones que afectan el rendimiento y comportamiento de un modelo de aprendizaje automático. <code>PyCaret</code> realiza una búsqueda inteligente en el espacio de hiperparámetros para encontrar la combinación óptima que maximice el rendimiento del modelo de regresión.</li>\n",
        "<br>\n",
        "<li><b>Interpretación de modelos</b>: <code>PyCaret</code> ofrece herramientas para interpretar y visualizar los modelos de regresión, lo que ayuda a comprender cómo se ajustan los datos y cómo se relacionan las características con las predicciones.</li>\n",
        "<br>\n",
        "<li><b>Análisis de residuos</b>: Los residuos son las diferencias entre las predicciones del modelo y los valores reales. <code>PyCaret</code> proporciona herramientas para analizar y visualizar los residuos, lo que ayuda a evaluar la calidad del modelo.</li>\n",
        "<br>\n",
        "<li><b>Ensemble Learning</b>: <code>PyCaret</code> admite Ensemble Learning, que combina múltiples modelos de regresión para mejorar el rendimiento general y reducir el riesgo de sobreajuste (overfitting).</li>\n",
        "<br>\n",
        "<li><b>Predicción en nuevos datos</b>: Una vez que se ha construido y entrenado un modelo de regresión, <code>PyCaret</code> permite utilizarlo para hacer predicciones en nuevos datos sin la necesidad de escribir mucho código adicional.</li>\n",
        "</ol>\n",
        "<br>\n",
        "<p align=\"justify\">\n",
        "El módulo de Regresión de <code>PyCaret</code> está diseñado para ser accesible y útil para estudiantes y profesionales de Ciencia de Datos, permitiéndoles abordar tareas de regresión complejas con mayor facilidad y rapidez. Al automatizar gran parte del proceso, PyCaret permite a los usuarios centrarse en la interpretación de resultados, el ajuste de modelos y la toma de decisiones informadas.\n",
        "<br>\n",
        "<br>\n",
        "💗 A disfrutar las Regresiones de <code>PyCaret</code>...\n",
        "</p>"
      ],
      "metadata": {
        "id": "dGLaA0Y12GQS"
      }
    },
    {
      "cell_type": "markdown",
      "source": [
        "### **Instalando bibliotecas**"
      ],
      "metadata": {
        "id": "QtWzWvveGB3j"
      }
    },
    {
      "cell_type": "code",
      "metadata": {
        "id": "8i6pRVyO11Mf"
      },
      "source": [
        "!pip install pycaret"
      ],
      "execution_count": null,
      "outputs": []
    },
    {
      "cell_type": "markdown",
      "metadata": {
        "id": "OgnGuTu0fNo4"
      },
      "source": [
        "### **Análisis de datos**"
      ]
    },
    {
      "cell_type": "code",
      "metadata": {
        "id": "dgWMRzBsCfMf"
      },
      "source": [
        "import pandas as pd"
      ],
      "execution_count": null,
      "outputs": []
    },
    {
      "cell_type": "markdown",
      "source": [
        "### **PyCaret**"
      ],
      "metadata": {
        "id": "lhmVIKY9G0Ku"
      }
    },
    {
      "cell_type": "code",
      "source": [
        "from pycaret.regression import *"
      ],
      "metadata": {
        "id": "YH5KvcpqG4aD"
      },
      "execution_count": null,
      "outputs": []
    },
    {
      "cell_type": "markdown",
      "metadata": {
        "id": "Xx6jC6sSzFw0"
      },
      "source": [
        "## **Obtención de los Datos**"
      ]
    },
    {
      "cell_type": "code",
      "metadata": {
        "id": "3sHgT48XYQpf"
      },
      "source": [
        "datos = \"https://raw.githubusercontent.com/cristiandarioortegayubro/BA/main/Datasets/propiedades.csv\""
      ],
      "execution_count": null,
      "outputs": []
    },
    {
      "cell_type": "code",
      "metadata": {
        "id": "1HOyI3uqi3Le"
      },
      "source": [
        "df = pd.read_csv(datos, index_col=0)\n",
        "df"
      ],
      "execution_count": null,
      "outputs": []
    },
    {
      "cell_type": "code",
      "metadata": {
        "id": "k5w2Ggccj0UT"
      },
      "source": [
        "df.info()"
      ],
      "execution_count": null,
      "outputs": []
    },
    {
      "cell_type": "markdown",
      "metadata": {
        "id": "FK5jcOAMHRKu"
      },
      "source": [
        "- l1 - país\n",
        "- l2 - provincia o ciudad\n",
        "- l3 - barrio\n",
        "- rooms - cantidad de habitaciones\n",
        "- bedrooms - cantidad de dormitorios\n",
        "- bathrooms - cantidad de baños\n",
        "- surface_total - superficie total\n",
        "- surface_covered - superficie cubierta\n",
        "- price - precio"
      ]
    },
    {
      "cell_type": "markdown",
      "metadata": {
        "id": "WCaVxAhi5AMQ"
      },
      "source": [
        "# **Analisis Exploratorio de Datos**"
      ]
    },
    {
      "cell_type": "code",
      "metadata": {
        "id": "iegysndj5ESw"
      },
      "source": [
        "df.info()"
      ],
      "execution_count": null,
      "outputs": []
    },
    {
      "cell_type": "code",
      "metadata": {
        "id": "H9fhJT-b5IPx"
      },
      "source": [
        "df.head(3)"
      ],
      "execution_count": null,
      "outputs": []
    },
    {
      "cell_type": "code",
      "metadata": {
        "id": "9H0GufSI5MQg"
      },
      "source": [
        "df.drop(columns=[\"id\",\"l1\",\"l2\"], inplace=True)"
      ],
      "execution_count": null,
      "outputs": []
    },
    {
      "cell_type": "code",
      "metadata": {
        "id": "cicY9c1i5d85"
      },
      "source": [
        "df.head(3)"
      ],
      "execution_count": null,
      "outputs": []
    },
    {
      "cell_type": "code",
      "metadata": {
        "id": "1eibsQ1Q6yOl"
      },
      "source": [
        "df.isnull().sum().sort_values(ascending=False)"
      ],
      "execution_count": null,
      "outputs": []
    },
    {
      "cell_type": "code",
      "metadata": {
        "id": "5wdhskr97ew3"
      },
      "source": [
        "df.info()"
      ],
      "execution_count": null,
      "outputs": []
    },
    {
      "cell_type": "code",
      "metadata": {
        "id": "IT9WVaP07xY8"
      },
      "source": [
        "df.dropna(how=\"any\", inplace=True)"
      ],
      "execution_count": null,
      "outputs": []
    },
    {
      "cell_type": "code",
      "metadata": {
        "id": "U_faU2c_8YVQ"
      },
      "source": [
        "df.info()"
      ],
      "execution_count": null,
      "outputs": []
    },
    {
      "cell_type": "code",
      "metadata": {
        "id": "UlN0eoEf8dzT"
      },
      "source": [
        "df.head(7)"
      ],
      "execution_count": null,
      "outputs": []
    },
    {
      "cell_type": "code",
      "source": [
        "lista = [\"Localidad\", \"Ambientes\", \"Habitaciones\", \"Baños\", \"Sup_Total\", \"Sup_Cubierta\", \"Precio\"]"
      ],
      "metadata": {
        "id": "g81S0DZwwPo0"
      },
      "execution_count": null,
      "outputs": []
    },
    {
      "cell_type": "code",
      "source": [
        "df.columns = lista"
      ],
      "metadata": {
        "id": "vIVShq_ywjtu"
      },
      "execution_count": null,
      "outputs": []
    },
    {
      "cell_type": "code",
      "source": [
        "df.head()"
      ],
      "metadata": {
        "id": "XBVmsQxvwoIO"
      },
      "execution_count": null,
      "outputs": []
    },
    {
      "cell_type": "markdown",
      "metadata": {
        "id": "0D0iNg4q1bIa"
      },
      "source": [
        "# **Analisis EDA**"
      ]
    },
    {
      "cell_type": "markdown",
      "source": [
        "https://pypi.org/project/pandas-profiling/"
      ],
      "metadata": {
        "id": "GpiW8-4_N_xI"
      }
    },
    {
      "cell_type": "code",
      "source": [
        "!pip install ydata-profiling"
      ],
      "metadata": {
        "id": "34z77COIODIf"
      },
      "execution_count": null,
      "outputs": []
    },
    {
      "cell_type": "code",
      "source": [
        "from ydata_profiling import ProfileReport"
      ],
      "metadata": {
        "id": "Y8X1ZDADOO2X"
      },
      "execution_count": null,
      "outputs": []
    },
    {
      "cell_type": "code",
      "source": [
        "ProfileReport(df)"
      ],
      "metadata": {
        "id": "FfkUMaWlOPqI"
      },
      "execution_count": null,
      "outputs": []
    },
    {
      "cell_type": "markdown",
      "metadata": {
        "id": "B9xMN-uN1tHM"
      },
      "source": [
        "# **Configuración del entorno PyCaret**"
      ]
    },
    {
      "cell_type": "code",
      "metadata": {
        "id": "QKky8eEP2hY5"
      },
      "source": [
        "regresion = setup(data = df,\n",
        "                  ignore_features=[\"Localidad\"], ## ignorar la columna de localidad\n",
        "                  normalize=True,## normalizar\n",
        "                  normalize_method=\"zscore\", ## metodo de normalizacion zscore\n",
        "                  transformation=True, ## transformacion\n",
        "                  transformation_method=\"yeo-johnson\",## metodo de transformacion 'yeo-johnson'\n",
        "                  train_size=0.7,## conjunto de entrenamiento 70 %\n",
        "                  target = \"Precio\", ## target Precio\n",
        "                  session_id = 2021) ## semilla"
      ],
      "execution_count": null,
      "outputs": []
    },
    {
      "cell_type": "markdown",
      "source": [
        "### **Conjunto de datos originales**"
      ],
      "metadata": {
        "id": "FGi1dGYjuOuc"
      }
    },
    {
      "cell_type": "code",
      "source": [
        "regresion.dataset"
      ],
      "metadata": {
        "id": "xoaArxmvuOIi"
      },
      "execution_count": null,
      "outputs": []
    },
    {
      "cell_type": "markdown",
      "source": [
        "### **Conjunto de datos transformados**"
      ],
      "metadata": {
        "id": "mtD1n7GEv1da"
      }
    },
    {
      "cell_type": "code",
      "source": [
        "regresion.dataset_transformed"
      ],
      "metadata": {
        "id": "1FXg5Z92v79V"
      },
      "execution_count": null,
      "outputs": []
    },
    {
      "cell_type": "markdown",
      "metadata": {
        "id": "SVu7BTkH2rOk"
      },
      "source": [
        "# **Modelo**"
      ]
    },
    {
      "cell_type": "code",
      "source": [
        "models()"
      ],
      "metadata": {
        "id": "Jc4vnJLRPIYm"
      },
      "execution_count": null,
      "outputs": []
    },
    {
      "cell_type": "code",
      "metadata": {
        "id": "61L450RN2tBI"
      },
      "source": [
        "mejor_modelo = compare_models()"
      ],
      "execution_count": null,
      "outputs": []
    },
    {
      "cell_type": "code",
      "metadata": {
        "id": "V2LpmChs3oSg"
      },
      "source": [
        "mejor_modelo"
      ],
      "execution_count": null,
      "outputs": []
    },
    {
      "cell_type": "markdown",
      "source": [
        "\n",
        " ### **<font color=\"black\">Creacion del Modelo</font>**"
      ],
      "metadata": {
        "id": "fGgXyQ6ZP2Wk"
      }
    },
    {
      "cell_type": "code",
      "source": [
        "et = create_model('et')"
      ],
      "metadata": {
        "id": "_Q3vvoqMSyB-"
      },
      "execution_count": null,
      "outputs": []
    },
    {
      "cell_type": "markdown",
      "source": [
        " ## **<font color=\"black\">Metricas</font>**"
      ],
      "metadata": {
        "id": "jw_E5G-OPUUI"
      }
    },
    {
      "cell_type": "markdown",
      "source": [
        " ### **<font color=\"black\">MAE</font>**"
      ],
      "metadata": {
        "id": "loAsM-8QPdMg"
      }
    },
    {
      "cell_type": "markdown",
      "source": [],
      "metadata": {
        "id": "6oxnfrlUPilh"
      }
    },
    {
      "cell_type": "markdown",
      "source": [
        "<p align = \"justify\">\n",
        "<b>MAE</b> (Error Absoluto Medio, por sus siglas en inglés) es una métrica utilizada para evaluar el rendimiento de un modelo de regresión. Representa el promedio de las diferencias absolutas entre las predicciones del modelo y los valores reales de los datos de prueba.\n",
        "<br><br>\n",
        "Para calcular MAE, primero se deben hacer predicciones con el modelo sobre un conjunto de datos de prueba y luego se resta el valor real de cada dato de prueba a su correspondiente predicción para obtener la diferencia absoluta. Después, se toma el promedio de todas estas diferencias absolutas para obtener MAE.\n",
        "<br><br>\n",
        "La fórmula para calcular MAE es la siguiente:\n",
        "<br><br>\n",
        " $$ \\frac{1}{n} \\sum_{i=1}^{n} |y_{i} - \\hat{y_{i}}|$$\n",
        "<br><br>\n",
        "Donde:\n",
        "<br><br>\n",
        "<ul align = \"justify\">\n",
        "<li> \\( n \\) es el número de muestras en el conjunto de datos de prueba.</li><br>\n",
        "<li> \\( y_{i} \\) es el valor real del dato \\( i \\) en el conjunto de datos de prueba.</li><br>\n",
        "<li> \\( \\hat{y_{i}} \\) es la predicción del modelo para el dato \\( i \\) en el conjunto de datos de prueba.</li><br>\n",
        "<li> \\( |x| \\) representa el valor absoluto de \\( x \\).</li><br>\n",
        "</ul>\n",
        "<p align=\"justify\">\n",
        "<b>MAE</b> es una medida de la magnitud promedio de los errores de predicción del modelo, independientemente de la dirección de los errores (es decir, no toma en cuenta si el modelo subestima o sobreestima los valores).\n",
        "<br><br>\n",
        "Un MAE más bajo indica un mejor rendimiento del modelo, ya que significa que las predicciones están más cercanas a los valores reales en promedio."
      ],
      "metadata": {
        "id": "mwseEankZ2xQ"
      }
    },
    {
      "cell_type": "markdown",
      "source": [
        " ### **<font color=\"black\">RMSE</font>**"
      ],
      "metadata": {
        "id": "8pZ_ujepPl96"
      }
    },
    {
      "cell_type": "markdown",
      "source": [],
      "metadata": {
        "id": "zU_RIAc6PrVb"
      }
    },
    {
      "cell_type": "markdown",
      "source": [
        "<p align=\"justify\">\n",
        "<b>RMSE</b> (Root Mean Squared Error, Error Cuadrático Medio por sus siglas en inglés) es otra métrica comúnmente utilizada para evaluar el rendimiento de un modelo de regresión. Al igual que el MAE, el RMSE mide la precisión del modelo al comparar las predicciones con los valores reales de los datos de prueba.\n",
        "<br><br>\n",
        "Sin embargo, a diferencia del MAE, el RMSE penaliza de manera más significativa los errores grandes.\n",
        "<br><br>\n",
        "El RMSE se calcula de la siguiente manera:\n",
        "<br><br>\n",
        "$$\\sqrt{\\frac{1}{n} \\sum_{i=1}^{n} (y_{i} - \\hat{y_{i}})^{2}}$$\n",
        "<br><br>\n",
        "Donde:\n",
        "<br><br>\n",
        "<ul align=\"justify\">\n",
        "<li> \\( n \\) es el número de muestras en el conjunto de datos de prueba.</li><br>\n",
        "<li> \\( y_{i} \\) es el valor real del dato \\( i \\) en el conjunto de datos de prueba.</li><br>\n",
        "<li> \\( \\hat{y_{i}} \\) es la predicción del modelo para el dato \\( i \\) en el conjunto de datos de prueba.</li><br>\n",
        "</ul>\n",
        "<p align=\"justify\">\n",
        "RMSE toma la raíz cuadrada del promedio de los errores al cuadrado. Al elevar los errores al cuadrado, los errores más grandes se vuelven más prominentes y afectan más la métrica, lo que penaliza fuertemente las predicciones que están lejos de los valores reales.\n",
        "<br><br>\n",
        "Una vez más, al igual que con el MAE, un RMSE más bajo indica un mejor rendimiento del modelo, ya que significa que las predicciones están más cercanas a los valores reales en promedio.\n",
        "<br><br>\n",
        "El RMSE es especialmente útil cuando se quiere tener en cuenta la magnitud de los errores y se quiere penalizar más fuertemente las predicciones inexactas."
      ],
      "metadata": {
        "id": "1lFfAiTdfAqj"
      }
    },
    {
      "cell_type": "markdown",
      "source": [
        " ### **<font color=\"black\">$R^2$</font>**"
      ],
      "metadata": {
        "id": "iGo_GVKPPub3"
      }
    },
    {
      "cell_type": "markdown",
      "source": [],
      "metadata": {
        "id": "GfgjtYuMPyvs"
      }
    },
    {
      "cell_type": "markdown",
      "source": [
        "<p align=\"justify\">\n",
        "El coeficiente de determinación, comúnmente conocido como <b>$R^2$</b> (pronunciado \"R cuadrado\"), es una métrica utilizada para evaluar la calidad de ajuste de un modelo de regresión.\n",
        "<br><br>\n",
        "Mientras que el MAE y el RMSE miden la magnitud de los errores absolutos, el $R^2$ proporciona una medida de cuánta variabilidad de la variable dependiente (la variable a predecir) es explicada por el modelo.\n",
        "<br><br>\n",
        "El $R^2$ varía entre 0 y 1, y puede ser interpretado como el porcentaje de la variabilidad de la variable dependiente que es explicada por el modelo en comparación con la variabilidad total presente en los datos.\n",
        "<br><br>\n",
        "La fórmula para calcular el $R^2$ es la siguiente:\n",
        "<br><br>\n",
        "$$R^2 = 1 - \\frac{SS_{res}}{SS_{tot}}$$\n",
        "<br><br>\n",
        "Donde:\n",
        "<br><br>\n",
        "<ul align=\"justify\">\n",
        "<li>\\( SS_{res} \\) es la suma de los cuadrados de los residuos (diferencia entre los valores reales y las predicciones del modelo).</li><br>\n",
        "<li> \\( SS_{tot} \\) es la suma total de los cuadrados de la diferencia entre los valores reales y la media de la variable dependiente.</li><br>\n",
        "</ul>\n",
        "<p align=\"justify\">\n",
        "El $R^2$ puede tomar los siguientes valores:\n",
        "<br><br>\n",
        "<ul align=\"justify\">\n",
        "<li> $R^2 = 1$: El modelo ajusta perfectamente los datos, explicando el $100$% de la variabilidad de la variable dependiente.</li><br>\n",
        "<li> $R^2 = 0$: El modelo no ofrece ninguna mejora en comparación con simplemente usar la media de la variable dependiente para hacer predicciones.</li><br>\n",
        "<li> $R^2 < 0$: El modelo se ajusta tan mal que su rendimiento es peor que simplemente usar la media como predicción.</li><br>\n",
        "</ul>\n",
        "<p align=\"justify\">\n",
        "Es importante tener en cuenta que un alto $R^2$ no garantiza que el modelo sea válido o que esté libre de problemas.\n",
        "<br><br>\n",
        "El $R^2$ solo proporciona información sobre cómo el modelo se ajusta a los datos, pero no dice nada sobre la causalidad o la validez de las relaciones entre variables. Por lo tanto, es fundamental complementar la evaluación con otras técnicas y análisis para asegurar la robustez y relevancia del modelo."
      ],
      "metadata": {
        "id": "MwPTm-dwgZcy"
      }
    },
    {
      "cell_type": "markdown",
      "source": [
        "### **<font color=\"black\">Optimizacion**"
      ],
      "metadata": {
        "id": "pS0soG4uP9FH"
      }
    },
    {
      "cell_type": "code",
      "source": [
        "optimizacion_et= tune_model(et)"
      ],
      "metadata": {
        "colab": {
          "base_uri": "https://localhost:8080/",
          "height": 190,
          "referenced_widgets": [
            "34b41794671941d8a419533ea7874776",
            "583eabea41bd4d0789375cc6988168ca",
            "e6137c247a98442d8368a1d625e64f82",
            "642cf0be254146c796bfef50b8ad0df8",
            "8b8ac35546d7457f9dbeb4d5249b9e5c",
            "e81216df6bdf4d68b34f45f95420c8c9",
            "14c071ff5341413d8710a53c1cb26efa",
            "8d4825cb5383484f9fb731f048438de5",
            "b267741ccca24d8d85106b87d2a63f6d",
            "f3861e1c8d6e4689bae53d83af5d4813",
            "c59d9088517a4f219b7ef817d27a3a1d"
          ]
        },
        "id": "B0hVLOYGTKcd",
        "outputId": "f265f6e9-fd8d-4afd-9c2d-55638ebb39f0"
      },
      "execution_count": null,
      "outputs": [
        {
          "data": {
            "application/vnd.google.colaboratory.intrinsic+json": {
              "summary": "{\n  \"name\": \"optimizacion_et= tune_model(et)\",\n  \"rows\": 3,\n  \"fields\": [\n    {\n      \"column\": \" \",\n      \"properties\": {\n        \"dtype\": \"category\",\n        \"num_unique_values\": 1,\n        \"samples\": [\n          \". . . . . . . . . . . . . . . . . .\"\n        ],\n        \"semantic_type\": \"\",\n        \"description\": \"\"\n      }\n    },\n    {\n      \"column\": \"  \",\n      \"properties\": {\n        \"dtype\": \"string\",\n        \"num_unique_values\": 3,\n        \"samples\": [\n          \"13:18:15\"\n        ],\n        \"semantic_type\": \"\",\n        \"description\": \"\"\n      }\n    }\n  ]\n}",
              "type": "dataframe"
            },
            "text/html": [
              "\n",
              "  <div id=\"df-7764cf08-a1dc-47bf-8323-74441aa35182\" class=\"colab-df-container\">\n",
              "    <div>\n",
              "<style scoped>\n",
              "    .dataframe tbody tr th:only-of-type {\n",
              "        vertical-align: middle;\n",
              "    }\n",
              "\n",
              "    .dataframe tbody tr th {\n",
              "        vertical-align: top;\n",
              "    }\n",
              "\n",
              "    .dataframe thead th {\n",
              "        text-align: right;\n",
              "    }\n",
              "</style>\n",
              "<table border=\"1\" class=\"dataframe\">\n",
              "  <thead>\n",
              "    <tr style=\"text-align: right;\">\n",
              "      <th></th>\n",
              "      <th></th>\n",
              "      <th></th>\n",
              "    </tr>\n",
              "    <tr>\n",
              "      <th></th>\n",
              "      <th></th>\n",
              "      <th></th>\n",
              "    </tr>\n",
              "  </thead>\n",
              "  <tbody>\n",
              "    <tr>\n",
              "      <th>Initiated</th>\n",
              "      <td>. . . . . . . . . . . . . . . . . .</td>\n",
              "      <td>13:18:15</td>\n",
              "    </tr>\n",
              "    <tr>\n",
              "      <th>Status</th>\n",
              "      <td>. . . . . . . . . . . . . . . . . .</td>\n",
              "      <td>Searching Hyperparameters</td>\n",
              "    </tr>\n",
              "    <tr>\n",
              "      <th>Estimator</th>\n",
              "      <td>. . . . . . . . . . . . . . . . . .</td>\n",
              "      <td>Extra Trees Regressor</td>\n",
              "    </tr>\n",
              "  </tbody>\n",
              "</table>\n",
              "</div>\n",
              "    <div class=\"colab-df-buttons\">\n",
              "\n",
              "  <div class=\"colab-df-container\">\n",
              "    <button class=\"colab-df-convert\" onclick=\"convertToInteractive('df-7764cf08-a1dc-47bf-8323-74441aa35182')\"\n",
              "            title=\"Convert this dataframe to an interactive table.\"\n",
              "            style=\"display:none;\">\n",
              "\n",
              "  <svg xmlns=\"http://www.w3.org/2000/svg\" height=\"24px\" viewBox=\"0 -960 960 960\">\n",
              "    <path d=\"M120-120v-720h720v720H120Zm60-500h600v-160H180v160Zm220 220h160v-160H400v160Zm0 220h160v-160H400v160ZM180-400h160v-160H180v160Zm440 0h160v-160H620v160ZM180-180h160v-160H180v160Zm440 0h160v-160H620v160Z\"/>\n",
              "  </svg>\n",
              "    </button>\n",
              "\n",
              "  <style>\n",
              "    .colab-df-container {\n",
              "      display:flex;\n",
              "      gap: 12px;\n",
              "    }\n",
              "\n",
              "    .colab-df-convert {\n",
              "      background-color: #E8F0FE;\n",
              "      border: none;\n",
              "      border-radius: 50%;\n",
              "      cursor: pointer;\n",
              "      display: none;\n",
              "      fill: #1967D2;\n",
              "      height: 32px;\n",
              "      padding: 0 0 0 0;\n",
              "      width: 32px;\n",
              "    }\n",
              "\n",
              "    .colab-df-convert:hover {\n",
              "      background-color: #E2EBFA;\n",
              "      box-shadow: 0px 1px 2px rgba(60, 64, 67, 0.3), 0px 1px 3px 1px rgba(60, 64, 67, 0.15);\n",
              "      fill: #174EA6;\n",
              "    }\n",
              "\n",
              "    .colab-df-buttons div {\n",
              "      margin-bottom: 4px;\n",
              "    }\n",
              "\n",
              "    [theme=dark] .colab-df-convert {\n",
              "      background-color: #3B4455;\n",
              "      fill: #D2E3FC;\n",
              "    }\n",
              "\n",
              "    [theme=dark] .colab-df-convert:hover {\n",
              "      background-color: #434B5C;\n",
              "      box-shadow: 0px 1px 3px 1px rgba(0, 0, 0, 0.15);\n",
              "      filter: drop-shadow(0px 1px 2px rgba(0, 0, 0, 0.3));\n",
              "      fill: #FFFFFF;\n",
              "    }\n",
              "  </style>\n",
              "\n",
              "    <script>\n",
              "      const buttonEl =\n",
              "        document.querySelector('#df-7764cf08-a1dc-47bf-8323-74441aa35182 button.colab-df-convert');\n",
              "      buttonEl.style.display =\n",
              "        google.colab.kernel.accessAllowed ? 'block' : 'none';\n",
              "\n",
              "      async function convertToInteractive(key) {\n",
              "        const element = document.querySelector('#df-7764cf08-a1dc-47bf-8323-74441aa35182');\n",
              "        const dataTable =\n",
              "          await google.colab.kernel.invokeFunction('convertToInteractive',\n",
              "                                                    [key], {});\n",
              "        if (!dataTable) return;\n",
              "\n",
              "        const docLinkHtml = 'Like what you see? Visit the ' +\n",
              "          '<a target=\"_blank\" href=https://colab.research.google.com/notebooks/data_table.ipynb>data table notebook</a>'\n",
              "          + ' to learn more about interactive tables.';\n",
              "        element.innerHTML = '';\n",
              "        dataTable['output_type'] = 'display_data';\n",
              "        await google.colab.output.renderOutput(dataTable, element);\n",
              "        const docLink = document.createElement('div');\n",
              "        docLink.innerHTML = docLinkHtml;\n",
              "        element.appendChild(docLink);\n",
              "      }\n",
              "    </script>\n",
              "  </div>\n",
              "\n",
              "\n",
              "<div id=\"df-5624eb0d-a693-405b-ac7f-01a5698e6f14\">\n",
              "  <button class=\"colab-df-quickchart\" onclick=\"quickchart('df-5624eb0d-a693-405b-ac7f-01a5698e6f14')\"\n",
              "            title=\"Suggest charts\"\n",
              "            style=\"display:none;\">\n",
              "\n",
              "<svg xmlns=\"http://www.w3.org/2000/svg\" height=\"24px\"viewBox=\"0 0 24 24\"\n",
              "     width=\"24px\">\n",
              "    <g>\n",
              "        <path d=\"M19 3H5c-1.1 0-2 .9-2 2v14c0 1.1.9 2 2 2h14c1.1 0 2-.9 2-2V5c0-1.1-.9-2-2-2zM9 17H7v-7h2v7zm4 0h-2V7h2v10zm4 0h-2v-4h2v4z\"/>\n",
              "    </g>\n",
              "</svg>\n",
              "  </button>\n",
              "\n",
              "<style>\n",
              "  .colab-df-quickchart {\n",
              "      --bg-color: #E8F0FE;\n",
              "      --fill-color: #1967D2;\n",
              "      --hover-bg-color: #E2EBFA;\n",
              "      --hover-fill-color: #174EA6;\n",
              "      --disabled-fill-color: #AAA;\n",
              "      --disabled-bg-color: #DDD;\n",
              "  }\n",
              "\n",
              "  [theme=dark] .colab-df-quickchart {\n",
              "      --bg-color: #3B4455;\n",
              "      --fill-color: #D2E3FC;\n",
              "      --hover-bg-color: #434B5C;\n",
              "      --hover-fill-color: #FFFFFF;\n",
              "      --disabled-bg-color: #3B4455;\n",
              "      --disabled-fill-color: #666;\n",
              "  }\n",
              "\n",
              "  .colab-df-quickchart {\n",
              "    background-color: var(--bg-color);\n",
              "    border: none;\n",
              "    border-radius: 50%;\n",
              "    cursor: pointer;\n",
              "    display: none;\n",
              "    fill: var(--fill-color);\n",
              "    height: 32px;\n",
              "    padding: 0;\n",
              "    width: 32px;\n",
              "  }\n",
              "\n",
              "  .colab-df-quickchart:hover {\n",
              "    background-color: var(--hover-bg-color);\n",
              "    box-shadow: 0 1px 2px rgba(60, 64, 67, 0.3), 0 1px 3px 1px rgba(60, 64, 67, 0.15);\n",
              "    fill: var(--button-hover-fill-color);\n",
              "  }\n",
              "\n",
              "  .colab-df-quickchart-complete:disabled,\n",
              "  .colab-df-quickchart-complete:disabled:hover {\n",
              "    background-color: var(--disabled-bg-color);\n",
              "    fill: var(--disabled-fill-color);\n",
              "    box-shadow: none;\n",
              "  }\n",
              "\n",
              "  .colab-df-spinner {\n",
              "    border: 2px solid var(--fill-color);\n",
              "    border-color: transparent;\n",
              "    border-bottom-color: var(--fill-color);\n",
              "    animation:\n",
              "      spin 1s steps(1) infinite;\n",
              "  }\n",
              "\n",
              "  @keyframes spin {\n",
              "    0% {\n",
              "      border-color: transparent;\n",
              "      border-bottom-color: var(--fill-color);\n",
              "      border-left-color: var(--fill-color);\n",
              "    }\n",
              "    20% {\n",
              "      border-color: transparent;\n",
              "      border-left-color: var(--fill-color);\n",
              "      border-top-color: var(--fill-color);\n",
              "    }\n",
              "    30% {\n",
              "      border-color: transparent;\n",
              "      border-left-color: var(--fill-color);\n",
              "      border-top-color: var(--fill-color);\n",
              "      border-right-color: var(--fill-color);\n",
              "    }\n",
              "    40% {\n",
              "      border-color: transparent;\n",
              "      border-right-color: var(--fill-color);\n",
              "      border-top-color: var(--fill-color);\n",
              "    }\n",
              "    60% {\n",
              "      border-color: transparent;\n",
              "      border-right-color: var(--fill-color);\n",
              "    }\n",
              "    80% {\n",
              "      border-color: transparent;\n",
              "      border-right-color: var(--fill-color);\n",
              "      border-bottom-color: var(--fill-color);\n",
              "    }\n",
              "    90% {\n",
              "      border-color: transparent;\n",
              "      border-bottom-color: var(--fill-color);\n",
              "    }\n",
              "  }\n",
              "</style>\n",
              "\n",
              "  <script>\n",
              "    async function quickchart(key) {\n",
              "      const quickchartButtonEl =\n",
              "        document.querySelector('#' + key + ' button');\n",
              "      quickchartButtonEl.disabled = true;  // To prevent multiple clicks.\n",
              "      quickchartButtonEl.classList.add('colab-df-spinner');\n",
              "      try {\n",
              "        const charts = await google.colab.kernel.invokeFunction(\n",
              "            'suggestCharts', [key], {});\n",
              "      } catch (error) {\n",
              "        console.error('Error during call to suggestCharts:', error);\n",
              "      }\n",
              "      quickchartButtonEl.classList.remove('colab-df-spinner');\n",
              "      quickchartButtonEl.classList.add('colab-df-quickchart-complete');\n",
              "    }\n",
              "    (() => {\n",
              "      let quickchartButtonEl =\n",
              "        document.querySelector('#df-5624eb0d-a693-405b-ac7f-01a5698e6f14 button');\n",
              "      quickchartButtonEl.style.display =\n",
              "        google.colab.kernel.accessAllowed ? 'block' : 'none';\n",
              "    })();\n",
              "  </script>\n",
              "</div>\n",
              "\n",
              "    </div>\n",
              "  </div>\n"
            ],
            "text/plain": [
              "                                                                         \n",
              "                                                                         \n",
              "Initiated  . . . . . . . . . . . . . . . . . .                   13:18:15\n",
              "Status     . . . . . . . . . . . . . . . . . .  Searching Hyperparameters\n",
              "Estimator  . . . . . . . . . . . . . . . . . .      Extra Trees Regressor"
            ]
          },
          "metadata": {},
          "output_type": "display_data"
        },
        {
          "data": {
            "text/html": [],
            "text/plain": [
              "<IPython.core.display.HTML object>"
            ]
          },
          "metadata": {},
          "output_type": "display_data"
        },
        {
          "data": {
            "application/vnd.jupyter.widget-view+json": {
              "model_id": "34b41794671941d8a419533ea7874776",
              "version_major": 2,
              "version_minor": 0
            },
            "text/plain": [
              "Processing:   0%|          | 0/7 [00:00<?, ?it/s]"
            ]
          },
          "metadata": {
            "application/vnd.jupyter.widget-view+json": {
              "colab": {
                "custom_widget_manager": {
                  "url": "https://ssl.gstatic.com/colaboratory-static/widgets/colab-cdn-widget-manager/2b70e893a8ba7c0f/manager.min.js"
                }
              }
            }
          },
          "output_type": "display_data"
        },
        {
          "metadata": {
            "tags": null
          },
          "name": "stdout",
          "output_type": "stream",
          "text": [
            "Fitting 10 folds for each of 10 candidates, totalling 100 fits\n"
          ]
        }
      ]
    },
    {
      "cell_type": "code",
      "source": [
        "plot_model(optimizar_et, plot='tree', scale= 0.70) # extra tree"
      ],
      "metadata": {
        "id": "THxLjueiQEmX"
      },
      "execution_count": null,
      "outputs": []
    },
    {
      "cell_type": "markdown",
      "source": [
        "### **<font color=\"black\">Ensemble**"
      ],
      "metadata": {
        "id": "4WjoL5f7T192"
      }
    },
    {
      "cell_type": "markdown",
      "source": [
        "### **<font color=\"black\">Predicción**"
      ],
      "metadata": {
        "id": "wisEwdsiQKUf"
      }
    },
    {
      "cell_type": "code",
      "metadata": {
        "id": "HMaOIgOj4szF",
        "colab": {
          "base_uri": "https://localhost:8080/",
          "height": 487
        },
        "outputId": "5eec0d17-8fe7-4f46-8591-3d1a32b990bd"
      },
      "source": [
        "predict_model(mejor_modelo[0], data=df)"
      ],
      "execution_count": 30,
      "outputs": [
        {
          "output_type": "display_data",
          "data": {
            "text/plain": [
              "<pandas.io.formats.style.Styler at 0x7cd813400670>"
            ],
            "text/html": [
              "<style type=\"text/css\">\n",
              "</style>\n",
              "<table id=\"T_ad48a\" class=\"dataframe\">\n",
              "  <thead>\n",
              "    <tr>\n",
              "      <th class=\"blank level0\" >&nbsp;</th>\n",
              "      <th id=\"T_ad48a_level0_col0\" class=\"col_heading level0 col0\" >Model</th>\n",
              "      <th id=\"T_ad48a_level0_col1\" class=\"col_heading level0 col1\" >MAE</th>\n",
              "      <th id=\"T_ad48a_level0_col2\" class=\"col_heading level0 col2\" >MSE</th>\n",
              "      <th id=\"T_ad48a_level0_col3\" class=\"col_heading level0 col3\" >RMSE</th>\n",
              "      <th id=\"T_ad48a_level0_col4\" class=\"col_heading level0 col4\" >R2</th>\n",
              "      <th id=\"T_ad48a_level0_col5\" class=\"col_heading level0 col5\" >RMSLE</th>\n",
              "      <th id=\"T_ad48a_level0_col6\" class=\"col_heading level0 col6\" >MAPE</th>\n",
              "    </tr>\n",
              "  </thead>\n",
              "  <tbody>\n",
              "    <tr>\n",
              "      <th id=\"T_ad48a_level0_row0\" class=\"row_heading level0 row0\" >0</th>\n",
              "      <td id=\"T_ad48a_row0_col0\" class=\"data row0 col0\" >Extra Trees Regressor</td>\n",
              "      <td id=\"T_ad48a_row0_col1\" class=\"data row0 col1\" >32940.9978</td>\n",
              "      <td id=\"T_ad48a_row0_col2\" class=\"data row0 col2\" >16007546196.4266</td>\n",
              "      <td id=\"T_ad48a_row0_col3\" class=\"data row0 col3\" >126520.9319</td>\n",
              "      <td id=\"T_ad48a_row0_col4\" class=\"data row0 col4\" >0.9061</td>\n",
              "      <td id=\"T_ad48a_row0_col5\" class=\"data row0 col5\" >0.1906</td>\n",
              "      <td id=\"T_ad48a_row0_col6\" class=\"data row0 col6\" >0.1178</td>\n",
              "    </tr>\n",
              "  </tbody>\n",
              "</table>\n"
            ]
          },
          "metadata": {}
        },
        {
          "output_type": "execute_result",
          "data": {
            "text/plain": [
              "              Localidad  Ambientes  Habitaciones  Baños  Sup_Total  \\\n",
              "4              Belgrano        6.0           4.0    2.0      190.0   \n",
              "7         Puerto Madero        3.0           2.0    3.0      161.0   \n",
              "8               Palermo        2.0           1.0    1.0       38.0   \n",
              "9               Palermo        3.0           2.0    1.0       80.0   \n",
              "10     Villa del Parque        1.0           1.0    1.0       44.0   \n",
              "...                 ...        ...           ...    ...        ...   \n",
              "44672      Villa Crespo        2.0           1.0    1.0       29.0   \n",
              "44673      Monte Castro        2.0           1.0    1.0       56.0   \n",
              "44675        Colegiales        2.0           1.0    1.0       45.0   \n",
              "44676        Colegiales        1.0           1.0    1.0       59.0   \n",
              "44677      Villa Crespo        2.0           1.0    1.0       35.0   \n",
              "\n",
              "       Sup_Cubierta   Precio  prediction_label  \n",
              "4             178.0   550000      7.059833e+05  \n",
              "7             149.0  1600000      1.480000e+06  \n",
              "8              38.0   132000      1.078750e+05  \n",
              "9              75.0   245000      2.450000e+05  \n",
              "10             41.0    86000      8.600000e+04  \n",
              "...             ...      ...               ...  \n",
              "44672          29.0    72000      9.360500e+04  \n",
              "44673          54.0   115000      1.411090e+05  \n",
              "44675          40.0    99000      1.140000e+05  \n",
              "44676          59.0   105000      1.499000e+05  \n",
              "44677          35.0    69500      7.245000e+04  \n",
              "\n",
              "[32424 rows x 8 columns]"
            ],
            "text/html": [
              "\n",
              "  <div id=\"df-f13fa411-1138-49fb-b7c1-3ebd7832bb8c\" class=\"colab-df-container\">\n",
              "    <div>\n",
              "<style scoped>\n",
              "    .dataframe tbody tr th:only-of-type {\n",
              "        vertical-align: middle;\n",
              "    }\n",
              "\n",
              "    .dataframe tbody tr th {\n",
              "        vertical-align: top;\n",
              "    }\n",
              "\n",
              "    .dataframe thead th {\n",
              "        text-align: right;\n",
              "    }\n",
              "</style>\n",
              "<table border=\"1\" class=\"dataframe\">\n",
              "  <thead>\n",
              "    <tr style=\"text-align: right;\">\n",
              "      <th></th>\n",
              "      <th>Localidad</th>\n",
              "      <th>Ambientes</th>\n",
              "      <th>Habitaciones</th>\n",
              "      <th>Baños</th>\n",
              "      <th>Sup_Total</th>\n",
              "      <th>Sup_Cubierta</th>\n",
              "      <th>Precio</th>\n",
              "      <th>prediction_label</th>\n",
              "    </tr>\n",
              "  </thead>\n",
              "  <tbody>\n",
              "    <tr>\n",
              "      <th>4</th>\n",
              "      <td>Belgrano</td>\n",
              "      <td>6.0</td>\n",
              "      <td>4.0</td>\n",
              "      <td>2.0</td>\n",
              "      <td>190.0</td>\n",
              "      <td>178.0</td>\n",
              "      <td>550000</td>\n",
              "      <td>7.059833e+05</td>\n",
              "    </tr>\n",
              "    <tr>\n",
              "      <th>7</th>\n",
              "      <td>Puerto Madero</td>\n",
              "      <td>3.0</td>\n",
              "      <td>2.0</td>\n",
              "      <td>3.0</td>\n",
              "      <td>161.0</td>\n",
              "      <td>149.0</td>\n",
              "      <td>1600000</td>\n",
              "      <td>1.480000e+06</td>\n",
              "    </tr>\n",
              "    <tr>\n",
              "      <th>8</th>\n",
              "      <td>Palermo</td>\n",
              "      <td>2.0</td>\n",
              "      <td>1.0</td>\n",
              "      <td>1.0</td>\n",
              "      <td>38.0</td>\n",
              "      <td>38.0</td>\n",
              "      <td>132000</td>\n",
              "      <td>1.078750e+05</td>\n",
              "    </tr>\n",
              "    <tr>\n",
              "      <th>9</th>\n",
              "      <td>Palermo</td>\n",
              "      <td>3.0</td>\n",
              "      <td>2.0</td>\n",
              "      <td>1.0</td>\n",
              "      <td>80.0</td>\n",
              "      <td>75.0</td>\n",
              "      <td>245000</td>\n",
              "      <td>2.450000e+05</td>\n",
              "    </tr>\n",
              "    <tr>\n",
              "      <th>10</th>\n",
              "      <td>Villa del Parque</td>\n",
              "      <td>1.0</td>\n",
              "      <td>1.0</td>\n",
              "      <td>1.0</td>\n",
              "      <td>44.0</td>\n",
              "      <td>41.0</td>\n",
              "      <td>86000</td>\n",
              "      <td>8.600000e+04</td>\n",
              "    </tr>\n",
              "    <tr>\n",
              "      <th>...</th>\n",
              "      <td>...</td>\n",
              "      <td>...</td>\n",
              "      <td>...</td>\n",
              "      <td>...</td>\n",
              "      <td>...</td>\n",
              "      <td>...</td>\n",
              "      <td>...</td>\n",
              "      <td>...</td>\n",
              "    </tr>\n",
              "    <tr>\n",
              "      <th>44672</th>\n",
              "      <td>Villa Crespo</td>\n",
              "      <td>2.0</td>\n",
              "      <td>1.0</td>\n",
              "      <td>1.0</td>\n",
              "      <td>29.0</td>\n",
              "      <td>29.0</td>\n",
              "      <td>72000</td>\n",
              "      <td>9.360500e+04</td>\n",
              "    </tr>\n",
              "    <tr>\n",
              "      <th>44673</th>\n",
              "      <td>Monte Castro</td>\n",
              "      <td>2.0</td>\n",
              "      <td>1.0</td>\n",
              "      <td>1.0</td>\n",
              "      <td>56.0</td>\n",
              "      <td>54.0</td>\n",
              "      <td>115000</td>\n",
              "      <td>1.411090e+05</td>\n",
              "    </tr>\n",
              "    <tr>\n",
              "      <th>44675</th>\n",
              "      <td>Colegiales</td>\n",
              "      <td>2.0</td>\n",
              "      <td>1.0</td>\n",
              "      <td>1.0</td>\n",
              "      <td>45.0</td>\n",
              "      <td>40.0</td>\n",
              "      <td>99000</td>\n",
              "      <td>1.140000e+05</td>\n",
              "    </tr>\n",
              "    <tr>\n",
              "      <th>44676</th>\n",
              "      <td>Colegiales</td>\n",
              "      <td>1.0</td>\n",
              "      <td>1.0</td>\n",
              "      <td>1.0</td>\n",
              "      <td>59.0</td>\n",
              "      <td>59.0</td>\n",
              "      <td>105000</td>\n",
              "      <td>1.499000e+05</td>\n",
              "    </tr>\n",
              "    <tr>\n",
              "      <th>44677</th>\n",
              "      <td>Villa Crespo</td>\n",
              "      <td>2.0</td>\n",
              "      <td>1.0</td>\n",
              "      <td>1.0</td>\n",
              "      <td>35.0</td>\n",
              "      <td>35.0</td>\n",
              "      <td>69500</td>\n",
              "      <td>7.245000e+04</td>\n",
              "    </tr>\n",
              "  </tbody>\n",
              "</table>\n",
              "<p>32424 rows × 8 columns</p>\n",
              "</div>\n",
              "    <div class=\"colab-df-buttons\">\n",
              "\n",
              "  <div class=\"colab-df-container\">\n",
              "    <button class=\"colab-df-convert\" onclick=\"convertToInteractive('df-f13fa411-1138-49fb-b7c1-3ebd7832bb8c')\"\n",
              "            title=\"Convert this dataframe to an interactive table.\"\n",
              "            style=\"display:none;\">\n",
              "\n",
              "  <svg xmlns=\"http://www.w3.org/2000/svg\" height=\"24px\" viewBox=\"0 -960 960 960\">\n",
              "    <path d=\"M120-120v-720h720v720H120Zm60-500h600v-160H180v160Zm220 220h160v-160H400v160Zm0 220h160v-160H400v160ZM180-400h160v-160H180v160Zm440 0h160v-160H620v160ZM180-180h160v-160H180v160Zm440 0h160v-160H620v160Z\"/>\n",
              "  </svg>\n",
              "    </button>\n",
              "\n",
              "  <style>\n",
              "    .colab-df-container {\n",
              "      display:flex;\n",
              "      gap: 12px;\n",
              "    }\n",
              "\n",
              "    .colab-df-convert {\n",
              "      background-color: #E8F0FE;\n",
              "      border: none;\n",
              "      border-radius: 50%;\n",
              "      cursor: pointer;\n",
              "      display: none;\n",
              "      fill: #1967D2;\n",
              "      height: 32px;\n",
              "      padding: 0 0 0 0;\n",
              "      width: 32px;\n",
              "    }\n",
              "\n",
              "    .colab-df-convert:hover {\n",
              "      background-color: #E2EBFA;\n",
              "      box-shadow: 0px 1px 2px rgba(60, 64, 67, 0.3), 0px 1px 3px 1px rgba(60, 64, 67, 0.15);\n",
              "      fill: #174EA6;\n",
              "    }\n",
              "\n",
              "    .colab-df-buttons div {\n",
              "      margin-bottom: 4px;\n",
              "    }\n",
              "\n",
              "    [theme=dark] .colab-df-convert {\n",
              "      background-color: #3B4455;\n",
              "      fill: #D2E3FC;\n",
              "    }\n",
              "\n",
              "    [theme=dark] .colab-df-convert:hover {\n",
              "      background-color: #434B5C;\n",
              "      box-shadow: 0px 1px 3px 1px rgba(0, 0, 0, 0.15);\n",
              "      filter: drop-shadow(0px 1px 2px rgba(0, 0, 0, 0.3));\n",
              "      fill: #FFFFFF;\n",
              "    }\n",
              "  </style>\n",
              "\n",
              "    <script>\n",
              "      const buttonEl =\n",
              "        document.querySelector('#df-f13fa411-1138-49fb-b7c1-3ebd7832bb8c button.colab-df-convert');\n",
              "      buttonEl.style.display =\n",
              "        google.colab.kernel.accessAllowed ? 'block' : 'none';\n",
              "\n",
              "      async function convertToInteractive(key) {\n",
              "        const element = document.querySelector('#df-f13fa411-1138-49fb-b7c1-3ebd7832bb8c');\n",
              "        const dataTable =\n",
              "          await google.colab.kernel.invokeFunction('convertToInteractive',\n",
              "                                                    [key], {});\n",
              "        if (!dataTable) return;\n",
              "\n",
              "        const docLinkHtml = 'Like what you see? Visit the ' +\n",
              "          '<a target=\"_blank\" href=https://colab.research.google.com/notebooks/data_table.ipynb>data table notebook</a>'\n",
              "          + ' to learn more about interactive tables.';\n",
              "        element.innerHTML = '';\n",
              "        dataTable['output_type'] = 'display_data';\n",
              "        await google.colab.output.renderOutput(dataTable, element);\n",
              "        const docLink = document.createElement('div');\n",
              "        docLink.innerHTML = docLinkHtml;\n",
              "        element.appendChild(docLink);\n",
              "      }\n",
              "    </script>\n",
              "  </div>\n",
              "\n",
              "\n",
              "<div id=\"df-170220bd-9aaf-4c53-a1ed-fc7e37d0ab42\">\n",
              "  <button class=\"colab-df-quickchart\" onclick=\"quickchart('df-170220bd-9aaf-4c53-a1ed-fc7e37d0ab42')\"\n",
              "            title=\"Suggest charts\"\n",
              "            style=\"display:none;\">\n",
              "\n",
              "<svg xmlns=\"http://www.w3.org/2000/svg\" height=\"24px\"viewBox=\"0 0 24 24\"\n",
              "     width=\"24px\">\n",
              "    <g>\n",
              "        <path d=\"M19 3H5c-1.1 0-2 .9-2 2v14c0 1.1.9 2 2 2h14c1.1 0 2-.9 2-2V5c0-1.1-.9-2-2-2zM9 17H7v-7h2v7zm4 0h-2V7h2v10zm4 0h-2v-4h2v4z\"/>\n",
              "    </g>\n",
              "</svg>\n",
              "  </button>\n",
              "\n",
              "<style>\n",
              "  .colab-df-quickchart {\n",
              "      --bg-color: #E8F0FE;\n",
              "      --fill-color: #1967D2;\n",
              "      --hover-bg-color: #E2EBFA;\n",
              "      --hover-fill-color: #174EA6;\n",
              "      --disabled-fill-color: #AAA;\n",
              "      --disabled-bg-color: #DDD;\n",
              "  }\n",
              "\n",
              "  [theme=dark] .colab-df-quickchart {\n",
              "      --bg-color: #3B4455;\n",
              "      --fill-color: #D2E3FC;\n",
              "      --hover-bg-color: #434B5C;\n",
              "      --hover-fill-color: #FFFFFF;\n",
              "      --disabled-bg-color: #3B4455;\n",
              "      --disabled-fill-color: #666;\n",
              "  }\n",
              "\n",
              "  .colab-df-quickchart {\n",
              "    background-color: var(--bg-color);\n",
              "    border: none;\n",
              "    border-radius: 50%;\n",
              "    cursor: pointer;\n",
              "    display: none;\n",
              "    fill: var(--fill-color);\n",
              "    height: 32px;\n",
              "    padding: 0;\n",
              "    width: 32px;\n",
              "  }\n",
              "\n",
              "  .colab-df-quickchart:hover {\n",
              "    background-color: var(--hover-bg-color);\n",
              "    box-shadow: 0 1px 2px rgba(60, 64, 67, 0.3), 0 1px 3px 1px rgba(60, 64, 67, 0.15);\n",
              "    fill: var(--button-hover-fill-color);\n",
              "  }\n",
              "\n",
              "  .colab-df-quickchart-complete:disabled,\n",
              "  .colab-df-quickchart-complete:disabled:hover {\n",
              "    background-color: var(--disabled-bg-color);\n",
              "    fill: var(--disabled-fill-color);\n",
              "    box-shadow: none;\n",
              "  }\n",
              "\n",
              "  .colab-df-spinner {\n",
              "    border: 2px solid var(--fill-color);\n",
              "    border-color: transparent;\n",
              "    border-bottom-color: var(--fill-color);\n",
              "    animation:\n",
              "      spin 1s steps(1) infinite;\n",
              "  }\n",
              "\n",
              "  @keyframes spin {\n",
              "    0% {\n",
              "      border-color: transparent;\n",
              "      border-bottom-color: var(--fill-color);\n",
              "      border-left-color: var(--fill-color);\n",
              "    }\n",
              "    20% {\n",
              "      border-color: transparent;\n",
              "      border-left-color: var(--fill-color);\n",
              "      border-top-color: var(--fill-color);\n",
              "    }\n",
              "    30% {\n",
              "      border-color: transparent;\n",
              "      border-left-color: var(--fill-color);\n",
              "      border-top-color: var(--fill-color);\n",
              "      border-right-color: var(--fill-color);\n",
              "    }\n",
              "    40% {\n",
              "      border-color: transparent;\n",
              "      border-right-color: var(--fill-color);\n",
              "      border-top-color: var(--fill-color);\n",
              "    }\n",
              "    60% {\n",
              "      border-color: transparent;\n",
              "      border-right-color: var(--fill-color);\n",
              "    }\n",
              "    80% {\n",
              "      border-color: transparent;\n",
              "      border-right-color: var(--fill-color);\n",
              "      border-bottom-color: var(--fill-color);\n",
              "    }\n",
              "    90% {\n",
              "      border-color: transparent;\n",
              "      border-bottom-color: var(--fill-color);\n",
              "    }\n",
              "  }\n",
              "</style>\n",
              "\n",
              "  <script>\n",
              "    async function quickchart(key) {\n",
              "      const quickchartButtonEl =\n",
              "        document.querySelector('#' + key + ' button');\n",
              "      quickchartButtonEl.disabled = true;  // To prevent multiple clicks.\n",
              "      quickchartButtonEl.classList.add('colab-df-spinner');\n",
              "      try {\n",
              "        const charts = await google.colab.kernel.invokeFunction(\n",
              "            'suggestCharts', [key], {});\n",
              "      } catch (error) {\n",
              "        console.error('Error during call to suggestCharts:', error);\n",
              "      }\n",
              "      quickchartButtonEl.classList.remove('colab-df-spinner');\n",
              "      quickchartButtonEl.classList.add('colab-df-quickchart-complete');\n",
              "    }\n",
              "    (() => {\n",
              "      let quickchartButtonEl =\n",
              "        document.querySelector('#df-170220bd-9aaf-4c53-a1ed-fc7e37d0ab42 button');\n",
              "      quickchartButtonEl.style.display =\n",
              "        google.colab.kernel.accessAllowed ? 'block' : 'none';\n",
              "    })();\n",
              "  </script>\n",
              "</div>\n",
              "\n",
              "    </div>\n",
              "  </div>\n"
            ],
            "application/vnd.google.colaboratory.intrinsic+json": {
              "type": "dataframe",
              "summary": "{\n  \"name\": \"predict_model(mejor_modelo[0], data=df)\",\n  \"rows\": 32424,\n  \"fields\": [\n    {\n      \"column\": \"Localidad\",\n      \"properties\": {\n        \"dtype\": \"category\",\n        \"num_unique_values\": 57,\n        \"samples\": [\n          \"Belgrano\",\n          \"Villa Urquiza\",\n          \"Monserrat\"\n        ],\n        \"semantic_type\": \"\",\n        \"description\": \"\"\n      }\n    },\n    {\n      \"column\": \"Ambientes\",\n      \"properties\": {\n        \"dtype\": \"float32\",\n        \"num_unique_values\": 15,\n        \"samples\": [\n          10.0,\n          12.0,\n          6.0\n        ],\n        \"semantic_type\": \"\",\n        \"description\": \"\"\n      }\n    },\n    {\n      \"column\": \"Habitaciones\",\n      \"properties\": {\n        \"dtype\": \"float32\",\n        \"num_unique_values\": 17,\n        \"samples\": [\n          4.0,\n          2.0,\n          5.0\n        ],\n        \"semantic_type\": \"\",\n        \"description\": \"\"\n      }\n    },\n    {\n      \"column\": \"Ba\\u00f1os\",\n      \"properties\": {\n        \"dtype\": \"float32\",\n        \"num_unique_values\": 10,\n        \"samples\": [\n          10.0,\n          3.0,\n          8.0\n        ],\n        \"semantic_type\": \"\",\n        \"description\": \"\"\n      }\n    },\n    {\n      \"column\": \"Sup_Total\",\n      \"properties\": {\n        \"dtype\": \"float32\",\n        \"num_unique_values\": 474,\n        \"samples\": [\n          341.0,\n          2000.0,\n          34.0\n        ],\n        \"semantic_type\": \"\",\n        \"description\": \"\"\n      }\n    },\n    {\n      \"column\": \"Sup_Cubierta\",\n      \"properties\": {\n        \"dtype\": \"float32\",\n        \"num_unique_values\": 428,\n        \"samples\": [\n          575.0,\n          22.0,\n          293.0\n        ],\n        \"semantic_type\": \"\",\n        \"description\": \"\"\n      }\n    },\n    {\n      \"column\": \"Precio\",\n      \"properties\": {\n        \"dtype\": \"int32\",\n        \"num_unique_values\": 2392,\n        \"samples\": [\n          202350,\n          520000,\n          159650\n        ],\n        \"semantic_type\": \"\",\n        \"description\": \"\"\n      }\n    },\n    {\n      \"column\": \"prediction_label\",\n      \"properties\": {\n        \"dtype\": \"number\",\n        \"std\": 416579.8244067386,\n        \"min\": 25000.0,\n        \"max\": 15011160.0,\n        \"num_unique_values\": 10003,\n        \"samples\": [\n          940670.0,\n          587500.0,\n          479750.0\n        ],\n        \"semantic_type\": \"\",\n        \"description\": \"\"\n      }\n    }\n  ]\n}"
            }
          },
          "metadata": {},
          "execution_count": 30
        }
      ]
    },
    {
      "cell_type": "markdown",
      "source": [
        "### **<font color=\"black\">Evaluacion**"
      ],
      "metadata": {
        "id": "Y7C1rzE2QRTy"
      }
    },
    {
      "cell_type": "code",
      "metadata": {
        "id": "1BECoNxH42Vv",
        "colab": {
          "base_uri": "https://localhost:8080/",
          "height": 172,
          "referenced_widgets": [
            "2740c45c973e4ebca24b56f4326a9347",
            "96741d0e4e904f30b94f902b0766f18e",
            "95585b3932b24bef97e00f5d198ee3d9",
            "281a7fc96074483297cc44de7311b498",
            "a4eb5255e5584265aa31ac993c148854",
            "13f3ef3e9288495bbcc02ea187352833",
            "c3b342f098d04f0ba9c1862b4dfdb282"
          ]
        },
        "outputId": "df8b6ba1-7170-4ec2-d399-ce8044d90c3a"
      },
      "source": [
        "evaluate_model(mejor_modelo[0])"
      ],
      "execution_count": 31,
      "outputs": [
        {
          "output_type": "display_data",
          "data": {
            "text/plain": [
              "interactive(children=(ToggleButtons(description='Plot Type:', icons=('',), options=(('Pipeline Plot', 'pipelin…"
            ],
            "application/vnd.jupyter.widget-view+json": {
              "version_major": 2,
              "version_minor": 0,
              "model_id": "2740c45c973e4ebca24b56f4326a9347"
            }
          },
          "metadata": {
            "application/vnd.jupyter.widget-view+json": {
              "colab": {
                "custom_widget_manager": {
                  "url": "https://ssl.gstatic.com/colaboratory-static/widgets/colab-cdn-widget-manager/2b70e893a8ba7c0f/manager.min.js"
                }
              }
            }
          }
        }
      ]
    },
    {
      "cell_type": "markdown",
      "source": [
        "# **<font color=\"black\">03 - Analyze Model</font>**\n",
        "\n",
        "<h5 align=\"center\"><b>\n",
        "<font color=\"black\">\n",
        "<b><mark>Setup</mark> ▶ <mark>Compare Models</mark> ▶ <mark>Analyze Model</mark> ▶ Prediction ▶ Save Model"
      ],
      "metadata": {
        "id": "kQGk3oITQXXA"
      }
    },
    {
      "cell_type": "markdown",
      "source": [
        " ## **<font color=\"Black\">Residuos</font>**"
      ],
      "metadata": {
        "id": "x3y5pWXCQfOp"
      }
    },
    {
      "cell_type": "markdown",
      "source": [],
      "metadata": {
        "id": "_PFm7pPGQjgT"
      }
    },
    {
      "cell_type": "markdown",
      "source": [
        "<p align=\"justify\">\n",
        "En el contexto de modelos de regresión, los residuos son las diferencias entre los valores reales de la variable dependiente y las predicciones realizadas por el modelo. En otras palabras, los residuos son el error entre lo que el modelo predice y lo que realmente ocurre en los datos de prueba.\n",
        "<br><br>\n",
        "Matemáticamente, el residuo de una observación $i$ se calcula restando el valor real $y_{i}$ de la variable dependiente al valor predicho $\\hat{y_{i}}$ por el modelo para esa misma observación:\n",
        "<br><br>\n",
        "$$ \\text{Residuo}_{i} = y_{i} - \\hat{y_{i}}$$\n",
        "<br>\n",
        "<p align=\"justify\">\n",
        "Esperamos que los residuos tengan una distribución alrededor de cero, lo que significa que el modelo ha ajustado bien los datos y que las predicciones están lo más cercanas posible a los valores reales.\n",
        "<br><br>\n",
        "Sin embargo, en la práctica, los residuos no siempre serán cero, ya que los modelos de regresión generalmente no pueden ajustarse perfectamente a todos los datos.\n",
        "<br><br>\n",
        "El análisis de los residuos es una parte importante de la validación del modelo. Algunas de las cosas que podemos hacer con los residuos son:\n",
        "<br><br>\n",
        "<ol align=\"justify\">\n",
        "<li><b>Comprobar la normalidad</b>: Un buen modelo de regresión debe tener residuos que sigan una distribución normal. Si los residuos muestran una desviación significativa de la normalidad, puede indicar que el modelo no está capturando completamente la estructura subyacente de los datos.</li>\n",
        "<br>\n",
        "<li><b>Identificar patrones no lineales</b>: Si los residuos muestran algún patrón sistemático, como una forma de U o una relación curvilínea con las variables independientes, esto puede indicar que el modelo no está capturando correctamente relaciones no lineales en los datos.</li>\n",
        "<br>\n",
        "<li><b>Verificar la homocedasticidad</b>: La homocedasticidad significa que los residuos tienen una varianza constante en todas las observaciones. Si los residuos tienen una varianza que cambia con el nivel de la variable dependiente, puede indicar una falta de homocedasticidad, lo que afecta la precisión y fiabilidad del modelo.</li>\n",
        "<br>\n",
        "<li><b>Detectar valores atípicos</b>: Los residuos también pueden ayudarnos a identificar valores atípicos o datos inusuales que pueden tener un impacto significativo en el modelo.</li></ol>\n",
        "<p align=\"justify\">\n",
        "👀 En general, un análisis detallado de los residuos es esencial para entender cómo bien se ajusta el modelo a los datos y si existen problemas o áreas de mejora en el mismo."
      ],
      "metadata": {
        "id": "GgpRqd2nk5-2"
      }
    },
    {
      "cell_type": "markdown",
      "metadata": {
        "id": "Dfc_HY2m_7yo"
      },
      "source": [
        "# **Ensemble**"
      ]
    },
    {
      "cell_type": "markdown",
      "metadata": {
        "id": "htDcMOs-AAPj"
      },
      "source": [
        "**Ensamble es una técnica de machine learning que se utiliza para mejorar el rendimiento de los modelos (principalmente los modelos basados ​​en árboles). Hay varias técnicas para ensamblar como bagging y boosting. Usaremos la función ```ensemble_model()``` en PyCaret.**"
      ]
    },
    {
      "cell_type": "markdown",
      "metadata": {
        "id": "VM-tlEyFAstr"
      },
      "source": [
        "## **Bagging**"
      ]
    },
    {
      "cell_type": "code",
      "metadata": {
        "id": "3WNtTDMT_Ru4",
        "colab": {
          "base_uri": "https://localhost:8080/",
          "height": 457,
          "referenced_widgets": [
            "7a64a98cd8104c0290cd06859b16098a",
            "c18de03e968841eeb64933b2d8a261fd",
            "b738844271b74fac946ca9d591a5cfad",
            "eb5e185ca7a047e080f4333ca01578e7",
            "69576b6c3f4d4785892b005441969e72",
            "79a1d9f355284a5097bae04bb9d601a4",
            "93d1b8025b45403a9161f428b000501f",
            "301ada09d1cf4e87b26c42a38f4a65d8",
            "c5eafe2e86874e5fa69e18d2e5f06bc7",
            "4557fa15389144e39e62a017c8596bdb",
            "6bdb9b0636c343deb64ad189625bd7e3"
          ]
        },
        "outputId": "eaa153de-b517-4556-c5ca-946347f746f5"
      },
      "source": [
        "bagged = ensemble_model(mejor_modelo[0])"
      ],
      "execution_count": 32,
      "outputs": [
        {
          "output_type": "display_data",
          "data": {
            "text/plain": [
              "<IPython.core.display.HTML object>"
            ],
            "text/html": []
          },
          "metadata": {}
        },
        {
          "output_type": "display_data",
          "data": {
            "text/plain": [
              "<pandas.io.formats.style.Styler at 0x7cd801a20fa0>"
            ],
            "text/html": [
              "<style type=\"text/css\">\n",
              "#T_3b3af_row10_col0, #T_3b3af_row10_col1, #T_3b3af_row10_col2, #T_3b3af_row10_col3, #T_3b3af_row10_col4, #T_3b3af_row10_col5 {\n",
              "  background: yellow;\n",
              "}\n",
              "</style>\n",
              "<table id=\"T_3b3af\" class=\"dataframe\">\n",
              "  <thead>\n",
              "    <tr>\n",
              "      <th class=\"blank level0\" >&nbsp;</th>\n",
              "      <th id=\"T_3b3af_level0_col0\" class=\"col_heading level0 col0\" >MAE</th>\n",
              "      <th id=\"T_3b3af_level0_col1\" class=\"col_heading level0 col1\" >MSE</th>\n",
              "      <th id=\"T_3b3af_level0_col2\" class=\"col_heading level0 col2\" >RMSE</th>\n",
              "      <th id=\"T_3b3af_level0_col3\" class=\"col_heading level0 col3\" >R2</th>\n",
              "      <th id=\"T_3b3af_level0_col4\" class=\"col_heading level0 col4\" >RMSLE</th>\n",
              "      <th id=\"T_3b3af_level0_col5\" class=\"col_heading level0 col5\" >MAPE</th>\n",
              "    </tr>\n",
              "    <tr>\n",
              "      <th class=\"index_name level0\" >Fold</th>\n",
              "      <th class=\"blank col0\" >&nbsp;</th>\n",
              "      <th class=\"blank col1\" >&nbsp;</th>\n",
              "      <th class=\"blank col2\" >&nbsp;</th>\n",
              "      <th class=\"blank col3\" >&nbsp;</th>\n",
              "      <th class=\"blank col4\" >&nbsp;</th>\n",
              "      <th class=\"blank col5\" >&nbsp;</th>\n",
              "    </tr>\n",
              "  </thead>\n",
              "  <tbody>\n",
              "    <tr>\n",
              "      <th id=\"T_3b3af_level0_row0\" class=\"row_heading level0 row0\" >0</th>\n",
              "      <td id=\"T_3b3af_row0_col0\" class=\"data row0 col0\" >61081.3538</td>\n",
              "      <td id=\"T_3b3af_row0_col1\" class=\"data row0 col1\" >20505357778.4715</td>\n",
              "      <td id=\"T_3b3af_row0_col2\" class=\"data row0 col2\" >143196.9196</td>\n",
              "      <td id=\"T_3b3af_row0_col3\" class=\"data row0 col3\" >0.8698</td>\n",
              "      <td id=\"T_3b3af_row0_col4\" class=\"data row0 col4\" >0.2397</td>\n",
              "      <td id=\"T_3b3af_row0_col5\" class=\"data row0 col5\" >0.1872</td>\n",
              "    </tr>\n",
              "    <tr>\n",
              "      <th id=\"T_3b3af_level0_row1\" class=\"row_heading level0 row1\" >1</th>\n",
              "      <td id=\"T_3b3af_row1_col0\" class=\"data row1 col0\" >61033.0518</td>\n",
              "      <td id=\"T_3b3af_row1_col1\" class=\"data row1 col1\" >43543555177.8666</td>\n",
              "      <td id=\"T_3b3af_row1_col2\" class=\"data row1 col2\" >208670.9256</td>\n",
              "      <td id=\"T_3b3af_row1_col3\" class=\"data row1 col3\" >0.7705</td>\n",
              "      <td id=\"T_3b3af_row1_col4\" class=\"data row1 col4\" >0.2455</td>\n",
              "      <td id=\"T_3b3af_row1_col5\" class=\"data row1 col5\" >0.1846</td>\n",
              "    </tr>\n",
              "    <tr>\n",
              "      <th id=\"T_3b3af_level0_row2\" class=\"row_heading level0 row2\" >2</th>\n",
              "      <td id=\"T_3b3af_row2_col0\" class=\"data row2 col0\" >59693.3932</td>\n",
              "      <td id=\"T_3b3af_row2_col1\" class=\"data row2 col1\" >20068593526.9284</td>\n",
              "      <td id=\"T_3b3af_row2_col2\" class=\"data row2 col2\" >141663.6634</td>\n",
              "      <td id=\"T_3b3af_row2_col3\" class=\"data row2 col3\" >0.8746</td>\n",
              "      <td id=\"T_3b3af_row2_col4\" class=\"data row2 col4\" >0.2381</td>\n",
              "      <td id=\"T_3b3af_row2_col5\" class=\"data row2 col5\" >0.1841</td>\n",
              "    </tr>\n",
              "    <tr>\n",
              "      <th id=\"T_3b3af_level0_row3\" class=\"row_heading level0 row3\" >3</th>\n",
              "      <td id=\"T_3b3af_row3_col0\" class=\"data row3 col0\" >69648.0438</td>\n",
              "      <td id=\"T_3b3af_row3_col1\" class=\"data row3 col1\" >161683430248.4449</td>\n",
              "      <td id=\"T_3b3af_row3_col2\" class=\"data row3 col2\" >402098.7817</td>\n",
              "      <td id=\"T_3b3af_row3_col3\" class=\"data row3 col3\" >0.4504</td>\n",
              "      <td id=\"T_3b3af_row3_col4\" class=\"data row3 col4\" >0.2683</td>\n",
              "      <td id=\"T_3b3af_row3_col5\" class=\"data row3 col5\" >0.1907</td>\n",
              "    </tr>\n",
              "    <tr>\n",
              "      <th id=\"T_3b3af_level0_row4\" class=\"row_heading level0 row4\" >4</th>\n",
              "      <td id=\"T_3b3af_row4_col0\" class=\"data row4 col0\" >63496.9291</td>\n",
              "      <td id=\"T_3b3af_row4_col1\" class=\"data row4 col1\" >36572781994.1290</td>\n",
              "      <td id=\"T_3b3af_row4_col2\" class=\"data row4 col2\" >191240.1161</td>\n",
              "      <td id=\"T_3b3af_row4_col3\" class=\"data row4 col3\" >0.8133</td>\n",
              "      <td id=\"T_3b3af_row4_col4\" class=\"data row4 col4\" >0.2583</td>\n",
              "      <td id=\"T_3b3af_row4_col5\" class=\"data row4 col5\" >0.1992</td>\n",
              "    </tr>\n",
              "    <tr>\n",
              "      <th id=\"T_3b3af_level0_row5\" class=\"row_heading level0 row5\" >5</th>\n",
              "      <td id=\"T_3b3af_row5_col0\" class=\"data row5 col0\" >58645.3410</td>\n",
              "      <td id=\"T_3b3af_row5_col1\" class=\"data row5 col1\" >17085168655.1526</td>\n",
              "      <td id=\"T_3b3af_row5_col2\" class=\"data row5 col2\" >130710.2469</td>\n",
              "      <td id=\"T_3b3af_row5_col3\" class=\"data row5 col3\" >0.8771</td>\n",
              "      <td id=\"T_3b3af_row5_col4\" class=\"data row5 col4\" >0.2394</td>\n",
              "      <td id=\"T_3b3af_row5_col5\" class=\"data row5 col5\" >0.1891</td>\n",
              "    </tr>\n",
              "    <tr>\n",
              "      <th id=\"T_3b3af_level0_row6\" class=\"row_heading level0 row6\" >6</th>\n",
              "      <td id=\"T_3b3af_row6_col0\" class=\"data row6 col0\" >61358.9419</td>\n",
              "      <td id=\"T_3b3af_row6_col1\" class=\"data row6 col1\" >24149398212.8742</td>\n",
              "      <td id=\"T_3b3af_row6_col2\" class=\"data row6 col2\" >155400.7664</td>\n",
              "      <td id=\"T_3b3af_row6_col3\" class=\"data row6 col3\" >0.8617</td>\n",
              "      <td id=\"T_3b3af_row6_col4\" class=\"data row6 col4\" >0.2449</td>\n",
              "      <td id=\"T_3b3af_row6_col5\" class=\"data row6 col5\" >0.1886</td>\n",
              "    </tr>\n",
              "    <tr>\n",
              "      <th id=\"T_3b3af_level0_row7\" class=\"row_heading level0 row7\" >7</th>\n",
              "      <td id=\"T_3b3af_row7_col0\" class=\"data row7 col0\" >56520.4708</td>\n",
              "      <td id=\"T_3b3af_row7_col1\" class=\"data row7 col1\" >21761008095.2586</td>\n",
              "      <td id=\"T_3b3af_row7_col2\" class=\"data row7 col2\" >147516.1283</td>\n",
              "      <td id=\"T_3b3af_row7_col3\" class=\"data row7 col3\" >0.8793</td>\n",
              "      <td id=\"T_3b3af_row7_col4\" class=\"data row7 col4\" >0.2513</td>\n",
              "      <td id=\"T_3b3af_row7_col5\" class=\"data row7 col5\" >0.2098</td>\n",
              "    </tr>\n",
              "    <tr>\n",
              "      <th id=\"T_3b3af_level0_row8\" class=\"row_heading level0 row8\" >8</th>\n",
              "      <td id=\"T_3b3af_row8_col0\" class=\"data row8 col0\" >59921.2799</td>\n",
              "      <td id=\"T_3b3af_row8_col1\" class=\"data row8 col1\" >19222845084.6944</td>\n",
              "      <td id=\"T_3b3af_row8_col2\" class=\"data row8 col2\" >138646.4752</td>\n",
              "      <td id=\"T_3b3af_row8_col3\" class=\"data row8 col3\" >0.8640</td>\n",
              "      <td id=\"T_3b3af_row8_col4\" class=\"data row8 col4\" >0.2514</td>\n",
              "      <td id=\"T_3b3af_row8_col5\" class=\"data row8 col5\" >0.1996</td>\n",
              "    </tr>\n",
              "    <tr>\n",
              "      <th id=\"T_3b3af_level0_row9\" class=\"row_heading level0 row9\" >9</th>\n",
              "      <td id=\"T_3b3af_row9_col0\" class=\"data row9 col0\" >65961.6152</td>\n",
              "      <td id=\"T_3b3af_row9_col1\" class=\"data row9 col1\" >29959529502.0379</td>\n",
              "      <td id=\"T_3b3af_row9_col2\" class=\"data row9 col2\" >173088.2131</td>\n",
              "      <td id=\"T_3b3af_row9_col3\" class=\"data row9 col3\" >0.8435</td>\n",
              "      <td id=\"T_3b3af_row9_col4\" class=\"data row9 col4\" >0.2594</td>\n",
              "      <td id=\"T_3b3af_row9_col5\" class=\"data row9 col5\" >0.1990</td>\n",
              "    </tr>\n",
              "    <tr>\n",
              "      <th id=\"T_3b3af_level0_row10\" class=\"row_heading level0 row10\" >Mean</th>\n",
              "      <td id=\"T_3b3af_row10_col0\" class=\"data row10 col0\" >61736.0420</td>\n",
              "      <td id=\"T_3b3af_row10_col1\" class=\"data row10 col1\" >39455166827.5858</td>\n",
              "      <td id=\"T_3b3af_row10_col2\" class=\"data row10 col2\" >183223.2236</td>\n",
              "      <td id=\"T_3b3af_row10_col3\" class=\"data row10 col3\" >0.8104</td>\n",
              "      <td id=\"T_3b3af_row10_col4\" class=\"data row10 col4\" >0.2496</td>\n",
              "      <td id=\"T_3b3af_row10_col5\" class=\"data row10 col5\" >0.1932</td>\n",
              "    </tr>\n",
              "    <tr>\n",
              "      <th id=\"T_3b3af_level0_row11\" class=\"row_heading level0 row11\" >Std</th>\n",
              "      <td id=\"T_3b3af_row11_col0\" class=\"data row11 col0\" >3589.4480</td>\n",
              "      <td id=\"T_3b3af_row11_col1\" class=\"data row11 col1\" >41529491356.7963</td>\n",
              "      <td id=\"T_3b3af_row11_col2\" class=\"data row11 col2\" >76709.9547</td>\n",
              "      <td id=\"T_3b3af_row11_col3\" class=\"data row11 col3\" >0.1244</td>\n",
              "      <td id=\"T_3b3af_row11_col4\" class=\"data row11 col4\" >0.0095</td>\n",
              "      <td id=\"T_3b3af_row11_col5\" class=\"data row11 col5\" >0.0079</td>\n",
              "    </tr>\n",
              "  </tbody>\n",
              "</table>\n"
            ]
          },
          "metadata": {}
        },
        {
          "output_type": "display_data",
          "data": {
            "text/plain": [
              "Processing:   0%|          | 0/6 [00:00<?, ?it/s]"
            ],
            "application/vnd.jupyter.widget-view+json": {
              "version_major": 2,
              "version_minor": 0,
              "model_id": "7a64a98cd8104c0290cd06859b16098a"
            }
          },
          "metadata": {
            "application/vnd.jupyter.widget-view+json": {
              "colab": {
                "custom_widget_manager": {
                  "url": "https://ssl.gstatic.com/colaboratory-static/widgets/colab-cdn-widget-manager/2b70e893a8ba7c0f/manager.min.js"
                }
              }
            }
          }
        },
        {
          "output_type": "display_data",
          "data": {
            "text/plain": [
              "<IPython.core.display.HTML object>"
            ],
            "text/html": []
          },
          "metadata": {}
        }
      ]
    },
    {
      "cell_type": "code",
      "metadata": {
        "id": "aL5SBfupD0AS",
        "colab": {
          "base_uri": "https://localhost:8080/",
          "height": 487
        },
        "outputId": "8ddd923a-e6c6-4707-e101-3718d2f130fb"
      },
      "source": [
        "predict_model(bagged, data=df)"
      ],
      "execution_count": 33,
      "outputs": [
        {
          "output_type": "display_data",
          "data": {
            "text/plain": [
              "<pandas.io.formats.style.Styler at 0x7cd82ced03d0>"
            ],
            "text/html": [
              "<style type=\"text/css\">\n",
              "</style>\n",
              "<table id=\"T_4fc36\" class=\"dataframe\">\n",
              "  <thead>\n",
              "    <tr>\n",
              "      <th class=\"blank level0\" >&nbsp;</th>\n",
              "      <th id=\"T_4fc36_level0_col0\" class=\"col_heading level0 col0\" >Model</th>\n",
              "      <th id=\"T_4fc36_level0_col1\" class=\"col_heading level0 col1\" >MAE</th>\n",
              "      <th id=\"T_4fc36_level0_col2\" class=\"col_heading level0 col2\" >MSE</th>\n",
              "      <th id=\"T_4fc36_level0_col3\" class=\"col_heading level0 col3\" >RMSE</th>\n",
              "      <th id=\"T_4fc36_level0_col4\" class=\"col_heading level0 col4\" >R2</th>\n",
              "      <th id=\"T_4fc36_level0_col5\" class=\"col_heading level0 col5\" >RMSLE</th>\n",
              "      <th id=\"T_4fc36_level0_col6\" class=\"col_heading level0 col6\" >MAPE</th>\n",
              "    </tr>\n",
              "  </thead>\n",
              "  <tbody>\n",
              "    <tr>\n",
              "      <th id=\"T_4fc36_level0_row0\" class=\"row_heading level0 row0\" >0</th>\n",
              "      <td id=\"T_4fc36_row0_col0\" class=\"data row0 col0\" >Extra Trees Regressor</td>\n",
              "      <td id=\"T_4fc36_row0_col1\" class=\"data row0 col1\" >42752.0355</td>\n",
              "      <td id=\"T_4fc36_row0_col2\" class=\"data row0 col2\" >15335205317.6281</td>\n",
              "      <td id=\"T_4fc36_row0_col3\" class=\"data row0 col3\" >123835.3961</td>\n",
              "      <td id=\"T_4fc36_row0_col4\" class=\"data row0 col4\" >0.9100</td>\n",
              "      <td id=\"T_4fc36_row0_col5\" class=\"data row0 col5\" >0.1988</td>\n",
              "      <td id=\"T_4fc36_row0_col6\" class=\"data row0 col6\" >0.1422</td>\n",
              "    </tr>\n",
              "  </tbody>\n",
              "</table>\n"
            ]
          },
          "metadata": {}
        },
        {
          "output_type": "execute_result",
          "data": {
            "text/plain": [
              "              Localidad  Ambientes  Habitaciones  Baños  Sup_Total  \\\n",
              "4              Belgrano        6.0           4.0    2.0      190.0   \n",
              "7         Puerto Madero        3.0           2.0    3.0      161.0   \n",
              "8               Palermo        2.0           1.0    1.0       38.0   \n",
              "9               Palermo        3.0           2.0    1.0       80.0   \n",
              "10     Villa del Parque        1.0           1.0    1.0       44.0   \n",
              "...                 ...        ...           ...    ...        ...   \n",
              "44672      Villa Crespo        2.0           1.0    1.0       29.0   \n",
              "44673      Monte Castro        2.0           1.0    1.0       56.0   \n",
              "44675        Colegiales        2.0           1.0    1.0       45.0   \n",
              "44676        Colegiales        1.0           1.0    1.0       59.0   \n",
              "44677      Villa Crespo        2.0           1.0    1.0       35.0   \n",
              "\n",
              "       Sup_Cubierta   Precio  prediction_label  \n",
              "4             178.0   550000      7.017816e+05  \n",
              "7             149.0  1600000      1.360828e+06  \n",
              "8              38.0   132000      1.066428e+05  \n",
              "9              75.0   245000      2.313630e+05  \n",
              "10             41.0    86000      8.332250e+04  \n",
              "...             ...      ...               ...  \n",
              "44672          29.0    72000      8.767418e+04  \n",
              "44673          54.0   115000      1.481049e+05  \n",
              "44675          40.0    99000      1.124750e+05  \n",
              "44676          59.0   105000      1.510732e+05  \n",
              "44677          35.0    69500      7.245000e+04  \n",
              "\n",
              "[32424 rows x 8 columns]"
            ],
            "text/html": [
              "\n",
              "  <div id=\"df-48d73467-cf0a-4d6d-b5b8-53dc786630aa\" class=\"colab-df-container\">\n",
              "    <div>\n",
              "<style scoped>\n",
              "    .dataframe tbody tr th:only-of-type {\n",
              "        vertical-align: middle;\n",
              "    }\n",
              "\n",
              "    .dataframe tbody tr th {\n",
              "        vertical-align: top;\n",
              "    }\n",
              "\n",
              "    .dataframe thead th {\n",
              "        text-align: right;\n",
              "    }\n",
              "</style>\n",
              "<table border=\"1\" class=\"dataframe\">\n",
              "  <thead>\n",
              "    <tr style=\"text-align: right;\">\n",
              "      <th></th>\n",
              "      <th>Localidad</th>\n",
              "      <th>Ambientes</th>\n",
              "      <th>Habitaciones</th>\n",
              "      <th>Baños</th>\n",
              "      <th>Sup_Total</th>\n",
              "      <th>Sup_Cubierta</th>\n",
              "      <th>Precio</th>\n",
              "      <th>prediction_label</th>\n",
              "    </tr>\n",
              "  </thead>\n",
              "  <tbody>\n",
              "    <tr>\n",
              "      <th>4</th>\n",
              "      <td>Belgrano</td>\n",
              "      <td>6.0</td>\n",
              "      <td>4.0</td>\n",
              "      <td>2.0</td>\n",
              "      <td>190.0</td>\n",
              "      <td>178.0</td>\n",
              "      <td>550000</td>\n",
              "      <td>7.017816e+05</td>\n",
              "    </tr>\n",
              "    <tr>\n",
              "      <th>7</th>\n",
              "      <td>Puerto Madero</td>\n",
              "      <td>3.0</td>\n",
              "      <td>2.0</td>\n",
              "      <td>3.0</td>\n",
              "      <td>161.0</td>\n",
              "      <td>149.0</td>\n",
              "      <td>1600000</td>\n",
              "      <td>1.360828e+06</td>\n",
              "    </tr>\n",
              "    <tr>\n",
              "      <th>8</th>\n",
              "      <td>Palermo</td>\n",
              "      <td>2.0</td>\n",
              "      <td>1.0</td>\n",
              "      <td>1.0</td>\n",
              "      <td>38.0</td>\n",
              "      <td>38.0</td>\n",
              "      <td>132000</td>\n",
              "      <td>1.066428e+05</td>\n",
              "    </tr>\n",
              "    <tr>\n",
              "      <th>9</th>\n",
              "      <td>Palermo</td>\n",
              "      <td>3.0</td>\n",
              "      <td>2.0</td>\n",
              "      <td>1.0</td>\n",
              "      <td>80.0</td>\n",
              "      <td>75.0</td>\n",
              "      <td>245000</td>\n",
              "      <td>2.313630e+05</td>\n",
              "    </tr>\n",
              "    <tr>\n",
              "      <th>10</th>\n",
              "      <td>Villa del Parque</td>\n",
              "      <td>1.0</td>\n",
              "      <td>1.0</td>\n",
              "      <td>1.0</td>\n",
              "      <td>44.0</td>\n",
              "      <td>41.0</td>\n",
              "      <td>86000</td>\n",
              "      <td>8.332250e+04</td>\n",
              "    </tr>\n",
              "    <tr>\n",
              "      <th>...</th>\n",
              "      <td>...</td>\n",
              "      <td>...</td>\n",
              "      <td>...</td>\n",
              "      <td>...</td>\n",
              "      <td>...</td>\n",
              "      <td>...</td>\n",
              "      <td>...</td>\n",
              "      <td>...</td>\n",
              "    </tr>\n",
              "    <tr>\n",
              "      <th>44672</th>\n",
              "      <td>Villa Crespo</td>\n",
              "      <td>2.0</td>\n",
              "      <td>1.0</td>\n",
              "      <td>1.0</td>\n",
              "      <td>29.0</td>\n",
              "      <td>29.0</td>\n",
              "      <td>72000</td>\n",
              "      <td>8.767418e+04</td>\n",
              "    </tr>\n",
              "    <tr>\n",
              "      <th>44673</th>\n",
              "      <td>Monte Castro</td>\n",
              "      <td>2.0</td>\n",
              "      <td>1.0</td>\n",
              "      <td>1.0</td>\n",
              "      <td>56.0</td>\n",
              "      <td>54.0</td>\n",
              "      <td>115000</td>\n",
              "      <td>1.481049e+05</td>\n",
              "    </tr>\n",
              "    <tr>\n",
              "      <th>44675</th>\n",
              "      <td>Colegiales</td>\n",
              "      <td>2.0</td>\n",
              "      <td>1.0</td>\n",
              "      <td>1.0</td>\n",
              "      <td>45.0</td>\n",
              "      <td>40.0</td>\n",
              "      <td>99000</td>\n",
              "      <td>1.124750e+05</td>\n",
              "    </tr>\n",
              "    <tr>\n",
              "      <th>44676</th>\n",
              "      <td>Colegiales</td>\n",
              "      <td>1.0</td>\n",
              "      <td>1.0</td>\n",
              "      <td>1.0</td>\n",
              "      <td>59.0</td>\n",
              "      <td>59.0</td>\n",
              "      <td>105000</td>\n",
              "      <td>1.510732e+05</td>\n",
              "    </tr>\n",
              "    <tr>\n",
              "      <th>44677</th>\n",
              "      <td>Villa Crespo</td>\n",
              "      <td>2.0</td>\n",
              "      <td>1.0</td>\n",
              "      <td>1.0</td>\n",
              "      <td>35.0</td>\n",
              "      <td>35.0</td>\n",
              "      <td>69500</td>\n",
              "      <td>7.245000e+04</td>\n",
              "    </tr>\n",
              "  </tbody>\n",
              "</table>\n",
              "<p>32424 rows × 8 columns</p>\n",
              "</div>\n",
              "    <div class=\"colab-df-buttons\">\n",
              "\n",
              "  <div class=\"colab-df-container\">\n",
              "    <button class=\"colab-df-convert\" onclick=\"convertToInteractive('df-48d73467-cf0a-4d6d-b5b8-53dc786630aa')\"\n",
              "            title=\"Convert this dataframe to an interactive table.\"\n",
              "            style=\"display:none;\">\n",
              "\n",
              "  <svg xmlns=\"http://www.w3.org/2000/svg\" height=\"24px\" viewBox=\"0 -960 960 960\">\n",
              "    <path d=\"M120-120v-720h720v720H120Zm60-500h600v-160H180v160Zm220 220h160v-160H400v160Zm0 220h160v-160H400v160ZM180-400h160v-160H180v160Zm440 0h160v-160H620v160ZM180-180h160v-160H180v160Zm440 0h160v-160H620v160Z\"/>\n",
              "  </svg>\n",
              "    </button>\n",
              "\n",
              "  <style>\n",
              "    .colab-df-container {\n",
              "      display:flex;\n",
              "      gap: 12px;\n",
              "    }\n",
              "\n",
              "    .colab-df-convert {\n",
              "      background-color: #E8F0FE;\n",
              "      border: none;\n",
              "      border-radius: 50%;\n",
              "      cursor: pointer;\n",
              "      display: none;\n",
              "      fill: #1967D2;\n",
              "      height: 32px;\n",
              "      padding: 0 0 0 0;\n",
              "      width: 32px;\n",
              "    }\n",
              "\n",
              "    .colab-df-convert:hover {\n",
              "      background-color: #E2EBFA;\n",
              "      box-shadow: 0px 1px 2px rgba(60, 64, 67, 0.3), 0px 1px 3px 1px rgba(60, 64, 67, 0.15);\n",
              "      fill: #174EA6;\n",
              "    }\n",
              "\n",
              "    .colab-df-buttons div {\n",
              "      margin-bottom: 4px;\n",
              "    }\n",
              "\n",
              "    [theme=dark] .colab-df-convert {\n",
              "      background-color: #3B4455;\n",
              "      fill: #D2E3FC;\n",
              "    }\n",
              "\n",
              "    [theme=dark] .colab-df-convert:hover {\n",
              "      background-color: #434B5C;\n",
              "      box-shadow: 0px 1px 3px 1px rgba(0, 0, 0, 0.15);\n",
              "      filter: drop-shadow(0px 1px 2px rgba(0, 0, 0, 0.3));\n",
              "      fill: #FFFFFF;\n",
              "    }\n",
              "  </style>\n",
              "\n",
              "    <script>\n",
              "      const buttonEl =\n",
              "        document.querySelector('#df-48d73467-cf0a-4d6d-b5b8-53dc786630aa button.colab-df-convert');\n",
              "      buttonEl.style.display =\n",
              "        google.colab.kernel.accessAllowed ? 'block' : 'none';\n",
              "\n",
              "      async function convertToInteractive(key) {\n",
              "        const element = document.querySelector('#df-48d73467-cf0a-4d6d-b5b8-53dc786630aa');\n",
              "        const dataTable =\n",
              "          await google.colab.kernel.invokeFunction('convertToInteractive',\n",
              "                                                    [key], {});\n",
              "        if (!dataTable) return;\n",
              "\n",
              "        const docLinkHtml = 'Like what you see? Visit the ' +\n",
              "          '<a target=\"_blank\" href=https://colab.research.google.com/notebooks/data_table.ipynb>data table notebook</a>'\n",
              "          + ' to learn more about interactive tables.';\n",
              "        element.innerHTML = '';\n",
              "        dataTable['output_type'] = 'display_data';\n",
              "        await google.colab.output.renderOutput(dataTable, element);\n",
              "        const docLink = document.createElement('div');\n",
              "        docLink.innerHTML = docLinkHtml;\n",
              "        element.appendChild(docLink);\n",
              "      }\n",
              "    </script>\n",
              "  </div>\n",
              "\n",
              "\n",
              "<div id=\"df-6efa2636-7db2-4304-9cfc-6358ebc65a0b\">\n",
              "  <button class=\"colab-df-quickchart\" onclick=\"quickchart('df-6efa2636-7db2-4304-9cfc-6358ebc65a0b')\"\n",
              "            title=\"Suggest charts\"\n",
              "            style=\"display:none;\">\n",
              "\n",
              "<svg xmlns=\"http://www.w3.org/2000/svg\" height=\"24px\"viewBox=\"0 0 24 24\"\n",
              "     width=\"24px\">\n",
              "    <g>\n",
              "        <path d=\"M19 3H5c-1.1 0-2 .9-2 2v14c0 1.1.9 2 2 2h14c1.1 0 2-.9 2-2V5c0-1.1-.9-2-2-2zM9 17H7v-7h2v7zm4 0h-2V7h2v10zm4 0h-2v-4h2v4z\"/>\n",
              "    </g>\n",
              "</svg>\n",
              "  </button>\n",
              "\n",
              "<style>\n",
              "  .colab-df-quickchart {\n",
              "      --bg-color: #E8F0FE;\n",
              "      --fill-color: #1967D2;\n",
              "      --hover-bg-color: #E2EBFA;\n",
              "      --hover-fill-color: #174EA6;\n",
              "      --disabled-fill-color: #AAA;\n",
              "      --disabled-bg-color: #DDD;\n",
              "  }\n",
              "\n",
              "  [theme=dark] .colab-df-quickchart {\n",
              "      --bg-color: #3B4455;\n",
              "      --fill-color: #D2E3FC;\n",
              "      --hover-bg-color: #434B5C;\n",
              "      --hover-fill-color: #FFFFFF;\n",
              "      --disabled-bg-color: #3B4455;\n",
              "      --disabled-fill-color: #666;\n",
              "  }\n",
              "\n",
              "  .colab-df-quickchart {\n",
              "    background-color: var(--bg-color);\n",
              "    border: none;\n",
              "    border-radius: 50%;\n",
              "    cursor: pointer;\n",
              "    display: none;\n",
              "    fill: var(--fill-color);\n",
              "    height: 32px;\n",
              "    padding: 0;\n",
              "    width: 32px;\n",
              "  }\n",
              "\n",
              "  .colab-df-quickchart:hover {\n",
              "    background-color: var(--hover-bg-color);\n",
              "    box-shadow: 0 1px 2px rgba(60, 64, 67, 0.3), 0 1px 3px 1px rgba(60, 64, 67, 0.15);\n",
              "    fill: var(--button-hover-fill-color);\n",
              "  }\n",
              "\n",
              "  .colab-df-quickchart-complete:disabled,\n",
              "  .colab-df-quickchart-complete:disabled:hover {\n",
              "    background-color: var(--disabled-bg-color);\n",
              "    fill: var(--disabled-fill-color);\n",
              "    box-shadow: none;\n",
              "  }\n",
              "\n",
              "  .colab-df-spinner {\n",
              "    border: 2px solid var(--fill-color);\n",
              "    border-color: transparent;\n",
              "    border-bottom-color: var(--fill-color);\n",
              "    animation:\n",
              "      spin 1s steps(1) infinite;\n",
              "  }\n",
              "\n",
              "  @keyframes spin {\n",
              "    0% {\n",
              "      border-color: transparent;\n",
              "      border-bottom-color: var(--fill-color);\n",
              "      border-left-color: var(--fill-color);\n",
              "    }\n",
              "    20% {\n",
              "      border-color: transparent;\n",
              "      border-left-color: var(--fill-color);\n",
              "      border-top-color: var(--fill-color);\n",
              "    }\n",
              "    30% {\n",
              "      border-color: transparent;\n",
              "      border-left-color: var(--fill-color);\n",
              "      border-top-color: var(--fill-color);\n",
              "      border-right-color: var(--fill-color);\n",
              "    }\n",
              "    40% {\n",
              "      border-color: transparent;\n",
              "      border-right-color: var(--fill-color);\n",
              "      border-top-color: var(--fill-color);\n",
              "    }\n",
              "    60% {\n",
              "      border-color: transparent;\n",
              "      border-right-color: var(--fill-color);\n",
              "    }\n",
              "    80% {\n",
              "      border-color: transparent;\n",
              "      border-right-color: var(--fill-color);\n",
              "      border-bottom-color: var(--fill-color);\n",
              "    }\n",
              "    90% {\n",
              "      border-color: transparent;\n",
              "      border-bottom-color: var(--fill-color);\n",
              "    }\n",
              "  }\n",
              "</style>\n",
              "\n",
              "  <script>\n",
              "    async function quickchart(key) {\n",
              "      const quickchartButtonEl =\n",
              "        document.querySelector('#' + key + ' button');\n",
              "      quickchartButtonEl.disabled = true;  // To prevent multiple clicks.\n",
              "      quickchartButtonEl.classList.add('colab-df-spinner');\n",
              "      try {\n",
              "        const charts = await google.colab.kernel.invokeFunction(\n",
              "            'suggestCharts', [key], {});\n",
              "      } catch (error) {\n",
              "        console.error('Error during call to suggestCharts:', error);\n",
              "      }\n",
              "      quickchartButtonEl.classList.remove('colab-df-spinner');\n",
              "      quickchartButtonEl.classList.add('colab-df-quickchart-complete');\n",
              "    }\n",
              "    (() => {\n",
              "      let quickchartButtonEl =\n",
              "        document.querySelector('#df-6efa2636-7db2-4304-9cfc-6358ebc65a0b button');\n",
              "      quickchartButtonEl.style.display =\n",
              "        google.colab.kernel.accessAllowed ? 'block' : 'none';\n",
              "    })();\n",
              "  </script>\n",
              "</div>\n",
              "\n",
              "    </div>\n",
              "  </div>\n"
            ],
            "application/vnd.google.colaboratory.intrinsic+json": {
              "type": "dataframe",
              "summary": "{\n  \"name\": \"predict_model(bagged, data=df)\",\n  \"rows\": 32424,\n  \"fields\": [\n    {\n      \"column\": \"Localidad\",\n      \"properties\": {\n        \"dtype\": \"category\",\n        \"num_unique_values\": 57,\n        \"samples\": [\n          \"Belgrano\",\n          \"Villa Urquiza\",\n          \"Monserrat\"\n        ],\n        \"semantic_type\": \"\",\n        \"description\": \"\"\n      }\n    },\n    {\n      \"column\": \"Ambientes\",\n      \"properties\": {\n        \"dtype\": \"float32\",\n        \"num_unique_values\": 15,\n        \"samples\": [\n          10.0,\n          12.0,\n          6.0\n        ],\n        \"semantic_type\": \"\",\n        \"description\": \"\"\n      }\n    },\n    {\n      \"column\": \"Habitaciones\",\n      \"properties\": {\n        \"dtype\": \"float32\",\n        \"num_unique_values\": 17,\n        \"samples\": [\n          4.0,\n          2.0,\n          5.0\n        ],\n        \"semantic_type\": \"\",\n        \"description\": \"\"\n      }\n    },\n    {\n      \"column\": \"Ba\\u00f1os\",\n      \"properties\": {\n        \"dtype\": \"float32\",\n        \"num_unique_values\": 10,\n        \"samples\": [\n          10.0,\n          3.0,\n          8.0\n        ],\n        \"semantic_type\": \"\",\n        \"description\": \"\"\n      }\n    },\n    {\n      \"column\": \"Sup_Total\",\n      \"properties\": {\n        \"dtype\": \"float32\",\n        \"num_unique_values\": 474,\n        \"samples\": [\n          341.0,\n          2000.0,\n          34.0\n        ],\n        \"semantic_type\": \"\",\n        \"description\": \"\"\n      }\n    },\n    {\n      \"column\": \"Sup_Cubierta\",\n      \"properties\": {\n        \"dtype\": \"float32\",\n        \"num_unique_values\": 428,\n        \"samples\": [\n          575.0,\n          22.0,\n          293.0\n        ],\n        \"semantic_type\": \"\",\n        \"description\": \"\"\n      }\n    },\n    {\n      \"column\": \"Precio\",\n      \"properties\": {\n        \"dtype\": \"int32\",\n        \"num_unique_values\": 2392,\n        \"samples\": [\n          202350,\n          520000,\n          159650\n        ],\n        \"semantic_type\": \"\",\n        \"description\": \"\"\n      }\n    },\n    {\n      \"column\": \"prediction_label\",\n      \"properties\": {\n        \"dtype\": \"number\",\n        \"std\": 395977.28286943433,\n        \"min\": 32120.25,\n        \"max\": 7572716.224409523,\n        \"num_unique_values\": 19112,\n        \"samples\": [\n          255565.27333333335,\n          119944.23333333332,\n          233041.05295238094\n        ],\n        \"semantic_type\": \"\",\n        \"description\": \"\"\n      }\n    }\n  ]\n}"
            }
          },
          "metadata": {},
          "execution_count": 33
        }
      ]
    },
    {
      "cell_type": "code",
      "metadata": {
        "id": "U4VWO9r2ECQ4"
      },
      "source": [
        "evaluate_model(bagged)"
      ],
      "execution_count": null,
      "outputs": []
    },
    {
      "cell_type": "markdown",
      "metadata": {
        "id": "UWzhKlAxAxki"
      },
      "source": [
        "## **Boosting**"
      ]
    },
    {
      "cell_type": "code",
      "metadata": {
        "id": "l_6Z6-kuA1lI"
      },
      "source": [
        "boosted = ensemble_model(mejor_modelo[0], method = 'Boosting')"
      ],
      "execution_count": null,
      "outputs": []
    },
    {
      "cell_type": "code",
      "metadata": {
        "id": "ASxJp2YJDsrX"
      },
      "source": [
        "predict_model(boosted, data=df)"
      ],
      "execution_count": null,
      "outputs": []
    },
    {
      "cell_type": "code",
      "metadata": {
        "id": "3D9LB6bZEHC1"
      },
      "source": [
        "evaluate_model(boosted)"
      ],
      "execution_count": null,
      "outputs": []
    },
    {
      "cell_type": "markdown",
      "metadata": {
        "id": "HUR9-X3-Bm4K"
      },
      "source": [
        "## **Blending**"
      ]
    },
    {
      "cell_type": "markdown",
      "metadata": {
        "id": "xuX3A-6FB3uT"
      },
      "source": [
        "**La combinación (blending) es otra técnica común para ensamblar que se puede usar en PyCaret. Crea múltiples modelos y luego promedia las predicciones individuales para formar una predicción final.**"
      ]
    },
    {
      "cell_type": "code",
      "metadata": {
        "id": "_MaTol_KCNCr"
      },
      "source": [
        "mejor_modelo"
      ],
      "execution_count": null,
      "outputs": []
    },
    {
      "cell_type": "code",
      "metadata": {
        "id": "wQPTccjOBa9d"
      },
      "source": [
        "blender = blend_models(estimator_list = [mejor_modelo[0], mejor_modelo[1], mejor_modelo[2]])"
      ],
      "execution_count": null,
      "outputs": []
    },
    {
      "cell_type": "code",
      "metadata": {
        "id": "3pppEUatDfJg"
      },
      "source": [
        "predict_model(blender, data=df)"
      ],
      "execution_count": null,
      "outputs": []
    },
    {
      "cell_type": "code",
      "metadata": {
        "id": "zrl-B7EVELS4"
      },
      "source": [
        "evaluate_model(blender)"
      ],
      "execution_count": null,
      "outputs": []
    },
    {
      "cell_type": "markdown",
      "source": [
        " ## **<font color=\"black\">Conformacion  de Residuos**"
      ],
      "metadata": {
        "id": "O2D0SqHDQpYj"
      }
    },
    {
      "cell_type": "markdown",
      "source": [],
      "metadata": {
        "id": "NRu2YRYIQvHe"
      }
    },
    {
      "cell_type": "markdown",
      "source": [
        "# 1**-Comprobar la normalidad**: Un buen modelo de regresión debe tener residuos que sigan una distribución normal. Si los residuos muestran una desviación significativa de la normalidad, puede indicar que el modelo no está capturando completamente la estructura subyacente de los datos."
      ],
      "metadata": {
        "id": "MxTXXduEJ1ni"
      }
    },
    {
      "cell_type": "markdown",
      "source": [],
      "metadata": {
        "id": "7hf2rkOgQ2YO"
      }
    },
    {
      "cell_type": "markdown",
      "source": [
        "2-Identificar patrones no lineales: Si los residuos muestran algún patrón sistemático, como una forma de U o una relación curvilínea con las variables independientes, esto puede indicar que el modelo no está capturando correctamente relaciones no lineales en los datos."
      ],
      "metadata": {
        "id": "uPXe5z3xgRcK"
      }
    },
    {
      "cell_type": "markdown",
      "source": [],
      "metadata": {
        "id": "VNGyEPsLQ60G"
      }
    },
    {
      "cell_type": "markdown",
      "source": [
        "3-Verificar la homocedasticidad: La homocedasticidad significa que los residuos tienen una varianza constante en todas las observaciones. Si los residuos tienen una varianza que cambia con el nivel de la variable dependiente, puede indicar una falta de homocedasticidad, lo que afecta la precisión y fiabilidad del modelo."
      ],
      "metadata": {
        "id": "xn0uneTThmdF"
      }
    },
    {
      "cell_type": "markdown",
      "source": [],
      "metadata": {
        "id": "eqyTZ8WRQ9tt"
      }
    },
    {
      "cell_type": "markdown",
      "source": [
        "4-Detectar valores atípicos: Los residuos también pueden ayudarnos a identificar valores atípicos o datos inusuales que pueden tener un impacto significativo en el modelo."
      ],
      "metadata": {
        "id": "Tj6mzMg7imZJ"
      }
    },
    {
      "cell_type": "markdown",
      "source": [
        "### **<font color=\"black\">Valores reales vs. Prediccion**"
      ],
      "metadata": {
        "id": "MY4ZjRdhRBg9"
      }
    },
    {
      "cell_type": "markdown",
      "source": [
        "### **<font color=\"black\">Residuos vs. Variable Objetivo**"
      ],
      "metadata": {
        "id": "NG0qmLMsRGS4"
      }
    },
    {
      "cell_type": "markdown",
      "source": [
        "### **<font color=\"black\">Grafico en Paralelo**"
      ],
      "metadata": {
        "id": "U66TWKnFRLO4"
      }
    },
    {
      "cell_type": "markdown",
      "source": [
        "### **<font color=\"black\">Analisis en 3d**"
      ],
      "metadata": {
        "id": "qYlYjvudRQqw"
      }
    },
    {
      "cell_type": "markdown",
      "source": [
        "### **<font color=\"black\">Finalizando el modelo**"
      ],
      "metadata": {
        "id": "_NXedmztRW9q"
      }
    }
  ]
}