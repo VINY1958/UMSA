{
  "nbformat": 4,
  "nbformat_minor": 0,
  "metadata": {
    "colab": {
      "provenance": []
    },
    "kernelspec": {
      "name": "python3",
      "display_name": "Python 3"
    },
    "language_info": {
      "name": "python"
    }
  },
  "cells": [
    {
      "cell_type": "markdown",
      "source": [
        "# **<font color=\"#07a8ed\">Estructuras y secuencias de datos</font>**"
      ],
      "metadata": {
        "id": "_fRBXj8mbrnO"
      }
    },
    {
      "cell_type": "markdown",
      "source": [
        "<p align=\"center\">\n",
        "<img src=\"https://www.python.org/static/community_logos/python-powered-h-70x91.png\"/>\n",
        "</p>\n"
      ],
      "metadata": {
        "id": "gjpEYi_23t-3"
      }
    },
    {
      "cell_type": "markdown",
      "source": [
        "<p align=\"justify\"><b>\n",
        "<font color=\"#07a8ed\">\n",
        "💗 Todo el mundo deberia aprender a programar, porque te enseña a pensar...\n",
        "</font>\n",
        "</p>\n",
        "<p align=\"right\"><b>\n",
        "<font color=\"#07a8ed\">\n",
        "Steve Jobs (1995)\n",
        "</font>\n",
        "</p>\n",
        "<br>\n",
        "<br>\n",
        "\n"
      ],
      "metadata": {
        "id": "rGyq57WV2bpw"
      }
    },
    {
      "cell_type": "markdown",
      "source": [
        "<p align=\"justify\">\n",
        "En este colab, vamos a desarrollar las estructuras y secuencias de datos de Python. Conocer estas estructuras, es fundamental para el desarrollo de los contenidos propuestos. Por ese motivo, vamos a explayarnos en las estructuras de datos y en métodos usuales.\n",
        "</p>\n"
      ],
      "metadata": {
        "id": "xvkv1nfK4Sb5"
      }
    },
    {
      "cell_type": "markdown",
      "source": [
        "<p>\n",
        "<font color=\"#07a8ed\">\n",
        "\n",
        "**👀 Antes que nada, verificamos la versión de Python con la cual estamos trabajando...**\n",
        "\n",
        "</font>\n",
        "</p>"
      ],
      "metadata": {
        "id": "a0pV8J7YPZTO"
      }
    },
    {
      "cell_type": "code",
      "source": [
        "!python3 -V"
      ],
      "metadata": {
        "colab": {
          "base_uri": "https://localhost:8080/"
        },
        "id": "dCZl-lBzPghY",
        "outputId": "db111ebd-6290-47e0-a2b1-423f3463b29d"
      },
      "execution_count": null,
      "outputs": [
        {
          "output_type": "stream",
          "name": "stdout",
          "text": [
            "Python 3.10.12\n"
          ]
        }
      ]
    },
    {
      "cell_type": "markdown",
      "source": [
        "<p align=\"justify\">\n",
        "El comando <code>!python3 -V</code> en Google Colab se utiliza para verificar la versión de Python que está instalada en el entorno de ejecución de Colab. Al ejecutar este comando en una celda de código precedido por el signo de exclamación (`!`), se mostrará la versión de Python que está siendo utilizada.\n",
        "<br><br>\n",
        "Este comando imprime la información de la versión de Python, y la salida típicamente se ve algo así:\n",
        "</p>\n",
        "\n",
        "```\n",
        "Python 3.x.x\n",
        "```\n",
        "<p align=\"justify\">\n",
        "Donde \"3.x.x\" es la versión específica de Python que está instalada en ese momento en Google Colab. Es útil para confirmar la versión de Python antes de ejecutar código, ya que algunas bibliotecas y funciones pueden variar entre diferentes versiones de Python.</p>"
      ],
      "metadata": {
        "id": "_7DrgyiYKPUN"
      }
    },
    {
      "cell_type": "markdown",
      "source": [
        "## **<font color=\"#07a8ed\">Tuplas</font>**"
      ],
      "metadata": {
        "id": "v8abc96k3sr9"
      }
    },
    {
      "cell_type": "markdown",
      "source": [
        "<p align=\"justify\">\n",
        "Una tupla es una secuencia inmutable de longitud fija de objetos de Python que, una vez asignados, no se pueden cambiar. La forma más fácil de crear uno es con una secuencia de valores separados por comas entre paréntesis:\n",
        "</p>\n"
      ],
      "metadata": {
        "id": "OrOEIgsY5jih"
      }
    },
    {
      "cell_type": "code",
      "source": [
        "contribuyentes = (\"evasor\", \"no evasor\")"
      ],
      "metadata": {
        "id": "LTtHcJIO51wt"
      },
      "execution_count": null,
      "outputs": []
    },
    {
      "cell_type": "code",
      "source": [
        "contribuyentes"
      ],
      "metadata": {
        "colab": {
          "base_uri": "https://localhost:8080/"
        },
        "id": "2bETGiGbXbRn",
        "outputId": "347b48a5-9e2c-46c7-c9af-c05fa2e1702f"
      },
      "execution_count": null,
      "outputs": [
        {
          "output_type": "execute_result",
          "data": {
            "text/plain": [
              "('evasor', 'no evasor')"
            ]
          },
          "metadata": {},
          "execution_count": 107
        }
      ]
    },
    {
      "cell_type": "markdown",
      "source": [
        "<p align=\"justify\">\n",
        "La línea de código está creando una variable llamada <code>contribuyentes</code> y le está asignando una tupla con dos elementos: \"evasor\" y \"no evasor\". Aquí hay una explicación más detallada:\n",
        "<ul>\n",
        "<li><code>contribuyentes</code>: Es el nombre de la variable que estás creando. Puedes pensar en esta variable como un contenedor que puede almacenar información.</li><br>\n",
        "<li><code>(\"evasor\", \"no evasor\")</code>: Esta es una tupla, que es un tipo de estructura de datos en Python. En este caso, la tupla tiene dos elementos: \"evasor\" y \"no evasor\".</li>\n",
        "</ul>\n",
        "<p align=\"justify\">\n",
        "Una tupla es similar a una lista, pero a diferencia de las listas, las tuplas son inmutables, lo que significa que no pueden ser modificadas una vez que se han creado.\n",
        "<br><br>\n",
        "Entonces, la variable <code>contribuyentes</code> contiene una tupla con dos cadenas de texto. Puedes acceder a los elementos de la tupla utilizando índices, por ejemplo, <code>contribuyentes[0]</code> te daría \"evasor\" y <code>contribuyentes[1]</code> te daría \"no evasor\"."
      ],
      "metadata": {
        "id": "f7o2a2yqKn3K"
      }
    },
    {
      "cell_type": "markdown",
      "source": [
        "<p align=\"justify\">\n",
        "Para crear una tupla, los paréntesis se pueden omitir, por lo que aquí también podríamos haber escrito una tupla de la siguiente forma:\n",
        "</p>\n"
      ],
      "metadata": {
        "id": "JqDDrTxN9AMW"
      }
    },
    {
      "cell_type": "code",
      "source": [
        "clasificacion = \"riesgo tipo 1\", \"riesgo tipo 2\", \"riesgo tipo 3\""
      ],
      "metadata": {
        "id": "XL_rc9m19YJ8"
      },
      "execution_count": null,
      "outputs": []
    },
    {
      "cell_type": "code",
      "source": [
        "clasificacion"
      ],
      "metadata": {
        "colab": {
          "base_uri": "https://localhost:8080/"
        },
        "id": "YvPdute5Xmpb",
        "outputId": "7baf993f-4850-4d79-bc19-312f959bc73e"
      },
      "execution_count": null,
      "outputs": [
        {
          "output_type": "execute_result",
          "data": {
            "text/plain": [
              "('riesgo tipo 1', 'riesgo tipo 2', 'riesgo tipo 3')"
            ]
          },
          "metadata": {},
          "execution_count": 109
        }
      ]
    },
    {
      "cell_type": "code",
      "source": [
        "type(clasificacion)"
      ],
      "metadata": {
        "colab": {
          "base_uri": "https://localhost:8080/"
        },
        "id": "OxuU-UVi8hJN",
        "outputId": "5fd1a51a-66db-466d-bbdf-f375d6fba16c"
      },
      "execution_count": null,
      "outputs": [
        {
          "output_type": "execute_result",
          "data": {
            "text/plain": [
              "tuple"
            ]
          },
          "metadata": {},
          "execution_count": 110
        }
      ]
    },
    {
      "cell_type": "markdown",
      "source": [
        "<p align=\"justify\">\n",
        "👀 Importante, <mark>no olvidar de separar los elementos de la tupla</mark>, con comas...\n",
        "</p>"
      ],
      "metadata": {
        "id": "oXLIAxNo9w1_"
      }
    },
    {
      "cell_type": "markdown",
      "source": [
        "### **<font color=\"#07a8ed\">Conversión</font>**\n"
      ],
      "metadata": {
        "id": "dQxtP8Tl6p3v"
      }
    },
    {
      "cell_type": "markdown",
      "source": [
        "<p align=\"justify\">\n",
        "Podemos convertir cualquier secuencia o iterador en una tupla con el método <code> tuple()</code>\n",
        "</p>\n",
        "\n"
      ],
      "metadata": {
        "id": "NnLUttg--cID"
      }
    },
    {
      "cell_type": "code",
      "source": [
        "lista = [10, 15, 20, 25, 30]\n",
        "lista"
      ],
      "metadata": {
        "colab": {
          "base_uri": "https://localhost:8080/"
        },
        "id": "dJNgbVBD9K3n",
        "outputId": "746017a9-d3c9-4829-859b-01caed23d43c"
      },
      "execution_count": null,
      "outputs": [
        {
          "output_type": "execute_result",
          "data": {
            "text/plain": [
              "[10, 15, 20, 25, 30]"
            ]
          },
          "metadata": {},
          "execution_count": 112
        }
      ]
    },
    {
      "cell_type": "code",
      "source": [
        "type(lista)"
      ],
      "metadata": {
        "colab": {
          "base_uri": "https://localhost:8080/"
        },
        "id": "IkDy0TWn9WAj",
        "outputId": "216fc5f6-28a2-4567-f7e6-acd739b82394"
      },
      "execution_count": null,
      "outputs": [
        {
          "output_type": "execute_result",
          "data": {
            "text/plain": [
              "list"
            ]
          },
          "metadata": {},
          "execution_count": 113
        }
      ]
    },
    {
      "cell_type": "code",
      "source": [
        "lista = tuple(lista)"
      ],
      "metadata": {
        "id": "e29z7bQR9Hb3"
      },
      "execution_count": null,
      "outputs": []
    },
    {
      "cell_type": "code",
      "source": [
        "type(lista)"
      ],
      "metadata": {
        "colab": {
          "base_uri": "https://localhost:8080/"
        },
        "id": "OwQilJbs9hvU",
        "outputId": "e8ba129a-c017-493b-8dac-dd57c3cbd8fe"
      },
      "execution_count": null,
      "outputs": [
        {
          "output_type": "execute_result",
          "data": {
            "text/plain": [
              "tuple"
            ]
          },
          "metadata": {},
          "execution_count": 116
        }
      ]
    },
    {
      "cell_type": "code",
      "source": [
        "tuple([10, 15, 20, 25, 30])"
      ],
      "metadata": {
        "colab": {
          "base_uri": "https://localhost:8080/"
        },
        "id": "rtFKpahFBoCH",
        "outputId": "b58f28e8-cb71-4660-8e1b-c8034e628b1e"
      },
      "execution_count": null,
      "outputs": [
        {
          "output_type": "execute_result",
          "data": {
            "text/plain": [
              "(10, 15, 20, 25, 30)"
            ]
          },
          "metadata": {},
          "execution_count": 6
        }
      ]
    },
    {
      "cell_type": "markdown",
      "source": [
        "<p align=justify>\n",
        "Esta línea de código está utilizando la función <code>tuple()</code> en Python para convertir una lista en una tupla. Aquí hay una explicación más detallada:\n",
        "\n",
        "- `tuple()`: Es una función incorporada en Python que se utiliza para crear una tupla. Puede tomar un iterable (como una lista) como argumento y convertirlo en una tupla.\n",
        "\n",
        "- `[10, 15, 20, 25, 30]`: Esta es una lista que contiene cinco números enteros: 10, 15, 20, 25, y 30.\n",
        "\n",
        "<p align=justify>\n",
        "Entonces, la línea de código <code>tuple([10, 15, 20, 25, 30])</code> está tomando la lista de números y convirtiéndola en una tupla. La salida sería una tupla que contiene los mismos elementos que la lista original, en el mismo orden.\n",
        "<br><br>\n",
        "En este caso, la tupla resultante sería <code>(10, 15, 20, 25, 30)</code>."
      ],
      "metadata": {
        "id": "dbdneG68Nbac"
      }
    },
    {
      "cell_type": "code",
      "source": [
        "tupla = tuple('procesos')\n",
        "tupla"
      ],
      "metadata": {
        "colab": {
          "base_uri": "https://localhost:8080/"
        },
        "id": "O5HNsC3eB19M",
        "outputId": "995ba2eb-cb59-45f6-e76b-44c5a6f56643"
      },
      "execution_count": null,
      "outputs": [
        {
          "output_type": "execute_result",
          "data": {
            "text/plain": [
              "('p', 'r', 'o', 'c', 'e', 's', 'o', 's')"
            ]
          },
          "metadata": {},
          "execution_count": 7
        }
      ]
    },
    {
      "cell_type": "markdown",
      "source": [
        "<p align=\"justify\">\n",
        "Entonces, las tuplas son inmutables, si bien los objetos almacenados en una tupla pueden ser mutables, una vez que se crea la tupla, no es posible modificar ese objeto. Si un elemento dentro de una tupla es un objeto mutable, como por ejemplo, una lista, entonces ese elemento puede ser modificado, de la siguiente forma:</p>\n"
      ],
      "metadata": {
        "id": "em8_wpZ1DRw7"
      }
    },
    {
      "cell_type": "code",
      "source": [
        "tupla = (\"evasor\", \"no evasor\", [\"riesgo tipo 1\", \"riesgo tipo 2\", \"riesgo tipo 3\"], 10)"
      ],
      "metadata": {
        "id": "wBA8PrpvvfcA"
      },
      "execution_count": null,
      "outputs": []
    },
    {
      "cell_type": "code",
      "source": [
        "len(tupla) # me dice la cantidad de elementos del objeto"
      ],
      "metadata": {
        "colab": {
          "base_uri": "https://localhost:8080/"
        },
        "id": "ZbGrN5fh-EGY",
        "outputId": "fe4aaff9-9cf7-4fbf-d143-0077605c69f0"
      },
      "execution_count": null,
      "outputs": [
        {
          "output_type": "execute_result",
          "data": {
            "text/plain": [
              "4"
            ]
          },
          "metadata": {},
          "execution_count": 120
        }
      ]
    },
    {
      "cell_type": "code",
      "source": [
        "tupla"
      ],
      "metadata": {
        "colab": {
          "base_uri": "https://localhost:8080/"
        },
        "id": "Cm0EW4gYX638",
        "outputId": "43882d61-a867-462a-b5cc-63d515b89edd"
      },
      "execution_count": null,
      "outputs": [
        {
          "output_type": "execute_result",
          "data": {
            "text/plain": [
              "('evasor',\n",
              " 'no evasor',\n",
              " ['riesgo tipo 1', 'riesgo tipo 2', 'riesgo tipo 3'],\n",
              " 10)"
            ]
          },
          "metadata": {},
          "execution_count": 121
        }
      ]
    },
    {
      "cell_type": "code",
      "source": [
        "tupla[2]"
      ],
      "metadata": {
        "colab": {
          "base_uri": "https://localhost:8080/"
        },
        "id": "nyH1a-24-lxc",
        "outputId": "c2dda3ac-ddf4-4977-9ad5-e54b00b9da41"
      },
      "execution_count": null,
      "outputs": [
        {
          "output_type": "execute_result",
          "data": {
            "text/plain": [
              "['riesgo tipo 1', 'riesgo tipo 2', 'riesgo tipo 3']"
            ]
          },
          "metadata": {},
          "execution_count": 124
        }
      ]
    },
    {
      "cell_type": "code",
      "source": [
        "tupla[2].append(\"riesgo tipo 4\") # agrega un elemento a la lista"
      ],
      "metadata": {
        "id": "YiPnvQ8Ixeca"
      },
      "execution_count": null,
      "outputs": []
    },
    {
      "cell_type": "code",
      "source": [
        "tupla[2]"
      ],
      "metadata": {
        "colab": {
          "base_uri": "https://localhost:8080/"
        },
        "id": "y8IR9kgc_Cfz",
        "outputId": "7cdc1de7-770a-4ba1-df52-b30c6c8949d1"
      },
      "execution_count": null,
      "outputs": [
        {
          "output_type": "execute_result",
          "data": {
            "text/plain": [
              "['riesgo tipo 1', 'riesgo tipo 2', 'riesgo tipo 3', 'riesgo tipo 4']"
            ]
          },
          "metadata": {},
          "execution_count": 126
        }
      ]
    },
    {
      "cell_type": "code",
      "source": [
        "print(tupla[2])"
      ],
      "metadata": {
        "colab": {
          "base_uri": "https://localhost:8080/"
        },
        "id": "HtlrSKzLx0H9",
        "outputId": "26a34e71-0ee0-4c7f-9cc1-eeafad09f031"
      },
      "execution_count": null,
      "outputs": [
        {
          "output_type": "stream",
          "name": "stdout",
          "text": [
            "['riesgo tipo 1', 'riesgo tipo 2', 'riesgo tipo 3', 'riesgo tipo 4']\n"
          ]
        }
      ]
    },
    {
      "cell_type": "markdown",
      "source": [
        "\n",
        "<p align=\"justify\">\n",
        "Tambien podemos consultar cuantos elementos tiene un elemento especifico de la tupla con el método <code> len()</code>\n",
        "</p>\n"
      ],
      "metadata": {
        "id": "YesTSX73yuuA"
      }
    },
    {
      "cell_type": "code",
      "source": [
        "len(tupla[2])"
      ],
      "metadata": {
        "colab": {
          "base_uri": "https://localhost:8080/"
        },
        "id": "E1z2DdWNzP8m",
        "outputId": "a04d946d-e9da-4d0e-a032-e2c518543ae6"
      },
      "execution_count": null,
      "outputs": [
        {
          "output_type": "execute_result",
          "data": {
            "text/plain": [
              "4"
            ]
          },
          "metadata": {},
          "execution_count": 12
        }
      ]
    },
    {
      "cell_type": "markdown",
      "source": [
        "<p align=\"justify\">\n",
        "👀 Importante como utilizamos las funciones integradas...\n",
        "</p>"
      ],
      "metadata": {
        "id": "hZu_tefHz7x-"
      }
    },
    {
      "cell_type": "markdown",
      "source": [
        "### **<font color=\"#07a8ed\">Empaquetado</font>**\n"
      ],
      "metadata": {
        "id": "Pc1JJetv2Jir"
      }
    },
    {
      "cell_type": "markdown",
      "source": [
        "<p align=\"justify\">\n",
        "Ahora vamos a empaquetar y desempaquetar una tupla...\n",
        "</p>\n",
        "\n",
        "\n"
      ],
      "metadata": {
        "id": "RkcG_MzW0Wbm"
      }
    },
    {
      "cell_type": "code",
      "source": [
        "dolar = 1020.4 , 1015.8 , 1023.9, 1032.5, 1021.7, 1034.1, 1053.9"
      ],
      "metadata": {
        "id": "JxVdGF-d1okd"
      },
      "execution_count": null,
      "outputs": []
    },
    {
      "cell_type": "code",
      "source": [
        "type(dolar)"
      ],
      "metadata": {
        "colab": {
          "base_uri": "https://localhost:8080/"
        },
        "id": "bvHc1d2zYbPT",
        "outputId": "3f4a0d02-122f-44c9-ceba-3e615fc200e0"
      },
      "execution_count": null,
      "outputs": [
        {
          "output_type": "execute_result",
          "data": {
            "text/plain": [
              "tuple"
            ]
          },
          "metadata": {},
          "execution_count": 14
        }
      ]
    },
    {
      "cell_type": "code",
      "source": [
        "len(dolar)"
      ],
      "metadata": {
        "colab": {
          "base_uri": "https://localhost:8080/"
        },
        "id": "DM7K0silDG8h",
        "outputId": "01768580-f1e6-4417-b3ca-e1938da7b02d"
      },
      "execution_count": null,
      "outputs": [
        {
          "output_type": "execute_result",
          "data": {
            "text/plain": [
              "7"
            ]
          },
          "metadata": {},
          "execution_count": 130
        }
      ]
    },
    {
      "cell_type": "markdown",
      "source": [
        "<p align=justify>\n",
        "La línea de código está creando una variable llamada <code>dolar</code> y le está asignando una tupla con varios valores numéricos. Aquí está la explicación detallada:\n",
        "\n",
        "- `dolar`: Es el nombre de la variable que estás creando para almacenar información relacionada con el dólar (posiblemente tasas de cambio u otros valores).\n",
        "\n",
        "- `(1040.4, 1042.8, 1043.9, 1042.5, 1041.7, 1042.1, 1043.9)`: Esta es una tupla que contiene siete valores numéricos separados por comas. Cada valor numérico parece representar algún tipo de dato relacionado con el dólar, como posiblemente tasas de cambio en diferentes momentos.\n"
      ],
      "metadata": {
        "id": "0IVOCiN7OgVh"
      }
    },
    {
      "cell_type": "markdown",
      "source": [
        "### **<font color=\"#07a8ed\">Desempaquetado</font>**\n"
      ],
      "metadata": {
        "id": "CBDsRUfe2QW3"
      }
    },
    {
      "cell_type": "code",
      "source": [
        "dolar"
      ],
      "metadata": {
        "colab": {
          "base_uri": "https://localhost:8080/"
        },
        "id": "SYDmPz3LDeic",
        "outputId": "18beee41-ee51-4309-d460-7fdf5380624d"
      },
      "execution_count": null,
      "outputs": [
        {
          "output_type": "execute_result",
          "data": {
            "text/plain": [
              "(1020.4, 1015.8, 1023.9, 1032.5, 1021.7, 1034.1, 1053.9)"
            ]
          },
          "metadata": {},
          "execution_count": 135
        }
      ]
    },
    {
      "cell_type": "code",
      "source": [
        "dia01, dia02, dia03, dia04, dia05, dia06, dia07 = dolar"
      ],
      "metadata": {
        "id": "uDBxR_kx2TxV"
      },
      "execution_count": null,
      "outputs": []
    },
    {
      "cell_type": "code",
      "source": [
        "print(f\"Cotizacion de la semana \\n primer dia {dia01} \\n segundo dia {dia02}\")"
      ],
      "metadata": {
        "colab": {
          "base_uri": "https://localhost:8080/"
        },
        "id": "cNsoU-6r3uPn",
        "outputId": "c3a1c6fe-742c-4a0b-d2f2-f54cafce36a7"
      },
      "execution_count": null,
      "outputs": [
        {
          "output_type": "stream",
          "name": "stdout",
          "text": [
            "Cotizacion de la semana \n",
            " primer dia 1020.4 \n",
            " segundo dia 1015.8\n"
          ]
        }
      ]
    },
    {
      "cell_type": "markdown",
      "source": [
        "<p align=\"justify\">\n",
        "👀 Como las tuplas son inmutables, y no se pueden modificar, entonces los métodos que posee son acotados, pero el metodo más útil de una tupla, es el método <code>count()</code> que utilizaremos más adelante...<br><br>Un uso común del desempaquetado de variables es iterar sobre secuencias de tuplas o secuencias de listas.<br><br> Por ejemplo:\n",
        "</p>\n"
      ],
      "metadata": {
        "id": "mG1Gog9_5J5n"
      }
    },
    {
      "cell_type": "code",
      "source": [
        "secuencias = ((100, 150, 190), (200, 240, 280), (300, 330, 360))"
      ],
      "metadata": {
        "id": "se7x5Kh69i_p"
      },
      "execution_count": null,
      "outputs": []
    },
    {
      "cell_type": "code",
      "source": [
        "len(secuencias)"
      ],
      "metadata": {
        "colab": {
          "base_uri": "https://localhost:8080/"
        },
        "id": "AFQChTXRZAPc",
        "outputId": "b6cb7fbc-9b3e-4fbd-c31f-240d4d12fbf7"
      },
      "execution_count": null,
      "outputs": [
        {
          "output_type": "execute_result",
          "data": {
            "text/plain": [
              "3"
            ]
          },
          "metadata": {},
          "execution_count": 140
        }
      ]
    },
    {
      "cell_type": "code",
      "source": [
        "for i in secuencias:\n",
        "  print(i)"
      ],
      "metadata": {
        "colab": {
          "base_uri": "https://localhost:8080/"
        },
        "id": "KzI_-W2pEJnA",
        "outputId": "4f49da25-4247-4751-c185-3ab55db588df"
      },
      "execution_count": null,
      "outputs": [
        {
          "output_type": "stream",
          "name": "stdout",
          "text": [
            "(100, 150, 190)\n",
            "(200, 240, 280)\n",
            "(300, 330, 360)\n"
          ]
        }
      ]
    },
    {
      "cell_type": "code",
      "source": [
        "for i in secuencias:\n",
        "  for j in i:\n",
        "    print(j)"
      ],
      "metadata": {
        "colab": {
          "base_uri": "https://localhost:8080/"
        },
        "id": "o2Iv8yxXX6Pk",
        "outputId": "07be23d2-1f98-490a-9542-693e1e566a11"
      },
      "execution_count": null,
      "outputs": [
        {
          "output_type": "stream",
          "name": "stdout",
          "text": [
            "100\n",
            "150\n",
            "190\n",
            "200\n",
            "240\n",
            "280\n",
            "300\n",
            "330\n",
            "360\n"
          ]
        }
      ]
    },
    {
      "cell_type": "code",
      "source": [
        "secuencias"
      ],
      "metadata": {
        "colab": {
          "base_uri": "https://localhost:8080/"
        },
        "id": "e6oIdIuHZZFR",
        "outputId": "2c8df9e9-94d9-4c77-c8e9-edf1e312f5cb"
      },
      "execution_count": null,
      "outputs": [
        {
          "output_type": "execute_result",
          "data": {
            "text/plain": [
              "((100, 150, 190), (200, 240, 280), (300, 330, 360))"
            ]
          },
          "metadata": {},
          "execution_count": 143
        }
      ]
    },
    {
      "cell_type": "code",
      "source": [
        "for i, j, k in secuencias:\n",
        "  print(f\"primer elemento {i}, segundo elemento {j}, tercer elemento {k}\")"
      ],
      "metadata": {
        "colab": {
          "base_uri": "https://localhost:8080/"
        },
        "id": "ykX-Ks3w94AI",
        "outputId": "ad8a787e-adc8-4514-88ef-5fdf6c901e1a"
      },
      "execution_count": null,
      "outputs": [
        {
          "output_type": "stream",
          "name": "stdout",
          "text": [
            "primer elemento 100, segundo elemento 150, tercer elemento 190\n",
            "primer elemento 200, segundo elemento 240, tercer elemento 280\n",
            "primer elemento 300, segundo elemento 330, tercer elemento 360\n"
          ]
        }
      ]
    },
    {
      "cell_type": "markdown",
      "source": [
        "### **<font color=\"#07a8ed\">Intercambio</font>**\n"
      ],
      "metadata": {
        "id": "Lr_OLUyz7bZK"
      }
    },
    {
      "cell_type": "markdown",
      "source": [
        "<p align=\"justify\">\n",
        "El intercambio se realiza de la siguiente manera:\n",
        "</p>\n"
      ],
      "metadata": {
        "id": "1OcOOd4r7eS4"
      }
    },
    {
      "cell_type": "code",
      "source": [
        "a, p = \"activo\", \"pasivo\""
      ],
      "metadata": {
        "id": "-_GE_a2K71tw"
      },
      "execution_count": null,
      "outputs": []
    },
    {
      "cell_type": "code",
      "source": [
        "a"
      ],
      "metadata": {
        "colab": {
          "base_uri": "https://localhost:8080/",
          "height": 37
        },
        "id": "kYZaSwSM7-R1",
        "outputId": "ada3427e-8726-47d4-e323-1a3b6516b1ff"
      },
      "execution_count": null,
      "outputs": [
        {
          "output_type": "execute_result",
          "data": {
            "text/plain": [
              "'activo'"
            ],
            "application/vnd.google.colaboratory.intrinsic+json": {
              "type": "string"
            }
          },
          "metadata": {},
          "execution_count": 23
        }
      ]
    },
    {
      "cell_type": "code",
      "source": [
        "p"
      ],
      "metadata": {
        "colab": {
          "base_uri": "https://localhost:8080/",
          "height": 37
        },
        "id": "31qrOqry8ALK",
        "outputId": "3b55043a-01c8-47c0-9a01-96db814d77e2"
      },
      "execution_count": null,
      "outputs": [
        {
          "output_type": "execute_result",
          "data": {
            "text/plain": [
              "'pasivo'"
            ],
            "application/vnd.google.colaboratory.intrinsic+json": {
              "type": "string"
            }
          },
          "metadata": {},
          "execution_count": 24
        }
      ]
    },
    {
      "cell_type": "code",
      "source": [
        "a, p = p, a"
      ],
      "metadata": {
        "id": "eLJ5e0YJ7_3a"
      },
      "execution_count": null,
      "outputs": []
    },
    {
      "cell_type": "code",
      "source": [
        "a"
      ],
      "metadata": {
        "colab": {
          "base_uri": "https://localhost:8080/",
          "height": 37
        },
        "id": "Zdhq2Soj8Ht_",
        "outputId": "e0dac123-2aa4-4b3c-fbe8-2e6c8a94b701"
      },
      "execution_count": null,
      "outputs": [
        {
          "output_type": "execute_result",
          "data": {
            "text/plain": [
              "'pasivo'"
            ],
            "application/vnd.google.colaboratory.intrinsic+json": {
              "type": "string"
            }
          },
          "metadata": {},
          "execution_count": 26
        }
      ]
    },
    {
      "cell_type": "code",
      "source": [
        "p"
      ],
      "metadata": {
        "colab": {
          "base_uri": "https://localhost:8080/",
          "height": 37
        },
        "id": "DxoI8cB18J0X",
        "outputId": "f9178117-92bd-4f4c-9227-1bdc6f85a288"
      },
      "execution_count": null,
      "outputs": [
        {
          "output_type": "execute_result",
          "data": {
            "text/plain": [
              "'activo'"
            ],
            "application/vnd.google.colaboratory.intrinsic+json": {
              "type": "string"
            }
          },
          "metadata": {},
          "execution_count": 27
        }
      ]
    },
    {
      "cell_type": "markdown",
      "source": [
        "## **<font color=\"#07a8ed\">Listas</font>**\n"
      ],
      "metadata": {
        "id": "kijjAsizCgEf"
      }
    },
    {
      "cell_type": "markdown",
      "source": [
        "<p align=\"justify\">\n",
        "A diferencia de las tuplas, las listas se pueden modificar. Las listas son mutables. Las listas pueden crearse usando corchetes <code>[]</code>, o usando la función <code>list()</code>. La lista es, en definitiva, una colección de datos ordenada, y las equivalencias de la lista con otros lenguajes serian los arrays o los vectores.<br><br> A tener en cuenta, las tuplas y las listas semanticamente son similares y el uso que se les da, tambien. De hecho se pueden usar indistintamente en algunos casos. Hay que tener presente que la función <code>list()</code> se utiliza frecuentemente en el procesamiento de datos cuando se quiere materializar un objeto iterable. <br><br> Por ejemplo:\n",
        "</p>\n",
        "\n",
        "\n",
        "\n"
      ],
      "metadata": {
        "id": "ChvgUzrt5FIV"
      }
    },
    {
      "cell_type": "code",
      "source": [
        "horas = range(13)"
      ],
      "metadata": {
        "id": "H2lsZxHDCppf"
      },
      "execution_count": null,
      "outputs": []
    },
    {
      "cell_type": "code",
      "source": [
        "type(horas)"
      ],
      "metadata": {
        "colab": {
          "base_uri": "https://localhost:8080/"
        },
        "id": "nl1PrOqGZwV9",
        "outputId": "65b275b7-bb29-46d1-fba8-e23812547061"
      },
      "execution_count": null,
      "outputs": [
        {
          "output_type": "execute_result",
          "data": {
            "text/plain": [
              "range"
            ]
          },
          "metadata": {},
          "execution_count": 146
        }
      ]
    },
    {
      "cell_type": "code",
      "source": [
        "horas"
      ],
      "metadata": {
        "id": "uaJT4N4hCpdX",
        "colab": {
          "base_uri": "https://localhost:8080/"
        },
        "outputId": "eedba6cd-7d21-4e7b-eece-21183e22d694"
      },
      "execution_count": null,
      "outputs": [
        {
          "output_type": "execute_result",
          "data": {
            "text/plain": [
              "range(0, 13)"
            ]
          },
          "metadata": {},
          "execution_count": 30
        }
      ]
    },
    {
      "cell_type": "code",
      "source": [
        "list(horas)"
      ],
      "metadata": {
        "id": "lvxdck_SCq5A",
        "colab": {
          "base_uri": "https://localhost:8080/"
        },
        "outputId": "b5a98e46-cee1-447d-c7b7-ec7c07add804"
      },
      "execution_count": null,
      "outputs": [
        {
          "output_type": "execute_result",
          "data": {
            "text/plain": [
              "[0, 1, 2, 3, 4, 5, 6, 7, 8, 9, 10, 11, 12]"
            ]
          },
          "metadata": {},
          "execution_count": 148
        }
      ]
    },
    {
      "cell_type": "markdown",
      "source": [
        "<p align=\"justify\">Para adicionar elementos a una lista, se pueden utilizar el método <code>append()</code> o el método <code>insert()</code>.<br><br><code>insert()</code>es computacionalmente costoso en comparación con <code>append()</code>, porque las referencias a los elementos subsiguientes deben cambiarse internamente para dejar espacio para el nuevo elemento.<br><br> 👀 Podemos comprobar si una lista contiene un valor utilizando la palabra clave <code>in</code>.<br><br>Por ejemplo:\n",
        "\n",
        "</p>\n",
        "\n"
      ],
      "metadata": {
        "id": "w5UKhpjDHeyi"
      }
    },
    {
      "cell_type": "code",
      "source": [
        "elementos = [\"activo\", \"pasivo\", \"patrimonio neto\"]"
      ],
      "metadata": {
        "id": "ac09SjYPLfWw"
      },
      "execution_count": null,
      "outputs": []
    },
    {
      "cell_type": "code",
      "source": [
        "elementos"
      ],
      "metadata": {
        "colab": {
          "base_uri": "https://localhost:8080/"
        },
        "id": "9nVsVyZZFwn_",
        "outputId": "2e321423-4fdb-483c-d2d6-4d4ede9ae849"
      },
      "execution_count": null,
      "outputs": [
        {
          "output_type": "execute_result",
          "data": {
            "text/plain": [
              "['activo', 'pasivo', 'patrimonio neto']"
            ]
          },
          "metadata": {},
          "execution_count": 151
        }
      ]
    },
    {
      "cell_type": "code",
      "source": [
        "\"activo no corriente\" in elementos"
      ],
      "metadata": {
        "colab": {
          "base_uri": "https://localhost:8080/"
        },
        "id": "9Iu3ficrGCll",
        "outputId": "52e25ca1-d730-439b-a81b-425df910b5a0"
      },
      "execution_count": null,
      "outputs": [
        {
          "output_type": "execute_result",
          "data": {
            "text/plain": [
              "False"
            ]
          },
          "metadata": {},
          "execution_count": 154
        }
      ]
    },
    {
      "cell_type": "code",
      "source": [
        "\"activo\" in elementos"
      ],
      "metadata": {
        "colab": {
          "base_uri": "https://localhost:8080/"
        },
        "id": "7t0oA5scLmAc",
        "outputId": "045d69a8-b319-4c13-ed48-7c4f2351ffa3"
      },
      "execution_count": null,
      "outputs": [
        {
          "output_type": "execute_result",
          "data": {
            "text/plain": [
              "True"
            ]
          },
          "metadata": {},
          "execution_count": 153
        }
      ]
    },
    {
      "cell_type": "markdown",
      "source": [
        "<p align=\"justify\"> 👀 La palabra <code>not</code> se puede usar para negar <code>in</code>.<br><br>Por ejemplo:\n",
        "\n",
        "</p>\n"
      ],
      "metadata": {
        "id": "gVB3vbo5MCv4"
      }
    },
    {
      "cell_type": "code",
      "source": [
        "\"activo corriente\" not in elementos"
      ],
      "metadata": {
        "colab": {
          "base_uri": "https://localhost:8080/"
        },
        "id": "feS5WpL5MUCZ",
        "outputId": "3a3fbf99-335f-4e8a-a263-09cf515ac299"
      },
      "execution_count": null,
      "outputs": [
        {
          "output_type": "execute_result",
          "data": {
            "text/plain": [
              "True"
            ]
          },
          "metadata": {},
          "execution_count": 155
        }
      ]
    },
    {
      "cell_type": "code",
      "source": [
        "\"activo\" not in elementos"
      ],
      "metadata": {
        "colab": {
          "base_uri": "https://localhost:8080/"
        },
        "id": "GRS3hCBCGKlY",
        "outputId": "032229ef-22fd-46fa-f5c0-b7b863ff5c5b"
      },
      "execution_count": null,
      "outputs": [
        {
          "output_type": "execute_result",
          "data": {
            "text/plain": [
              "False"
            ]
          },
          "metadata": {},
          "execution_count": 156
        }
      ]
    },
    {
      "cell_type": "markdown",
      "source": [
        "<p align=\"justify\">Verificar si una lista contiene un elemento es mucho más lento que verificar con diccionarios y conjuntos, ya que Python realiza un escaneo lineal a través de los elementos de la lista.\n",
        "\n",
        "</p>\n"
      ],
      "metadata": {
        "id": "Qthj8BGnNHkH"
      }
    },
    {
      "cell_type": "markdown",
      "source": [
        "### **<font color=\"#07a8ed\">Concatenar y combinar listas</font>**\n"
      ],
      "metadata": {
        "id": "0kIL1UYvNnWg"
      }
    },
    {
      "cell_type": "markdown",
      "source": [
        "<p align=\"justify\">Si ya tenelos una lista definida, podemos agregarle varios elementos usando el método <code>extend()</code>.<br><br>Por ejemplo:\n",
        "\n",
        "</p>\n"
      ],
      "metadata": {
        "id": "v6jpWN9LQFBJ"
      }
    },
    {
      "cell_type": "code",
      "source": [
        "elementos"
      ],
      "metadata": {
        "colab": {
          "base_uri": "https://localhost:8080/"
        },
        "id": "CuwONZfwQbAI",
        "outputId": "1299a83f-d750-413d-ce77-44d6d7f81435"
      },
      "execution_count": null,
      "outputs": [
        {
          "output_type": "execute_result",
          "data": {
            "text/plain": [
              "['activo', 'pasivo', 'patrimonio neto']"
            ]
          },
          "metadata": {},
          "execution_count": 158
        }
      ]
    },
    {
      "cell_type": "code",
      "source": [
        "mas_elementos = [\"activo corriente\", \"activo no corriente\", \"pasivo corriente\", \"pasivo no corriente\"]"
      ],
      "metadata": {
        "id": "2ieIRFnidBzj"
      },
      "execution_count": null,
      "outputs": []
    },
    {
      "cell_type": "code",
      "source": [
        "elementos.append(mas_elementos)"
      ],
      "metadata": {
        "id": "lb3B-r6kdGdo"
      },
      "execution_count": null,
      "outputs": []
    },
    {
      "cell_type": "code",
      "source": [
        "elementos"
      ],
      "metadata": {
        "colab": {
          "base_uri": "https://localhost:8080/"
        },
        "id": "67giStM2dLN3",
        "outputId": "1c9c0bba-5bc7-4ea6-8574-7726caf7dc8d"
      },
      "execution_count": null,
      "outputs": [
        {
          "output_type": "execute_result",
          "data": {
            "text/plain": [
              "['activo',\n",
              " 'pasivo',\n",
              " 'patrimonio neto',\n",
              " ['activo corriente',\n",
              "  'activo no corriente',\n",
              "  'pasivo corriente',\n",
              "  'pasivo no corriente']]"
            ]
          },
          "metadata": {},
          "execution_count": 161
        }
      ]
    },
    {
      "cell_type": "code",
      "source": [
        "len(elementos)"
      ],
      "metadata": {
        "colab": {
          "base_uri": "https://localhost:8080/"
        },
        "id": "vjT85YVUG1Ba",
        "outputId": "50f88b97-d73b-4c18-f316-8d4d85b51a02"
      },
      "execution_count": null,
      "outputs": [
        {
          "output_type": "execute_result",
          "data": {
            "text/plain": [
              "4"
            ]
          },
          "metadata": {},
          "execution_count": 162
        }
      ]
    },
    {
      "cell_type": "code",
      "source": [
        "elementos = [\"activo\", \"pasivo\", \"patrimonio neto\"]"
      ],
      "metadata": {
        "id": "VVpntFFGG7gG"
      },
      "execution_count": null,
      "outputs": []
    },
    {
      "cell_type": "code",
      "source": [
        "mas_elementos"
      ],
      "metadata": {
        "colab": {
          "base_uri": "https://localhost:8080/"
        },
        "id": "cE9h8FJHHRnC",
        "outputId": "0ed6bc5f-3ed1-493c-ffe8-cd0ef04801e9"
      },
      "execution_count": null,
      "outputs": [
        {
          "output_type": "execute_result",
          "data": {
            "text/plain": [
              "['activo corriente',\n",
              " 'activo no corriente',\n",
              " 'pasivo corriente',\n",
              " 'pasivo no corriente']"
            ]
          },
          "metadata": {},
          "execution_count": 167
        }
      ]
    },
    {
      "cell_type": "code",
      "source": [
        "elementos.extend(mas_elementos)"
      ],
      "metadata": {
        "id": "VFeB4aN-RrhR"
      },
      "execution_count": null,
      "outputs": []
    },
    {
      "cell_type": "code",
      "source": [
        "elementos"
      ],
      "metadata": {
        "colab": {
          "base_uri": "https://localhost:8080/"
        },
        "id": "ZdR60WTqR8cw",
        "outputId": "3721a9ee-0447-4320-d074-8c745a145460"
      },
      "execution_count": null,
      "outputs": [
        {
          "output_type": "execute_result",
          "data": {
            "text/plain": [
              "['activo',\n",
              " 'pasivo',\n",
              " 'patrimonio neto',\n",
              " 'activo corriente',\n",
              " 'activo no corriente',\n",
              " 'pasivo corriente',\n",
              " 'pasivo no corriente']"
            ]
          },
          "metadata": {},
          "execution_count": 170
        }
      ]
    },
    {
      "cell_type": "code",
      "source": [
        "len(elementos)"
      ],
      "metadata": {
        "colab": {
          "base_uri": "https://localhost:8080/"
        },
        "id": "nMY4ewY9HCZx",
        "outputId": "d25c5519-a11a-453e-fdc7-bd50b75b7729"
      },
      "execution_count": null,
      "outputs": [
        {
          "output_type": "execute_result",
          "data": {
            "text/plain": [
              "7"
            ]
          },
          "metadata": {},
          "execution_count": 171
        }
      ]
    },
    {
      "cell_type": "markdown",
      "source": [
        "<p align=\"justify\"> 👀 Hay que tener en cuenta que la concatenación de listas es una operación computacionalmente costosa, ya que se debe crear una nueva lista y copiar cada uno de los elementos. <br><br> Usualmente es preferible usar el metodo <code>extend()</code>para agregar elementos a una lista existente, y más aún si se está creando una lista grande.\n",
        "\n",
        "</p>\n"
      ],
      "metadata": {
        "id": "sLb16KV_SQB5"
      }
    },
    {
      "cell_type": "markdown",
      "source": [
        "### **<font color=\"#07a8ed\">Sorting</font>**\n"
      ],
      "metadata": {
        "id": "z--8E78wTY29"
      }
    },
    {
      "cell_type": "markdown",
      "source": [
        "<p align=\"justify\"> Se puede ordenar una lista, sin la necesidad de crear un objeto nuevo, llamando a la función <code>sort()</code>:\n",
        "\n",
        "</p>\n"
      ],
      "metadata": {
        "id": "gcbxXzAcTcIV"
      }
    },
    {
      "cell_type": "code",
      "source": [
        "Nombres = [\"Raul\", \"Cristian\", \"Leaner\", \"Marvin\", \"Francisco\"]"
      ],
      "metadata": {
        "id": "Yxx-9Q4icivZ"
      },
      "execution_count": null,
      "outputs": []
    },
    {
      "cell_type": "code",
      "source": [
        "Nombres"
      ],
      "metadata": {
        "id": "Szr_FrpQUGhZ",
        "colab": {
          "base_uri": "https://localhost:8080/"
        },
        "outputId": "cea5b728-ba4c-4483-deaf-34216a124c0d"
      },
      "execution_count": null,
      "outputs": [
        {
          "output_type": "execute_result",
          "data": {
            "text/plain": [
              "['Raul', 'Cristian', 'Leaner', 'Marvin', 'Francisco']"
            ]
          },
          "metadata": {},
          "execution_count": 174
        }
      ]
    },
    {
      "cell_type": "code",
      "source": [
        "Nombres.sort()"
      ],
      "metadata": {
        "id": "bzOqcu4acmFW"
      },
      "execution_count": null,
      "outputs": []
    },
    {
      "cell_type": "code",
      "source": [
        "Nombres"
      ],
      "metadata": {
        "colab": {
          "base_uri": "https://localhost:8080/"
        },
        "id": "Ko-X8z08c5DB",
        "outputId": "ba2ec31b-d9fa-4e0a-e06a-8001562bb947"
      },
      "execution_count": null,
      "outputs": [
        {
          "output_type": "execute_result",
          "data": {
            "text/plain": [
              "['Cristian', 'Francisco', 'Leaner', 'Marvin', 'Raul']"
            ]
          },
          "metadata": {},
          "execution_count": 176
        }
      ]
    },
    {
      "cell_type": "code",
      "source": [
        "Nombres.sort(reverse=True)"
      ],
      "metadata": {
        "id": "fyK6m_qAIhKb"
      },
      "execution_count": null,
      "outputs": []
    },
    {
      "cell_type": "code",
      "source": [
        "Nombres"
      ],
      "metadata": {
        "colab": {
          "base_uri": "https://localhost:8080/"
        },
        "id": "Z31yNxF1IlmC",
        "outputId": "b75c9470-0de8-4341-cb41-a2eeedc67dcc"
      },
      "execution_count": null,
      "outputs": [
        {
          "output_type": "execute_result",
          "data": {
            "text/plain": [
              "['Raul', 'Marvin', 'Leaner', 'Francisco', 'Cristian']"
            ]
          },
          "metadata": {},
          "execution_count": 178
        }
      ]
    },
    {
      "cell_type": "markdown",
      "source": [
        "### **<font color=\"#07a8ed\">Slicing</font>**\n"
      ],
      "metadata": {
        "id": "A-BOKvi1TdgV"
      }
    },
    {
      "cell_type": "markdown",
      "source": [
        "<p align=\"justify\"> Podemos seleccionar secciones de la mayoría de los tipos de secuencias, utilizando la notación de división. Por ejemplo:\n",
        "\n",
        "</p>"
      ],
      "metadata": {
        "id": "YX5aUcsXUnYK"
      }
    },
    {
      "cell_type": "code",
      "source": [
        "elementos = ['activo', 'pasivo', 'patrimonio neto','pasivo corriente', 'pasivo no corriente']"
      ],
      "metadata": {
        "id": "9YWiUPSedmg8"
      },
      "execution_count": null,
      "outputs": []
    },
    {
      "cell_type": "code",
      "source": [
        "elementos[0]"
      ],
      "metadata": {
        "colab": {
          "base_uri": "https://localhost:8080/",
          "height": 37
        },
        "id": "gf-ocKIPI76L",
        "outputId": "b2e091b4-2a38-448e-ded3-131c5571487b"
      },
      "execution_count": null,
      "outputs": [
        {
          "output_type": "execute_result",
          "data": {
            "text/plain": [
              "'activo'"
            ],
            "application/vnd.google.colaboratory.intrinsic+json": {
              "type": "string"
            }
          },
          "metadata": {},
          "execution_count": 180
        }
      ]
    },
    {
      "cell_type": "code",
      "source": [
        "elementos[0:3]"
      ],
      "metadata": {
        "colab": {
          "base_uri": "https://localhost:8080/"
        },
        "id": "ei92NysQU2IQ",
        "outputId": "07f151a2-c027-4171-8d98-62d0084d1260"
      },
      "execution_count": null,
      "outputs": [
        {
          "output_type": "execute_result",
          "data": {
            "text/plain": [
              "['activo', 'pasivo', 'patrimonio neto']"
            ]
          },
          "metadata": {},
          "execution_count": 181
        }
      ]
    },
    {
      "cell_type": "code",
      "source": [
        "len(elementos)"
      ],
      "metadata": {
        "colab": {
          "base_uri": "https://localhost:8080/"
        },
        "id": "joajPLW6JHOa",
        "outputId": "9377012f-cabd-4f32-ad94-0f3f397bff8d"
      },
      "execution_count": null,
      "outputs": [
        {
          "output_type": "execute_result",
          "data": {
            "text/plain": [
              "5"
            ]
          },
          "metadata": {},
          "execution_count": 183
        }
      ]
    },
    {
      "cell_type": "code",
      "source": [
        "elementos[3:6]"
      ],
      "metadata": {
        "colab": {
          "base_uri": "https://localhost:8080/"
        },
        "id": "36U9SCJ5VFvl",
        "outputId": "21d41111-1e1b-48b8-f01f-882f7acf23d8"
      },
      "execution_count": null,
      "outputs": [
        {
          "output_type": "execute_result",
          "data": {
            "text/plain": [
              "['pasivo corriente', 'pasivo no corriente']"
            ]
          },
          "metadata": {},
          "execution_count": 182
        }
      ]
    },
    {
      "cell_type": "markdown",
      "source": [
        "## **<font color=\"#07a8ed\">Diccionarios</font>**"
      ],
      "metadata": {
        "id": "DXw6b71aCrWB"
      }
    },
    {
      "cell_type": "markdown",
      "source": [
        "<p align=\"justify\"> El diccionario puede ser la estructura de datos más importante de Python. En otros lenguajes de programación, los diccionarios a veces se denominan mapas hash o matrices asociativas. <br><br>Un diccionario almacena una colección de pares clave valor. Cada clave está asociada con un valor para que pueda recuperarse, insertarse, modificarse o eliminarse convenientemente dada una clave en particular. El primer valor de un diccionario entonces, es la clave y el segundo, el valor asociado a la clave. Como clave podemos\n",
        "utilizar cualquier valor inmutable: podríamos usar números, cadenas, booleanos, tuplas, pero no se podrían utilizar listas o diccionarios, dado que son mutables. Esto es así porque los diccionarios se implementan\n",
        "como tablas hash, y a la hora de introducir un nuevo par clave valor en el diccionario se calcula el\n",
        "hash de la clave para después poder encontrar el valor asociado a esa clave. Si se modificara el objeto clave después de haber sido introducido en el diccionario, evidentemente, su hash también cambiaría y no podría ser encontrado. <br><br>Un enfoque para crear un diccionario es usar llaves <code>{}</code> y dos puntos para separar las claves de los valores, el otro enfoque, usar la función <code>dict()</code>\n",
        "\n",
        "</p>"
      ],
      "metadata": {
        "id": "FxDltfCZXN2m"
      }
    },
    {
      "cell_type": "code",
      "source": [
        "diccionario = {\"Actividad\": \"Posgrado\", \"Contenido\": \"Analisis de Datos\"}\n",
        "diccionario"
      ],
      "metadata": {
        "id": "6h9nfmnjCvPm",
        "colab": {
          "base_uri": "https://localhost:8080/"
        },
        "outputId": "a689ef82-d667-4863-8377-198865dc9737"
      },
      "execution_count": null,
      "outputs": [
        {
          "output_type": "execute_result",
          "data": {
            "text/plain": [
              "{'Actividad': 'Posgrado', 'Contenido': 'Analisis de Datos'}"
            ]
          },
          "metadata": {},
          "execution_count": 184
        }
      ]
    },
    {
      "cell_type": "code",
      "source": [
        "diccionario = dict(Actividad = \"Posgrado\", Contenido = \"Analisis de Datos\")\n",
        "diccionario"
      ],
      "metadata": {
        "id": "3tOEQSR_CvFm",
        "colab": {
          "base_uri": "https://localhost:8080/"
        },
        "outputId": "1d3c42f9-dc58-49a2-bc49-b7fd4d135d53"
      },
      "execution_count": null,
      "outputs": [
        {
          "output_type": "execute_result",
          "data": {
            "text/plain": [
              "{'Actividad': 'Posgrado', 'Contenido': 'Analisis de Datos'}"
            ]
          },
          "metadata": {},
          "execution_count": 185
        }
      ]
    },
    {
      "cell_type": "markdown",
      "source": [
        "<p align=\"justify\"> 👀 La diferencia principal entre los diccionarios y las listas o las tuplas es que a los valores almacenados en un diccionario se les accede no por su índice, porque de hecho no tienen orden, sino por su clave.\n",
        "\n",
        "</p>"
      ],
      "metadata": {
        "id": "eKVqi-n4wwSv"
      }
    },
    {
      "cell_type": "markdown",
      "source": [
        "### **<font color=\"#07a8ed\">Creando diccionarios a partir de secuencias</font>**\n"
      ],
      "metadata": {
        "id": "GprcFk5rSLGC"
      }
    },
    {
      "cell_type": "markdown",
      "source": [
        "<p align=\"justify\"> Es común terminar ocasionalmente con dos secuencias, como por ejemplo dos listas, y se quiere llevarlas a un un diccionario. Uno de los metodos empleados para esta tarea es el metodo <code>zip()</code>. <br><br> Por ejemplo:\n",
        "\n",
        "</p>"
      ],
      "metadata": {
        "id": "iVe4IEVqSYxt"
      }
    },
    {
      "cell_type": "code",
      "source": [
        "elementos = [\"activo\", \"activo corriente\", \"activo no corriente\", \"pasivo\", \"pasivo corriente\", \"pasivo no corriente\", \"patrimonio neto\"]\n"
      ],
      "metadata": {
        "id": "7-Yut0eYCu1O"
      },
      "execution_count": null,
      "outputs": []
    },
    {
      "cell_type": "code",
      "source": [
        "elementos"
      ],
      "metadata": {
        "colab": {
          "base_uri": "https://localhost:8080/"
        },
        "id": "ZNi96PrUKdHw",
        "outputId": "7a964767-c64e-4ebf-f0c6-34feb1a2d7e8"
      },
      "execution_count": null,
      "outputs": [
        {
          "output_type": "execute_result",
          "data": {
            "text/plain": [
              "['activo',\n",
              " 'activo corriente',\n",
              " 'activo no corriente',\n",
              " 'pasivo',\n",
              " 'pasivo corriente',\n",
              " 'pasivo no corriente',\n",
              " 'patrimonio neto']"
            ]
          },
          "metadata": {},
          "execution_count": 188
        }
      ]
    },
    {
      "cell_type": "code",
      "source": [
        "valores = [1000, 400, 600, 600, 400, 200, 400]"
      ],
      "metadata": {
        "id": "Dz9f9SiCU7XF"
      },
      "execution_count": null,
      "outputs": []
    },
    {
      "cell_type": "code",
      "source": [
        "diccionario = {} # creamos un diccionario vacio"
      ],
      "metadata": {
        "id": "GAUdg5UWVPPI"
      },
      "execution_count": null,
      "outputs": []
    },
    {
      "cell_type": "code",
      "source": [
        "for key, value in zip(elementos, valores):\n",
        "  diccionario[key] = value"
      ],
      "metadata": {
        "id": "7vd3n8UdVSGK"
      },
      "execution_count": null,
      "outputs": []
    },
    {
      "cell_type": "code",
      "source": [
        "diccionario"
      ],
      "metadata": {
        "colab": {
          "base_uri": "https://localhost:8080/"
        },
        "id": "OqLZ3NgTVxRs",
        "outputId": "4e02aec9-6ce3-428f-c2ac-30cd05575f84"
      },
      "execution_count": null,
      "outputs": [
        {
          "output_type": "execute_result",
          "data": {
            "text/plain": [
              "{'activo': 1000,\n",
              " 'activo corriente': 400,\n",
              " 'activo no corriente': 600,\n",
              " 'pasivo': 600,\n",
              " 'pasivo corriente': 400,\n",
              " 'pasivo no corriente': 200,\n",
              " 'patrimonio neto': 400}"
            ]
          },
          "metadata": {},
          "execution_count": 193
        }
      ]
    },
    {
      "cell_type": "markdown",
      "source": [
        "<p align=\"justify\"> Dado que un diccionario es esencialmente una colección de 2 tuplas, la función <code>dict()</code> acepta una lista de 2 tuplas.\n",
        "\n",
        "</p>"
      ],
      "metadata": {
        "id": "Snaku4dsW1P_"
      }
    },
    {
      "cell_type": "code",
      "source": [
        "tuplas = zip(range(7), reversed(range(7)))"
      ],
      "metadata": {
        "id": "038Cn4uXXymZ"
      },
      "execution_count": null,
      "outputs": []
    },
    {
      "cell_type": "code",
      "source": [
        "diccionario = dict(tuplas)\n",
        "diccionario"
      ],
      "metadata": {
        "colab": {
          "base_uri": "https://localhost:8080/"
        },
        "id": "FlqcNMQAYBO0",
        "outputId": "c4187259-8247-41b9-e400-0e861695b829"
      },
      "execution_count": null,
      "outputs": [
        {
          "output_type": "execute_result",
          "data": {
            "text/plain": [
              "{0: 6, 1: 5, 2: 4, 3: 3, 4: 2, 5: 1, 6: 0}"
            ]
          },
          "metadata": {},
          "execution_count": 56
        }
      ]
    },
    {
      "cell_type": "markdown",
      "source": [
        "<p align=\"justify\"> Tambien se podrían categorizar los elementos patrimoniales en un diccionario, tomando como valor clave, la primera letra de los elementos de la lista.<br><br> Por ejemplo:\n",
        "\n",
        "</p>"
      ],
      "metadata": {
        "id": "ui41wG3tZ230"
      }
    },
    {
      "cell_type": "code",
      "source": [
        "elementos"
      ],
      "metadata": {
        "colab": {
          "base_uri": "https://localhost:8080/"
        },
        "id": "8mi4WXgOZ3iH",
        "outputId": "28135d47-7ed5-497f-ce00-e8f83ed7da94"
      },
      "execution_count": null,
      "outputs": [
        {
          "output_type": "execute_result",
          "data": {
            "text/plain": [
              "['activo',\n",
              " 'activo corriente',\n",
              " 'activo no corriente',\n",
              " 'pasivo',\n",
              " 'pasivo corriente',\n",
              " 'pasivo no corriente',\n",
              " 'patrimonio neto']"
            ]
          },
          "metadata": {},
          "execution_count": 195
        }
      ]
    },
    {
      "cell_type": "code",
      "source": [
        "por_elementos = {}"
      ],
      "metadata": {
        "id": "EC2cMxfjZ9yU"
      },
      "execution_count": null,
      "outputs": []
    },
    {
      "cell_type": "code",
      "source": [
        "for i in elementos:\n",
        "  letra = i[0]\n",
        "  if letra not in por_elementos:\n",
        "    por_elementos[letra] = [i]\n",
        "  else:\n",
        "    por_elementos[letra].append(i)"
      ],
      "metadata": {
        "id": "wer8PdDraIRl"
      },
      "execution_count": null,
      "outputs": []
    },
    {
      "cell_type": "code",
      "source": [
        "por_elementos"
      ],
      "metadata": {
        "colab": {
          "base_uri": "https://localhost:8080/"
        },
        "id": "08N-GA4qbMSA",
        "outputId": "aeabcfec-985d-49e2-c1d0-c953daef6297"
      },
      "execution_count": null,
      "outputs": [
        {
          "output_type": "execute_result",
          "data": {
            "text/plain": [
              "{'a': ['activo', 'activo corriente', 'activo no corriente'],\n",
              " 'p': ['pasivo', 'pasivo corriente', 'pasivo no corriente', 'patrimonio neto']}"
            ]
          },
          "metadata": {},
          "execution_count": 198
        }
      ]
    },
    {
      "cell_type": "markdown",
      "source": [
        "<p align=\"justify\"> 👀 Lo desarrollado anteriormente se puede simplificar aún mas, habilitando el módulo <code> collections</code> y la clase <code> defaultdict</code>.<br><br> Por ejemplo:\n",
        "\n",
        "</p>"
      ],
      "metadata": {
        "id": "BL_ZAfIRdRnY"
      }
    },
    {
      "cell_type": "code",
      "source": [
        "from collections import defaultdict"
      ],
      "metadata": {
        "id": "PS3AO2DUdRBW"
      },
      "execution_count": null,
      "outputs": []
    },
    {
      "cell_type": "code",
      "source": [
        "por_elementos = defaultdict(list)"
      ],
      "metadata": {
        "id": "TzjcnCkufSWY"
      },
      "execution_count": null,
      "outputs": []
    },
    {
      "cell_type": "code",
      "source": [
        "for i in elementos:\n",
        "  por_elementos[i[0]].append(i)"
      ],
      "metadata": {
        "id": "y7lMU76Pfjm0"
      },
      "execution_count": null,
      "outputs": []
    },
    {
      "cell_type": "code",
      "source": [
        "por_elementos"
      ],
      "metadata": {
        "colab": {
          "base_uri": "https://localhost:8080/"
        },
        "id": "neItObebf2qj",
        "outputId": "a2efc9de-f20e-450b-ef6b-abd1338cef98"
      },
      "execution_count": null,
      "outputs": [
        {
          "output_type": "execute_result",
          "data": {
            "text/plain": [
              "defaultdict(list,\n",
              "            {'a': ['activo'],\n",
              "             'p': ['pasivo',\n",
              "              'patrimonio neto',\n",
              "              'pasivo corriente',\n",
              "              'pasivo no corriente']})"
            ]
          },
          "metadata": {},
          "execution_count": 64
        }
      ]
    },
    {
      "cell_type": "markdown",
      "source": [
        "## **<font color=\"#07a8ed\">Conjuntos</font>**"
      ],
      "metadata": {
        "id": "8l-NtpmsCv8n"
      }
    },
    {
      "cell_type": "markdown",
      "source": [
        "<p align=\"justify\"> Un conjunto es una colección desordenada de elementos únicos. Un conjunto se puede crear de dos maneras: a través de la función <code> set()</code> o a través de un conjunto literal con llaves.<br><br> Por ejemplo:\n",
        "\n",
        "</p>"
      ],
      "metadata": {
        "id": "iJbsG_c8hFLj"
      }
    },
    {
      "cell_type": "code",
      "source": [
        "set([2, 2, 2, 1, 3, 3])"
      ],
      "metadata": {
        "colab": {
          "base_uri": "https://localhost:8080/"
        },
        "id": "RQQ_XeC5hzZ1",
        "outputId": "110c2251-0f80-4531-d6db-fd3519839296"
      },
      "execution_count": null,
      "outputs": [
        {
          "output_type": "execute_result",
          "data": {
            "text/plain": [
              "{1, 2, 3}"
            ]
          },
          "metadata": {},
          "execution_count": 199
        }
      ]
    },
    {
      "cell_type": "code",
      "source": [
        "{2, 2, 2, 1, 3, 3}"
      ],
      "metadata": {
        "colab": {
          "base_uri": "https://localhost:8080/"
        },
        "id": "6D-CAm8eiC0c",
        "outputId": "c2a8626f-9fad-4512-9e37-7d10eaf9a603"
      },
      "execution_count": null,
      "outputs": [
        {
          "output_type": "execute_result",
          "data": {
            "text/plain": [
              "{1, 2, 3}"
            ]
          },
          "metadata": {},
          "execution_count": 200
        }
      ]
    },
    {
      "cell_type": "code",
      "source": [
        "conjunto = set([2, 2, 2, 1, 3, 3])\n",
        "conjunto"
      ],
      "metadata": {
        "colab": {
          "base_uri": "https://localhost:8080/"
        },
        "id": "w8tNVLgciFFe",
        "outputId": "88a34391-ee0f-4cf0-8a81-15d0d0727249"
      },
      "execution_count": null,
      "outputs": [
        {
          "output_type": "execute_result",
          "data": {
            "text/plain": [
              "{1, 2, 3}"
            ]
          },
          "metadata": {},
          "execution_count": 67
        }
      ]
    },
    {
      "cell_type": "markdown",
      "source": [
        "<p align=\"justify\">👀 Los conjuntos admiten las operaciones matemáticas como la unión, la intersección, la diferencia y la diferencia simétrica.\n",
        "\n",
        "</p>"
      ],
      "metadata": {
        "id": "q6iQiNIXie-1"
      }
    },
    {
      "cell_type": "code",
      "source": [
        "a = {0, 1, 2, 3, 4, 5}\n",
        "b = {3, 4, 5, 6, 7, 8, 9, 10}"
      ],
      "metadata": {
        "id": "KM3hPSVki99c"
      },
      "execution_count": null,
      "outputs": []
    },
    {
      "cell_type": "markdown",
      "source": [
        "<p align=\"center\">\n",
        "<img src=\"https://github.com/cristiandarioortegayubro/BDS/blob/main/images/Image_0003.jpg?raw=true\" width=\"600\" height=\"\">\n",
        "</p>\n"
      ],
      "metadata": {
        "id": "_1JKAsY0RZUb"
      }
    },
    {
      "cell_type": "markdown",
      "source": [
        "### **<font color=\"#07a8ed\">Union</font>**\n"
      ],
      "metadata": {
        "id": "rbRWiECUjEgr"
      }
    },
    {
      "cell_type": "markdown",
      "source": [
        "<p align=\"justify\">La unión de dos conjuntos es el conjunto de elementos distintos que ocurren en cualquiera de los conjuntos. Esto se puede calcular con el método <code>union()</code> o el operador binario | <br><br>Por ejemplo:\n",
        "</p>"
      ],
      "metadata": {
        "id": "n9gduXGgjLxN"
      }
    },
    {
      "cell_type": "code",
      "source": [
        "a"
      ],
      "metadata": {
        "colab": {
          "base_uri": "https://localhost:8080/"
        },
        "id": "hyQYQY62DVk3",
        "outputId": "710b79bb-8e26-404a-e400-2f9f9498cc60"
      },
      "execution_count": null,
      "outputs": [
        {
          "output_type": "execute_result",
          "data": {
            "text/plain": [
              "{0, 1, 2, 3, 4, 5}"
            ]
          },
          "metadata": {},
          "execution_count": 202
        }
      ]
    },
    {
      "cell_type": "code",
      "source": [
        "b"
      ],
      "metadata": {
        "colab": {
          "base_uri": "https://localhost:8080/"
        },
        "id": "MYNHIzZmDXO3",
        "outputId": "6d62c9fe-1487-46b9-c8d4-b908742c9cb7"
      },
      "execution_count": null,
      "outputs": [
        {
          "output_type": "execute_result",
          "data": {
            "text/plain": [
              "{3, 4, 5, 6, 7, 8, 9, 10}"
            ]
          },
          "metadata": {},
          "execution_count": 203
        }
      ]
    },
    {
      "cell_type": "code",
      "source": [
        "a.union(b)"
      ],
      "metadata": {
        "colab": {
          "base_uri": "https://localhost:8080/"
        },
        "id": "fCOSt0twjLL-",
        "outputId": "27218a83-6aee-4a2d-f7a7-a568a09c85e2"
      },
      "execution_count": null,
      "outputs": [
        {
          "output_type": "execute_result",
          "data": {
            "text/plain": [
              "{0, 1, 2, 3, 4, 5, 6, 7, 8, 9, 10}"
            ]
          },
          "metadata": {},
          "execution_count": 204
        }
      ]
    },
    {
      "cell_type": "code",
      "source": [
        "a | b"
      ],
      "metadata": {
        "colab": {
          "base_uri": "https://localhost:8080/"
        },
        "id": "TBDIs6UjjyaS",
        "outputId": "94813674-d988-4b85-ba58-fa324eb82e56"
      },
      "execution_count": null,
      "outputs": [
        {
          "output_type": "execute_result",
          "data": {
            "text/plain": [
              "{0, 1, 2, 3, 4, 5, 6, 7, 8, 9, 10}"
            ]
          },
          "metadata": {},
          "execution_count": 72
        }
      ]
    },
    {
      "cell_type": "markdown",
      "source": [
        "### **<font color=\"#07a8ed\">Interseccion</font>**\n"
      ],
      "metadata": {
        "id": "xP_9Tgv9ktnL"
      }
    },
    {
      "cell_type": "markdown",
      "source": [
        "<p align=\"justify\">La intersección contiene los elementos que ocurren en ambos conjuntos. Esto se puede calcular con el método <code>intersection()</code> o el operador binario & <br><br>Por ejemplo:\n",
        "</p>"
      ],
      "metadata": {
        "id": "IU86Nz0Sk5AV"
      }
    },
    {
      "cell_type": "code",
      "source": [
        "a"
      ],
      "metadata": {
        "colab": {
          "base_uri": "https://localhost:8080/"
        },
        "id": "u7MDuFJ_DZeG",
        "outputId": "c13a6f2d-0f92-4d4d-c741-09c5e6144d7f"
      },
      "execution_count": null,
      "outputs": [
        {
          "output_type": "execute_result",
          "data": {
            "text/plain": [
              "{0, 1, 2, 3, 4, 5}"
            ]
          },
          "metadata": {},
          "execution_count": 73
        }
      ]
    },
    {
      "cell_type": "code",
      "source": [
        "b"
      ],
      "metadata": {
        "colab": {
          "base_uri": "https://localhost:8080/"
        },
        "id": "sPiWxTx5DbOD",
        "outputId": "a8569dd1-a608-4552-c580-738c05830bf7"
      },
      "execution_count": null,
      "outputs": [
        {
          "output_type": "execute_result",
          "data": {
            "text/plain": [
              "{3, 4, 5, 6, 7, 8, 9, 10}"
            ]
          },
          "metadata": {},
          "execution_count": 74
        }
      ]
    },
    {
      "cell_type": "code",
      "source": [
        "a.intersection(b)"
      ],
      "metadata": {
        "colab": {
          "base_uri": "https://localhost:8080/"
        },
        "id": "gSzQm9YHnjQk",
        "outputId": "b7d001e3-71cf-40fa-92b1-93d5029a746e"
      },
      "execution_count": null,
      "outputs": [
        {
          "output_type": "execute_result",
          "data": {
            "text/plain": [
              "{3, 4, 5}"
            ]
          },
          "metadata": {},
          "execution_count": 75
        }
      ]
    },
    {
      "cell_type": "code",
      "source": [
        "a & b"
      ],
      "metadata": {
        "colab": {
          "base_uri": "https://localhost:8080/"
        },
        "id": "HZXoWfuVnxNH",
        "outputId": "aa96b175-0347-406f-f16e-65198645ae57"
      },
      "execution_count": null,
      "outputs": [
        {
          "output_type": "execute_result",
          "data": {
            "text/plain": [
              "{3, 4, 5}"
            ]
          },
          "metadata": {},
          "execution_count": 76
        }
      ]
    },
    {
      "cell_type": "markdown",
      "source": [
        "## **<font color=\"#07a8ed\">Funciones de secuencias</font>**"
      ],
      "metadata": {
        "id": "ZRym3zjKtZ3Y"
      }
    },
    {
      "cell_type": "markdown",
      "source": [
        "<p align=\"justify\">👀 Ahora vemos algunas funciones de secuencias muy útiles de Python.\n",
        "\n",
        "</p>"
      ],
      "metadata": {
        "id": "nyX0SZQitgww"
      }
    },
    {
      "cell_type": "markdown",
      "source": [
        "### **<font color=\"#07a8ed\">Enumerar</font>**\n"
      ],
      "metadata": {
        "id": "S0X8ABdttwK5"
      }
    },
    {
      "cell_type": "markdown",
      "source": [
        "<p align=\"justify\">Es común cuando se itera sobre un objeto iteralble, querer realizar un seguimiento del índice los elementos del objeto. <br><br>Por ejemplo:\n",
        "</p>"
      ],
      "metadata": {
        "id": "oPcnB6RIt1Zy"
      }
    },
    {
      "cell_type": "code",
      "source": [
        "elementos"
      ],
      "metadata": {
        "colab": {
          "base_uri": "https://localhost:8080/"
        },
        "id": "fd_9GT1Et030",
        "outputId": "ef7b6308-a1e7-4113-a5cd-6ef15bee7df0"
      },
      "execution_count": null,
      "outputs": [
        {
          "output_type": "execute_result",
          "data": {
            "text/plain": [
              "['activo',\n",
              " 'activo corriente',\n",
              " 'activo no corriente',\n",
              " 'pasivo',\n",
              " 'pasivo corriente',\n",
              " 'pasivo no corriente',\n",
              " 'patrimonio neto']"
            ]
          },
          "metadata": {},
          "execution_count": 206
        }
      ]
    },
    {
      "cell_type": "code",
      "source": [
        "index = 0"
      ],
      "metadata": {
        "id": "Jwp_0hJNRKT7"
      },
      "execution_count": null,
      "outputs": []
    },
    {
      "cell_type": "code",
      "source": [
        "for i in elementos:\n",
        "   print(f\"{index} {i}\")\n",
        "   index += 1"
      ],
      "metadata": {
        "colab": {
          "base_uri": "https://localhost:8080/"
        },
        "id": "4w9XW7D4uUcK",
        "outputId": "08ec0c61-04e4-431a-9909-9b4aaef4aff4"
      },
      "execution_count": null,
      "outputs": [
        {
          "output_type": "stream",
          "name": "stdout",
          "text": [
            "0 activo\n",
            "1 activo corriente\n",
            "2 activo no corriente\n",
            "3 pasivo\n",
            "4 pasivo corriente\n",
            "5 pasivo no corriente\n",
            "6 patrimonio neto\n"
          ]
        }
      ]
    },
    {
      "cell_type": "markdown",
      "source": [
        "<p align=\"justify\">Lo mismo, pero utilizando la función <code>enumerate(i, value)</code> y el resultado será una secuencia de tuplas. <br><br>Por ejemplo:\n",
        "</p>"
      ],
      "metadata": {
        "id": "97FgTBmUvsDQ"
      }
    },
    {
      "cell_type": "code",
      "source": [
        "elementos"
      ],
      "metadata": {
        "colab": {
          "base_uri": "https://localhost:8080/"
        },
        "id": "Zhp09CuHwB9p",
        "outputId": "fbd97e04-4f73-4545-e1de-4b505e74ec43"
      },
      "execution_count": null,
      "outputs": [
        {
          "output_type": "execute_result",
          "data": {
            "text/plain": [
              "['activo',\n",
              " 'activo corriente',\n",
              " 'activo no corriente',\n",
              " 'pasivo',\n",
              " 'pasivo corriente',\n",
              " 'pasivo no corriente',\n",
              " 'patrimonio neto']"
            ]
          },
          "metadata": {},
          "execution_count": 221
        }
      ]
    },
    {
      "cell_type": "code",
      "source": [
        "tuple(enumerate(elementos))"
      ],
      "metadata": {
        "colab": {
          "base_uri": "https://localhost:8080/"
        },
        "id": "HF-2OvwpRiBh",
        "outputId": "3df763d4-4add-490e-d3ab-5681f2872b6b"
      },
      "execution_count": null,
      "outputs": [
        {
          "output_type": "execute_result",
          "data": {
            "text/plain": [
              "((0, 'activo'),\n",
              " (1, 'activo corriente'),\n",
              " (2, 'activo no corriente'),\n",
              " (3, 'pasivo'),\n",
              " (4, 'pasivo corriente'),\n",
              " (5, 'pasivo no corriente'),\n",
              " (6, 'patrimonio neto'))"
            ]
          },
          "metadata": {},
          "execution_count": 226
        }
      ]
    },
    {
      "cell_type": "code",
      "source": [
        "list(enumerate(elementos))"
      ],
      "metadata": {
        "colab": {
          "base_uri": "https://localhost:8080/"
        },
        "id": "jepIYQKESiJ5",
        "outputId": "58c35105-4fb9-47d8-f571-155e67a817c3"
      },
      "execution_count": null,
      "outputs": [
        {
          "output_type": "execute_result",
          "data": {
            "text/plain": [
              "[(0, 'activo'),\n",
              " (1, 'activo corriente'),\n",
              " (2, 'activo no corriente'),\n",
              " (3, 'pasivo'),\n",
              " (4, 'pasivo corriente'),\n",
              " (5, 'pasivo no corriente'),\n",
              " (6, 'patrimonio neto')]"
            ]
          },
          "metadata": {},
          "execution_count": 229
        }
      ]
    },
    {
      "cell_type": "code",
      "source": [
        "for i, j in enumerate(elementos):\n",
        "  print(f\"{i} {j}\")"
      ],
      "metadata": {
        "colab": {
          "base_uri": "https://localhost:8080/"
        },
        "id": "QcM2wbndwEQp",
        "outputId": "5ab5a12d-457a-4a0f-bdb4-dfb16fc1101a"
      },
      "execution_count": null,
      "outputs": [
        {
          "output_type": "stream",
          "name": "stdout",
          "text": [
            "0 activo\n",
            "1 activo corriente\n",
            "2 activo no corriente\n",
            "3 pasivo\n",
            "4 pasivo corriente\n",
            "5 pasivo no corriente\n",
            "6 patrimonio neto\n"
          ]
        }
      ]
    },
    {
      "cell_type": "markdown",
      "source": [
        "### **<font color=\"#07a8ed\">Ordenar</font>**\n"
      ],
      "metadata": {
        "id": "fEmcqsWFwlBE"
      }
    },
    {
      "cell_type": "markdown",
      "source": [
        "<p align=\"justify\">La función <code>sorted()</code> devuelve una nueva lista ordenada de los elementos de cualquier secuencia. <br><br>Por ejemplo:\n",
        "</p>"
      ],
      "metadata": {
        "id": "II0fxBYkw5nz"
      }
    },
    {
      "cell_type": "code",
      "source": [
        "numeros = [40, 15, 20, 55, 60, 10]"
      ],
      "metadata": {
        "id": "OKesn8K0TcL7"
      },
      "execution_count": null,
      "outputs": []
    },
    {
      "cell_type": "code",
      "source": [
        "numeros.sort() # metodo de listas\n",
        "numeros"
      ],
      "metadata": {
        "colab": {
          "base_uri": "https://localhost:8080/"
        },
        "id": "X6MAkT4dUGlq",
        "outputId": "f1ed93e1-64fa-4238-c277-88cf748d9cff"
      },
      "execution_count": null,
      "outputs": [
        {
          "output_type": "execute_result",
          "data": {
            "text/plain": [
              "[10, 15, 20, 40, 55, 60]"
            ]
          },
          "metadata": {},
          "execution_count": 240
        }
      ]
    },
    {
      "cell_type": "code",
      "source": [
        "sorted(numeros, reverse=True) # funcion"
      ],
      "metadata": {
        "colab": {
          "base_uri": "https://localhost:8080/"
        },
        "id": "cvyUmNz5TmVt",
        "outputId": "d5c585dc-d1cb-4310-88c5-1a6afeb8267a"
      },
      "execution_count": null,
      "outputs": [
        {
          "output_type": "execute_result",
          "data": {
            "text/plain": [
              "[60, 55, 40, 20, 15, 10]"
            ]
          },
          "metadata": {},
          "execution_count": 233
        }
      ]
    },
    {
      "cell_type": "code",
      "source": [
        "sorted(numeros)"
      ],
      "metadata": {
        "colab": {
          "base_uri": "https://localhost:8080/"
        },
        "id": "Zq8DJaI2Trg2",
        "outputId": "5da9a449-dfb1-4522-85af-8006ee336c3d"
      },
      "execution_count": null,
      "outputs": [
        {
          "output_type": "execute_result",
          "data": {
            "text/plain": [
              "[10, 15, 20, 40, 55, 60]"
            ]
          },
          "metadata": {},
          "execution_count": 234
        }
      ]
    },
    {
      "cell_type": "code",
      "source": [
        "sorted([7, 1, 2, 6, 0, 3, 2])"
      ],
      "metadata": {
        "colab": {
          "base_uri": "https://localhost:8080/"
        },
        "id": "pGvRtIGIxIgD",
        "outputId": "b0ecbcae-8a6e-4c63-9f26-b28de368c6f7"
      },
      "execution_count": null,
      "outputs": [
        {
          "output_type": "execute_result",
          "data": {
            "text/plain": [
              "[0, 1, 2, 2, 3, 6, 7]"
            ]
          },
          "metadata": {},
          "execution_count": 235
        }
      ]
    },
    {
      "cell_type": "code",
      "source": [
        "sorted([7, 1, 2, 6, 0, 3, 2], reverse=True)"
      ],
      "metadata": {
        "colab": {
          "base_uri": "https://localhost:8080/"
        },
        "id": "fd3YNbIlTzVk",
        "outputId": "55cea8b1-c154-482b-adaa-92b9c752c36e"
      },
      "execution_count": null,
      "outputs": [
        {
          "output_type": "execute_result",
          "data": {
            "text/plain": [
              "[7, 6, 3, 2, 2, 1, 0]"
            ]
          },
          "metadata": {},
          "execution_count": 236
        }
      ]
    },
    {
      "cell_type": "code",
      "source": [
        "sorted(elementos)"
      ],
      "metadata": {
        "colab": {
          "base_uri": "https://localhost:8080/"
        },
        "id": "UvujFjb4xNKc",
        "outputId": "ee5bbc46-8b52-4c5c-c7a2-16bfb8d396b6"
      },
      "execution_count": null,
      "outputs": [
        {
          "output_type": "execute_result",
          "data": {
            "text/plain": [
              "['activo',\n",
              " 'activo corriente',\n",
              " 'activo no corriente',\n",
              " 'pasivo',\n",
              " 'pasivo corriente',\n",
              " 'pasivo no corriente',\n",
              " 'patrimonio neto']"
            ]
          },
          "metadata": {},
          "execution_count": 237
        }
      ]
    },
    {
      "cell_type": "markdown",
      "source": [
        "<p align=\"justify\"> 👀 <mark>La función <code>sorted()</code> acepta los mismos argumentos que el método <code>sort()</code> de las listas.\n",
        "\n",
        "</p>"
      ],
      "metadata": {
        "id": "29oPfGznxhd-"
      }
    },
    {
      "cell_type": "markdown",
      "source": [
        "### **<font color=\"#07a8ed\">Zip</font>**\n"
      ],
      "metadata": {
        "id": "vkmuCjCe0kS7"
      }
    },
    {
      "cell_type": "markdown",
      "source": [
        "<p align=\"justify\">La función <code>zip()</code> \"empareja\" los elementos de una serie de listas, tuplas u otras secuencias para crear una lista de tuplas. <br><br>Por ejemplo:\n",
        "</p>"
      ],
      "metadata": {
        "id": "oZ2lZlMV0j0V"
      }
    },
    {
      "cell_type": "code",
      "source": [
        "elementos"
      ],
      "metadata": {
        "colab": {
          "base_uri": "https://localhost:8080/"
        },
        "id": "_4PvIkEK2KxX",
        "outputId": "9eeaddd4-3bbe-459c-a8f4-1f7d4c694496"
      },
      "execution_count": null,
      "outputs": [
        {
          "output_type": "execute_result",
          "data": {
            "text/plain": [
              "['activo',\n",
              " 'activo corriente',\n",
              " 'activo no corriente',\n",
              " 'pasivo',\n",
              " 'pasivo corriente',\n",
              " 'pasivo no corriente',\n",
              " 'patrimonio neto']"
            ]
          },
          "metadata": {},
          "execution_count": 241
        }
      ]
    },
    {
      "cell_type": "code",
      "source": [
        "len(elementos) == len(valores)"
      ],
      "metadata": {
        "colab": {
          "base_uri": "https://localhost:8080/"
        },
        "id": "9ThcrsRrUoWs",
        "outputId": "55b6958d-e2cd-4d0a-aff9-7fc89cf6a754"
      },
      "execution_count": null,
      "outputs": [
        {
          "output_type": "execute_result",
          "data": {
            "text/plain": [
              "True"
            ]
          },
          "metadata": {},
          "execution_count": 242
        }
      ]
    },
    {
      "cell_type": "code",
      "source": [
        "valores"
      ],
      "metadata": {
        "colab": {
          "base_uri": "https://localhost:8080/"
        },
        "id": "YvUcbtbY2NMF",
        "outputId": "75dc20d4-f335-4152-d3bd-f92381336e2d"
      },
      "execution_count": null,
      "outputs": [
        {
          "output_type": "execute_result",
          "data": {
            "text/plain": [
              "[1000, 400, 600, 600, 400, 200, 400]"
            ]
          },
          "metadata": {},
          "execution_count": 213
        }
      ]
    },
    {
      "cell_type": "code",
      "source": [
        "estado = zip(elementos, valores)\n",
        "tuple(estado)"
      ],
      "metadata": {
        "colab": {
          "base_uri": "https://localhost:8080/"
        },
        "id": "oKUAnNcD2xul",
        "outputId": "ea149ce2-05c6-4456-8996-6a139d38c531"
      },
      "execution_count": null,
      "outputs": [
        {
          "output_type": "execute_result",
          "data": {
            "text/plain": [
              "(('activo', 1000),\n",
              " ('activo corriente', 400),\n",
              " ('activo no corriente', 600),\n",
              " ('pasivo', 600),\n",
              " ('pasivo corriente', 400),\n",
              " ('pasivo no corriente', 200),\n",
              " ('patrimonio neto', 400))"
            ]
          },
          "metadata": {},
          "execution_count": 243
        }
      ]
    },
    {
      "cell_type": "code",
      "source": [
        "estado = zip(elementos, valores)\n",
        "list(estado)"
      ],
      "metadata": {
        "colab": {
          "base_uri": "https://localhost:8080/"
        },
        "id": "zwJHOb2G2PWF",
        "outputId": "23e8538f-5e27-470c-c51f-52cc1e70120a"
      },
      "execution_count": null,
      "outputs": [
        {
          "output_type": "execute_result",
          "data": {
            "text/plain": [
              "[('activo', 1000),\n",
              " ('activo corriente', 400),\n",
              " ('activo no corriente', 600),\n",
              " ('pasivo', 600),\n",
              " ('pasivo corriente', 400),\n",
              " ('pasivo no corriente', 200),\n",
              " ('patrimonio neto', 400)]"
            ]
          },
          "metadata": {},
          "execution_count": 244
        }
      ]
    },
    {
      "cell_type": "code",
      "source": [
        "estado = zip(elementos, valores)\n",
        "dict(estado)"
      ],
      "metadata": {
        "colab": {
          "base_uri": "https://localhost:8080/"
        },
        "id": "en1PNRSC3Bha",
        "outputId": "c244602b-bc55-4bc5-a471-c4390514d940"
      },
      "execution_count": null,
      "outputs": [
        {
          "output_type": "execute_result",
          "data": {
            "text/plain": [
              "{'activo': 1000,\n",
              " 'activo corriente': 400,\n",
              " 'activo no corriente': 600,\n",
              " 'pasivo': 600,\n",
              " 'pasivo corriente': 400,\n",
              " 'pasivo no corriente': 200,\n",
              " 'patrimonio neto': 400}"
            ]
          },
          "metadata": {},
          "execution_count": 245
        }
      ]
    },
    {
      "cell_type": "markdown",
      "source": [
        "<p align=\"justify\"> 👀 Un uso común de es iterar simultáneamente sobre múltiples secuencias.<br><br> Por ejemplo:\n",
        "\n",
        "</p>"
      ],
      "metadata": {
        "id": "EUGa_a123dIS"
      }
    },
    {
      "cell_type": "code",
      "source": [
        "for i, (j, k) in enumerate(zip(elementos, valores)):\n",
        "  print(f\"{i}: {j}, {k}\")"
      ],
      "metadata": {
        "colab": {
          "base_uri": "https://localhost:8080/"
        },
        "id": "h2QZBeqz3mHB",
        "outputId": "ba29f966-e022-4618-b21c-edc64c5e83f4"
      },
      "execution_count": null,
      "outputs": [
        {
          "output_type": "stream",
          "name": "stdout",
          "text": [
            "0: activo, 1000\n",
            "1: activo corriente, 400\n",
            "2: activo no corriente, 600\n",
            "3: pasivo, 600\n",
            "4: pasivo corriente, 400\n",
            "5: pasivo no corriente, 200\n",
            "6: patrimonio neto, 400\n"
          ]
        }
      ]
    },
    {
      "cell_type": "markdown",
      "source": [
        "### **<font color=\"#07a8ed\">Invertir</font>**\n"
      ],
      "metadata": {
        "id": "46TQOnf-4hU-"
      }
    },
    {
      "cell_type": "markdown",
      "source": [
        "<p align=\"justify\">La función <code>reversed()</code>  itera sobre los elementos en orden inverso. <br><br>Por ejemplo:\n",
        "</p>"
      ],
      "metadata": {
        "id": "UsDLhu2f4sGR"
      }
    },
    {
      "cell_type": "code",
      "source": [
        "elementos"
      ],
      "metadata": {
        "colab": {
          "base_uri": "https://localhost:8080/"
        },
        "id": "v84ArVcY5Pqf",
        "outputId": "1d7ec5b7-485e-4fa2-d042-48ddc582446f"
      },
      "execution_count": null,
      "outputs": [
        {
          "output_type": "execute_result",
          "data": {
            "text/plain": [
              "['activo',\n",
              " 'activo corriente',\n",
              " 'activo no corriente',\n",
              " 'pasivo',\n",
              " 'pasivo corriente',\n",
              " 'pasivo no corriente',\n",
              " 'patrimonio neto']"
            ]
          },
          "metadata": {},
          "execution_count": 247
        }
      ]
    },
    {
      "cell_type": "code",
      "source": [
        "list(reversed(elementos))"
      ],
      "metadata": {
        "colab": {
          "base_uri": "https://localhost:8080/"
        },
        "id": "lYJRcN6t5PX1",
        "outputId": "98c3e4f7-92b1-43a6-83fd-81c1eacbf2ed"
      },
      "execution_count": null,
      "outputs": [
        {
          "output_type": "execute_result",
          "data": {
            "text/plain": [
              "['patrimonio neto',\n",
              " 'pasivo no corriente',\n",
              " 'pasivo corriente',\n",
              " 'pasivo',\n",
              " 'activo no corriente',\n",
              " 'activo corriente',\n",
              " 'activo']"
            ]
          },
          "metadata": {},
          "execution_count": 248
        }
      ]
    },
    {
      "cell_type": "markdown",
      "source": [
        "## **<font color=\"#07a8ed\">Comprensión de listas, conjuntos y diccionarios</font>**"
      ],
      "metadata": {
        "id": "sNakizE85prr"
      }
    },
    {
      "cell_type": "markdown",
      "source": [
        "<p align=\"justify\">La comprensión de listas es una característica conveniente y ampliamente utilizada en Python. Permite formar de manera concisa una nueva lista filtrando los elementos de un objeto, transformando los elementos que pasan el filtro en una expresión determinada.<br><br>La comprensión de listas es una característica tomada del lenguaje de programación funcional Haskell que está presente en Python desde la versión 2.0 y consiste en una construcción que permite crear listas a partir de otras listas. Cada una de estas construcciones consta de una expresión que determina cómo modificar el elemento de la lista original, seguida de una o varias clausulas <code>for</code> y opcionalmente una o varias clausulas <code>if</code>.  \n",
        "\n",
        "</p>"
      ],
      "metadata": {
        "id": "egYwW5yw5wOb"
      }
    },
    {
      "cell_type": "markdown",
      "source": [
        "```python\n",
        "[expresion for valor in objeto]\n",
        "\n",
        "[expresion for valor in objeto if condicion]\n",
        "```"
      ],
      "metadata": {
        "id": "J9wTz4CN8lU0"
      }
    },
    {
      "cell_type": "markdown",
      "source": [
        "Lo que seria igual a:"
      ],
      "metadata": {
        "id": "JI92UK-K689f"
      }
    },
    {
      "cell_type": "markdown",
      "source": [
        "```python\n",
        "resultado = []\n",
        "for valor in objeto:\n",
        "    if condicion:\n",
        "        resultado.append(expresion)\n",
        "```"
      ],
      "metadata": {
        "id": "wSM94i_C7AtS"
      }
    },
    {
      "cell_type": "markdown",
      "source": [
        "### **<font color=\"#07a8ed\">Listas</font>**\n"
      ],
      "metadata": {
        "id": "7MX7v9T9C2Kn"
      }
    },
    {
      "cell_type": "markdown",
      "source": [
        "Por ejemplo:"
      ],
      "metadata": {
        "id": "qTRdelzK7nah"
      }
    },
    {
      "cell_type": "code",
      "source": [
        "a = \"cristian\""
      ],
      "metadata": {
        "id": "ulGxJIscVze9"
      },
      "execution_count": null,
      "outputs": []
    },
    {
      "cell_type": "code",
      "source": [
        "a.upper()"
      ],
      "metadata": {
        "id": "kYq9Wo7iV3pP",
        "outputId": "763b1fef-18de-4566-e3d1-32272a1a835d",
        "colab": {
          "base_uri": "https://localhost:8080/",
          "height": 37
        }
      },
      "execution_count": null,
      "outputs": [
        {
          "output_type": "execute_result",
          "data": {
            "text/plain": [
              "'CRISTIAN'"
            ],
            "application/vnd.google.colaboratory.intrinsic+json": {
              "type": "string"
            }
          },
          "metadata": {},
          "execution_count": 251
        }
      ]
    },
    {
      "cell_type": "code",
      "source": [
        "a.capitalize()"
      ],
      "metadata": {
        "id": "78dLtZCSWCmL",
        "outputId": "e15ce994-dd22-4592-dfac-d0ecba64fbcb",
        "colab": {
          "base_uri": "https://localhost:8080/",
          "height": 37
        }
      },
      "execution_count": null,
      "outputs": [
        {
          "output_type": "execute_result",
          "data": {
            "text/plain": [
              "'Cristian'"
            ],
            "application/vnd.google.colaboratory.intrinsic+json": {
              "type": "string"
            }
          },
          "metadata": {},
          "execution_count": 252
        }
      ]
    },
    {
      "cell_type": "code",
      "source": [
        "elementos"
      ],
      "metadata": {
        "colab": {
          "base_uri": "https://localhost:8080/"
        },
        "id": "rdB7NHhh7lXS",
        "outputId": "d72424fa-e1d2-4d0d-c4ed-748407ea827f"
      },
      "execution_count": null,
      "outputs": [
        {
          "output_type": "execute_result",
          "data": {
            "text/plain": [
              "['activo',\n",
              " 'activo corriente',\n",
              " 'activo no corriente',\n",
              " 'pasivo',\n",
              " 'pasivo corriente',\n",
              " 'pasivo no corriente',\n",
              " 'patrimonio neto']"
            ]
          },
          "metadata": {},
          "execution_count": 253
        }
      ]
    },
    {
      "cell_type": "code",
      "source": [
        "for i in elementos:\n",
        "  print(i.upper())"
      ],
      "metadata": {
        "id": "0sGVO97LWZ3X",
        "outputId": "b957a2ee-9ddd-43f3-a0d7-fc43ab1e9849",
        "colab": {
          "base_uri": "https://localhost:8080/"
        }
      },
      "execution_count": null,
      "outputs": [
        {
          "output_type": "stream",
          "name": "stdout",
          "text": [
            "ACTIVO\n",
            "ACTIVO CORRIENTE\n",
            "ACTIVO NO CORRIENTE\n",
            "PASIVO\n",
            "PASIVO CORRIENTE\n",
            "PASIVO NO CORRIENTE\n",
            "PATRIMONIO NETO\n"
          ]
        }
      ]
    },
    {
      "cell_type": "code",
      "source": [
        "mayuscula = []\n",
        "for i in elementos:\n",
        "  mayuscula.append(i.upper())\n",
        "\n",
        "mayuscula"
      ],
      "metadata": {
        "id": "BldLpiopWypV",
        "outputId": "bdf8d6f9-b4bb-4378-8f3c-21196da9068b",
        "colab": {
          "base_uri": "https://localhost:8080/"
        }
      },
      "execution_count": null,
      "outputs": [
        {
          "output_type": "execute_result",
          "data": {
            "text/plain": [
              "['ACTIVO',\n",
              " 'ACTIVO CORRIENTE',\n",
              " 'ACTIVO NO CORRIENTE',\n",
              " 'PASIVO',\n",
              " 'PASIVO CORRIENTE',\n",
              " 'PASIVO NO CORRIENTE',\n",
              " 'PATRIMONIO NETO']"
            ]
          },
          "metadata": {},
          "execution_count": 256
        }
      ]
    },
    {
      "cell_type": "code",
      "source": [
        "[i.upper() for i in elementos]"
      ],
      "metadata": {
        "id": "Vv1mdnXZWPMr",
        "outputId": "8a45f61b-d80d-4747-a2b8-add3f7fe52a0",
        "colab": {
          "base_uri": "https://localhost:8080/"
        }
      },
      "execution_count": null,
      "outputs": [
        {
          "output_type": "execute_result",
          "data": {
            "text/plain": [
              "['ACTIVO',\n",
              " 'ACTIVO CORRIENTE',\n",
              " 'ACTIVO NO CORRIENTE',\n",
              " 'PASIVO',\n",
              " 'PASIVO CORRIENTE',\n",
              " 'PASIVO NO CORRIENTE',\n",
              " 'PATRIMONIO NETO']"
            ]
          },
          "metadata": {},
          "execution_count": 255
        }
      ]
    },
    {
      "cell_type": "code",
      "source": [
        "elementos"
      ],
      "metadata": {
        "id": "HC3lL0tlXRkb",
        "outputId": "ea328d11-3829-4c08-8951-841b02b2066f",
        "colab": {
          "base_uri": "https://localhost:8080/"
        }
      },
      "execution_count": null,
      "outputs": [
        {
          "output_type": "execute_result",
          "data": {
            "text/plain": [
              "['activo',\n",
              " 'activo corriente',\n",
              " 'activo no corriente',\n",
              " 'pasivo',\n",
              " 'pasivo corriente',\n",
              " 'pasivo no corriente',\n",
              " 'patrimonio neto']"
            ]
          },
          "metadata": {},
          "execution_count": 257
        }
      ]
    },
    {
      "cell_type": "code",
      "source": [
        "[i.upper() for i in elementos if len(i) > 15]"
      ],
      "metadata": {
        "colab": {
          "base_uri": "https://localhost:8080/"
        },
        "id": "jbl6lwDi8FEK",
        "outputId": "749c58e0-2426-469d-a7cc-3e7c8c9e451a"
      },
      "execution_count": null,
      "outputs": [
        {
          "output_type": "execute_result",
          "data": {
            "text/plain": [
              "['ACTIVO CORRIENTE',\n",
              " 'ACTIVO NO CORRIENTE',\n",
              " 'PASIVO CORRIENTE',\n",
              " 'PASIVO NO CORRIENTE']"
            ]
          },
          "metadata": {},
          "execution_count": 258
        }
      ]
    },
    {
      "cell_type": "markdown",
      "source": [
        "<p align=\"justify\">Al igual que las comprensiones de listas, las comprensiones de conjuntos y diccionarios son en su mayoría utiles, y de manera similar pueden hacer que el código sea más fácil de escribir y leer.\n",
        "\n",
        "</p>"
      ],
      "metadata": {
        "id": "sxSvJoaz-7ou"
      }
    },
    {
      "cell_type": "markdown",
      "source": [
        "### **<font color=\"#07a8ed\">Conjuntos</font>**\n"
      ],
      "metadata": {
        "id": "5nWTFJ8IC-Ib"
      }
    },
    {
      "cell_type": "code",
      "source": [
        "elementos"
      ],
      "metadata": {
        "colab": {
          "base_uri": "https://localhost:8080/"
        },
        "id": "QFsM8IiI_Qbt",
        "outputId": "c2b1a710-8dc0-464e-b102-a7819c642177"
      },
      "execution_count": null,
      "outputs": [
        {
          "output_type": "execute_result",
          "data": {
            "text/plain": [
              "['activo',\n",
              " 'activo corriente',\n",
              " 'activo no corriente',\n",
              " 'pasivo',\n",
              " 'pasivo corriente',\n",
              " 'pasivo no corriente',\n",
              " 'patrimonio neto']"
            ]
          },
          "metadata": {},
          "execution_count": 259
        }
      ]
    },
    {
      "cell_type": "code",
      "source": [
        "{len(i) for i in elementos}"
      ],
      "metadata": {
        "colab": {
          "base_uri": "https://localhost:8080/"
        },
        "id": "PmZNarA-A1ST",
        "outputId": "9c280626-a575-4097-c683-bc095a67c0ba"
      },
      "execution_count": null,
      "outputs": [
        {
          "output_type": "execute_result",
          "data": {
            "text/plain": [
              "{6, 15, 16, 19}"
            ]
          },
          "metadata": {},
          "execution_count": 260
        }
      ]
    },
    {
      "cell_type": "code",
      "source": [
        "{len(i) for i in elementos if len(i) > 15}"
      ],
      "metadata": {
        "colab": {
          "base_uri": "https://localhost:8080/"
        },
        "id": "o7dj5QUdDiS7",
        "outputId": "67d3b16c-d613-4483-c229-71feb4fdfb0b"
      },
      "execution_count": null,
      "outputs": [
        {
          "output_type": "execute_result",
          "data": {
            "text/plain": [
              "{16, 19}"
            ]
          },
          "metadata": {},
          "execution_count": 261
        }
      ]
    },
    {
      "cell_type": "markdown",
      "source": [
        "### **<font color=\"#07a8ed\">Diccionarios</font>**\n"
      ],
      "metadata": {
        "id": "MxNOSaYKDBGR"
      }
    },
    {
      "cell_type": "code",
      "source": [
        "elementos"
      ],
      "metadata": {
        "colab": {
          "base_uri": "https://localhost:8080/"
        },
        "id": "sEsbNyrhDG1c",
        "outputId": "44a91eaa-484b-48a7-f697-d176b55a6c5e"
      },
      "execution_count": null,
      "outputs": [
        {
          "output_type": "execute_result",
          "data": {
            "text/plain": [
              "['activo',\n",
              " 'activo corriente',\n",
              " 'activo no corriente',\n",
              " 'pasivo',\n",
              " 'pasivo corriente',\n",
              " 'pasivo no corriente',\n",
              " 'patrimonio neto']"
            ]
          },
          "metadata": {},
          "execution_count": 262
        }
      ]
    },
    {
      "cell_type": "code",
      "source": [
        "{i : j for i, j in enumerate(elementos)}"
      ],
      "metadata": {
        "colab": {
          "base_uri": "https://localhost:8080/"
        },
        "id": "yzW-hRZpBCmk",
        "outputId": "f26d9ad9-1995-4222-cbd2-89b0b3360ab5"
      },
      "execution_count": null,
      "outputs": [
        {
          "output_type": "execute_result",
          "data": {
            "text/plain": [
              "{0: 'activo',\n",
              " 1: 'activo corriente',\n",
              " 2: 'activo no corriente',\n",
              " 3: 'pasivo',\n",
              " 4: 'pasivo corriente',\n",
              " 5: 'pasivo no corriente',\n",
              " 6: 'patrimonio neto'}"
            ]
          },
          "metadata": {},
          "execution_count": 263
        }
      ]
    },
    {
      "cell_type": "code",
      "source": [
        "{i : j for i, j in enumerate(elementos) if len(j) > 15}"
      ],
      "metadata": {
        "colab": {
          "base_uri": "https://localhost:8080/"
        },
        "id": "7kBpp7wIDWVv",
        "outputId": "1494bce7-d27d-453c-86d5-efa89da560b7"
      },
      "execution_count": null,
      "outputs": [
        {
          "output_type": "execute_result",
          "data": {
            "text/plain": [
              "{1: 'activo corriente',\n",
              " 2: 'activo no corriente',\n",
              " 4: 'pasivo corriente',\n",
              " 5: 'pasivo no corriente'}"
            ]
          },
          "metadata": {},
          "execution_count": 264
        }
      ]
    },
    {
      "cell_type": "markdown",
      "source": [
        "## **<font color=\"#07a8ed\">Comprensión de listas anidadas</font>**"
      ],
      "metadata": {
        "id": "o30tySjREJ2Q"
      }
    },
    {
      "cell_type": "markdown",
      "source": [
        "<p align=\"justify\">Al principio, las comprensiones de listas anidadas son un poco difíciles de entender. Las partes de la comprensión de la lista se organizan de acuerdo con el orden de anidamiento, y cualquier condición de filtro se coloca al final como al principio.<br><br>Por ejemplo:\n",
        "\n",
        "</p>"
      ],
      "metadata": {
        "id": "8weQdFVgENsa"
      }
    },
    {
      "cell_type": "code",
      "source": [
        "estado_patrimonial = ((\"Activo\", 1000),(\"Pasivo\", 600),(\"Patrimonio Neto\", 400))\n",
        "estado_patrimonial"
      ],
      "metadata": {
        "colab": {
          "base_uri": "https://localhost:8080/"
        },
        "id": "6b0cV65HEkCP",
        "outputId": "be0c021c-51c3-4b22-8629-714646ecc1cb"
      },
      "execution_count": null,
      "outputs": [
        {
          "output_type": "execute_result",
          "data": {
            "text/plain": [
              "(('Activo', 1000), ('Pasivo', 600), ('Patrimonio Neto', 400))"
            ]
          },
          "metadata": {},
          "execution_count": 265
        }
      ]
    },
    {
      "cell_type": "code",
      "source": [
        "lista_estado_patrimonial = [j for i in estado_patrimonial for j in i]\n",
        "lista_estado_patrimonial"
      ],
      "metadata": {
        "colab": {
          "base_uri": "https://localhost:8080/"
        },
        "id": "RLp01cvCGK86",
        "outputId": "0a6e7510-a36b-4c8c-d71c-8e72351785dd"
      },
      "execution_count": null,
      "outputs": [
        {
          "output_type": "execute_result",
          "data": {
            "text/plain": [
              "['Activo', 1000, 'Pasivo', 600, 'Patrimonio Neto', 400]"
            ]
          },
          "metadata": {},
          "execution_count": 266
        }
      ]
    },
    {
      "cell_type": "markdown",
      "source": [
        "<p align=\"justify\"> 👀 Lo que sería lo mismo a dos <code>for</code> anidados.<br><br>Por ejemplo:\n"
      ],
      "metadata": {
        "id": "nqJj2_dxHINU"
      }
    },
    {
      "cell_type": "code",
      "source": [
        "lista_estado_patrimonial = []\n",
        "\n",
        "for i in estado_patrimonial:\n",
        "    for j in i:\n",
        "        lista_estado_patrimonial.append(j)"
      ],
      "metadata": {
        "id": "Emruu7NxHHtU"
      },
      "execution_count": null,
      "outputs": []
    },
    {
      "cell_type": "code",
      "source": [
        "lista_estado_patrimonial"
      ],
      "metadata": {
        "colab": {
          "base_uri": "https://localhost:8080/"
        },
        "id": "3GVfwRbAIMIz",
        "outputId": "a663797b-471a-462d-8c44-cb1cc97040b7"
      },
      "execution_count": null,
      "outputs": [
        {
          "output_type": "execute_result",
          "data": {
            "text/plain": [
              "['Activo', 1000, 'Pasivo', 600, 'Patrimonio Neto', 400]"
            ]
          },
          "metadata": {},
          "execution_count": 268
        }
      ]
    },
    {
      "cell_type": "markdown",
      "source": [
        "<p align=\"justify\"> 👀 Ahora podemos verificar la ecuación patrimonial basica donde el activo es igual al pasivo mas el patrimonio neto.\n"
      ],
      "metadata": {
        "id": "XeK-MIBLIbbr"
      }
    },
    {
      "cell_type": "code",
      "source": [
        "lista_estado_patrimonial[1] == lista_estado_patrimonial[3] + lista_estado_patrimonial[5]"
      ],
      "metadata": {
        "colab": {
          "base_uri": "https://localhost:8080/"
        },
        "id": "xtBJVrm6GrUv",
        "outputId": "966b932b-779b-4575-9aef-d83776bdb8f0"
      },
      "execution_count": null,
      "outputs": [
        {
          "output_type": "execute_result",
          "data": {
            "text/plain": [
              "True"
            ]
          },
          "metadata": {},
          "execution_count": 269
        }
      ]
    },
    {
      "cell_type": "markdown",
      "source": [
        "<p align=\"center\"><b>\n",
        "💗\n",
        "<font color=\"#07a8ed\">\n",
        "Hemos llegado al final de nuestro colab, a seguir codeando...\n",
        "</font>\n",
        "</p>\n",
        "\n"
      ],
      "metadata": {
        "id": "GgHa2NAAYRqc"
      }
    }
  ]
}